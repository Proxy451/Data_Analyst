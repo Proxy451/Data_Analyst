{
 "cells": [
  {
   "cell_type": "markdown",
   "id": "98e39df1",
   "metadata": {},
   "source": [
    "<div style=\"background:#e5e5e5; color:#000; padding:10px\">\n",
    "\n",
    "Привет еще раз!\\\n",
    "    Все замечания устранены, отличная работа! Проект принят, ты молодец!\n",
    "   \n",
    "Желаю тебе успехов во всех будущих начинаниях! 🙂\n",
    "</div> "
   ]
  },
  {
   "cell_type": "markdown",
   "id": "d29461bd",
   "metadata": {},
   "source": [
    "<div style=\"border:solid black 2px; padding: 20px\">\n",
    "Георгий, привет!\n",
    "\n",
    "Меня зовут Сергей, и я буду делать ревью твоего проекта. Давай будем общаться на «ты». Но если тебе комфортнее на «вы», обязательно сообщи мне об этом. Моя основная цель - не указать тебе на совершенные тобой ошибки, а поделиться своим опытом и помочь тебе стать аналитиком данных.\n",
    "    \n",
    "Свои комментарии я буду выделять следующим образом:\n",
    "<div class=\"alert alert-danger\">\n",
    "    \n",
    "  <b>Комментарий ревьюера</b>\n",
    "    \n",
    "  ❌ Так выделено то, что необходимо исправить, прежде чем я смогу принять твой проект.\n",
    "</div>\n",
    "    \n",
    "    \n",
    "<div class=\"alert alert-warning\">\n",
    "    \n",
    "  <b>Комментарий ревьюера</b>\n",
    "    \n",
    "  ⚠️ Так отмечены не обязательные к доработке моменты. Mожешь учесть их при редактировании проекта. На твое усмотрение.\n",
    "</div>\n",
    "    \n",
    "    \n",
    "<div class=\"alert alert-success\">\n",
    "  \n",
    "  <b>Комментарий ревьюера</b>\n",
    "    \n",
    "  ✔️ А так удачные решения и подходы, на которые стоит опираться в будущих проектах.\n",
    "</div>\n",
    "    \n",
    "    \n",
    "<div style=\"border:solid black 2px; padding: 20px\">\n",
    "  \n",
    "    \n",
    "  <b>Чек-лист доработок</b>\n",
    "    \n",
    "  📃 Такой комментарий будет в конце тетрадки. В нем будут еще раз указаны нюансы, требующие обязательного исправления.\n",
    "</div>\n",
    "\n",
    "Предлагаю работать над проектом в форме диалога: если ты <b>что-то меняешь</b> в работе по моим рекомендациям — <b>напиши об этом</b> в ячейке `Markdown` и помечай комментарий каким-то заметным цветом, например так:\n",
    "    \n",
    "    \n",
    "```\n",
    "<div class=\"alert alert-block alert-info\">\n",
    "  \n",
    "  <b>Комментарий cтудента</b>\n",
    "    \n",
    "  Текст комментария.\n",
    "</div>\n",
    "```\n",
    "    \n",
    "<div class=\"alert alert-block alert-info\">\n",
    "  \n",
    "  <b>Комментарий cтудента</b>\n",
    "    \n",
    "  Текст комментария.\n",
    "</div>\n",
    "    \n",
    "Пожалуйста, <b>не перемещай, не изменяй и не удаляй мои комментарии</b>. Такой формат работы поможет выполнить повторную проверку твоего проекта оперативнее.\n",
    "\n",
    "<div style=\"background:#e5e5e5; color:#000; padding:10px\">\n",
    "    <b>Общее впечатление о проекте</b>\n",
    "    \n",
    "Ты верно провел приоритезацию гипотез и проанализировал результаты A/B-теста. Но в проекте есть моменты, которые требуют твоего внимания и доработки. \n",
    "</div>"
   ]
  },
  {
   "cell_type": "markdown",
   "id": "3f2e49be",
   "metadata": {},
   "source": [
    "# Приоритизация гипотез и их анализ с помощью A/B теста"
   ]
  },
  {
   "cell_type": "markdown",
   "id": "2468ea15",
   "metadata": {},
   "source": [
    "Вы — аналитик крупного интернет-магазина. Вместе с отделом маркетинга вы подготовили список гипотез для увеличения выручки.\n",
    "Приоритизируйте гипотезы, запустите A/B-тест и проанализируйте результаты. "
   ]
  },
  {
   "cell_type": "markdown",
   "id": "a3888621",
   "metadata": {},
   "source": [
    "Цель проекта\n",
    "\n",
    "- Необходимость приоритизировать гипотезы из списка гипотез, предоставленных отделом Маркетинга;\n",
    "\n",
    "- Анализа результатов проведенного А/В-тестирования и аргументация решения по результатам теста.\n",
    "Варианты решений:\n",
    "\n",
    "    - Остановить тест, зафиксировать победу одной из групп.\n",
    "    - Остановить тест, зафиксировать отсутствие различий между группами.\n",
    "    - Продолжить тест."
   ]
  },
  {
   "cell_type": "markdown",
   "id": "b7846a7c",
   "metadata": {},
   "source": [
    "## Описание данных"
   ]
  },
  {
   "cell_type": "markdown",
   "id": "84cf74cb",
   "metadata": {},
   "source": [
    "Данные для первой части\n",
    "\n",
    "Файл `/datasets/hypothesis.csv`\n",
    "\n",
    "- `Hypothesis` — краткое описание гипотезы;\n",
    "- `Reach` — охват пользователей по 10-балльной шкале;\n",
    "- `Impact` — влияние на пользователей по 10-балльной шкале;\n",
    "- `Confidence` — уверенность в гипотезе по 10-балльной шкале;\n",
    "- `Efforts` — затраты ресурсов на проверку гипотезы по 10-балльной шкале. Чем больше значение Efforts, тем дороже проверка гипотезы."
   ]
  },
  {
   "cell_type": "markdown",
   "id": "0d01d0ee",
   "metadata": {},
   "source": [
    "Данные для второй части\n",
    "\n",
    "Файл `/datasets/orders.csv`\n",
    "\n",
    "- `transactionId` — идентификатор заказа;\n",
    "- `visitorId` — идентификатор пользователя, совершившего заказ;\n",
    "- `date` — дата, когда был совершён заказ;\n",
    "- `revenue` — выручка заказа;\n",
    "- `group` — группа A/B-теста, в которую попал заказ.\n",
    "\n",
    "Файл `/datasets/visitors.csv`\n",
    "\n",
    "- `date` — дата;\n",
    "- `group` — группа A/B-теста;\n",
    "- `visitors` — количество пользователей в указанную дату в указанной группе A/B-теста"
   ]
  },
  {
   "cell_type": "markdown",
   "id": "896e0ec0",
   "metadata": {},
   "source": [
    "<div class=\"alert alert-success\">\n",
    "  \n",
    "  <b>Комментарий ревьюера</b>\n",
    "    \n",
    "  ✔️ Хорошо, что есть описание и цели проекта.\n",
    "</div>"
   ]
  },
  {
   "cell_type": "markdown",
   "id": "e844f744",
   "metadata": {},
   "source": [
    "## Обзор данных"
   ]
  },
  {
   "cell_type": "code",
   "execution_count": 1,
   "id": "d7b5bb55",
   "metadata": {},
   "outputs": [],
   "source": [
    "import math\n",
    "import pandas as pd\n",
    "import matplotlib\n",
    "import matplotlib.pyplot as plt\n",
    "import seaborn as sns\n",
    "import numpy as np\n",
    "from scipy import stats as st\n",
    "from datetime import datetime, timedelta\n",
    "import warnings\n",
    "warnings.filterwarnings('ignore')\n",
    "pd.set_option('display.max_columns', None)\n",
    "pd.set_option('display.max_colwidth', None)\n",
    "pd.options.display.float_format = '{:.2f}'.format"
   ]
  },
  {
   "cell_type": "code",
   "execution_count": 2,
   "id": "c20eda76",
   "metadata": {},
   "outputs": [],
   "source": [
    "# чтение файлов с данными и сохранение в df\n",
    "try:\n",
    "    hypothesis, orders, visitors = (\n",
    "        pd.read_csv('/datasets/hypothesis.csv'),\n",
    "        pd.read_csv('/datasets/orders.csv'),\n",
    "        pd.read_csv('/datasets/visitors.csv'))\n",
    "\n",
    "\n",
    "except:\n",
    "    hypothesis, orders, visitors = (\n",
    "        pd.read_csv('hypothesis.csv'),\n",
    "        pd.read_csv('orders.csv'),\n",
    "        pd.read_csv('visitors.csv'))"
   ]
  },
  {
   "cell_type": "code",
   "execution_count": 3,
   "id": "66af43f9",
   "metadata": {},
   "outputs": [
    {
     "name": "stdout",
     "output_type": "stream",
     "text": [
      "<class 'pandas.core.frame.DataFrame'>\n",
      "RangeIndex: 9 entries, 0 to 8\n",
      "Data columns (total 5 columns):\n",
      " #   Column      Non-Null Count  Dtype \n",
      "---  ------      --------------  ----- \n",
      " 0   Hypothesis  9 non-null      object\n",
      " 1   Reach       9 non-null      int64 \n",
      " 2   Impact      9 non-null      int64 \n",
      " 3   Confidence  9 non-null      int64 \n",
      " 4   Efforts     9 non-null      int64 \n",
      "dtypes: int64(4), object(1)\n",
      "memory usage: 488.0+ bytes\n"
     ]
    },
    {
     "data": {
      "text/html": [
       "<div>\n",
       "<style scoped>\n",
       "    .dataframe tbody tr th:only-of-type {\n",
       "        vertical-align: middle;\n",
       "    }\n",
       "\n",
       "    .dataframe tbody tr th {\n",
       "        vertical-align: top;\n",
       "    }\n",
       "\n",
       "    .dataframe thead th {\n",
       "        text-align: right;\n",
       "    }\n",
       "</style>\n",
       "<table border=\"1\" class=\"dataframe\">\n",
       "  <thead>\n",
       "    <tr style=\"text-align: right;\">\n",
       "      <th></th>\n",
       "      <th>Hypothesis</th>\n",
       "      <th>Reach</th>\n",
       "      <th>Impact</th>\n",
       "      <th>Confidence</th>\n",
       "      <th>Efforts</th>\n",
       "    </tr>\n",
       "  </thead>\n",
       "  <tbody>\n",
       "    <tr>\n",
       "      <th>0</th>\n",
       "      <td>Добавить два новых канала привлечения трафика, что позволит привлекать на 30% больше пользователей</td>\n",
       "      <td>3</td>\n",
       "      <td>10</td>\n",
       "      <td>8</td>\n",
       "      <td>6</td>\n",
       "    </tr>\n",
       "    <tr>\n",
       "      <th>1</th>\n",
       "      <td>Запустить собственную службу доставки, что сократит срок доставки заказов</td>\n",
       "      <td>2</td>\n",
       "      <td>5</td>\n",
       "      <td>4</td>\n",
       "      <td>10</td>\n",
       "    </tr>\n",
       "    <tr>\n",
       "      <th>2</th>\n",
       "      <td>Добавить блоки рекомендаций товаров на сайт интернет магазина, чтобы повысить конверсию и средний чек заказа</td>\n",
       "      <td>8</td>\n",
       "      <td>3</td>\n",
       "      <td>7</td>\n",
       "      <td>3</td>\n",
       "    </tr>\n",
       "    <tr>\n",
       "      <th>3</th>\n",
       "      <td>Изменить структура категорий, что увеличит конверсию, т.к. пользователи быстрее найдут нужный товар</td>\n",
       "      <td>8</td>\n",
       "      <td>3</td>\n",
       "      <td>3</td>\n",
       "      <td>8</td>\n",
       "    </tr>\n",
       "    <tr>\n",
       "      <th>4</th>\n",
       "      <td>Изменить цвет фона главной страницы, чтобы увеличить вовлеченность пользователей</td>\n",
       "      <td>3</td>\n",
       "      <td>1</td>\n",
       "      <td>1</td>\n",
       "      <td>1</td>\n",
       "    </tr>\n",
       "    <tr>\n",
       "      <th>5</th>\n",
       "      <td>Добавить страницу отзывов клиентов о магазине, что позволит увеличить количество заказов</td>\n",
       "      <td>3</td>\n",
       "      <td>2</td>\n",
       "      <td>2</td>\n",
       "      <td>3</td>\n",
       "    </tr>\n",
       "    <tr>\n",
       "      <th>6</th>\n",
       "      <td>Показать на главной странице баннеры с актуальными акциями и распродажами, чтобы увеличить конверсию</td>\n",
       "      <td>5</td>\n",
       "      <td>3</td>\n",
       "      <td>8</td>\n",
       "      <td>3</td>\n",
       "    </tr>\n",
       "    <tr>\n",
       "      <th>7</th>\n",
       "      <td>Добавить форму подписки на все основные страницы, чтобы собрать базу клиентов для email-рассылок</td>\n",
       "      <td>10</td>\n",
       "      <td>7</td>\n",
       "      <td>8</td>\n",
       "      <td>5</td>\n",
       "    </tr>\n",
       "    <tr>\n",
       "      <th>8</th>\n",
       "      <td>Запустить акцию, дающую скидку на товар в день рождения</td>\n",
       "      <td>1</td>\n",
       "      <td>9</td>\n",
       "      <td>9</td>\n",
       "      <td>5</td>\n",
       "    </tr>\n",
       "  </tbody>\n",
       "</table>\n",
       "</div>"
      ],
      "text/plain": [
       "                                                                                                     Hypothesis  \\\n",
       "0            Добавить два новых канала привлечения трафика, что позволит привлекать на 30% больше пользователей   \n",
       "1                                     Запустить собственную службу доставки, что сократит срок доставки заказов   \n",
       "2  Добавить блоки рекомендаций товаров на сайт интернет магазина, чтобы повысить конверсию и средний чек заказа   \n",
       "3           Изменить структура категорий, что увеличит конверсию, т.к. пользователи быстрее найдут нужный товар   \n",
       "4                              Изменить цвет фона главной страницы, чтобы увеличить вовлеченность пользователей   \n",
       "5                      Добавить страницу отзывов клиентов о магазине, что позволит увеличить количество заказов   \n",
       "6          Показать на главной странице баннеры с актуальными акциями и распродажами, чтобы увеличить конверсию   \n",
       "7              Добавить форму подписки на все основные страницы, чтобы собрать базу клиентов для email-рассылок   \n",
       "8                                                       Запустить акцию, дающую скидку на товар в день рождения   \n",
       "\n",
       "   Reach  Impact  Confidence  Efforts  \n",
       "0      3      10           8        6  \n",
       "1      2       5           4       10  \n",
       "2      8       3           7        3  \n",
       "3      8       3           3        8  \n",
       "4      3       1           1        1  \n",
       "5      3       2           2        3  \n",
       "6      5       3           8        3  \n",
       "7     10       7           8        5  \n",
       "8      1       9           9        5  "
      ]
     },
     "execution_count": 3,
     "metadata": {},
     "output_type": "execute_result"
    }
   ],
   "source": [
    "# обзор датафрейма hypothesis\n",
    "hypothesis.info()\n",
    "hypothesis"
   ]
  },
  {
   "cell_type": "code",
   "execution_count": 4,
   "id": "e3f4c9a3",
   "metadata": {},
   "outputs": [
    {
     "name": "stdout",
     "output_type": "stream",
     "text": [
      "<class 'pandas.core.frame.DataFrame'>\n",
      "RangeIndex: 1197 entries, 0 to 1196\n",
      "Data columns (total 5 columns):\n",
      " #   Column         Non-Null Count  Dtype \n",
      "---  ------         --------------  ----- \n",
      " 0   transactionId  1197 non-null   int64 \n",
      " 1   visitorId      1197 non-null   int64 \n",
      " 2   date           1197 non-null   object\n",
      " 3   revenue        1197 non-null   int64 \n",
      " 4   group          1197 non-null   object\n",
      "dtypes: int64(3), object(2)\n",
      "memory usage: 46.9+ KB\n"
     ]
    },
    {
     "data": {
      "text/html": [
       "<div>\n",
       "<style scoped>\n",
       "    .dataframe tbody tr th:only-of-type {\n",
       "        vertical-align: middle;\n",
       "    }\n",
       "\n",
       "    .dataframe tbody tr th {\n",
       "        vertical-align: top;\n",
       "    }\n",
       "\n",
       "    .dataframe thead th {\n",
       "        text-align: right;\n",
       "    }\n",
       "</style>\n",
       "<table border=\"1\" class=\"dataframe\">\n",
       "  <thead>\n",
       "    <tr style=\"text-align: right;\">\n",
       "      <th></th>\n",
       "      <th>transactionId</th>\n",
       "      <th>visitorId</th>\n",
       "      <th>date</th>\n",
       "      <th>revenue</th>\n",
       "      <th>group</th>\n",
       "    </tr>\n",
       "  </thead>\n",
       "  <tbody>\n",
       "    <tr>\n",
       "      <th>678</th>\n",
       "      <td>3614621763</td>\n",
       "      <td>3977396102</td>\n",
       "      <td>2019-08-20</td>\n",
       "      <td>1950</td>\n",
       "      <td>B</td>\n",
       "    </tr>\n",
       "    <tr>\n",
       "      <th>515</th>\n",
       "      <td>1472783002</td>\n",
       "      <td>1617417821</td>\n",
       "      <td>2019-08-26</td>\n",
       "      <td>1690</td>\n",
       "      <td>A</td>\n",
       "    </tr>\n",
       "    <tr>\n",
       "      <th>607</th>\n",
       "      <td>3384575290</td>\n",
       "      <td>456417264</td>\n",
       "      <td>2019-08-04</td>\n",
       "      <td>1721</td>\n",
       "      <td>B</td>\n",
       "    </tr>\n",
       "    <tr>\n",
       "      <th>350</th>\n",
       "      <td>3959809807</td>\n",
       "      <td>1421513677</td>\n",
       "      <td>2019-08-24</td>\n",
       "      <td>6000</td>\n",
       "      <td>B</td>\n",
       "    </tr>\n",
       "    <tr>\n",
       "      <th>302</th>\n",
       "      <td>887219389</td>\n",
       "      <td>3170813781</td>\n",
       "      <td>2019-08-24</td>\n",
       "      <td>7485</td>\n",
       "      <td>B</td>\n",
       "    </tr>\n",
       "  </tbody>\n",
       "</table>\n",
       "</div>"
      ],
      "text/plain": [
       "     transactionId   visitorId        date  revenue group\n",
       "678     3614621763  3977396102  2019-08-20     1950     B\n",
       "515     1472783002  1617417821  2019-08-26     1690     A\n",
       "607     3384575290   456417264  2019-08-04     1721     B\n",
       "350     3959809807  1421513677  2019-08-24     6000     B\n",
       "302      887219389  3170813781  2019-08-24     7485     B"
      ]
     },
     "execution_count": 4,
     "metadata": {},
     "output_type": "execute_result"
    }
   ],
   "source": [
    "# обзор датафрейма orders\n",
    "orders.info()\n",
    "orders.sample(5)"
   ]
  },
  {
   "cell_type": "markdown",
   "id": "07d3c9f3",
   "metadata": {},
   "source": [
    "<div class=\"alert alert-warning\">\n",
    "    \n",
    "  <b>Комментарий ревьюера</b>\n",
    "    \n",
    "  ⚠️ Не выводи на показ весь датафрейм, при больших объемах можно подвесить ноутбук. Используй head(), tail() или sample().\n",
    "</div>"
   ]
  },
  {
   "cell_type": "markdown",
   "id": "15ecf10f",
   "metadata": {},
   "source": [
    "<div class=\"alert alert-info\"> <b>Комментарий студента:</b> Исправил.</div>\n",
    "<div class=\"alert alert-success\">\n",
    "  \n",
    "  <b>Комментарий ревьюера v.2</b>\n",
    "    \n",
    "  ✔️ 👌\n",
    "</div>"
   ]
  },
  {
   "cell_type": "code",
   "execution_count": 5,
   "id": "bc0aeb24",
   "metadata": {},
   "outputs": [
    {
     "name": "stdout",
     "output_type": "stream",
     "text": [
      "<class 'pandas.core.frame.DataFrame'>\n",
      "RangeIndex: 62 entries, 0 to 61\n",
      "Data columns (total 3 columns):\n",
      " #   Column    Non-Null Count  Dtype \n",
      "---  ------    --------------  ----- \n",
      " 0   date      62 non-null     object\n",
      " 1   group     62 non-null     object\n",
      " 2   visitors  62 non-null     int64 \n",
      "dtypes: int64(1), object(2)\n",
      "memory usage: 1.6+ KB\n"
     ]
    },
    {
     "data": {
      "text/html": [
       "<div>\n",
       "<style scoped>\n",
       "    .dataframe tbody tr th:only-of-type {\n",
       "        vertical-align: middle;\n",
       "    }\n",
       "\n",
       "    .dataframe tbody tr th {\n",
       "        vertical-align: top;\n",
       "    }\n",
       "\n",
       "    .dataframe thead th {\n",
       "        text-align: right;\n",
       "    }\n",
       "</style>\n",
       "<table border=\"1\" class=\"dataframe\">\n",
       "  <thead>\n",
       "    <tr style=\"text-align: right;\">\n",
       "      <th></th>\n",
       "      <th>date</th>\n",
       "      <th>group</th>\n",
       "      <th>visitors</th>\n",
       "    </tr>\n",
       "  </thead>\n",
       "  <tbody>\n",
       "    <tr>\n",
       "      <th>58</th>\n",
       "      <td>2019-08-28</td>\n",
       "      <td>B</td>\n",
       "      <td>654</td>\n",
       "    </tr>\n",
       "    <tr>\n",
       "      <th>34</th>\n",
       "      <td>2019-08-04</td>\n",
       "      <td>B</td>\n",
       "      <td>770</td>\n",
       "    </tr>\n",
       "    <tr>\n",
       "      <th>19</th>\n",
       "      <td>2019-08-20</td>\n",
       "      <td>A</td>\n",
       "      <td>575</td>\n",
       "    </tr>\n",
       "    <tr>\n",
       "      <th>28</th>\n",
       "      <td>2019-08-29</td>\n",
       "      <td>A</td>\n",
       "      <td>577</td>\n",
       "    </tr>\n",
       "    <tr>\n",
       "      <th>24</th>\n",
       "      <td>2019-08-25</td>\n",
       "      <td>A</td>\n",
       "      <td>621</td>\n",
       "    </tr>\n",
       "  </tbody>\n",
       "</table>\n",
       "</div>"
      ],
      "text/plain": [
       "          date group  visitors\n",
       "58  2019-08-28     B       654\n",
       "34  2019-08-04     B       770\n",
       "19  2019-08-20     A       575\n",
       "28  2019-08-29     A       577\n",
       "24  2019-08-25     A       621"
      ]
     },
     "execution_count": 5,
     "metadata": {},
     "output_type": "execute_result"
    }
   ],
   "source": [
    "# обзор датафрейма visitors\n",
    "visitors.info()\n",
    "visitors.sample(5)"
   ]
  },
  {
   "cell_type": "markdown",
   "id": "f25e9c82",
   "metadata": {},
   "source": [
    "Мы ознакомились с таблицами. На первый взгляд, пропусков нет, но кое-что требует правки: тип данных в столбцах не всегда корректный (например, столбцы с датами имеют тип object). Так же нужно проверить данные на наличие дубликатов и привести наименования столбцов к единому стилю.\n",
    "\n",
    "Приступаем к предобработке данных."
   ]
  },
  {
   "cell_type": "markdown",
   "id": "480afaf4",
   "metadata": {},
   "source": [
    "## Предобработка данных"
   ]
  },
  {
   "cell_type": "code",
   "execution_count": 6,
   "id": "fcfebed7",
   "metadata": {},
   "outputs": [
    {
     "data": {
      "text/plain": [
       "Index(['hypothesis', 'reach', 'impact', 'confidence', 'efforts'], dtype='object')"
      ]
     },
     "metadata": {},
     "output_type": "display_data"
    },
    {
     "data": {
      "text/plain": [
       "Index(['transaction_id', 'visitor_id', 'date', 'revenue', 'group'], dtype='object')"
      ]
     },
     "execution_count": 6,
     "metadata": {},
     "output_type": "execute_result"
    }
   ],
   "source": [
    "# приведем наименования столбцов к хорошему стилю\n",
    "\n",
    "hypothesis.columns = hypothesis.columns.str.lower()\n",
    "orders.columns = [name.replace('Id', '_id') for name in orders.columns]\n",
    "\n",
    "display(hypothesis.columns)\n",
    "orders.columns"
   ]
  },
  {
   "cell_type": "code",
   "execution_count": 7,
   "id": "94d68e33",
   "metadata": {},
   "outputs": [],
   "source": [
    "# изменим тип данных для столбцов с датами\n",
    "\n",
    "visitors['date'] = pd.to_datetime(visitors['date'])\n",
    "orders['date'] = pd.to_datetime(orders['date'])"
   ]
  },
  {
   "cell_type": "code",
   "execution_count": 8,
   "id": "bcf3bce2",
   "metadata": {},
   "outputs": [
    {
     "data": {
      "text/plain": [
       "0"
      ]
     },
     "metadata": {},
     "output_type": "display_data"
    },
    {
     "data": {
      "text/plain": [
       "0"
      ]
     },
     "execution_count": 8,
     "metadata": {},
     "output_type": "execute_result"
    }
   ],
   "source": [
    "# проверяем таблицы на наличие дубликатов\n",
    "\n",
    "display(visitors.duplicated().sum())\n",
    "orders.duplicated().sum()"
   ]
  },
  {
   "cell_type": "code",
   "execution_count": 9,
   "id": "d544b293",
   "metadata": {},
   "outputs": [
    {
     "data": {
      "text/plain": [
       "visitor_id\n",
       "5114589          [B]\n",
       "6958315          [B]\n",
       "8300375       [B, A]\n",
       "11685486         [A]\n",
       "39475350         [B]\n",
       "               ...  \n",
       "4266935830    [A, B]\n",
       "4278982564       [A]\n",
       "4279090005       [B]\n",
       "4281247801       [B]\n",
       "4283872382       [B]\n",
       "Name: group, Length: 1031, dtype: object"
      ]
     },
     "execution_count": 9,
     "metadata": {},
     "output_type": "execute_result"
    }
   ],
   "source": [
    "orders.groupby('visitor_id')['group'].unique()"
   ]
  },
  {
   "cell_type": "code",
   "execution_count": 10,
   "id": "778cb239",
   "metadata": {},
   "outputs": [
    {
     "data": {
      "text/html": [
       "<div>\n",
       "<style scoped>\n",
       "    .dataframe tbody tr th:only-of-type {\n",
       "        vertical-align: middle;\n",
       "    }\n",
       "\n",
       "    .dataframe tbody tr th {\n",
       "        vertical-align: top;\n",
       "    }\n",
       "\n",
       "    .dataframe thead th {\n",
       "        text-align: right;\n",
       "    }\n",
       "</style>\n",
       "<table border=\"1\" class=\"dataframe\">\n",
       "  <thead>\n",
       "    <tr style=\"text-align: right;\">\n",
       "      <th></th>\n",
       "      <th>group</th>\n",
       "    </tr>\n",
       "    <tr>\n",
       "      <th>visitor_id</th>\n",
       "      <th></th>\n",
       "    </tr>\n",
       "  </thead>\n",
       "  <tbody>\n",
       "    <tr>\n",
       "      <th>8300375</th>\n",
       "      <td>2</td>\n",
       "    </tr>\n",
       "    <tr>\n",
       "      <th>199603092</th>\n",
       "      <td>5</td>\n",
       "    </tr>\n",
       "    <tr>\n",
       "      <th>232979603</th>\n",
       "      <td>2</td>\n",
       "    </tr>\n",
       "    <tr>\n",
       "      <th>237748145</th>\n",
       "      <td>5</td>\n",
       "    </tr>\n",
       "    <tr>\n",
       "      <th>249864742</th>\n",
       "      <td>3</td>\n",
       "    </tr>\n",
       "    <tr>\n",
       "      <th>...</th>\n",
       "      <td>...</td>\n",
       "    </tr>\n",
       "    <tr>\n",
       "      <th>4120364173</th>\n",
       "      <td>2</td>\n",
       "    </tr>\n",
       "    <tr>\n",
       "      <th>4134830387</th>\n",
       "      <td>2</td>\n",
       "    </tr>\n",
       "    <tr>\n",
       "      <th>4186807279</th>\n",
       "      <td>3</td>\n",
       "    </tr>\n",
       "    <tr>\n",
       "      <th>4256040402</th>\n",
       "      <td>11</td>\n",
       "    </tr>\n",
       "    <tr>\n",
       "      <th>4266935830</th>\n",
       "      <td>2</td>\n",
       "    </tr>\n",
       "  </tbody>\n",
       "</table>\n",
       "<p>94 rows × 1 columns</p>\n",
       "</div>"
      ],
      "text/plain": [
       "            group\n",
       "visitor_id       \n",
       "8300375         2\n",
       "199603092       5\n",
       "232979603       2\n",
       "237748145       5\n",
       "249864742       3\n",
       "...           ...\n",
       "4120364173      2\n",
       "4134830387      2\n",
       "4186807279      3\n",
       "4256040402     11\n",
       "4266935830      2\n",
       "\n",
       "[94 rows x 1 columns]"
      ]
     },
     "execution_count": 10,
     "metadata": {},
     "output_type": "execute_result"
    }
   ],
   "source": [
    "orders.groupby('visitor_id')[['group']].count().query('group > 1').sort_values('visitor_id')"
   ]
  },
  {
   "cell_type": "code",
   "execution_count": 11,
   "id": "ef004d87",
   "metadata": {},
   "outputs": [
    {
     "data": {
      "text/plain": [
       "array(['B', 'BA', 'A', 'AABAA', 'BAAAA', 'BBB', 'AA', 'ABB', 'BB', 'BBAB',\n",
       "       'AB', 'AAA', 'ABBAA', 'BAA', 'BBA', 'BAAA', 'BAB', 'BAAABAAB',\n",
       "       'AAABBBBAB', 'ABBABABABBA', 'AAB', 'BBBAB', 'BABBB', 'ABBBB',\n",
       "       'ABA', 'BAAABABAABA'], dtype=object)"
      ]
     },
     "execution_count": 11,
     "metadata": {},
     "output_type": "execute_result"
    }
   ],
   "source": [
    "orders.groupby('visitor_id')['group'].sum().unique()"
   ]
  },
  {
   "cell_type": "code",
   "execution_count": 12,
   "id": "dcc7e0fd",
   "metadata": {},
   "outputs": [
    {
     "data": {
      "text/html": [
       "<div>\n",
       "<style scoped>\n",
       "    .dataframe tbody tr th:only-of-type {\n",
       "        vertical-align: middle;\n",
       "    }\n",
       "\n",
       "    .dataframe tbody tr th {\n",
       "        vertical-align: top;\n",
       "    }\n",
       "\n",
       "    .dataframe thead th {\n",
       "        text-align: right;\n",
       "    }\n",
       "</style>\n",
       "<table border=\"1\" class=\"dataframe\">\n",
       "  <thead>\n",
       "    <tr style=\"text-align: right;\">\n",
       "      <th></th>\n",
       "      <th>visitor_id</th>\n",
       "      <th>group</th>\n",
       "    </tr>\n",
       "  </thead>\n",
       "  <tbody>\n",
       "    <tr>\n",
       "      <th>0</th>\n",
       "      <td>8300375</td>\n",
       "      <td>BA</td>\n",
       "    </tr>\n",
       "    <tr>\n",
       "      <th>1</th>\n",
       "      <td>199603092</td>\n",
       "      <td>AABAA</td>\n",
       "    </tr>\n",
       "    <tr>\n",
       "      <th>2</th>\n",
       "      <td>232979603</td>\n",
       "      <td>BA</td>\n",
       "    </tr>\n",
       "    <tr>\n",
       "      <th>3</th>\n",
       "      <td>237748145</td>\n",
       "      <td>BAAAA</td>\n",
       "    </tr>\n",
       "    <tr>\n",
       "      <th>4</th>\n",
       "      <td>276558944</td>\n",
       "      <td>BA</td>\n",
       "    </tr>\n",
       "    <tr>\n",
       "      <th>5</th>\n",
       "      <td>351125977</td>\n",
       "      <td>BA</td>\n",
       "    </tr>\n",
       "    <tr>\n",
       "      <th>6</th>\n",
       "      <td>393266494</td>\n",
       "      <td>ABB</td>\n",
       "    </tr>\n",
       "    <tr>\n",
       "      <th>7</th>\n",
       "      <td>457167155</td>\n",
       "      <td>BBAB</td>\n",
       "    </tr>\n",
       "    <tr>\n",
       "      <th>8</th>\n",
       "      <td>471551937</td>\n",
       "      <td>AB</td>\n",
       "    </tr>\n",
       "    <tr>\n",
       "      <th>9</th>\n",
       "      <td>477780734</td>\n",
       "      <td>AB</td>\n",
       "    </tr>\n",
       "    <tr>\n",
       "      <th>10</th>\n",
       "      <td>818047933</td>\n",
       "      <td>AB</td>\n",
       "    </tr>\n",
       "    <tr>\n",
       "      <th>11</th>\n",
       "      <td>963407295</td>\n",
       "      <td>BA</td>\n",
       "    </tr>\n",
       "    <tr>\n",
       "      <th>12</th>\n",
       "      <td>1230306981</td>\n",
       "      <td>ABBAA</td>\n",
       "    </tr>\n",
       "    <tr>\n",
       "      <th>13</th>\n",
       "      <td>1294878855</td>\n",
       "      <td>BAA</td>\n",
       "    </tr>\n",
       "    <tr>\n",
       "      <th>14</th>\n",
       "      <td>1316129916</td>\n",
       "      <td>AB</td>\n",
       "    </tr>\n",
       "    <tr>\n",
       "      <th>15</th>\n",
       "      <td>1333886533</td>\n",
       "      <td>AB</td>\n",
       "    </tr>\n",
       "    <tr>\n",
       "      <th>16</th>\n",
       "      <td>1404934699</td>\n",
       "      <td>BBA</td>\n",
       "    </tr>\n",
       "    <tr>\n",
       "      <th>17</th>\n",
       "      <td>1602967004</td>\n",
       "      <td>BA</td>\n",
       "    </tr>\n",
       "    <tr>\n",
       "      <th>18</th>\n",
       "      <td>1614305549</td>\n",
       "      <td>BAAA</td>\n",
       "    </tr>\n",
       "    <tr>\n",
       "      <th>19</th>\n",
       "      <td>1648269707</td>\n",
       "      <td>BA</td>\n",
       "    </tr>\n",
       "    <tr>\n",
       "      <th>20</th>\n",
       "      <td>1668030113</td>\n",
       "      <td>BAB</td>\n",
       "    </tr>\n",
       "    <tr>\n",
       "      <th>21</th>\n",
       "      <td>1738359350</td>\n",
       "      <td>ABB</td>\n",
       "    </tr>\n",
       "    <tr>\n",
       "      <th>22</th>\n",
       "      <td>1801183820</td>\n",
       "      <td>BA</td>\n",
       "    </tr>\n",
       "    <tr>\n",
       "      <th>23</th>\n",
       "      <td>1959144690</td>\n",
       "      <td>AB</td>\n",
       "    </tr>\n",
       "    <tr>\n",
       "      <th>24</th>\n",
       "      <td>2038680547</td>\n",
       "      <td>BAAABAAB</td>\n",
       "    </tr>\n",
       "    <tr>\n",
       "      <th>25</th>\n",
       "      <td>2044997962</td>\n",
       "      <td>ABB</td>\n",
       "    </tr>\n",
       "    <tr>\n",
       "      <th>26</th>\n",
       "      <td>2378935119</td>\n",
       "      <td>AAABBBBAB</td>\n",
       "    </tr>\n",
       "    <tr>\n",
       "      <th>27</th>\n",
       "      <td>2458001652</td>\n",
       "      <td>ABBABABABBA</td>\n",
       "    </tr>\n",
       "    <tr>\n",
       "      <th>28</th>\n",
       "      <td>2579882178</td>\n",
       "      <td>AB</td>\n",
       "    </tr>\n",
       "    <tr>\n",
       "      <th>29</th>\n",
       "      <td>2587333274</td>\n",
       "      <td>BBAB</td>\n",
       "    </tr>\n",
       "    <tr>\n",
       "      <th>30</th>\n",
       "      <td>2600415354</td>\n",
       "      <td>BA</td>\n",
       "    </tr>\n",
       "    <tr>\n",
       "      <th>31</th>\n",
       "      <td>2654030115</td>\n",
       "      <td>BA</td>\n",
       "    </tr>\n",
       "    <tr>\n",
       "      <th>32</th>\n",
       "      <td>2686716486</td>\n",
       "      <td>AB</td>\n",
       "    </tr>\n",
       "    <tr>\n",
       "      <th>33</th>\n",
       "      <td>2712142231</td>\n",
       "      <td>BA</td>\n",
       "    </tr>\n",
       "    <tr>\n",
       "      <th>34</th>\n",
       "      <td>2716752286</td>\n",
       "      <td>BA</td>\n",
       "    </tr>\n",
       "    <tr>\n",
       "      <th>35</th>\n",
       "      <td>2780786433</td>\n",
       "      <td>AAB</td>\n",
       "    </tr>\n",
       "    <tr>\n",
       "      <th>36</th>\n",
       "      <td>2927087541</td>\n",
       "      <td>AB</td>\n",
       "    </tr>\n",
       "    <tr>\n",
       "      <th>37</th>\n",
       "      <td>2949041841</td>\n",
       "      <td>AB</td>\n",
       "    </tr>\n",
       "    <tr>\n",
       "      <th>38</th>\n",
       "      <td>2954449915</td>\n",
       "      <td>AB</td>\n",
       "    </tr>\n",
       "    <tr>\n",
       "      <th>39</th>\n",
       "      <td>3062433592</td>\n",
       "      <td>BBBAB</td>\n",
       "    </tr>\n",
       "    <tr>\n",
       "      <th>40</th>\n",
       "      <td>3202540741</td>\n",
       "      <td>AB</td>\n",
       "    </tr>\n",
       "    <tr>\n",
       "      <th>41</th>\n",
       "      <td>3234906277</td>\n",
       "      <td>BA</td>\n",
       "    </tr>\n",
       "    <tr>\n",
       "      <th>42</th>\n",
       "      <td>3656415546</td>\n",
       "      <td>AB</td>\n",
       "    </tr>\n",
       "    <tr>\n",
       "      <th>43</th>\n",
       "      <td>3717692402</td>\n",
       "      <td>BABBB</td>\n",
       "    </tr>\n",
       "    <tr>\n",
       "      <th>44</th>\n",
       "      <td>3766097110</td>\n",
       "      <td>AB</td>\n",
       "    </tr>\n",
       "    <tr>\n",
       "      <th>45</th>\n",
       "      <td>3803269165</td>\n",
       "      <td>ABBBB</td>\n",
       "    </tr>\n",
       "    <tr>\n",
       "      <th>46</th>\n",
       "      <td>3891541246</td>\n",
       "      <td>ABA</td>\n",
       "    </tr>\n",
       "    <tr>\n",
       "      <th>47</th>\n",
       "      <td>3941795274</td>\n",
       "      <td>AB</td>\n",
       "    </tr>\n",
       "    <tr>\n",
       "      <th>48</th>\n",
       "      <td>3951559397</td>\n",
       "      <td>BA</td>\n",
       "    </tr>\n",
       "    <tr>\n",
       "      <th>49</th>\n",
       "      <td>3957174400</td>\n",
       "      <td>AB</td>\n",
       "    </tr>\n",
       "    <tr>\n",
       "      <th>50</th>\n",
       "      <td>3963646447</td>\n",
       "      <td>AB</td>\n",
       "    </tr>\n",
       "    <tr>\n",
       "      <th>51</th>\n",
       "      <td>3972127743</td>\n",
       "      <td>BA</td>\n",
       "    </tr>\n",
       "    <tr>\n",
       "      <th>52</th>\n",
       "      <td>3984495233</td>\n",
       "      <td>BAA</td>\n",
       "    </tr>\n",
       "    <tr>\n",
       "      <th>53</th>\n",
       "      <td>4069496402</td>\n",
       "      <td>AB</td>\n",
       "    </tr>\n",
       "    <tr>\n",
       "      <th>54</th>\n",
       "      <td>4120364173</td>\n",
       "      <td>AB</td>\n",
       "    </tr>\n",
       "    <tr>\n",
       "      <th>55</th>\n",
       "      <td>4186807279</td>\n",
       "      <td>BBA</td>\n",
       "    </tr>\n",
       "    <tr>\n",
       "      <th>56</th>\n",
       "      <td>4256040402</td>\n",
       "      <td>BAAABABAABA</td>\n",
       "    </tr>\n",
       "    <tr>\n",
       "      <th>57</th>\n",
       "      <td>4266935830</td>\n",
       "      <td>AB</td>\n",
       "    </tr>\n",
       "  </tbody>\n",
       "</table>\n",
       "</div>"
      ],
      "text/plain": [
       "    visitor_id        group\n",
       "0      8300375           BA\n",
       "1    199603092        AABAA\n",
       "2    232979603           BA\n",
       "3    237748145        BAAAA\n",
       "4    276558944           BA\n",
       "5    351125977           BA\n",
       "6    393266494          ABB\n",
       "7    457167155         BBAB\n",
       "8    471551937           AB\n",
       "9    477780734           AB\n",
       "10   818047933           AB\n",
       "11   963407295           BA\n",
       "12  1230306981        ABBAA\n",
       "13  1294878855          BAA\n",
       "14  1316129916           AB\n",
       "15  1333886533           AB\n",
       "16  1404934699          BBA\n",
       "17  1602967004           BA\n",
       "18  1614305549         BAAA\n",
       "19  1648269707           BA\n",
       "20  1668030113          BAB\n",
       "21  1738359350          ABB\n",
       "22  1801183820           BA\n",
       "23  1959144690           AB\n",
       "24  2038680547     BAAABAAB\n",
       "25  2044997962          ABB\n",
       "26  2378935119    AAABBBBAB\n",
       "27  2458001652  ABBABABABBA\n",
       "28  2579882178           AB\n",
       "29  2587333274         BBAB\n",
       "30  2600415354           BA\n",
       "31  2654030115           BA\n",
       "32  2686716486           AB\n",
       "33  2712142231           BA\n",
       "34  2716752286           BA\n",
       "35  2780786433          AAB\n",
       "36  2927087541           AB\n",
       "37  2949041841           AB\n",
       "38  2954449915           AB\n",
       "39  3062433592        BBBAB\n",
       "40  3202540741           AB\n",
       "41  3234906277           BA\n",
       "42  3656415546           AB\n",
       "43  3717692402        BABBB\n",
       "44  3766097110           AB\n",
       "45  3803269165        ABBBB\n",
       "46  3891541246          ABA\n",
       "47  3941795274           AB\n",
       "48  3951559397           BA\n",
       "49  3957174400           AB\n",
       "50  3963646447           AB\n",
       "51  3972127743           BA\n",
       "52  3984495233          BAA\n",
       "53  4069496402           AB\n",
       "54  4120364173           AB\n",
       "55  4186807279          BBA\n",
       "56  4256040402  BAAABABAABA\n",
       "57  4266935830           AB"
      ]
     },
     "execution_count": 12,
     "metadata": {},
     "output_type": "execute_result"
    }
   ],
   "source": [
    "orders_temp = orders.groupby('visitor_id')[['group']].sum()\\\n",
    "                    .query('group != \"A\" & group != \"B\" & group != \"BB\" & group != \"AA\" & group != \"AAA\" & group != \"BBB\"')\\\n",
    "                    .sort_values('visitor_id').reset_index()\n",
    "orders_temp"
   ]
  },
  {
   "cell_type": "markdown",
   "id": "3c005f9f",
   "metadata": {},
   "source": [
    "Здесь мы видим, что есть некорректно разбитые пользователи, меньше 6%. Но я решил их не удалять, так как этих же пользователей пришлось бы удалять и из датафрейма Visitors. А это гораздо проблематичнее. Да и размер аномалии позволяет."
   ]
  },
  {
   "cell_type": "markdown",
   "id": "31512467",
   "metadata": {},
   "source": [
    "<div class=\"alert alert-info\"> <b>Комментарий студента:</b> Проверил разбивку пользователей.</div>"
   ]
  },
  {
   "cell_type": "markdown",
   "id": "3b6e2e8a",
   "metadata": {},
   "source": [
    "<div class=\"alert alert-success\">\n",
    "  \n",
    "  <b>Комментарий ревьюера</b>\n",
    "    \n",
    "  ✔️ Данные получены и подготовлены к анализу! \n",
    "</div>"
   ]
  },
  {
   "cell_type": "markdown",
   "id": "c47dab18",
   "metadata": {},
   "source": [
    "## Часть 1. Приоритизация гипотез."
   ]
  },
  {
   "cell_type": "markdown",
   "id": "e6b82f6f",
   "metadata": {},
   "source": [
    "Итак, ранее мы увидели, что отдел Маркетинга подготовил список из 9-ти гипотез, каждый компонент которой оценен по шкале от 0 до 10.\n",
    "\n",
    "Применим один из самых популярных методов приоритезации гипотез - ICE (от. англ.: Impact, Confidence, Effort/ Влияние, Уверенность, Усилия)."
   ]
  },
  {
   "cell_type": "markdown",
   "id": "27ec7511",
   "metadata": {},
   "source": [
    "#### 1. Примените фреймворк ICE для приоритизации гипотез. Отсортируйте их по убыванию приоритета."
   ]
  },
  {
   "cell_type": "code",
   "execution_count": 13,
   "id": "3c86269e",
   "metadata": {},
   "outputs": [
    {
     "data": {
      "text/html": [
       "<div>\n",
       "<style scoped>\n",
       "    .dataframe tbody tr th:only-of-type {\n",
       "        vertical-align: middle;\n",
       "    }\n",
       "\n",
       "    .dataframe tbody tr th {\n",
       "        vertical-align: top;\n",
       "    }\n",
       "\n",
       "    .dataframe thead th {\n",
       "        text-align: right;\n",
       "    }\n",
       "</style>\n",
       "<table border=\"1\" class=\"dataframe\">\n",
       "  <thead>\n",
       "    <tr style=\"text-align: right;\">\n",
       "      <th></th>\n",
       "      <th>hypothesis</th>\n",
       "      <th>ice</th>\n",
       "    </tr>\n",
       "  </thead>\n",
       "  <tbody>\n",
       "    <tr>\n",
       "      <th>8</th>\n",
       "      <td>Запустить акцию, дающую скидку на товар в день рождения</td>\n",
       "      <td>16.20</td>\n",
       "    </tr>\n",
       "    <tr>\n",
       "      <th>0</th>\n",
       "      <td>Добавить два новых канала привлечения трафика, что позволит привлекать на 30% больше пользователей</td>\n",
       "      <td>13.33</td>\n",
       "    </tr>\n",
       "    <tr>\n",
       "      <th>7</th>\n",
       "      <td>Добавить форму подписки на все основные страницы, чтобы собрать базу клиентов для email-рассылок</td>\n",
       "      <td>11.20</td>\n",
       "    </tr>\n",
       "    <tr>\n",
       "      <th>6</th>\n",
       "      <td>Показать на главной странице баннеры с актуальными акциями и распродажами, чтобы увеличить конверсию</td>\n",
       "      <td>8.00</td>\n",
       "    </tr>\n",
       "    <tr>\n",
       "      <th>2</th>\n",
       "      <td>Добавить блоки рекомендаций товаров на сайт интернет магазина, чтобы повысить конверсию и средний чек заказа</td>\n",
       "      <td>7.00</td>\n",
       "    </tr>\n",
       "  </tbody>\n",
       "</table>\n",
       "</div>"
      ],
      "text/plain": [
       "                                                                                                     hypothesis  \\\n",
       "8                                                       Запустить акцию, дающую скидку на товар в день рождения   \n",
       "0            Добавить два новых канала привлечения трафика, что позволит привлекать на 30% больше пользователей   \n",
       "7              Добавить форму подписки на все основные страницы, чтобы собрать базу клиентов для email-рассылок   \n",
       "6          Показать на главной странице баннеры с актуальными акциями и распродажами, чтобы увеличить конверсию   \n",
       "2  Добавить блоки рекомендаций товаров на сайт интернет магазина, чтобы повысить конверсию и средний чек заказа   \n",
       "\n",
       "    ice  \n",
       "8 16.20  \n",
       "0 13.33  \n",
       "7 11.20  \n",
       "6  8.00  \n",
       "2  7.00  "
      ]
     },
     "execution_count": 13,
     "metadata": {},
     "output_type": "execute_result"
    }
   ],
   "source": [
    "hypothesis['ice'] = hypothesis['impact'] * hypothesis['confidence'] / hypothesis['efforts']\n",
    "\n",
    "hypothesis[['hypothesis', 'ice']].sort_values(by='ice', ascending=False).head(5)"
   ]
  },
  {
   "cell_type": "code",
   "execution_count": 14,
   "id": "d815cbff",
   "metadata": {},
   "outputs": [
    {
     "data": {
      "image/png": "[encoded data removed]",
      "text/plain": [
       "<Figure size 432x288 with 1 Axes>"
      ]
     },
     "metadata": {
      "needs_background": "light"
     },
     "output_type": "display_data"
    }
   ],
   "source": [
    "ax = (hypothesis[['hypothesis', 'ice']]\n",
    "      .set_index('hypothesis')\n",
    "      .sort_values('ice', ascending=False)\n",
    "      .plot(kind='barh', color='orange', alpha=0.5)\n",
    "     )\n",
    "ax.grid(False)\n",
    "ax.set_xlabel('Приоритет')\n",
    "ax.set_ylabel(' ')\n",
    "ax.set_title('Приоритезация гипотез по методу ICE', loc='left')\n",
    "plt.show()"
   ]
  },
  {
   "cell_type": "markdown",
   "id": "fc3bac01",
   "metadata": {},
   "source": [
    "Итак, мы видим топ-5 гипотез, которым следует уделить пристальное внимание. Добавим к расчету параметр Reach (англ.: Охват) и приоритезируем гипотезы по методу RICE."
   ]
  },
  {
   "cell_type": "markdown",
   "id": "89afce21",
   "metadata": {},
   "source": [
    "#### 2. Примените фреймворк RICE для приоритизации гипотез. Отсортируйте их по убыванию приоритета."
   ]
  },
  {
   "cell_type": "code",
   "execution_count": 15,
   "id": "4d0dc8d8",
   "metadata": {},
   "outputs": [
    {
     "data": {
      "text/html": [
       "<div>\n",
       "<style scoped>\n",
       "    .dataframe tbody tr th:only-of-type {\n",
       "        vertical-align: middle;\n",
       "    }\n",
       "\n",
       "    .dataframe tbody tr th {\n",
       "        vertical-align: top;\n",
       "    }\n",
       "\n",
       "    .dataframe thead th {\n",
       "        text-align: right;\n",
       "    }\n",
       "</style>\n",
       "<table border=\"1\" class=\"dataframe\">\n",
       "  <thead>\n",
       "    <tr style=\"text-align: right;\">\n",
       "      <th></th>\n",
       "      <th>hypothesis</th>\n",
       "      <th>rice</th>\n",
       "    </tr>\n",
       "  </thead>\n",
       "  <tbody>\n",
       "    <tr>\n",
       "      <th>7</th>\n",
       "      <td>Добавить форму подписки на все основные страницы, чтобы собрать базу клиентов для email-рассылок</td>\n",
       "      <td>112.00</td>\n",
       "    </tr>\n",
       "    <tr>\n",
       "      <th>2</th>\n",
       "      <td>Добавить блоки рекомендаций товаров на сайт интернет магазина, чтобы повысить конверсию и средний чек заказа</td>\n",
       "      <td>56.00</td>\n",
       "    </tr>\n",
       "    <tr>\n",
       "      <th>0</th>\n",
       "      <td>Добавить два новых канала привлечения трафика, что позволит привлекать на 30% больше пользователей</td>\n",
       "      <td>40.00</td>\n",
       "    </tr>\n",
       "    <tr>\n",
       "      <th>6</th>\n",
       "      <td>Показать на главной странице баннеры с актуальными акциями и распродажами, чтобы увеличить конверсию</td>\n",
       "      <td>40.00</td>\n",
       "    </tr>\n",
       "    <tr>\n",
       "      <th>8</th>\n",
       "      <td>Запустить акцию, дающую скидку на товар в день рождения</td>\n",
       "      <td>16.20</td>\n",
       "    </tr>\n",
       "  </tbody>\n",
       "</table>\n",
       "</div>"
      ],
      "text/plain": [
       "                                                                                                     hypothesis  \\\n",
       "7              Добавить форму подписки на все основные страницы, чтобы собрать базу клиентов для email-рассылок   \n",
       "2  Добавить блоки рекомендаций товаров на сайт интернет магазина, чтобы повысить конверсию и средний чек заказа   \n",
       "0            Добавить два новых канала привлечения трафика, что позволит привлекать на 30% больше пользователей   \n",
       "6          Показать на главной странице баннеры с актуальными акциями и распродажами, чтобы увеличить конверсию   \n",
       "8                                                       Запустить акцию, дающую скидку на товар в день рождения   \n",
       "\n",
       "    rice  \n",
       "7 112.00  \n",
       "2  56.00  \n",
       "0  40.00  \n",
       "6  40.00  \n",
       "8  16.20  "
      ]
     },
     "execution_count": 15,
     "metadata": {},
     "output_type": "execute_result"
    }
   ],
   "source": [
    "hypothesis['rice'] = hypothesis['reach'] * hypothesis['impact'] * hypothesis['confidence'] / hypothesis['efforts']\n",
    "\n",
    "hypothesis[['hypothesis', 'rice']].sort_values(by='rice', ascending=False).head(5)"
   ]
  },
  {
   "cell_type": "code",
   "execution_count": 16,
   "id": "589330c7",
   "metadata": {},
   "outputs": [
    {
     "data": {
      "image/png": "[encoded data removed]",
      "text/plain": [
       "<Figure size 432x288 with 1 Axes>"
      ]
     },
     "metadata": {
      "needs_background": "light"
     },
     "output_type": "display_data"
    }
   ],
   "source": [
    "ax = (hypothesis[['hypothesis', 'rice']]\n",
    "      .set_index('hypothesis')\n",
    "      .sort_values('rice', ascending=False)\n",
    "      .plot(kind='barh', color='purple', alpha=0.5)\n",
    "     )\n",
    "ax.grid(False)\n",
    "ax.set_xlabel('Приоритет')\n",
    "ax.set_ylabel(' ')\n",
    "ax.set_title('Приоритезация гипотез по методу RICE', loc='left')\n",
    "plt.show()"
   ]
  },
  {
   "cell_type": "markdown",
   "id": "7dc81c0d",
   "metadata": {},
   "source": [
    "Мы видим те же самые гипотезы, только в другой последовательности."
   ]
  },
  {
   "cell_type": "markdown",
   "id": "f50d3ff4",
   "metadata": {},
   "source": [
    "#### 3. Укажите, как изменилась приоритизация гипотез при применении RICE вместо ICE. Объясните, почему так произошло."
   ]
  },
  {
   "cell_type": "code",
   "execution_count": 17,
   "id": "f75e627e",
   "metadata": {},
   "outputs": [
    {
     "data": {
      "text/html": [
       "<div>\n",
       "<style scoped>\n",
       "    .dataframe tbody tr th:only-of-type {\n",
       "        vertical-align: middle;\n",
       "    }\n",
       "\n",
       "    .dataframe tbody tr th {\n",
       "        vertical-align: top;\n",
       "    }\n",
       "\n",
       "    .dataframe thead th {\n",
       "        text-align: right;\n",
       "    }\n",
       "</style>\n",
       "<table border=\"1\" class=\"dataframe\">\n",
       "  <thead>\n",
       "    <tr style=\"text-align: right;\">\n",
       "      <th></th>\n",
       "      <th>hypothesis</th>\n",
       "      <th>ice</th>\n",
       "      <th>rice</th>\n",
       "    </tr>\n",
       "  </thead>\n",
       "  <tbody>\n",
       "    <tr>\n",
       "      <th>7</th>\n",
       "      <td>Добавить форму подписки на все основные страницы, чтобы собрать базу клиентов для email-рассылок</td>\n",
       "      <td>11.20</td>\n",
       "      <td>112.00</td>\n",
       "    </tr>\n",
       "    <tr>\n",
       "      <th>2</th>\n",
       "      <td>Добавить блоки рекомендаций товаров на сайт интернет магазина, чтобы повысить конверсию и средний чек заказа</td>\n",
       "      <td>7.00</td>\n",
       "      <td>56.00</td>\n",
       "    </tr>\n",
       "    <tr>\n",
       "      <th>0</th>\n",
       "      <td>Добавить два новых канала привлечения трафика, что позволит привлекать на 30% больше пользователей</td>\n",
       "      <td>13.33</td>\n",
       "      <td>40.00</td>\n",
       "    </tr>\n",
       "    <tr>\n",
       "      <th>6</th>\n",
       "      <td>Показать на главной странице баннеры с актуальными акциями и распродажами, чтобы увеличить конверсию</td>\n",
       "      <td>8.00</td>\n",
       "      <td>40.00</td>\n",
       "    </tr>\n",
       "    <tr>\n",
       "      <th>8</th>\n",
       "      <td>Запустить акцию, дающую скидку на товар в день рождения</td>\n",
       "      <td>16.20</td>\n",
       "      <td>16.20</td>\n",
       "    </tr>\n",
       "  </tbody>\n",
       "</table>\n",
       "</div>"
      ],
      "text/plain": [
       "                                                                                                     hypothesis  \\\n",
       "7              Добавить форму подписки на все основные страницы, чтобы собрать базу клиентов для email-рассылок   \n",
       "2  Добавить блоки рекомендаций товаров на сайт интернет магазина, чтобы повысить конверсию и средний чек заказа   \n",
       "0            Добавить два новых канала привлечения трафика, что позволит привлекать на 30% больше пользователей   \n",
       "6          Показать на главной странице баннеры с актуальными акциями и распродажами, чтобы увеличить конверсию   \n",
       "8                                                       Запустить акцию, дающую скидку на товар в день рождения   \n",
       "\n",
       "    ice   rice  \n",
       "7 11.20 112.00  \n",
       "2  7.00  56.00  \n",
       "0 13.33  40.00  \n",
       "6  8.00  40.00  \n",
       "8 16.20  16.20  "
      ]
     },
     "execution_count": 17,
     "metadata": {},
     "output_type": "execute_result"
    }
   ],
   "source": [
    "hypothesis[['hypothesis','ice', 'rice']].sort_values(by='rice', ascending=False).head(5)"
   ]
  },
  {
   "cell_type": "markdown",
   "id": "9d0adc0c",
   "metadata": {},
   "source": [
    "Разница приоритезиций заключается в том, что одна учитывает кол-во пользователей, которых затронут изменения, а другая - нет."
   ]
  },
  {
   "cell_type": "markdown",
   "id": "977ccd1f",
   "metadata": {},
   "source": [
    "<div class=\"alert alert-success\">\n",
    "  \n",
    "  <b>Комментарий ревьюера</b>\n",
    "    \n",
    "  ✔️ Хорошая работа, корректно применены фреймворки и проанализированы полученные результаты. \n",
    "        \n",
    "    \n",
    "Еще результаты можно в единой таблице, для наглядности, можно было бы проранжировать и выделить цветом: https://pandas.pydata.org/pandas-docs/stable/user_guide/style.html\n",
    "\n",
    "  \n",
    "</div>"
   ]
  },
  {
   "cell_type": "markdown",
   "id": "5b05e96f",
   "metadata": {},
   "source": [
    "## Часть 2. Анализ A/B-теста"
   ]
  },
  {
   "cell_type": "markdown",
   "id": "f726fb7d",
   "metadata": {},
   "source": [
    "<div class=\"alert alert-danger\">\n",
    "    \n",
    "  <b>Комментарий ревьюера</b>\n",
    "  \n",
    "  ❌ Остается не выполненным на этапе предобработки, но тем не менее важным - проверить корректность разбиения пользователей на группы - может быть есть пользователи, попавшие в обе группы? Если таковые пользователи есть, нужно их выявить и выработать стратегию работы с такими данными. Пересечение групп сильно влияет на результаты теста, если процент достаточно большой. Если есть возможность их можно удалить и посмотреть, какие результаты получаются без них, в любом случае к результатам теста придется относится осторожно.\n",
    "</div>\n"
   ]
  },
  {
   "cell_type": "markdown",
   "id": "faf9cdf9",
   "metadata": {},
   "source": [
    "<div class=\"alert alert-info\"> <b>Комментарий студента:</b> Сделал выше.</div>\n",
    "\n",
    "\n",
    "<div class=\"alert alert-warning\">\n",
    "    \n",
    "  <b>Комментарий ревьюера v.2</b>\n",
    "    \n",
    "  ⚠️ Смотри, в visits у нас кумулятивные данные, мы их не сможем убрать. Т.е. можно убрать только пересечение по покупкам orders:  если мы считаем только по заказам - средний чек, кумулятивную выручку. Так данные будут чище.\\\n",
    "    А для расчета конверсии их лучше оставить. Поэтому таких пользователей можно лучше удалить, но допустимо и оставить, НО обязательно в итоговом выводе написать про наличие таких пользователей. В идеале считать раздельно: с удаленными - средний чек, с не удаленными - количество заказов. \n",
    "</div> "
   ]
  },
  {
   "cell_type": "markdown",
   "id": "ff7afd4c",
   "metadata": {},
   "source": [
    "#### 1. Постройте график кумулятивной выручки по группам. Сделайте выводы и предположения."
   ]
  },
  {
   "cell_type": "markdown",
   "id": "9461f0ad",
   "metadata": {},
   "source": [
    "Чтобы построить графики по кумулятивным (накапливаемым) данным, необходимо собрать соответствующий агрегированный датафрейм, содержащий информацию о дате, группе (А или В), кумулятивных количестве заказов и пользователей их оформивших, среднем чеке и, наконец, о кумулятивном количестве посетителей магазина."
   ]
  },
  {
   "cell_type": "code",
   "execution_count": 18,
   "id": "515e8278",
   "metadata": {},
   "outputs": [
    {
     "data": {
      "text/html": [
       "<div>\n",
       "<style scoped>\n",
       "    .dataframe tbody tr th:only-of-type {\n",
       "        vertical-align: middle;\n",
       "    }\n",
       "\n",
       "    .dataframe tbody tr th {\n",
       "        vertical-align: top;\n",
       "    }\n",
       "\n",
       "    .dataframe thead th {\n",
       "        text-align: right;\n",
       "    }\n",
       "</style>\n",
       "<table border=\"1\" class=\"dataframe\">\n",
       "  <thead>\n",
       "    <tr style=\"text-align: right;\">\n",
       "      <th></th>\n",
       "      <th>date</th>\n",
       "      <th>group</th>\n",
       "      <th>transaction_id</th>\n",
       "      <th>visitor_id</th>\n",
       "      <th>revenue</th>\n",
       "    </tr>\n",
       "  </thead>\n",
       "  <tbody>\n",
       "    <tr>\n",
       "      <th>55</th>\n",
       "      <td>2019-08-01</td>\n",
       "      <td>A</td>\n",
       "      <td>24</td>\n",
       "      <td>20</td>\n",
       "      <td>148579</td>\n",
       "    </tr>\n",
       "    <tr>\n",
       "      <th>66</th>\n",
       "      <td>2019-08-01</td>\n",
       "      <td>B</td>\n",
       "      <td>21</td>\n",
       "      <td>20</td>\n",
       "      <td>101217</td>\n",
       "    </tr>\n",
       "    <tr>\n",
       "      <th>175</th>\n",
       "      <td>2019-08-02</td>\n",
       "      <td>A</td>\n",
       "      <td>44</td>\n",
       "      <td>38</td>\n",
       "      <td>242401</td>\n",
       "    </tr>\n",
       "    <tr>\n",
       "      <th>173</th>\n",
       "      <td>2019-08-02</td>\n",
       "      <td>B</td>\n",
       "      <td>45</td>\n",
       "      <td>43</td>\n",
       "      <td>266748</td>\n",
       "    </tr>\n",
       "    <tr>\n",
       "      <th>291</th>\n",
       "      <td>2019-08-03</td>\n",
       "      <td>A</td>\n",
       "      <td>68</td>\n",
       "      <td>62</td>\n",
       "      <td>354874</td>\n",
       "    </tr>\n",
       "    <tr>\n",
       "      <th>310</th>\n",
       "      <td>2019-08-03</td>\n",
       "      <td>B</td>\n",
       "      <td>61</td>\n",
       "      <td>59</td>\n",
       "      <td>380996</td>\n",
       "    </tr>\n",
       "  </tbody>\n",
       "</table>\n",
       "</div>"
      ],
      "text/plain": [
       "          date group  transaction_id  visitor_id  revenue\n",
       "55  2019-08-01     A              24          20   148579\n",
       "66  2019-08-01     B              21          20   101217\n",
       "175 2019-08-02     A              44          38   242401\n",
       "173 2019-08-02     B              45          43   266748\n",
       "291 2019-08-03     A              68          62   354874\n",
       "310 2019-08-03     B              61          59   380996"
      ]
     },
     "execution_count": 18,
     "metadata": {},
     "output_type": "execute_result"
    }
   ],
   "source": [
    "# создаем массив уникальных пар значений дат и групп теста\n",
    "dates_grouped = orders[['date', 'group']].drop_duplicates()\n",
    "\n",
    "# получаем агрегированные кумулятивные по дням данные о заказах \n",
    "orders_grouped = dates_grouped.apply(\n",
    "    lambda x: orders[\n",
    "        np.logical_and(\n",
    "            orders['date'] <= x['date'], orders['group'] == x['group']\n",
    "        )\n",
    "    ].agg(\n",
    "        {\n",
    "            'date': 'max',\n",
    "            'group': 'max',\n",
    "            'transaction_id': 'nunique',\n",
    "            'visitor_id': 'nunique',\n",
    "            'revenue': 'sum',\n",
    "        }\n",
    "    ),\n",
    "    axis=1,\n",
    ").sort_values(by=['date', 'group'])\n",
    "\n",
    "orders_grouped.head(6)"
   ]
  },
  {
   "cell_type": "code",
   "execution_count": 19,
   "id": "5ebc3d91",
   "metadata": {},
   "outputs": [
    {
     "data": {
      "text/html": [
       "<div>\n",
       "<style scoped>\n",
       "    .dataframe tbody tr th:only-of-type {\n",
       "        vertical-align: middle;\n",
       "    }\n",
       "\n",
       "    .dataframe tbody tr th {\n",
       "        vertical-align: top;\n",
       "    }\n",
       "\n",
       "    .dataframe thead th {\n",
       "        text-align: right;\n",
       "    }\n",
       "</style>\n",
       "<table border=\"1\" class=\"dataframe\">\n",
       "  <thead>\n",
       "    <tr style=\"text-align: right;\">\n",
       "      <th></th>\n",
       "      <th>date</th>\n",
       "      <th>group</th>\n",
       "      <th>visitors</th>\n",
       "    </tr>\n",
       "  </thead>\n",
       "  <tbody>\n",
       "    <tr>\n",
       "      <th>55</th>\n",
       "      <td>2019-08-01</td>\n",
       "      <td>A</td>\n",
       "      <td>719</td>\n",
       "    </tr>\n",
       "    <tr>\n",
       "      <th>66</th>\n",
       "      <td>2019-08-01</td>\n",
       "      <td>B</td>\n",
       "      <td>713</td>\n",
       "    </tr>\n",
       "    <tr>\n",
       "      <th>175</th>\n",
       "      <td>2019-08-02</td>\n",
       "      <td>A</td>\n",
       "      <td>1338</td>\n",
       "    </tr>\n",
       "    <tr>\n",
       "      <th>173</th>\n",
       "      <td>2019-08-02</td>\n",
       "      <td>B</td>\n",
       "      <td>1294</td>\n",
       "    </tr>\n",
       "    <tr>\n",
       "      <th>291</th>\n",
       "      <td>2019-08-03</td>\n",
       "      <td>A</td>\n",
       "      <td>1845</td>\n",
       "    </tr>\n",
       "    <tr>\n",
       "      <th>310</th>\n",
       "      <td>2019-08-03</td>\n",
       "      <td>B</td>\n",
       "      <td>1803</td>\n",
       "    </tr>\n",
       "  </tbody>\n",
       "</table>\n",
       "</div>"
      ],
      "text/plain": [
       "          date group  visitors\n",
       "55  2019-08-01     A       719\n",
       "66  2019-08-01     B       713\n",
       "175 2019-08-02     A      1338\n",
       "173 2019-08-02     B      1294\n",
       "291 2019-08-03     A      1845\n",
       "310 2019-08-03     B      1803"
      ]
     },
     "execution_count": 19,
     "metadata": {},
     "output_type": "execute_result"
    }
   ],
   "source": [
    "# получаем агрегированные кумулятивные по дням данные о посетителях интернет-магазина \n",
    "\n",
    "visitors_grouped = dates_grouped.apply(\n",
    "    lambda x: visitors[\n",
    "        np.logical_and(\n",
    "            visitors['date'] <= x['date'], visitors['group'] == x['group']\n",
    "        )\n",
    "    ].agg(\n",
    "        {\n",
    "            'date': 'max', \n",
    "            'group': 'max', \n",
    "            'visitors': 'sum'\n",
    "        }\n",
    "    ),\n",
    "    axis=1,\n",
    ").sort_values(by=['date', 'group'])\n",
    "\n",
    "visitors_grouped.head(6)"
   ]
  },
  {
   "cell_type": "code",
   "execution_count": 20,
   "id": "1659d748",
   "metadata": {},
   "outputs": [],
   "source": [
    "# объединяем кумулятивные данные в одной таблице и присваиваем ее столбцам понятные названия\n",
    "\n",
    "cumulative_data = orders_grouped.merge(\n",
    "    visitors_grouped, \n",
    "    left_on=['date', 'group'], \n",
    "    right_on=['date', 'group']\n",
    ")\n",
    "\n",
    "cumulative_data.columns = ['date', 'group', 'orders', 'buyers', 'revenue', 'visitors']"
   ]
  },
  {
   "cell_type": "markdown",
   "id": "1caec64d",
   "metadata": {},
   "source": [
    "Добавим расчетную колонку с конверсией."
   ]
  },
  {
   "cell_type": "code",
   "execution_count": 21,
   "id": "51901ee3",
   "metadata": {},
   "outputs": [
    {
     "data": {
      "text/html": [
       "<div>\n",
       "<style scoped>\n",
       "    .dataframe tbody tr th:only-of-type {\n",
       "        vertical-align: middle;\n",
       "    }\n",
       "\n",
       "    .dataframe tbody tr th {\n",
       "        vertical-align: top;\n",
       "    }\n",
       "\n",
       "    .dataframe thead th {\n",
       "        text-align: right;\n",
       "    }\n",
       "</style>\n",
       "<table border=\"1\" class=\"dataframe\">\n",
       "  <thead>\n",
       "    <tr style=\"text-align: right;\">\n",
       "      <th></th>\n",
       "      <th>date</th>\n",
       "      <th>group</th>\n",
       "      <th>orders</th>\n",
       "      <th>buyers</th>\n",
       "      <th>revenue</th>\n",
       "      <th>visitors</th>\n",
       "      <th>conversion</th>\n",
       "    </tr>\n",
       "  </thead>\n",
       "  <tbody>\n",
       "    <tr>\n",
       "      <th>0</th>\n",
       "      <td>2019-08-01</td>\n",
       "      <td>A</td>\n",
       "      <td>24</td>\n",
       "      <td>20</td>\n",
       "      <td>148579</td>\n",
       "      <td>719</td>\n",
       "      <td>0.03</td>\n",
       "    </tr>\n",
       "    <tr>\n",
       "      <th>1</th>\n",
       "      <td>2019-08-01</td>\n",
       "      <td>B</td>\n",
       "      <td>21</td>\n",
       "      <td>20</td>\n",
       "      <td>101217</td>\n",
       "      <td>713</td>\n",
       "      <td>0.03</td>\n",
       "    </tr>\n",
       "    <tr>\n",
       "      <th>2</th>\n",
       "      <td>2019-08-02</td>\n",
       "      <td>A</td>\n",
       "      <td>44</td>\n",
       "      <td>38</td>\n",
       "      <td>242401</td>\n",
       "      <td>1338</td>\n",
       "      <td>0.03</td>\n",
       "    </tr>\n",
       "    <tr>\n",
       "      <th>3</th>\n",
       "      <td>2019-08-02</td>\n",
       "      <td>B</td>\n",
       "      <td>45</td>\n",
       "      <td>43</td>\n",
       "      <td>266748</td>\n",
       "      <td>1294</td>\n",
       "      <td>0.03</td>\n",
       "    </tr>\n",
       "    <tr>\n",
       "      <th>4</th>\n",
       "      <td>2019-08-03</td>\n",
       "      <td>A</td>\n",
       "      <td>68</td>\n",
       "      <td>62</td>\n",
       "      <td>354874</td>\n",
       "      <td>1845</td>\n",
       "      <td>0.04</td>\n",
       "    </tr>\n",
       "    <tr>\n",
       "      <th>5</th>\n",
       "      <td>2019-08-03</td>\n",
       "      <td>B</td>\n",
       "      <td>61</td>\n",
       "      <td>59</td>\n",
       "      <td>380996</td>\n",
       "      <td>1803</td>\n",
       "      <td>0.03</td>\n",
       "    </tr>\n",
       "  </tbody>\n",
       "</table>\n",
       "</div>"
      ],
      "text/plain": [
       "        date group  orders  buyers  revenue  visitors  conversion\n",
       "0 2019-08-01     A      24      20   148579       719        0.03\n",
       "1 2019-08-01     B      21      20   101217       713        0.03\n",
       "2 2019-08-02     A      44      38   242401      1338        0.03\n",
       "3 2019-08-02     B      45      43   266748      1294        0.03\n",
       "4 2019-08-03     A      68      62   354874      1845        0.04\n",
       "5 2019-08-03     B      61      59   380996      1803        0.03"
      ]
     },
     "execution_count": 21,
     "metadata": {},
     "output_type": "execute_result"
    }
   ],
   "source": [
    "cumulative_data['conversion'] = cumulative_data['orders'] / cumulative_data['visitors']\n",
    "cumulative_data.head(6)"
   ]
  },
  {
   "cell_type": "markdown",
   "id": "5563dbb4",
   "metadata": {},
   "source": [
    "#### выручка по группам"
   ]
  },
  {
   "cell_type": "markdown",
   "id": "3a2321ea",
   "metadata": {},
   "source": [
    "Построим график кумулятивной выручки по группам.\n"
   ]
  },
  {
   "cell_type": "code",
   "execution_count": 22,
   "id": "a6fb9bf2",
   "metadata": {},
   "outputs": [
    {
     "data": {
      "image/png": "[encoded data removed]",
      "text/plain": [
       "<Figure size 432x288 with 1 Axes>"
      ]
     },
     "metadata": {
      "needs_background": "light"
     },
     "output_type": "display_data"
    }
   ],
   "source": [
    "# датафрейм с кумулятивным количеством заказов и кумулятивной выручкой по дням в группе А\n",
    "cumulative_revenue_a = cumulative_data[cumulative_data['group']=='A'][['date','revenue', 'orders']]\n",
    "\n",
    "# датафрейм с кумулятивным количеством заказов и кумулятивной выручкой по дням в группе B\n",
    "cumulative_revenue_b = cumulative_data[cumulative_data['group']=='B'][['date','revenue', 'orders']]\n",
    "\n",
    "plt.plot(cumulative_revenue_a['date'], cumulative_revenue_a['revenue'], label='A')\n",
    "plt.plot(cumulative_revenue_b['date'], cumulative_revenue_b['revenue'], label='B')\n",
    "plt.title('График динамики кумулятивной выручки по группам А и В')\n",
    "plt.ylabel(\"Выручка, млн.\")\n",
    "plt.xticks(rotation=30)\n",
    "plt.legend()\n",
    "plt.show()"
   ]
  },
  {
   "cell_type": "markdown",
   "id": "04827925",
   "metadata": {},
   "source": [
    "Видим, что кумулятивная выручка группы А растет линейно, и она меньше, чем у группы В.\n",
    "\n",
    "При этом в группе В есть резкий скачок в районе 18-го августа, что может сигнализировать о всплесках числа заказов, либо о появлении очень дорогих заказов в выборке."
   ]
  },
  {
   "cell_type": "markdown",
   "id": "c1fb49bd",
   "metadata": {},
   "source": [
    "<div class=\"alert alert-success\">\n",
    "  \n",
    "  <b>Комментарий ревьюера</b>\n",
    "    \n",
    "  ✔️ График построен верно и можем зафиксировать аномалию в группе В.\n",
    "</div>"
   ]
  },
  {
   "cell_type": "markdown",
   "id": "12fc611a",
   "metadata": {},
   "source": [
    "#### 2. Постройте график кумулятивного среднего чека по группам. Сделайте выводы и предположения."
   ]
  },
  {
   "cell_type": "markdown",
   "id": "4dae33cc",
   "metadata": {},
   "source": [
    "Построим график динамики кумулятивного среднего чека по группам."
   ]
  },
  {
   "cell_type": "code",
   "execution_count": 23,
   "id": "68f37007",
   "metadata": {},
   "outputs": [
    {
     "data": {
      "image/png": "[encoded data removed]",
      "text/plain": [
       "<Figure size 432x288 with 1 Axes>"
      ]
     },
     "metadata": {
      "needs_background": "light"
     },
     "output_type": "display_data"
    }
   ],
   "source": [
    "plt.plot(cumulative_revenue_a['date'], \n",
    "         cumulative_revenue_a['revenue'] / cumulative_revenue_a['orders'],\n",
    "         label='A')\n",
    "\n",
    "plt.plot(cumulative_revenue_b['date'], \n",
    "         cumulative_revenue_b['revenue'] / cumulative_revenue_b['orders'], \n",
    "         label='B')\n",
    "\n",
    "plt.title('График динамики кумулятивного среднего чека по группам А и В')\n",
    "plt.ylabel(\"Выручка, млн.\")\n",
    "plt.xticks(rotation=30)\n",
    "plt.legend()\n",
    "plt.show()"
   ]
  },
  {
   "cell_type": "markdown",
   "id": "223f244b",
   "metadata": {},
   "source": [
    "Мы видим, что средний чек в группе А через какое-то время стабилизировался. Средний чек группы В показал резкий рывок, что говорит в пользу версии о дорогой покупке."
   ]
  },
  {
   "cell_type": "markdown",
   "id": "49a9136d",
   "metadata": {},
   "source": [
    "<div class=\"alert alert-success\">\n",
    "  \n",
    "  <b>Комментарий ревьюера</b>\n",
    "    \n",
    "  ✔️ Да, тут так-же группа В выделяется.\n",
    "</div>"
   ]
  },
  {
   "cell_type": "markdown",
   "id": "2bdd106f",
   "metadata": {},
   "source": [
    "#### 3. Постройте график относительного изменения кумулятивного среднего чека группы B к группе A. Сделайте выводы и предположения."
   ]
  },
  {
   "cell_type": "markdown",
   "id": "7425b4af",
   "metadata": {},
   "source": [
    "Построим график относительного изменения кумулятивного среднего чека группы B к группе A."
   ]
  },
  {
   "cell_type": "code",
   "execution_count": 24,
   "id": "87ead690",
   "metadata": {},
   "outputs": [
    {
     "data": {
      "image/png": "[encoded data removed]",
      "text/plain": [
       "<Figure size 432x288 with 1 Axes>"
      ]
     },
     "metadata": {
      "needs_background": "light"
     },
     "output_type": "display_data"
    }
   ],
   "source": [
    "# собираем данные в одном датафрейме\n",
    "cumulative_revenue_ab = cumulative_revenue_a.merge(\n",
    "    cumulative_revenue_b, \n",
    "    left_on='date', \n",
    "    right_on='date', \n",
    "    how='left', \n",
    "    suffixes=['_a', '_b']\n",
    ")\n",
    "\n",
    "# cтроим отношение средних чеков\n",
    "plt.plot(cumulative_revenue_ab['date'], \n",
    "         (\n",
    "             cumulative_revenue_ab['revenue_b']/cumulative_revenue_ab['orders_b']\n",
    "         )/\n",
    "         (\n",
    "             cumulative_revenue_ab['revenue_a']/cumulative_revenue_ab['orders_a']\n",
    "         )-1\n",
    "        )\n",
    "\n",
    "# добавляем ось X\n",
    "plt.axhline(y=0, color='black', linestyle='--')\n",
    "plt.title('График относительного изменения кумулятивного среднего чека группы B к группе A')\n",
    "plt.xticks(rotation=30)\n",
    "plt.show()\n"
   ]
  },
  {
   "cell_type": "markdown",
   "id": "17ed2805",
   "metadata": {},
   "source": [
    "График резко скачет в нескольких точках - определённо, имеют место какие-то выбросы и крупные заказы."
   ]
  },
  {
   "cell_type": "markdown",
   "id": "1c210c2a",
   "metadata": {},
   "source": [
    "<div class=\"alert alert-success\">\n",
    "  \n",
    "  <b>Комментарий ревьюера</b>\n",
    "    \n",
    "  ✔️ Верно, похоже на крупные заказы.\n",
    "</div>"
   ]
  },
  {
   "cell_type": "markdown",
   "id": "a1642eda",
   "metadata": {},
   "source": [
    "#### 4. Постройте график кумулятивного среднего количества заказов на посетителя по группам. Сделайте выводы и предположения."
   ]
  },
  {
   "cell_type": "markdown",
   "id": "ff6a1172",
   "metadata": {},
   "source": [
    "Аналогично проанализируем график кумулятивной конверсии по группам А и В."
   ]
  },
  {
   "cell_type": "code",
   "execution_count": 25,
   "id": "a0a671b3",
   "metadata": {},
   "outputs": [
    {
     "data": {
      "image/png": "[encoded data removed]",
      "text/plain": [
       "<Figure size 432x288 with 1 Axes>"
      ]
     },
     "metadata": {
      "needs_background": "light"
     },
     "output_type": "display_data"
    }
   ],
   "source": [
    "# отделяем данные по группе A\n",
    "cumulative_data_a = cumulative_data[cumulative_data['group']=='A']\n",
    "\n",
    "# отделяем данные по группе B\n",
    "cumulative_data_b = cumulative_data[cumulative_data['group']=='B']\n",
    "\n",
    "# строим графики\n",
    "plt.plot(cumulative_data_a['date'], cumulative_data_a['conversion'], label='A')\n",
    "plt.plot(cumulative_data_b['date'], cumulative_data_b['conversion'], label='B')\n",
    "plt.legend()\n",
    "plt.title('Кумулятивная конверсия по группам')\n",
    "plt.xlabel(' ')\n",
    "plt.ylabel('Конверсия')\n",
    "plt.xticks(rotation=30)\n",
    "plt.show()"
   ]
  },
  {
   "cell_type": "markdown",
   "id": "9fc588ff",
   "metadata": {},
   "source": [
    "Сначала конверсии колебались, но довольно быстро выровнялись; результат группы В кажется более привлекательным."
   ]
  },
  {
   "cell_type": "markdown",
   "id": "9e5c31b9",
   "metadata": {},
   "source": [
    "<div class=\"alert alert-success\">\n",
    "  \n",
    "  <b>Комментарий ревьюера</b>\n",
    "    \n",
    "  ✔️ Согласен, группа В в лидерах.\n",
    "</div>"
   ]
  },
  {
   "cell_type": "markdown",
   "id": "688196d2",
   "metadata": {},
   "source": [
    "#### 5. Постройте график относительного изменения кумулятивного среднего количества заказов на посетителя группы B к группе A. Сделайте выводы и предположения."
   ]
  },
  {
   "cell_type": "markdown",
   "id": "11efe911",
   "metadata": {},
   "source": [
    "Построим график относительного различия кумулятивных конверсий."
   ]
  },
  {
   "cell_type": "code",
   "execution_count": 26,
   "id": "e98d772e",
   "metadata": {},
   "outputs": [
    {
     "data": {
      "image/png": "[encoded data removed]",
      "text/plain": [
       "<Figure size 432x288 with 1 Axes>"
      ]
     },
     "metadata": {
      "needs_background": "light"
     },
     "output_type": "display_data"
    }
   ],
   "source": [
    "cumulative_conversions_ab = (\n",
    "    cumulative_data_a[['date','conversion']]\n",
    "    .merge(\n",
    "        cumulative_data_b[['date','conversion']], \n",
    "        left_on='date', \n",
    "        right_on='date', \n",
    "        how='left', \n",
    "        suffixes=['_a', '_b']))\n",
    "\n",
    "plt.plot(\n",
    "    cumulative_conversions_ab['date'], \n",
    "    cumulative_conversions_ab['conversion_b']/\n",
    "    cumulative_conversions_ab['conversion_a']-1)\n",
    "\n",
    "# добавляем ось X\n",
    "plt.axhline(y=0, color='black', linestyle='--')\n",
    "plt.axhline(y=0.15, color='grey', linestyle='--')\n",
    "plt.title('Относительный прирост конверсии группы B относительно группы A')\n",
    "plt.xticks(rotation=30)\n",
    "plt.show()"
   ]
  },
  {
   "cell_type": "markdown",
   "id": "1f4c1bb5",
   "metadata": {},
   "source": [
    "В начале теста группа В проигрывала группе А, но затем вырвалась вперед. Ее конверсия стремительно росла, далее начался медленный спад. Теперь конверсия группы В снова растет.   \n",
    "\n",
    "Но мы помним, что графики выше сигнализировали нам о наличии крупных заказов.   \n",
    "Необходимо проанализировать данные после чистки от выбросов еще раз.\n"
   ]
  },
  {
   "cell_type": "markdown",
   "id": "dc283c63",
   "metadata": {},
   "source": [
    "<div class=\"alert alert-success\">\n",
    "  \n",
    "  <b>Комментарий ревьюера</b>\n",
    "    \n",
    "  ✔️ Да, группа В выше, а еще в последней трети эксперимента наблюдается стабилизация результатов.\n",
    "</div>\n"
   ]
  },
  {
   "cell_type": "markdown",
   "id": "f73ce814",
   "metadata": {},
   "source": [
    "#### 6. Постройте точечный график количества заказов по пользователям. Сделайте выводы и предположения."
   ]
  },
  {
   "cell_type": "markdown",
   "id": "a54c7972",
   "metadata": {},
   "source": [
    "Пользователи, совершившие много заказов влияют на числитель формулы конверсии (отношение количества заказов к количеству поситителей интернет-магазина за время теста).\n",
    "\n",
    "\"Обычный\" пользователь редко совершает более одного-двух заказов в короткий срок (если только речь не идет о сайтах с регулярным спросом (например, продуктовый интернет-магазин)). Посмотрим, что с количеством заказов происходит с участниками нашего тестирования."
   ]
  },
  {
   "cell_type": "code",
   "execution_count": 27,
   "id": "1e3fe004",
   "metadata": {},
   "outputs": [
    {
     "data": {
      "text/plain": [
       "count   1031.00\n",
       "mean       1.16\n",
       "std        0.72\n",
       "min        1.00\n",
       "25%        1.00\n",
       "50%        1.00\n",
       "75%        1.00\n",
       "max       11.00\n",
       "Name: orders, dtype: float64"
      ]
     },
     "metadata": {},
     "output_type": "display_data"
    },
    {
     "data": {
      "image/png": "[encoded data removed]",
      "text/plain": [
       "<Figure size 432x288 with 1 Axes>"
      ]
     },
     "metadata": {
      "needs_background": "light"
     },
     "output_type": "display_data"
    }
   ],
   "source": [
    "orders_by_users = (\n",
    "    orders.groupby('visitor_id', as_index=False)\n",
    "    .agg({'transaction_id': 'nunique'})\n",
    ")\n",
    "orders_by_users.columns =  ['visitor_id', 'orders']\n",
    "display(orders_by_users['orders'].describe())\n",
    "\n",
    "# строим гистограмму\n",
    "plt.hist(orders_by_users['orders'], alpha=0.5) \n",
    "plt.title('Распределение количества заказов по пользователям')\n",
    "plt.xlabel('Количество заказов')\n",
    "plt.ylabel('Количество пользователей')\n",
    "plt.show()"
   ]
  },
  {
   "cell_type": "markdown",
   "id": "de883b5a",
   "metadata": {},
   "source": [
    "Большинство пользователей оформляли заказ один раз, но есть и те, кто успел сделать за месяц одиннадцать заказов."
   ]
  },
  {
   "cell_type": "code",
   "execution_count": 28,
   "id": "5cc42d71",
   "metadata": {},
   "outputs": [
    {
     "data": {
      "image/png": "[encoded data removed]",
      "text/plain": [
       "<Figure size 432x288 with 1 Axes>"
      ]
     },
     "metadata": {
      "needs_background": "light"
     },
     "output_type": "display_data"
    }
   ],
   "source": [
    "x_values = pd.Series(range(0,len(orders_by_users)))\n",
    "\n",
    "# строим точечную диаграмму\n",
    "plt.scatter(x_values, orders_by_users['orders'], color='green', alpha=0.5)\n",
    "plt.title('Распределение количества заказов по пользователям')\n",
    "plt.show()"
   ]
  },
  {
   "cell_type": "markdown",
   "id": "7def5858",
   "metadata": {},
   "source": [
    "Много пользователей с 2-3 заказами. Их точная доля не ясна, поэтому сложно понять, можно ли считать их выбросами или нет.\n"
   ]
  },
  {
   "cell_type": "markdown",
   "id": "897905e7",
   "metadata": {},
   "source": [
    "#### 7. Посчитайте 95-й и 99-й перцентили количества заказов на пользователя. Выберите границу для определения аномальных пользователей.\n"
   ]
  },
  {
   "cell_type": "markdown",
   "id": "ce3b8765",
   "metadata": {},
   "source": [
    "Посчитаем 95-й и 99-й перцентили количества заказов на пользователя и выберем границу для определения аномальных пользователей."
   ]
  },
  {
   "cell_type": "code",
   "execution_count": 29,
   "id": "f44a8b90",
   "metadata": {},
   "outputs": [
    {
     "data": {
      "text/plain": [
       "array([2., 4.])"
      ]
     },
     "execution_count": 29,
     "metadata": {},
     "output_type": "execute_result"
    }
   ],
   "source": [
    "np.percentile(orders_by_users['orders'], [95, 99])"
   ]
  },
  {
   "cell_type": "markdown",
   "id": "905f981f",
   "metadata": {},
   "source": [
    "Не более 5% пользователей совершали больше 2-х покупок в течение тестирования. И только 1% - четыре и более.\n",
    "Примем за верхнюю границу 4 заказа на одного пользователя."
   ]
  },
  {
   "cell_type": "markdown",
   "id": "ef9b5a80",
   "metadata": {},
   "source": [
    "<div class=\"alert alert-warning\">\n",
    "    \n",
    "  <b>Комментарий ревьюера</b>\n",
    "    \n",
    "  ⚠️ Перцентали выбраны верно. Но скорее всего, после обнаружения пользователей, которые вошли в обе группы (что не совсем верно) границы выбросов изменятся. Еще раз перепроверь свое решение после дополнения части с предобработкой.\n",
    "</div>"
   ]
  },
  {
   "cell_type": "markdown",
   "id": "2e3ff184",
   "metadata": {},
   "source": [
    "#### 8. Постройте точечный график стоимостей заказов. Сделайте выводы и предположения."
   ]
  },
  {
   "cell_type": "markdown",
   "id": "0e3403df",
   "metadata": {},
   "source": [
    "Изучим гистограмму стоимости заказов."
   ]
  },
  {
   "cell_type": "code",
   "execution_count": 30,
   "id": "a366ca58",
   "metadata": {},
   "outputs": [
    {
     "data": {
      "text/plain": [
       "count      1197.00\n",
       "mean       8348.01\n",
       "std       39191.13\n",
       "min          50.00\n",
       "25%        1220.00\n",
       "50%        2978.00\n",
       "75%        8290.00\n",
       "max     1294500.00\n",
       "Name: revenue, dtype: float64"
      ]
     },
     "metadata": {},
     "output_type": "display_data"
    },
    {
     "data": {
      "image/png": "[encoded data removed]",
      "text/plain": [
       "<Figure size 432x288 with 1 Axes>"
      ]
     },
     "metadata": {
      "needs_background": "light"
     },
     "output_type": "display_data"
    }
   ],
   "source": [
    "display(orders['revenue'].describe())\n",
    "\n",
    "# строим гистограмму\n",
    "plt.hist(orders['revenue'], alpha=0.5) \n",
    "plt.title('Распределение стоимости заказов по пользователям')\n",
    "plt.xlabel('Стоимость заказов')\n",
    "plt.ylabel('Количество пользователей')\n",
    "plt.show()"
   ]
  },
  {
   "cell_type": "markdown",
   "id": "5630f420",
   "metadata": {},
   "source": [
    "Один из заказов - почти 1.3 млн.!"
   ]
  },
  {
   "cell_type": "code",
   "execution_count": 31,
   "id": "1c9c4a37",
   "metadata": {},
   "outputs": [
    {
     "data": {
      "image/png": "[encoded data removed]",
      "text/plain": [
       "<Figure size 432x288 with 1 Axes>"
      ]
     },
     "metadata": {
      "needs_background": "light"
     },
     "output_type": "display_data"
    }
   ],
   "source": [
    "x_values = pd.Series(range(0,len(orders['revenue'])))\n",
    "\n",
    "# строим точечную диаграмму\n",
    "plt.scatter(x_values, orders['revenue'], color='green', alpha=0.5)\n",
    "plt.title('Распределение стоимости заказов по пользователям')\n",
    "plt.show()"
   ]
  },
  {
   "cell_type": "markdown",
   "id": "92bb1136",
   "metadata": {},
   "source": [
    "Опять мы видим этот гигантский заказ, который вызвал всплеск на графиках кумулятивных метрик, а так же другие весомые заказы, которые могут повлиять на результат исследований.\n",
    "\n",
    "Пострим аналогичный график без двух крупных выбросов, которые заметили выше."
   ]
  },
  {
   "cell_type": "code",
   "execution_count": 32,
   "id": "06ba9388",
   "metadata": {},
   "outputs": [
    {
     "data": {
      "image/png": "[encoded data removed]",
      "text/plain": [
       "<Figure size 432x288 with 1 Axes>"
      ]
     },
     "metadata": {
      "needs_background": "light"
     },
     "output_type": "display_data"
    }
   ],
   "source": [
    "# строим точечную диаграмму\n",
    "plt.ylim(0, 150000)\n",
    "plt.scatter(x_values, orders['revenue'], color='green', alpha=0.5)\n",
    "plt.title('Распределение стоимости заказов по пользователям')\n",
    "plt.show()"
   ]
  },
  {
   "cell_type": "markdown",
   "id": "ee5b4a41",
   "metadata": {},
   "source": [
    "Мы видим, что основная масса заказов не привышает 20000."
   ]
  },
  {
   "cell_type": "markdown",
   "id": "6007db1b",
   "metadata": {},
   "source": [
    "#### 9. Посчитайте 95-й и 99-й перцентили стоимости заказов. Выберите границу для определения аномальных заказов."
   ]
  },
  {
   "cell_type": "markdown",
   "id": "a61bbec3",
   "metadata": {},
   "source": [
    "Посчитаем 95-й и 99-й перцентили стоимости заказов на пользователя и выберим границу для определения аномалий."
   ]
  },
  {
   "cell_type": "code",
   "execution_count": 33,
   "id": "bd83f3a8",
   "metadata": {},
   "outputs": [
    {
     "name": "stdout",
     "output_type": "stream",
     "text": [
      "[28000.  58233.2]\n"
     ]
    }
   ],
   "source": [
    "print(np.percentile(orders['revenue'], [95, 99])) "
   ]
  },
  {
   "cell_type": "markdown",
   "id": "d7c6500a",
   "metadata": {},
   "source": [
    "Определяем границу по величине 99% перцентиля (58233)"
   ]
  },
  {
   "cell_type": "markdown",
   "id": "2fcba3a1",
   "metadata": {},
   "source": [
    "<div class=\"alert alert-warning\">\n",
    "    \n",
    "  <b>Комментарий ревьюера</b>\n",
    "    \n",
    "  ⚠️ Здесь тоже границы выбросов должны скорректироваться.\n",
    "</div>"
   ]
  },
  {
   "cell_type": "markdown",
   "id": "10f3122d",
   "metadata": {},
   "source": [
    "#### 10. Посчитайте статистическую значимость различий в среднем количестве заказов на посетителя между группами по «сырым» данным. Сделайте выводы и предположения."
   ]
  },
  {
   "cell_type": "markdown",
   "id": "2cd5da05",
   "metadata": {},
   "source": [
    "Ранее мы результаты A/B-теста визуально и выяснили, что в данных, скорее всего, есть выбросы. Потом увидели выбросы и нашли границу для их определения.\n",
    "\n",
    "Посчитаем статистическую значимость различий в среднем количестве заказов между группами по «сырым» данным — без удаления аномальных пользователей.\n",
    "\n",
    "<p>Введем основную и альтернативные гипотезы:</p>\n",
    "\n",
    "$\\begin{equation*}\n",
    " \\begin{cases}\n",
    "   H_0 :\\text{различий в в среднем количестве заказов между группами нет}\\\\\n",
    "   H_1 :\\text{различия в в среднем количестве заказов между группами есть}\n",
    " \\end{cases}\n",
    "\\end{equation*}$\n",
    "\n",
    "Уровень значимости: $\\alpha = 0.05$ \n",
    "\n",
    "\n",
    "\n",
    "Начнём с подготовки данных.\n"
   ]
  },
  {
   "cell_type": "markdown",
   "id": "71429ab6",
   "metadata": {},
   "source": [
    "<div class=\"alert alert-success\">\n",
    "  \n",
    "  <b>Комментарий ревьюера</b>\n",
    "    \n",
    "  ✔️ Нулевая и альтернативная гипотезы сформулированы.\n",
    "    \n",
    "</div>\n",
    "<div class=\"alert alert-warning\">\n",
    "    \n",
    "  <b>Комментарий ревьюера</b>\n",
    "    \n",
    "  ⚠️ Только у нас тут количество заказов.\n",
    "</div>"
   ]
  },
  {
   "cell_type": "markdown",
   "id": "dfaab225",
   "metadata": {},
   "source": [
    "Так как данные о продажах и средних чеках редко бывают нормально распределены (это классический пример переменных, подверженных выбросам), для проверки гипотез будем использовать непараметрический тест Уилкоксона-Манна-Уитни.\n",
    "Для уровеня значимости установим стандартный уровень статистической значимости, равный 0.05."
   ]
  },
  {
   "cell_type": "code",
   "execution_count": 34,
   "id": "94a2284b",
   "metadata": {},
   "outputs": [
    {
     "data": {
      "text/html": [
       "<div>\n",
       "<style scoped>\n",
       "    .dataframe tbody tr th:only-of-type {\n",
       "        vertical-align: middle;\n",
       "    }\n",
       "\n",
       "    .dataframe tbody tr th {\n",
       "        vertical-align: top;\n",
       "    }\n",
       "\n",
       "    .dataframe thead th {\n",
       "        text-align: right;\n",
       "    }\n",
       "</style>\n",
       "<table border=\"1\" class=\"dataframe\">\n",
       "  <thead>\n",
       "    <tr style=\"text-align: right;\">\n",
       "      <th></th>\n",
       "      <th>date</th>\n",
       "      <th>orders_daily_a</th>\n",
       "      <th>revenue_per_date_a</th>\n",
       "      <th>orders_daily_b</th>\n",
       "      <th>revenue_per_date_b</th>\n",
       "      <th>orders_cummulative_a</th>\n",
       "      <th>revenue_cummulative_a</th>\n",
       "      <th>orders_cummulative_b</th>\n",
       "      <th>revenue_cummulative_b</th>\n",
       "      <th>visitors_per_date_a</th>\n",
       "      <th>visitors_per_date_b</th>\n",
       "      <th>visitors_cummulative_a</th>\n",
       "      <th>visitors_cummulative_b</th>\n",
       "    </tr>\n",
       "  </thead>\n",
       "  <tbody>\n",
       "    <tr>\n",
       "      <th>0</th>\n",
       "      <td>2019-08-01</td>\n",
       "      <td>24</td>\n",
       "      <td>148579</td>\n",
       "      <td>21</td>\n",
       "      <td>101217</td>\n",
       "      <td>24</td>\n",
       "      <td>148579</td>\n",
       "      <td>21</td>\n",
       "      <td>101217</td>\n",
       "      <td>719</td>\n",
       "      <td>713</td>\n",
       "      <td>719</td>\n",
       "      <td>713</td>\n",
       "    </tr>\n",
       "    <tr>\n",
       "      <th>1</th>\n",
       "      <td>2019-08-02</td>\n",
       "      <td>20</td>\n",
       "      <td>93822</td>\n",
       "      <td>24</td>\n",
       "      <td>165531</td>\n",
       "      <td>44</td>\n",
       "      <td>242401</td>\n",
       "      <td>45</td>\n",
       "      <td>266748</td>\n",
       "      <td>619</td>\n",
       "      <td>581</td>\n",
       "      <td>1338</td>\n",
       "      <td>1294</td>\n",
       "    </tr>\n",
       "    <tr>\n",
       "      <th>2</th>\n",
       "      <td>2019-08-03</td>\n",
       "      <td>24</td>\n",
       "      <td>112473</td>\n",
       "      <td>16</td>\n",
       "      <td>114248</td>\n",
       "      <td>68</td>\n",
       "      <td>354874</td>\n",
       "      <td>61</td>\n",
       "      <td>380996</td>\n",
       "      <td>507</td>\n",
       "      <td>509</td>\n",
       "      <td>1845</td>\n",
       "      <td>1803</td>\n",
       "    </tr>\n",
       "    <tr>\n",
       "      <th>3</th>\n",
       "      <td>2019-08-04</td>\n",
       "      <td>16</td>\n",
       "      <td>70825</td>\n",
       "      <td>17</td>\n",
       "      <td>108571</td>\n",
       "      <td>84</td>\n",
       "      <td>425699</td>\n",
       "      <td>78</td>\n",
       "      <td>489567</td>\n",
       "      <td>717</td>\n",
       "      <td>770</td>\n",
       "      <td>2562</td>\n",
       "      <td>2573</td>\n",
       "    </tr>\n",
       "    <tr>\n",
       "      <th>4</th>\n",
       "      <td>2019-08-05</td>\n",
       "      <td>25</td>\n",
       "      <td>124218</td>\n",
       "      <td>23</td>\n",
       "      <td>92428</td>\n",
       "      <td>109</td>\n",
       "      <td>549917</td>\n",
       "      <td>101</td>\n",
       "      <td>581995</td>\n",
       "      <td>756</td>\n",
       "      <td>707</td>\n",
       "      <td>3318</td>\n",
       "      <td>3280</td>\n",
       "    </tr>\n",
       "    <tr>\n",
       "      <th>5</th>\n",
       "      <td>2019-08-06</td>\n",
       "      <td>18</td>\n",
       "      <td>48484</td>\n",
       "      <td>28</td>\n",
       "      <td>242342</td>\n",
       "      <td>127</td>\n",
       "      <td>598401</td>\n",
       "      <td>129</td>\n",
       "      <td>824337</td>\n",
       "      <td>667</td>\n",
       "      <td>655</td>\n",
       "      <td>3985</td>\n",
       "      <td>3935</td>\n",
       "    </tr>\n",
       "  </tbody>\n",
       "</table>\n",
       "</div>"
      ],
      "text/plain": [
       "        date  orders_daily_a  revenue_per_date_a  orders_daily_b  \\\n",
       "0 2019-08-01              24              148579              21   \n",
       "1 2019-08-02              20               93822              24   \n",
       "2 2019-08-03              24              112473              16   \n",
       "3 2019-08-04              16               70825              17   \n",
       "4 2019-08-05              25              124218              23   \n",
       "5 2019-08-06              18               48484              28   \n",
       "\n",
       "   revenue_per_date_b  orders_cummulative_a  revenue_cummulative_a  \\\n",
       "0              101217                    24                 148579   \n",
       "1              165531                    44                 242401   \n",
       "2              114248                    68                 354874   \n",
       "3              108571                    84                 425699   \n",
       "4               92428                   109                 549917   \n",
       "5              242342                   127                 598401   \n",
       "\n",
       "   orders_cummulative_b  revenue_cummulative_b  visitors_per_date_a  \\\n",
       "0                    21                 101217                  719   \n",
       "1                    45                 266748                  619   \n",
       "2                    61                 380996                  507   \n",
       "3                    78                 489567                  717   \n",
       "4                   101                 581995                  756   \n",
       "5                   129                 824337                  667   \n",
       "\n",
       "   visitors_per_date_b  visitors_cummulative_a  visitors_cummulative_b  \n",
       "0                  713                     719                     713  \n",
       "1                  581                    1338                    1294  \n",
       "2                  509                    1845                    1803  \n",
       "3                  770                    2562                    2573  \n",
       "4                  707                    3318                    3280  \n",
       "5                  655                    3985                    3935  "
      ]
     },
     "execution_count": 34,
     "metadata": {},
     "output_type": "execute_result"
    }
   ],
   "source": [
    "visitors_daily_a = visitors[visitors['group'] == 'A'][['date', 'visitors']]\n",
    "visitors_daily_a.columns = ['date', 'visitors_per_date_a']\n",
    "\n",
    "visitors_cummulative_a = visitors_daily_a.apply(\n",
    "    lambda x: visitors_daily_a[visitors_daily_a['date'] <= x['date']].agg(\n",
    "        {'date': 'max', 'visitors_per_date_a': 'sum'}\n",
    "    ),\n",
    "    axis=1,\n",
    ")\n",
    "visitors_cummulative_a.columns = ['date', 'visitors_cummulative_a']\n",
    "\n",
    "visitors_daily_b = visitors[visitors['group'] == 'B'][['date', 'visitors']]\n",
    "visitors_daily_b.columns = ['date', 'visitors_per_date_b']\n",
    "\n",
    "visitors_cummulative_b = visitors_daily_b.apply(\n",
    "    lambda x: visitors_daily_b[visitors_daily_b['date'] <= x['date']].agg(\n",
    "        {'date': 'max', 'visitors_per_date_b': 'sum'}\n",
    "    ),\n",
    "    axis=1,\n",
    ")\n",
    "visitors_cummulative_b.columns = ['date', 'visitors_cummulative_b']\n",
    "\n",
    "orders_daily_a = (\n",
    "    orders[orders['group'] == 'A'][['date', 'transaction_id', 'visitor_id', 'revenue']]\n",
    "    .groupby('date', as_index=False)\n",
    "    .agg({'transaction_id': pd.Series.nunique, 'revenue': 'sum'})\n",
    ")\n",
    "orders_daily_a.columns = ['date', 'orders_daily_a', 'revenue_per_date_a']\n",
    "\n",
    "orders_cummulative_a = orders_daily_a.apply(\n",
    "    lambda x: orders_daily_a[orders_daily_a['date'] <= x['date']].agg(\n",
    "        {'date': 'max', 'orders_daily_a': 'sum', 'revenue_per_date_a': 'sum'}\n",
    "    ),\n",
    "    axis=1,\n",
    ").sort_values(by=['date'])\n",
    "\n",
    "orders_cummulative_a.columns = ['date','orders_cummulative_a','revenue_cummulative_a']\n",
    "\n",
    "orders_daily_b = (\n",
    "    orders[orders['group'] == 'B'][['date', 'transaction_id', 'visitor_id', 'revenue']]\n",
    "    .groupby('date', as_index=False)\n",
    "    .agg({'transaction_id': pd.Series.nunique, 'revenue': 'sum'}))\n",
    "\n",
    "orders_daily_b.columns = ['date', 'orders_daily_b', 'revenue_per_date_b']\n",
    "\n",
    "orders_cummulative_b = orders_daily_b.apply(\n",
    "    lambda x: orders_daily_b[orders_daily_b['date'] <= x['date']].agg(\n",
    "        {'date': 'max', 'orders_daily_b': 'sum', 'revenue_per_date_b': 'sum'}\n",
    "    ),\n",
    "    axis=1,\n",
    ").sort_values(by=['date'])\n",
    "\n",
    "orders_cummulative_b.columns = ['date','orders_cummulative_b','revenue_cummulative_b']\n",
    "\n",
    "\n",
    "data = (\n",
    "    orders_daily_a.merge(\n",
    "        orders_daily_b, left_on='date', right_on='date', how='left'\n",
    "    )\n",
    "    .merge(orders_cummulative_a, left_on='date', right_on='date', how='left')\n",
    "    .merge(orders_cummulative_b, left_on='date', right_on='date', how='left')\n",
    "    .merge(visitors_daily_a, left_on='date', right_on='date', how='left')\n",
    "    .merge(visitors_daily_b, left_on='date', right_on='date', how='left')\n",
    "    .merge(visitors_cummulative_a, left_on='date', right_on='date', how='left')\n",
    "    .merge(visitors_cummulative_b, left_on='date', right_on='date', how='left'))\n",
    "\n",
    "data.head(6)"
   ]
  },
  {
   "cell_type": "markdown",
   "id": "1d706677",
   "metadata": {},
   "source": [
    " Итак, у нас получилсь следующая таблица.\n",
    "\n",
    "`date` — дата;   \n",
    "`orders_daily_a` — количество заказов в выбранную дату в группе A;   \n",
    "`revenue_per_date_a` — суммарная выручка в выбранную дату в группе A;   \n",
    "`orders_daily_a` — количество заказов в выбранную дату в группе B;   \n",
    "`revenue_per_date_a` — суммарная выручка в выбранную дату в группе B;   \n",
    "`orders_cummulative_a` — суммарное число заказов до выбранной даты включительно в группе A;   \n",
    "`revenue_cummulative_a` — суммарная выручка до выбранной даты включительно в группе A;   \n",
    "`orders_cummulative_b` — суммарное количество заказов до выбранной даты включительно в группе B;   \n",
    "`revenue_cummulative_b` — суммарная выручка до выбранной даты включительно в группе B;   \n",
    "`visitors_per_date_a` — количество пользователей в выбранную дату в группе A;   \n",
    "`visitors_per_date_b` — количество пользователей в выбранную дату в группе B;   \n",
    "`visitors_cummulative_a` — количество пользователей до выбранной даты включительно в группе A;     \n",
    "`visitors_cummulative_b` — количество пользователей до выбранной даты включительно в группе B.    \n",
    "\n",
    "\n",
    "Создадим переменные orders_by_users_a и orders_by_users_a; в них для пользователей, которые заказывали хотя бы 1 раз, укажем число совершённых заказов."
   ]
  },
  {
   "cell_type": "code",
   "execution_count": 35,
   "id": "4329283f",
   "metadata": {},
   "outputs": [],
   "source": [
    "orders_by_users_a = (\n",
    "    orders[orders['group'] == 'A']\n",
    "    .groupby('visitor_id', as_index=False)\n",
    "    .agg({'transaction_id': pd.Series.nunique}))\n",
    "\n",
    "orders_by_users_a.columns = ['visitor_id', 'orders']\n",
    "\n",
    "orders_by_users_b = (\n",
    "    orders[orders['group'] == 'B']\n",
    "    .groupby('visitor_id', as_index=False)\n",
    "    .agg({'transaction_id': pd.Series.nunique}))\n",
    "\n",
    "orders_by_users_b.columns = ['visitor_id', 'orders']"
   ]
  },
  {
   "cell_type": "markdown",
   "id": "6015743a",
   "metadata": {},
   "source": [
    "Объявим переменные sample_a и sample_b, в которых пользователям из разных групп будет соответствовать количество заказов. Тем, кто ничего не заказал, будут соответствовать нули. Это нужно, чтобы подготовить выборки к проверке критерием Манна-Уитни."
   ]
  },
  {
   "cell_type": "code",
   "execution_count": 36,
   "id": "a1eeef8d",
   "metadata": {},
   "outputs": [],
   "source": [
    "sample_a = pd.concat([orders_by_users_a['orders'],\n",
    "                      pd.Series(\n",
    "                          0, \n",
    "                          index=np.arange(data['visitors_per_date_a'].sum() - \n",
    "                                          len(orders_by_users_a['orders'])), \n",
    "                          name='orders')],axis=0)\n",
    "\n",
    "sample_b = pd.concat([orders_by_users_b['orders'],\n",
    "                      pd.Series(\n",
    "                          0, \n",
    "                          index=np.arange(data['visitors_per_date_b'].sum() - \n",
    "                                          len(orders_by_users_b['orders'])), \n",
    "                          name='orders')],axis=0)\n"
   ]
  },
  {
   "cell_type": "markdown",
   "id": "03daf3e3",
   "metadata": {},
   "source": [
    "Задаем функцию, в которой:\n",
    "\n",
    "- задаем уровень значимости alpha=0.05,\n",
    "- применим критерий Манна-Уитни,\n",
    "- отформатируем p-value, округлив его до трёх знаков после запятой,\n",
    "- выведем относительный прирост конверсии группы B: конверсия группы B / конверсия группы A - 1, округлив до трёх знаков после запятой."
   ]
  },
  {
   "cell_type": "code",
   "execution_count": 37,
   "id": "800c4c08",
   "metadata": {},
   "outputs": [],
   "source": [
    "# Функция для проверки гипотезы о равенстве групп data A и data B\n",
    "def stat_significance(data_a, data_b):\n",
    "    alpha = 0.05\n",
    "    p_value = st.mannwhitneyu(data_a, data_b)[1]\n",
    "    print(\"P-value: {0:.3f}\".format(p_value))\n",
    "\n",
    "    if (p_value < alpha):\n",
    "        print(\"Отвергаем нулевую гипотезу: между группами есть разница\")\n",
    "    else:\n",
    "        print(\"Не получилось отвергнуть нулевую гипотезу, нет оснований считать группы разными\")\n",
    "    \n",
    "    print(\"Относительный прирост В к А: {0:.3%}\".format(data_b.mean() / data_a.mean()-1))"
   ]
  },
  {
   "cell_type": "code",
   "execution_count": 38,
   "id": "ebc95dee",
   "metadata": {},
   "outputs": [
    {
     "name": "stdout",
     "output_type": "stream",
     "text": [
      "P-value: 0.017\n",
      "Отвергаем нулевую гипотезу: между группами есть разница\n",
      "Относительный прирост В к А: 13.808%\n"
     ]
    }
   ],
   "source": [
    "stat_significance(sample_a, sample_b)"
   ]
  },
  {
   "cell_type": "markdown",
   "id": "a763b83c",
   "metadata": {},
   "source": [
    "По неочищенным данным различия в в среднем количестве заказов между группами есть.   \n",
    "P-value = 0.017 меньше 0.05. Значит, нулевую гипотезу о том, что статистически значимых различий в конверсии между группами нет, отвергаем. Относительный выигрыш группы B равен 13.81%."
   ]
  },
  {
   "cell_type": "markdown",
   "id": "23a2afb5",
   "metadata": {},
   "source": [
    "<div class=\"alert alert-success\">\n",
    "  \n",
    "  <b>Комментарий ревьюера</b>\n",
    "    \n",
    "  ✔️ Верно выбран сам тест и верно проинтерпретированы  его результаты! \n",
    "</div>"
   ]
  },
  {
   "cell_type": "markdown",
   "id": "70897ab9",
   "metadata": {},
   "source": [
    "#### 11. Посчитайте статистическую значимость различий в среднем чеке заказа между группами по «сырым» данным. Сделайте выводы и предположения."
   ]
  },
  {
   "cell_type": "markdown",
   "id": "7400f42b",
   "metadata": {},
   "source": [
    "Посчитаем статистическую значимость различий в среднем чеке между группами по «сырым» данным — без удаления аномальных пользователей.\n",
    "\n",
    "<p>Введем основную и альтернативные гипотезы:</p>\n",
    "\n",
    "$\\begin{equation*}\n",
    " \\begin{cases}\n",
    "   H_0 :\\text{различий в среднем чеке между группами нет}\\\\\n",
    "   H_1 :\\text{различия в среднем чеке между группами есть}\n",
    " \\end{cases}\n",
    "\\end{equation*}$\n",
    "\n",
    "Уровень значимости: $\\alpha = 0.05$ \n",
    "\n",
    "Чтобы рассчитать статистическую значимость различий в среднем чеке, передадим критерию mannwhitneyu() данные о выручке с заказов.\n",
    "А ещё найдём относительные различия в среднем чеке между группами."
   ]
  },
  {
   "cell_type": "code",
   "execution_count": 39,
   "id": "f21023dd",
   "metadata": {},
   "outputs": [
    {
     "name": "stdout",
     "output_type": "stream",
     "text": [
      "P-value: 0.729\n",
      "Не получилось отвергнуть нулевую гипотезу, нет оснований считать группы разными\n",
      "Относительный прирост В к А: 25.871%\n"
     ]
    }
   ],
   "source": [
    "stat_significance(orders[orders['group']=='A']['revenue'], orders[orders['group']=='B']['revenue'])"
   ]
  },
  {
   "cell_type": "markdown",
   "id": "9e31dd7b",
   "metadata": {},
   "source": [
    "P-value значительно больше 0.05. По сырым данным наблюдаемое различие в 25.871% не является статически значимым по среднему чеку между группами. Значит, причин отвергать нулевую гипотезу и считать, что в среднем чеке есть различия, нет."
   ]
  },
  {
   "cell_type": "markdown",
   "id": "e90c29a5",
   "metadata": {},
   "source": [
    "<div class=\"alert alert-danger\">\n",
    "    \n",
    "  <b>Комментарий ревьюера</b>\n",
    "    \n",
    "  ❌ С одной стороны не отвергаем нулевую гипотезу, но потом говорим, что \" Впрочем, средний чек группы B значительно выше среднего чека группы A.\". Выводы немного противоречат друг другу. Тут лучше изменить интерпретацию: наблюдаемое различие в 25.871%... не является стат. значимым... и .т.д.\n",
    "\n",
    "</div>   "
   ]
  },
  {
   "cell_type": "markdown",
   "id": "fe786936",
   "metadata": {},
   "source": [
    "<div class=\"alert alert-info\"> <b>Комментарий студента:</b> Исправил.</div>\n",
    "<div class=\"alert alert-success\">\n",
    "  \n",
    "  <b>Комментарий ревьюера v.2</b>\n",
    "    \n",
    "  ✔️ Так вывод звучит корректней. \n",
    "    \n",
    "Тут все просто. Раз теcт показал, что нет стат значимой разницы между группами - то каково бы различие чека не было, оно не будет являться стат. значимым (у нас тут выбросы дают большое различие чеков, но их всего несколько и на общее различие среднего чека по группам они не влияют)\n",
    "</div>"
   ]
  },
  {
   "cell_type": "markdown",
   "id": "ecdfe90f",
   "metadata": {},
   "source": [
    "#### 12. Посчитайте статистическую значимость различий в среднем количестве заказов на посетителя между группами по «очищенным» данным. Сделайте выводы и предположения."
   ]
  },
  {
   "cell_type": "markdown",
   "id": "9cb80a08",
   "metadata": {},
   "source": [
    "Примем за аномальных пользователей тех, кто совершил от 5 заказов или совершил заказ дороже 58233. Так мы уберём 1% пользователей с наибольшим числом заказов и от 1% пользователей с дорогими заказами. Сделаем срезы пользователей с числом заказов больше 4 — `users_with_many_orders` и пользователей, совершивших заказы дороже 58233 — `users_with_expensive_orders`. Объединим их в таблице `abnormal_users`.     \n",
    "Узнаем, сколько всего аномальных пользователей методом shape()."
   ]
  },
  {
   "cell_type": "code",
   "execution_count": 40,
   "id": "f2df3dd8",
   "metadata": {},
   "outputs": [
    {
     "data": {
      "text/plain": [
       "1099     148427295\n",
       "949      887908475\n",
       "744      888512513\n",
       "1103    1164614297\n",
       "1136    1307669133\n",
       "Name: visitor_id, dtype: int64"
      ]
     },
     "metadata": {},
     "output_type": "display_data"
    },
    {
     "data": {
      "text/plain": [
       "15"
      ]
     },
     "execution_count": 40,
     "metadata": {},
     "output_type": "execute_result"
    }
   ],
   "source": [
    "many_orders = np.percentile(orders_by_users['orders'], 99)\n",
    "expensive_orders = np.percentile(orders['revenue'], 99)\n",
    "\n",
    "\n",
    "users_with_many_orders = pd.concat(\n",
    "    [\n",
    "        orders_by_users_a[orders_by_users_a['orders'] > many_orders]['visitor_id'],\n",
    "        orders_by_users_b[orders_by_users_b['orders'] > many_orders]['visitor_id'],\n",
    "    ],\n",
    "    axis=0,\n",
    ")\n",
    "\n",
    "\n",
    "users_with_expensive_orders = orders[orders['revenue'] > expensive_orders]['visitor_id']\n",
    "\n",
    "\n",
    "abnormal_users = (\n",
    "    pd.concat([users_with_many_orders, users_with_expensive_orders], axis=0)\n",
    "    .drop_duplicates()\n",
    "    .sort_values()\n",
    ")\n",
    "display(abnormal_users.head(5))\n",
    "abnormal_users.shape[0]"
   ]
  },
  {
   "cell_type": "markdown",
   "id": "89a12ae4",
   "metadata": {},
   "source": [
    "Всего 15 аномальных пользователей.    \n",
    "Узнаем, как их действия повлияли на результаты теста. Посчитаем статистическую значимость различий в конверсии между группами теста по очищенным данным. Сначала подготовим выборки количества заказов по пользователям по группам теста."
   ]
  },
  {
   "cell_type": "code",
   "execution_count": 41,
   "id": "7a5f0b45",
   "metadata": {},
   "outputs": [],
   "source": [
    "sample_a_filtered = pd.concat(\n",
    "    [\n",
    "        orders_by_users_a[\n",
    "            np.logical_not(orders_by_users_a['visitor_id'].isin(abnormal_users))\n",
    "        ]['orders'],\n",
    "        pd.Series(\n",
    "            0,\n",
    "            index=np.arange(\n",
    "                data['visitors_per_date_a'].sum() - len(orders_by_users_a['orders'])\n",
    "            ),\n",
    "            name='orders',\n",
    "        ),\n",
    "    ],\n",
    "    axis=0,\n",
    ")\n",
    "\n",
    "sample_b_filtered = pd.concat(\n",
    "    [\n",
    "        orders_by_users_b[\n",
    "            np.logical_not(orders_by_users_b['visitor_id'].isin(abnormal_users))\n",
    "        ]['orders'],\n",
    "        pd.Series(\n",
    "            0,\n",
    "            index=np.arange(\n",
    "                data['visitors_per_date_b'].sum() - len(orders_by_users_b['orders'])\n",
    "            ),\n",
    "            name='orders',\n",
    "        ),\n",
    "    ],\n",
    "    axis=0,\n",
    ")"
   ]
  },
  {
   "cell_type": "code",
   "execution_count": 42,
   "id": "ab46e090",
   "metadata": {},
   "outputs": [
    {
     "name": "stdout",
     "output_type": "stream",
     "text": [
      "P-value: 0.014\n",
      "Отвергаем нулевую гипотезу: между группами есть разница\n",
      "Относительный прирост В к А: 15.331%\n"
     ]
    }
   ],
   "source": [
    "stat_significance(sample_a_filtered, sample_b_filtered)"
   ]
  },
  {
   "cell_type": "markdown",
   "id": "2caa7768",
   "metadata": {},
   "source": [
    "На очищенных данных разница в конверсии между группами есть, а относительный прирост конверсии группы В отнистельно группы А увеличился на 15.3%."
   ]
  },
  {
   "cell_type": "markdown",
   "id": "fd3f2c3c",
   "metadata": {},
   "source": [
    "<div class=\"alert alert-success\">\n",
    "  \n",
    "  <b>Комментарий ревьюера</b>\n",
    "    \n",
    "  ✔️ Верно! И тут отвергаем нулевую гипотезу.\n",
    "</div>"
   ]
  },
  {
   "cell_type": "markdown",
   "id": "26b9bca1",
   "metadata": {},
   "source": [
    "#### 13. Посчитайте статистическую значимость различий в среднем чеке заказа между группами по «очищенным» данным. Сделайте выводы и предположения."
   ]
  },
  {
   "cell_type": "markdown",
   "id": "9a5d3f99",
   "metadata": {},
   "source": [
    "Подсчитаем статистическую значимость различий в среднем чеке после удаления аномальных пользователей."
   ]
  },
  {
   "cell_type": "code",
   "execution_count": 43,
   "id": "59f8a601",
   "metadata": {},
   "outputs": [
    {
     "name": "stdout",
     "output_type": "stream",
     "text": [
      "P-value: 0.851\n",
      "Не получилось отвергнуть нулевую гипотезу, нет оснований считать группы разными\n",
      "Относительный прирост В к А: -0.575%\n"
     ]
    }
   ],
   "source": [
    "stat_significance(\n",
    "    orders[(orders['group']=='A') & np.logical_not(orders['visitor_id'].isin(abnormal_users))]['revenue'], \n",
    "    orders[(orders['group']=='B') & np.logical_not(orders['visitor_id'].isin(abnormal_users))]['revenue']\n",
    "    )"
   ]
  },
  {
   "cell_type": "markdown",
   "id": "a1473995",
   "metadata": {},
   "source": [
    "P-value значительно больше 0.05. По разнице средних чеков групп различий практически нет.  Значит, причин отвергать нулевую гипотезу и считать, что в среднем чеке есть различия, нет."
   ]
  },
  {
   "cell_type": "markdown",
   "id": "bc54d8f6",
   "metadata": {},
   "source": [
    "<div class=\"alert alert-danger\">\n",
    "    \n",
    "  <b>Комментарий ревьюера</b>\n",
    "    \n",
    "  ❌ Согласен, только обрати, пожалуйста, внимание на выводы: в начале мы можем говорить о наблюдаемых различиях, а потом показать - являются ли они стат. значимыми или нет.\n",
    "\n",
    "</div>"
   ]
  },
  {
   "cell_type": "markdown",
   "id": "d397f953",
   "metadata": {},
   "source": [
    "<div class=\"alert alert-info\"> <b>Комментарий студента:</b> Исправил.</div>\n",
    "<div class=\"alert alert-success\">\n",
    "  \n",
    "  <b>Комментарий ревьюера v.2</b>\n",
    "    \n",
    "  ✔️ Хорошо.\n",
    "</div>"
   ]
  },
  {
   "cell_type": "markdown",
   "id": "c616b76d",
   "metadata": {},
   "source": [
    "#### 14. Примите решение по результатам теста и объясните его. Варианты решений:\n",
    "    1. Остановить тест, зафиксировать победу одной из групп.\n",
    "    2. Остановить тест, зафиксировать отсутствие различий между группами.\n",
    "    3. Продолжить тест.\n"
   ]
  },
  {
   "cell_type": "markdown",
   "id": "4251d0fd",
   "metadata": {},
   "source": [
    "* Есть статистически значимое различие по конверсии между группами как по «сырым», так и по данным после фильтрации аномалий. Конверсия группы В выше, чем в А, на 14-15%;    \n",
    "\n",
    "* Нет статистически значимого различия по среднему чеку между группами ни по «сырым», ни по данным после фильтрации аномалий. При этом средний чек группы В выше (на \"очищенных\" данных  -  на ~2%);   \n",
    "\n",
    "* График относительного изменения кумулятивной конверсии группы B к группе A показывает, что результаты группы В стабильно лучше группы А;\n",
    "\n",
    "На основании вышеизложенного рекомендуем **остановить тест**, зафиксировав победу группы B (ее конверсия значительно  выше конверсии группы А). "
   ]
  },
  {
   "cell_type": "markdown",
   "id": "6a2b8419",
   "metadata": {},
   "source": [
    "## Выводы и рекомендации"
   ]
  },
  {
   "cell_type": "markdown",
   "id": "61c258fa",
   "metadata": {},
   "source": [
    "На основании входных данных, предоставленных интернет-магазином был проведено исследование и вынесены рекомендации, изложенные ниже.\n",
    "    \n",
    "**В части приоритизации гипотез из списка, предоставленных отделом Маркетинга следует в первую очередь обратить внимание на гипотезы:**   \n",
    "- \"Запустить акцию, дающую скидку на товар в день рождения\",   \n",
    "- \"Добавить два новых канала привлечения трафика, что позволит привлекать на 30% больше пользователей\",   \n",
    "- \"Добавить форму подписки на все основные страницы, чтобы собрать базу клиентов для email-рассылок\";      \n",
    "\n",
    "Если ранжирование гипотез должно включать в себя и охват пользователей интернет-магазина, то места необходимо распределить таким образом:   \n",
    "- \"Добавить форму подписки на все основные страницы, чтобы собрать базу клиентов для email-рассылок\",    \n",
    "- \"Добавить блоки рекомендаций товаров на сайт интернет магазина, чтобы повысить конверсию и средний чек заказа\",   \n",
    "- \"Добавить два новых канала привлечения трафика, что позволит привлекать на 30% больше пользователей\". \t"
   ]
  },
  {
   "cell_type": "markdown",
   "id": "ad672dcb",
   "metadata": {},
   "source": [
    "**В части анализа А/В теста:** рекомендуем остановить тест, зафиксировав победу группы B (ее конверсия значительно  выше конверсии группы А). "
   ]
  },
  {
   "cell_type": "markdown",
   "id": "527b37e7",
   "metadata": {},
   "source": [
    "<div class=\"alert alert-success\">\n",
    "  \n",
    "  <b>Комментарий ревьюера</b>\n",
    "    \n",
    "  ✔️  Верно! Тут тест окрасился только на половину - по количеству заказов. Но это тоже хорошо, т.к. стат.значимой разницы по среднему чеку нет (чек не увеличился, но и не уменьшился) то при возросшем количестве заказов с сохранившимся средним чеком выручка будет так-же расти! И значит мы заканчиваем анализ A/B-теста - он оказался успешным! 🙂\n",
    "\n",
    "</div>"
   ]
  },
  {
   "cell_type": "markdown",
   "id": "7923f1c4",
   "metadata": {},
   "source": [
    "<div style=\"border:solid black 2px; padding: 20px\">\n",
    "  \n",
    "    \n",
    "  <b>Чек-лист доработок</b>\n",
    "    \n",
    " \n",
    "  📃 Проверить корректность разбиения пользователей на группы.\n",
    "    \n",
    "  📃 Пересмотреть выбросы по количеству и стоимости заказов.\n",
    "    \n",
    "  📃 Проверить выводы теста среднего чека по сырым и очищенным данным.\n",
    "\n",
    "      \n",
    "Жду твой проект на повторное ревью. Не стесняйся оставлять комментарии и задавать вопросы. Удачи! Все получится.\n",
    "</div>"
   ]
  }
 ],
 "metadata": {
  "ExecuteTimeLog": [
   {
    "duration": 1400,
    "start_time": "2023-06-04T15:42:30.705Z"
   },
   {
    "duration": 217,
    "start_time": "2023-06-04T15:42:32.107Z"
   },
   {
    "duration": 20,
    "start_time": "2023-06-04T15:42:32.326Z"
   },
   {
    "duration": 31,
    "start_time": "2023-06-04T15:42:32.348Z"
   },
   {
    "duration": 25,
    "start_time": "2023-06-04T15:42:32.381Z"
   },
   {
    "duration": 15,
    "start_time": "2023-06-04T15:42:32.408Z"
   },
   {
    "duration": 17,
    "start_time": "2023-06-04T15:42:32.425Z"
   },
   {
    "duration": 22,
    "start_time": "2023-06-04T15:42:32.444Z"
   },
   {
    "duration": 16,
    "start_time": "2023-06-04T15:42:32.468Z"
   },
   {
    "duration": 268,
    "start_time": "2023-06-04T15:42:32.486Z"
   },
   {
    "duration": 11,
    "start_time": "2023-06-04T15:42:32.756Z"
   },
   {
    "duration": 302,
    "start_time": "2023-06-04T15:42:32.768Z"
   },
   {
    "duration": 10,
    "start_time": "2023-06-04T15:42:33.072Z"
   },
   {
    "duration": 206,
    "start_time": "2023-06-04T15:42:33.086Z"
   },
   {
    "duration": 140,
    "start_time": "2023-06-04T15:42:33.294Z"
   },
   {
    "duration": 7,
    "start_time": "2023-06-04T15:42:33.436Z"
   },
   {
    "duration": 20,
    "start_time": "2023-06-04T15:42:33.445Z"
   },
   {
    "duration": 256,
    "start_time": "2023-06-04T15:42:33.466Z"
   },
   {
    "duration": 198,
    "start_time": "2023-06-04T15:42:33.723Z"
   },
   {
    "duration": 369,
    "start_time": "2023-06-04T15:42:33.923Z"
   },
   {
    "duration": 195,
    "start_time": "2023-06-04T15:42:34.294Z"
   },
   {
    "duration": 285,
    "start_time": "2023-06-04T15:42:34.491Z"
   },
   {
    "duration": 221,
    "start_time": "2023-06-04T15:42:34.778Z"
   },
   {
    "duration": 122,
    "start_time": "2023-06-04T15:42:35.000Z"
   },
   {
    "duration": 6,
    "start_time": "2023-06-04T15:42:35.123Z"
   },
   {
    "duration": 175,
    "start_time": "2023-06-04T15:42:35.130Z"
   },
   {
    "duration": 139,
    "start_time": "2023-06-04T15:42:35.306Z"
   },
   {
    "duration": 142,
    "start_time": "2023-06-04T15:42:35.447Z"
   },
   {
    "duration": 4,
    "start_time": "2023-06-04T15:42:35.591Z"
   },
   {
    "duration": 231,
    "start_time": "2023-06-04T15:42:35.597Z"
   },
   {
    "duration": 130,
    "start_time": "2023-06-04T15:42:35.830Z"
   },
   {
    "duration": 7,
    "start_time": "2023-06-04T15:42:35.962Z"
   },
   {
    "duration": 5,
    "start_time": "2023-06-04T15:42:35.970Z"
   },
   {
    "duration": 23,
    "start_time": "2023-06-04T15:42:35.976Z"
   },
   {
    "duration": 7,
    "start_time": "2023-06-04T15:42:36.001Z"
   },
   {
    "duration": 12,
    "start_time": "2023-06-04T15:42:36.010Z"
   },
   {
    "duration": 39,
    "start_time": "2023-06-04T15:42:36.023Z"
   },
   {
    "duration": 20,
    "start_time": "2023-06-04T15:42:36.064Z"
   },
   {
    "duration": 9,
    "start_time": "2023-06-04T15:42:36.086Z"
   },
   {
    "duration": 53,
    "start_time": "2023-06-04T17:55:21.897Z"
   },
   {
    "duration": 6,
    "start_time": "2023-06-04T17:55:22.317Z"
   },
   {
    "duration": 1518,
    "start_time": "2023-06-04T17:55:30.698Z"
   },
   {
    "duration": 224,
    "start_time": "2023-06-04T17:55:32.218Z"
   },
   {
    "duration": 20,
    "start_time": "2023-06-04T17:55:32.444Z"
   },
   {
    "duration": 27,
    "start_time": "2023-06-04T17:55:32.466Z"
   },
   {
    "duration": 64,
    "start_time": "2023-06-04T17:55:32.495Z"
   },
   {
    "duration": 8,
    "start_time": "2023-06-04T17:55:32.561Z"
   },
   {
    "duration": 23,
    "start_time": "2023-06-04T17:55:32.571Z"
   },
   {
    "duration": 25,
    "start_time": "2023-06-04T17:55:32.596Z"
   },
   {
    "duration": 22,
    "start_time": "2023-06-04T17:55:32.623Z"
   },
   {
    "duration": 312,
    "start_time": "2023-06-04T17:55:32.646Z"
   },
   {
    "duration": 11,
    "start_time": "2023-06-04T17:55:32.959Z"
   },
   {
    "duration": 253,
    "start_time": "2023-06-04T17:55:32.972Z"
   },
   {
    "duration": 17,
    "start_time": "2023-06-04T17:55:33.226Z"
   },
   {
    "duration": 194,
    "start_time": "2023-06-04T17:55:33.247Z"
   },
   {
    "duration": 292,
    "start_time": "2023-06-04T17:55:33.443Z"
   },
   {
    "duration": 13,
    "start_time": "2023-06-04T17:55:33.737Z"
   },
   {
    "duration": 17,
    "start_time": "2023-06-04T17:55:33.754Z"
   },
   {
    "duration": 665,
    "start_time": "2023-06-04T17:55:33.772Z"
   },
   {
    "duration": 422,
    "start_time": "2023-06-04T17:55:34.438Z"
   },
   {
    "duration": 666,
    "start_time": "2023-06-04T17:55:34.862Z"
   },
   {
    "duration": 240,
    "start_time": "2023-06-04T17:55:35.529Z"
   },
   {
    "duration": 277,
    "start_time": "2023-06-04T17:55:35.771Z"
   },
   {
    "duration": 216,
    "start_time": "2023-06-04T17:55:36.053Z"
   },
   {
    "duration": 126,
    "start_time": "2023-06-04T17:55:36.271Z"
   },
   {
    "duration": 5,
    "start_time": "2023-06-04T17:55:36.398Z"
   },
   {
    "duration": 225,
    "start_time": "2023-06-04T17:55:36.405Z"
   },
   {
    "duration": 185,
    "start_time": "2023-06-04T17:55:36.632Z"
   },
   {
    "duration": 221,
    "start_time": "2023-06-04T17:55:36.828Z"
   },
   {
    "duration": 5,
    "start_time": "2023-06-04T17:55:37.054Z"
   },
   {
    "duration": 285,
    "start_time": "2023-06-04T17:55:37.060Z"
   },
   {
    "duration": 214,
    "start_time": "2023-06-04T17:55:37.347Z"
   },
   {
    "duration": 8,
    "start_time": "2023-06-04T17:55:37.563Z"
   },
   {
    "duration": 14,
    "start_time": "2023-06-04T17:55:37.573Z"
   },
   {
    "duration": 47,
    "start_time": "2023-06-04T17:55:37.589Z"
   },
   {
    "duration": 14,
    "start_time": "2023-06-04T17:55:37.642Z"
   },
   {
    "duration": 15,
    "start_time": "2023-06-04T17:55:37.658Z"
   },
   {
    "duration": 21,
    "start_time": "2023-06-04T17:55:37.675Z"
   },
   {
    "duration": 47,
    "start_time": "2023-06-04T17:55:37.698Z"
   },
   {
    "duration": 13,
    "start_time": "2023-06-04T17:55:37.749Z"
   },
   {
    "duration": 78,
    "start_time": "2023-06-05T10:27:38.773Z"
   },
   {
    "duration": 80,
    "start_time": "2023-06-05T10:28:51.940Z"
   },
   {
    "duration": 1180,
    "start_time": "2023-06-05T10:28:59.100Z"
   },
   {
    "duration": 197,
    "start_time": "2023-06-05T10:29:00.282Z"
   },
   {
    "duration": 17,
    "start_time": "2023-06-05T10:29:00.481Z"
   },
   {
    "duration": 44,
    "start_time": "2023-06-05T10:29:00.500Z"
   },
   {
    "duration": 84,
    "start_time": "2023-06-05T10:29:00.545Z"
   },
   {
    "duration": 0,
    "start_time": "2023-06-05T10:29:00.631Z"
   },
   {
    "duration": 0,
    "start_time": "2023-06-05T10:29:00.632Z"
   },
   {
    "duration": 0,
    "start_time": "2023-06-05T10:29:00.633Z"
   },
   {
    "duration": 0,
    "start_time": "2023-06-05T10:29:00.634Z"
   },
   {
    "duration": 0,
    "start_time": "2023-06-05T10:29:00.635Z"
   },
   {
    "duration": 0,
    "start_time": "2023-06-05T10:29:00.636Z"
   },
   {
    "duration": 0,
    "start_time": "2023-06-05T10:29:00.637Z"
   },
   {
    "duration": 0,
    "start_time": "2023-06-05T10:29:00.638Z"
   },
   {
    "duration": 0,
    "start_time": "2023-06-05T10:29:00.639Z"
   },
   {
    "duration": 0,
    "start_time": "2023-06-05T10:29:00.640Z"
   },
   {
    "duration": 0,
    "start_time": "2023-06-05T10:29:00.641Z"
   },
   {
    "duration": 0,
    "start_time": "2023-06-05T10:29:00.642Z"
   },
   {
    "duration": 0,
    "start_time": "2023-06-05T10:29:00.643Z"
   },
   {
    "duration": 0,
    "start_time": "2023-06-05T10:29:00.644Z"
   },
   {
    "duration": 0,
    "start_time": "2023-06-05T10:29:00.645Z"
   },
   {
    "duration": 0,
    "start_time": "2023-06-05T10:29:00.646Z"
   },
   {
    "duration": 1,
    "start_time": "2023-06-05T10:29:00.647Z"
   },
   {
    "duration": 0,
    "start_time": "2023-06-05T10:29:00.649Z"
   },
   {
    "duration": 0,
    "start_time": "2023-06-05T10:29:00.650Z"
   },
   {
    "duration": 0,
    "start_time": "2023-06-05T10:29:00.651Z"
   },
   {
    "duration": 0,
    "start_time": "2023-06-05T10:29:00.652Z"
   },
   {
    "duration": 0,
    "start_time": "2023-06-05T10:29:00.654Z"
   },
   {
    "duration": 0,
    "start_time": "2023-06-05T10:29:00.655Z"
   },
   {
    "duration": 0,
    "start_time": "2023-06-05T10:29:00.656Z"
   },
   {
    "duration": 0,
    "start_time": "2023-06-05T10:29:00.657Z"
   },
   {
    "duration": 0,
    "start_time": "2023-06-05T10:29:00.658Z"
   },
   {
    "duration": 0,
    "start_time": "2023-06-05T10:29:00.659Z"
   },
   {
    "duration": 0,
    "start_time": "2023-06-05T10:29:00.660Z"
   },
   {
    "duration": 0,
    "start_time": "2023-06-05T10:29:00.661Z"
   },
   {
    "duration": 0,
    "start_time": "2023-06-05T10:29:00.662Z"
   },
   {
    "duration": 0,
    "start_time": "2023-06-05T10:29:00.662Z"
   },
   {
    "duration": 0,
    "start_time": "2023-06-05T10:29:00.663Z"
   },
   {
    "duration": 0,
    "start_time": "2023-06-05T10:29:00.664Z"
   },
   {
    "duration": 0,
    "start_time": "2023-06-05T10:29:00.665Z"
   },
   {
    "duration": 0,
    "start_time": "2023-06-05T10:29:00.665Z"
   },
   {
    "duration": 88,
    "start_time": "2023-06-05T10:29:12.870Z"
   },
   {
    "duration": 9,
    "start_time": "2023-06-05T11:05:38.256Z"
   },
   {
    "duration": 12,
    "start_time": "2023-06-05T11:05:42.746Z"
   },
   {
    "duration": 58,
    "start_time": "2023-06-05T11:06:35.901Z"
   },
   {
    "duration": 8,
    "start_time": "2023-06-05T11:07:33.255Z"
   },
   {
    "duration": 8,
    "start_time": "2023-06-05T11:07:44.770Z"
   },
   {
    "duration": 12,
    "start_time": "2023-06-05T11:08:40.575Z"
   },
   {
    "duration": 9,
    "start_time": "2023-06-05T11:09:05.365Z"
   },
   {
    "duration": 1260,
    "start_time": "2023-06-05T11:10:16.778Z"
   },
   {
    "duration": 1244,
    "start_time": "2023-06-05T11:10:21.716Z"
   },
   {
    "duration": 13,
    "start_time": "2023-06-05T11:10:49.338Z"
   },
   {
    "duration": 13,
    "start_time": "2023-06-05T11:11:05.556Z"
   },
   {
    "duration": 8,
    "start_time": "2023-06-05T11:11:09.235Z"
   },
   {
    "duration": 13,
    "start_time": "2023-06-05T11:11:12.866Z"
   },
   {
    "duration": 4,
    "start_time": "2023-06-05T11:11:20.664Z"
   },
   {
    "duration": 9,
    "start_time": "2023-06-05T11:11:43.206Z"
   },
   {
    "duration": 11,
    "start_time": "2023-06-05T11:11:58.106Z"
   },
   {
    "duration": 11,
    "start_time": "2023-06-05T11:12:38.858Z"
   },
   {
    "duration": 10,
    "start_time": "2023-06-05T11:12:41.956Z"
   },
   {
    "duration": 11,
    "start_time": "2023-06-05T11:13:55.818Z"
   },
   {
    "duration": 11,
    "start_time": "2023-06-05T11:14:02.956Z"
   },
   {
    "duration": 1136,
    "start_time": "2023-06-05T11:14:25.716Z"
   },
   {
    "duration": 7,
    "start_time": "2023-06-05T11:14:45.426Z"
   },
   {
    "duration": 1359,
    "start_time": "2023-06-05T11:20:46.644Z"
   },
   {
    "duration": 7,
    "start_time": "2023-06-05T11:20:56.127Z"
   },
   {
    "duration": 9,
    "start_time": "2023-06-05T11:21:13.546Z"
   },
   {
    "duration": 8,
    "start_time": "2023-06-05T11:21:24.566Z"
   },
   {
    "duration": 10,
    "start_time": "2023-06-05T11:21:26.486Z"
   },
   {
    "duration": 9,
    "start_time": "2023-06-05T11:21:35.966Z"
   },
   {
    "duration": 12,
    "start_time": "2023-06-05T11:21:40.696Z"
   },
   {
    "duration": 8,
    "start_time": "2023-06-05T11:21:46.426Z"
   },
   {
    "duration": 4,
    "start_time": "2023-06-05T11:21:49.037Z"
   },
   {
    "duration": 5,
    "start_time": "2023-06-05T11:21:55.783Z"
   },
   {
    "duration": 4,
    "start_time": "2023-06-05T11:22:03.667Z"
   },
   {
    "duration": 4,
    "start_time": "2023-06-05T11:22:14.406Z"
   },
   {
    "duration": 5,
    "start_time": "2023-06-05T11:22:24.626Z"
   },
   {
    "duration": 11,
    "start_time": "2023-06-05T11:22:55.836Z"
   },
   {
    "duration": 1084,
    "start_time": "2023-06-05T11:23:27.526Z"
   },
   {
    "duration": 12,
    "start_time": "2023-06-05T11:23:31.887Z"
   },
   {
    "duration": 7,
    "start_time": "2023-06-05T11:26:15.306Z"
   },
   {
    "duration": 7,
    "start_time": "2023-06-05T11:26:28.266Z"
   },
   {
    "duration": 7,
    "start_time": "2023-06-05T11:26:42.176Z"
   },
   {
    "duration": 7,
    "start_time": "2023-06-05T11:26:45.926Z"
   },
   {
    "duration": 112,
    "start_time": "2023-06-05T11:30:05.307Z"
   },
   {
    "duration": 7,
    "start_time": "2023-06-05T11:31:04.197Z"
   },
   {
    "duration": 4,
    "start_time": "2023-06-05T11:31:07.217Z"
   },
   {
    "duration": 5,
    "start_time": "2023-06-05T11:31:10.496Z"
   },
   {
    "duration": 8,
    "start_time": "2023-06-05T11:31:29.617Z"
   },
   {
    "duration": 10,
    "start_time": "2023-06-05T11:31:45.159Z"
   },
   {
    "duration": 83,
    "start_time": "2023-06-05T11:32:22.780Z"
   },
   {
    "duration": 102,
    "start_time": "2023-06-05T11:32:26.826Z"
   },
   {
    "duration": 9,
    "start_time": "2023-06-05T11:33:51.936Z"
   },
   {
    "duration": 73,
    "start_time": "2023-06-05T11:41:43.466Z"
   },
   {
    "duration": 71,
    "start_time": "2023-06-05T11:41:55.687Z"
   },
   {
    "duration": 74,
    "start_time": "2023-06-05T11:42:04.513Z"
   },
   {
    "duration": 80,
    "start_time": "2023-06-05T11:42:14.737Z"
   },
   {
    "duration": 78,
    "start_time": "2023-06-05T11:42:17.707Z"
   },
   {
    "duration": 62,
    "start_time": "2023-06-05T11:43:17.321Z"
   },
   {
    "duration": 70,
    "start_time": "2023-06-05T11:43:23.797Z"
   },
   {
    "duration": 93,
    "start_time": "2023-06-05T11:43:30.337Z"
   },
   {
    "duration": 73,
    "start_time": "2023-06-05T11:43:51.356Z"
   },
   {
    "duration": 74,
    "start_time": "2023-06-05T11:43:59.276Z"
   },
   {
    "duration": 75,
    "start_time": "2023-06-05T11:44:06.256Z"
   },
   {
    "duration": 70,
    "start_time": "2023-06-05T11:44:09.087Z"
   },
   {
    "duration": 83,
    "start_time": "2023-06-05T11:44:15.327Z"
   },
   {
    "duration": 58,
    "start_time": "2023-06-05T13:49:36.087Z"
   },
   {
    "duration": 56,
    "start_time": "2023-06-05T13:49:41.085Z"
   },
   {
    "duration": 78,
    "start_time": "2023-06-05T13:49:49.082Z"
   },
   {
    "duration": 86,
    "start_time": "2023-06-05T13:50:08.973Z"
   },
   {
    "duration": 104,
    "start_time": "2023-06-05T13:50:36.305Z"
   },
   {
    "duration": 124,
    "start_time": "2023-06-05T13:50:52.592Z"
   },
   {
    "duration": 80,
    "start_time": "2023-06-05T13:50:55.795Z"
   },
   {
    "duration": 81,
    "start_time": "2023-06-05T13:50:58.655Z"
   },
   {
    "duration": 7,
    "start_time": "2023-06-05T13:51:04.125Z"
   },
   {
    "duration": 85,
    "start_time": "2023-06-05T13:51:15.800Z"
   },
   {
    "duration": 7,
    "start_time": "2023-06-05T13:51:38.856Z"
   },
   {
    "duration": 75,
    "start_time": "2023-06-05T13:51:44.603Z"
   },
   {
    "duration": 6,
    "start_time": "2023-06-05T13:51:49.536Z"
   },
   {
    "duration": 37,
    "start_time": "2023-06-05T13:52:26.196Z"
   },
   {
    "duration": 7,
    "start_time": "2023-06-05T13:52:37.036Z"
   },
   {
    "duration": 8,
    "start_time": "2023-06-05T13:52:41.595Z"
   },
   {
    "duration": 37,
    "start_time": "2023-06-05T13:52:45.755Z"
   },
   {
    "duration": 43,
    "start_time": "2023-06-05T13:52:55.495Z"
   },
   {
    "duration": 8,
    "start_time": "2023-06-05T13:53:00.984Z"
   },
   {
    "duration": 9,
    "start_time": "2023-06-05T13:53:25.594Z"
   },
   {
    "duration": 14,
    "start_time": "2023-06-05T13:54:20.291Z"
   },
   {
    "duration": 14,
    "start_time": "2023-06-05T13:54:26.645Z"
   },
   {
    "duration": 5,
    "start_time": "2023-06-05T13:54:43.196Z"
   },
   {
    "duration": 7,
    "start_time": "2023-06-05T13:54:48.272Z"
   },
   {
    "duration": 5,
    "start_time": "2023-06-05T13:56:46.768Z"
   },
   {
    "duration": 1092,
    "start_time": "2023-06-05T13:57:32.855Z"
   },
   {
    "duration": 72,
    "start_time": "2023-06-05T14:00:13.195Z"
   },
   {
    "duration": 83,
    "start_time": "2023-06-05T14:00:16.035Z"
   },
   {
    "duration": 77,
    "start_time": "2023-06-05T14:00:32.805Z"
   },
   {
    "duration": 91,
    "start_time": "2023-06-05T14:00:38.335Z"
   },
   {
    "duration": 78,
    "start_time": "2023-06-05T14:00:48.282Z"
   },
   {
    "duration": 95,
    "start_time": "2023-06-05T14:00:52.272Z"
   },
   {
    "duration": 104,
    "start_time": "2023-06-05T14:00:58.315Z"
   },
   {
    "duration": 69,
    "start_time": "2023-06-05T14:02:18.955Z"
   },
   {
    "duration": 69,
    "start_time": "2023-06-05T14:02:25.788Z"
   },
   {
    "duration": 85,
    "start_time": "2023-06-05T14:02:29.026Z"
   },
   {
    "duration": 79,
    "start_time": "2023-06-05T14:02:33.205Z"
   },
   {
    "duration": 13,
    "start_time": "2023-06-05T14:05:19.786Z"
   },
   {
    "duration": 52,
    "start_time": "2023-06-05T14:05:34.893Z"
   },
   {
    "duration": 53,
    "start_time": "2023-06-05T14:05:46.886Z"
   },
   {
    "duration": 50,
    "start_time": "2023-06-05T14:05:52.896Z"
   },
   {
    "duration": 5,
    "start_time": "2023-06-05T14:06:11.479Z"
   },
   {
    "duration": 7,
    "start_time": "2023-06-05T14:06:15.255Z"
   },
   {
    "duration": 18,
    "start_time": "2023-06-05T14:06:27.365Z"
   },
   {
    "duration": 5,
    "start_time": "2023-06-05T14:06:35.455Z"
   },
   {
    "duration": 6,
    "start_time": "2023-06-05T14:06:40.585Z"
   },
   {
    "duration": 5,
    "start_time": "2023-06-05T14:06:45.575Z"
   },
   {
    "duration": 89,
    "start_time": "2023-06-05T14:06:53.985Z"
   },
   {
    "duration": 6,
    "start_time": "2023-06-05T14:06:59.773Z"
   },
   {
    "duration": 9,
    "start_time": "2023-06-05T14:07:04.515Z"
   },
   {
    "duration": 54,
    "start_time": "2023-06-05T14:07:17.384Z"
   },
   {
    "duration": 6,
    "start_time": "2023-06-05T14:07:22.385Z"
   },
   {
    "duration": 5,
    "start_time": "2023-06-05T14:07:28.905Z"
   },
   {
    "duration": 5,
    "start_time": "2023-06-05T14:08:11.145Z"
   },
   {
    "duration": 5,
    "start_time": "2023-06-05T14:08:22.266Z"
   },
   {
    "duration": 8,
    "start_time": "2023-06-05T14:08:53.175Z"
   },
   {
    "duration": 5,
    "start_time": "2023-06-05T14:09:06.245Z"
   },
   {
    "duration": 11,
    "start_time": "2023-06-05T14:19:32.883Z"
   },
   {
    "duration": 10,
    "start_time": "2023-06-05T14:19:39.416Z"
   },
   {
    "duration": 11,
    "start_time": "2023-06-05T14:19:59.995Z"
   },
   {
    "duration": 5,
    "start_time": "2023-06-05T14:20:45.725Z"
   },
   {
    "duration": 4,
    "start_time": "2023-06-05T14:20:51.256Z"
   },
   {
    "duration": 5,
    "start_time": "2023-06-05T14:21:09.265Z"
   },
   {
    "duration": 6,
    "start_time": "2023-06-05T14:21:21.125Z"
   },
   {
    "duration": 9,
    "start_time": "2023-06-05T14:21:25.196Z"
   },
   {
    "duration": 4,
    "start_time": "2023-06-05T14:21:28.146Z"
   },
   {
    "duration": 78,
    "start_time": "2023-06-05T14:21:32.785Z"
   },
   {
    "duration": 79,
    "start_time": "2023-06-05T14:21:38.516Z"
   },
   {
    "duration": 56,
    "start_time": "2023-06-05T14:21:49.315Z"
   },
   {
    "duration": 53,
    "start_time": "2023-06-05T14:21:54.755Z"
   },
   {
    "duration": 10,
    "start_time": "2023-06-05T14:22:02.055Z"
   },
   {
    "duration": 5,
    "start_time": "2023-06-05T14:22:17.185Z"
   },
   {
    "duration": 7,
    "start_time": "2023-06-05T14:24:45.263Z"
   },
   {
    "duration": 5,
    "start_time": "2023-06-05T14:25:05.588Z"
   },
   {
    "duration": 5,
    "start_time": "2023-06-05T14:25:09.124Z"
   },
   {
    "duration": 7,
    "start_time": "2023-06-05T14:25:16.175Z"
   },
   {
    "duration": 5,
    "start_time": "2023-06-05T14:25:20.985Z"
   },
   {
    "duration": 5,
    "start_time": "2023-06-05T14:25:26.406Z"
   },
   {
    "duration": 78,
    "start_time": "2023-06-05T14:27:31.995Z"
   },
   {
    "duration": 7,
    "start_time": "2023-06-05T14:27:38.039Z"
   },
   {
    "duration": 6,
    "start_time": "2023-06-05T14:27:49.566Z"
   },
   {
    "duration": 6,
    "start_time": "2023-06-05T14:28:10.746Z"
   },
   {
    "duration": 6,
    "start_time": "2023-06-05T14:28:14.563Z"
   },
   {
    "duration": 7,
    "start_time": "2023-06-05T14:29:28.214Z"
   },
   {
    "duration": 6,
    "start_time": "2023-06-05T14:29:38.055Z"
   },
   {
    "duration": 7,
    "start_time": "2023-06-05T14:29:47.764Z"
   },
   {
    "duration": 6,
    "start_time": "2023-06-05T14:29:52.336Z"
   },
   {
    "duration": 66,
    "start_time": "2023-06-06T12:45:47.007Z"
   },
   {
    "duration": 1299,
    "start_time": "2023-06-06T12:45:51.641Z"
   },
   {
    "duration": 231,
    "start_time": "2023-06-06T12:45:52.942Z"
   },
   {
    "duration": 18,
    "start_time": "2023-06-06T12:45:53.175Z"
   },
   {
    "duration": 14,
    "start_time": "2023-06-06T12:45:53.194Z"
   },
   {
    "duration": 15,
    "start_time": "2023-06-06T12:45:53.210Z"
   },
   {
    "duration": 36,
    "start_time": "2023-06-06T12:45:53.227Z"
   },
   {
    "duration": 7,
    "start_time": "2023-06-06T12:45:53.265Z"
   },
   {
    "duration": 20,
    "start_time": "2023-06-06T12:45:53.273Z"
   },
   {
    "duration": 35,
    "start_time": "2023-06-06T12:45:53.294Z"
   },
   {
    "duration": 19,
    "start_time": "2023-06-06T12:45:53.331Z"
   },
   {
    "duration": 9,
    "start_time": "2023-06-06T12:45:53.352Z"
   },
   {
    "duration": 30,
    "start_time": "2023-06-06T12:45:53.362Z"
   },
   {
    "duration": 5,
    "start_time": "2023-06-06T12:45:53.394Z"
   },
   {
    "duration": 11,
    "start_time": "2023-06-06T12:45:53.402Z"
   },
   {
    "duration": 15,
    "start_time": "2023-06-06T12:45:53.415Z"
   },
   {
    "duration": 57,
    "start_time": "2023-06-06T12:45:53.432Z"
   },
   {
    "duration": 0,
    "start_time": "2023-06-06T12:45:53.491Z"
   },
   {
    "duration": 0,
    "start_time": "2023-06-06T12:45:53.506Z"
   },
   {
    "duration": 0,
    "start_time": "2023-06-06T12:45:53.507Z"
   },
   {
    "duration": 0,
    "start_time": "2023-06-06T12:45:53.508Z"
   },
   {
    "duration": 0,
    "start_time": "2023-06-06T12:45:53.510Z"
   },
   {
    "duration": 0,
    "start_time": "2023-06-06T12:45:53.511Z"
   },
   {
    "duration": 0,
    "start_time": "2023-06-06T12:45:53.512Z"
   },
   {
    "duration": 0,
    "start_time": "2023-06-06T12:45:53.513Z"
   },
   {
    "duration": 0,
    "start_time": "2023-06-06T12:45:53.514Z"
   },
   {
    "duration": 0,
    "start_time": "2023-06-06T12:45:53.514Z"
   },
   {
    "duration": 0,
    "start_time": "2023-06-06T12:45:53.515Z"
   },
   {
    "duration": 0,
    "start_time": "2023-06-06T12:45:53.516Z"
   },
   {
    "duration": 0,
    "start_time": "2023-06-06T12:45:53.517Z"
   },
   {
    "duration": 0,
    "start_time": "2023-06-06T12:45:53.518Z"
   },
   {
    "duration": 0,
    "start_time": "2023-06-06T12:45:53.519Z"
   },
   {
    "duration": 0,
    "start_time": "2023-06-06T12:45:53.520Z"
   },
   {
    "duration": 0,
    "start_time": "2023-06-06T12:45:53.521Z"
   },
   {
    "duration": 0,
    "start_time": "2023-06-06T12:45:53.522Z"
   },
   {
    "duration": 0,
    "start_time": "2023-06-06T12:45:53.523Z"
   },
   {
    "duration": 0,
    "start_time": "2023-06-06T12:45:53.524Z"
   },
   {
    "duration": 0,
    "start_time": "2023-06-06T12:45:53.525Z"
   },
   {
    "duration": 0,
    "start_time": "2023-06-06T12:45:53.526Z"
   },
   {
    "duration": 0,
    "start_time": "2023-06-06T12:45:53.527Z"
   },
   {
    "duration": 1,
    "start_time": "2023-06-06T12:45:53.528Z"
   },
   {
    "duration": 0,
    "start_time": "2023-06-06T12:45:53.529Z"
   },
   {
    "duration": 0,
    "start_time": "2023-06-06T12:45:53.531Z"
   },
   {
    "duration": 0,
    "start_time": "2023-06-06T12:45:53.532Z"
   },
   {
    "duration": 0,
    "start_time": "2023-06-06T12:45:53.532Z"
   },
   {
    "duration": 0,
    "start_time": "2023-06-06T12:45:53.533Z"
   },
   {
    "duration": 0,
    "start_time": "2023-06-06T12:45:53.535Z"
   },
   {
    "duration": 0,
    "start_time": "2023-06-06T12:45:53.536Z"
   },
   {
    "duration": 0,
    "start_time": "2023-06-06T12:45:53.537Z"
   },
   {
    "duration": 0,
    "start_time": "2023-06-06T12:45:53.538Z"
   },
   {
    "duration": 0,
    "start_time": "2023-06-06T12:45:53.540Z"
   },
   {
    "duration": 0,
    "start_time": "2023-06-06T12:45:53.541Z"
   },
   {
    "duration": 0,
    "start_time": "2023-06-06T12:45:53.542Z"
   },
   {
    "duration": 0,
    "start_time": "2023-06-06T12:45:53.543Z"
   },
   {
    "duration": 0,
    "start_time": "2023-06-06T12:45:53.606Z"
   },
   {
    "duration": 0,
    "start_time": "2023-06-06T12:45:53.608Z"
   },
   {
    "duration": 0,
    "start_time": "2023-06-06T12:45:53.609Z"
   },
   {
    "duration": 0,
    "start_time": "2023-06-06T12:45:53.610Z"
   },
   {
    "duration": 0,
    "start_time": "2023-06-06T12:45:53.611Z"
   },
   {
    "duration": 14,
    "start_time": "2023-06-06T12:46:12.678Z"
   },
   {
    "duration": 7,
    "start_time": "2023-06-06T12:46:15.781Z"
   },
   {
    "duration": 6,
    "start_time": "2023-06-06T12:46:23.461Z"
   },
   {
    "duration": 6,
    "start_time": "2023-06-06T12:46:32.911Z"
   },
   {
    "duration": 75,
    "start_time": "2023-06-06T12:47:07.642Z"
   },
   {
    "duration": 96,
    "start_time": "2023-06-06T12:47:09.971Z"
   },
   {
    "duration": 10,
    "start_time": "2023-06-06T12:47:46.842Z"
   },
   {
    "duration": 10,
    "start_time": "2023-06-06T12:48:13.281Z"
   },
   {
    "duration": 14,
    "start_time": "2023-06-06T12:48:59.818Z"
   },
   {
    "duration": 69,
    "start_time": "2023-06-06T12:49:26.371Z"
   },
   {
    "duration": 11,
    "start_time": "2023-06-06T12:49:30.041Z"
   },
   {
    "duration": 9,
    "start_time": "2023-06-06T12:49:36.801Z"
   },
   {
    "duration": 10,
    "start_time": "2023-06-06T12:49:40.901Z"
   },
   {
    "duration": 10,
    "start_time": "2023-06-06T12:49:48.108Z"
   },
   {
    "duration": 9,
    "start_time": "2023-06-06T12:49:54.711Z"
   },
   {
    "duration": 9,
    "start_time": "2023-06-06T12:50:52.291Z"
   },
   {
    "duration": 68,
    "start_time": "2023-06-06T12:50:57.900Z"
   },
   {
    "duration": 86,
    "start_time": "2023-06-06T12:51:00.421Z"
   },
   {
    "duration": 88,
    "start_time": "2023-06-06T12:51:14.671Z"
   },
   {
    "duration": 94,
    "start_time": "2023-06-06T12:51:24.878Z"
   },
   {
    "duration": 9,
    "start_time": "2023-06-06T12:51:59.051Z"
   },
   {
    "duration": 87,
    "start_time": "2023-06-06T12:52:43.291Z"
   },
   {
    "duration": 88,
    "start_time": "2023-06-06T12:52:50.487Z"
   },
   {
    "duration": 108,
    "start_time": "2023-06-06T12:53:15.381Z"
   },
   {
    "duration": 101,
    "start_time": "2023-06-06T12:53:23.711Z"
   },
   {
    "duration": 95,
    "start_time": "2023-06-06T12:53:29.571Z"
   },
   {
    "duration": 111,
    "start_time": "2023-06-06T12:53:32.711Z"
   },
   {
    "duration": 82,
    "start_time": "2023-06-06T12:53:51.321Z"
   },
   {
    "duration": 11,
    "start_time": "2023-06-06T12:54:14.640Z"
   },
   {
    "duration": 12,
    "start_time": "2023-06-06T12:54:46.820Z"
   },
   {
    "duration": 10,
    "start_time": "2023-06-06T12:54:57.291Z"
   },
   {
    "duration": 11,
    "start_time": "2023-06-06T12:55:10.740Z"
   },
   {
    "duration": 10,
    "start_time": "2023-06-06T12:55:33.090Z"
   },
   {
    "duration": 90,
    "start_time": "2023-06-06T12:56:03.171Z"
   },
   {
    "duration": 7,
    "start_time": "2023-06-06T12:56:44.860Z"
   },
   {
    "duration": 96,
    "start_time": "2023-06-06T12:57:18.915Z"
   },
   {
    "duration": 87,
    "start_time": "2023-06-06T12:57:28.840Z"
   },
   {
    "duration": 12,
    "start_time": "2023-06-06T12:57:59.231Z"
   },
   {
    "duration": 14,
    "start_time": "2023-06-06T12:58:09.991Z"
   },
   {
    "duration": 104,
    "start_time": "2023-06-06T12:58:21.411Z"
   },
   {
    "duration": 108,
    "start_time": "2023-06-06T12:59:25.642Z"
   },
   {
    "duration": 134,
    "start_time": "2023-06-06T12:59:29.433Z"
   },
   {
    "duration": 133,
    "start_time": "2023-06-06T12:59:36.440Z"
   },
   {
    "duration": 104,
    "start_time": "2023-06-06T13:03:58.141Z"
   },
   {
    "duration": 105,
    "start_time": "2023-06-06T13:04:05.328Z"
   },
   {
    "duration": 94,
    "start_time": "2023-06-06T13:06:50.040Z"
   },
   {
    "duration": 96,
    "start_time": "2023-06-06T13:06:54.917Z"
   },
   {
    "duration": 15,
    "start_time": "2023-06-06T13:15:38.496Z"
   },
   {
    "duration": 97,
    "start_time": "2023-06-06T13:15:45.301Z"
   },
   {
    "duration": 13,
    "start_time": "2023-06-06T13:17:12.124Z"
   },
   {
    "duration": 232,
    "start_time": "2023-06-06T13:20:08.254Z"
   },
   {
    "duration": 127,
    "start_time": "2023-06-06T13:20:12.632Z"
   },
   {
    "duration": 128,
    "start_time": "2023-06-06T13:20:12.761Z"
   },
   {
    "duration": 133,
    "start_time": "2023-06-06T13:21:28.555Z"
   },
   {
    "duration": 104,
    "start_time": "2023-06-06T13:21:51.314Z"
   },
   {
    "duration": 13,
    "start_time": "2023-06-06T13:22:43.641Z"
   },
   {
    "duration": 11,
    "start_time": "2023-06-06T13:22:47.851Z"
   },
   {
    "duration": 110,
    "start_time": "2023-06-06T13:22:52.313Z"
   },
   {
    "duration": 24,
    "start_time": "2023-06-06T13:22:58.721Z"
   },
   {
    "duration": 10,
    "start_time": "2023-06-06T13:23:06.201Z"
   },
   {
    "duration": 86,
    "start_time": "2023-06-06T13:23:37.593Z"
   },
   {
    "duration": 98,
    "start_time": "2023-06-06T13:24:23.552Z"
   },
   {
    "duration": 93,
    "start_time": "2023-06-06T13:24:30.988Z"
   },
   {
    "duration": 154,
    "start_time": "2023-06-06T13:24:46.560Z"
   },
   {
    "duration": 93,
    "start_time": "2023-06-06T13:24:51.679Z"
   },
   {
    "duration": 124,
    "start_time": "2023-06-06T13:24:56.792Z"
   },
   {
    "duration": 9,
    "start_time": "2023-06-06T13:26:01.661Z"
   },
   {
    "duration": 100,
    "start_time": "2023-06-06T13:26:21.219Z"
   },
   {
    "duration": 96,
    "start_time": "2023-06-06T13:26:24.211Z"
   },
   {
    "duration": 99,
    "start_time": "2023-06-06T13:26:32.641Z"
   },
   {
    "duration": 179,
    "start_time": "2023-06-06T13:26:42.623Z"
   },
   {
    "duration": 92,
    "start_time": "2023-06-06T13:26:48.651Z"
   },
   {
    "duration": 82,
    "start_time": "2023-06-06T13:28:35.160Z"
   },
   {
    "duration": 76,
    "start_time": "2023-06-06T13:28:44.224Z"
   },
   {
    "duration": 98,
    "start_time": "2023-06-06T13:28:54.338Z"
   },
   {
    "duration": 92,
    "start_time": "2023-06-06T13:29:12.761Z"
   },
   {
    "duration": 103,
    "start_time": "2023-06-06T13:29:25.561Z"
   },
   {
    "duration": 114,
    "start_time": "2023-06-06T13:30:02.689Z"
   },
   {
    "duration": 91,
    "start_time": "2023-06-06T13:30:05.993Z"
   },
   {
    "duration": 108,
    "start_time": "2023-06-06T13:30:18.929Z"
   },
   {
    "duration": 112,
    "start_time": "2023-06-06T13:30:22.725Z"
   },
   {
    "duration": 103,
    "start_time": "2023-06-06T13:31:18.233Z"
   },
   {
    "duration": 96,
    "start_time": "2023-06-06T13:31:21.952Z"
   },
   {
    "duration": 106,
    "start_time": "2023-06-06T13:31:26.382Z"
   },
   {
    "duration": 146,
    "start_time": "2023-06-06T13:32:45.650Z"
   },
   {
    "duration": 115,
    "start_time": "2023-06-06T13:32:49.625Z"
   },
   {
    "duration": 85,
    "start_time": "2023-06-06T13:33:34.562Z"
   },
   {
    "duration": 120,
    "start_time": "2023-06-06T13:33:47.024Z"
   },
   {
    "duration": 108,
    "start_time": "2023-06-06T13:33:49.753Z"
   },
   {
    "duration": 106,
    "start_time": "2023-06-06T13:33:54.292Z"
   },
   {
    "duration": 85,
    "start_time": "2023-06-06T13:33:58.191Z"
   },
   {
    "duration": 92,
    "start_time": "2023-06-06T13:34:01.992Z"
   },
   {
    "duration": 111,
    "start_time": "2023-06-06T13:34:12.523Z"
   },
   {
    "duration": 122,
    "start_time": "2023-06-06T13:34:19.630Z"
   },
   {
    "duration": 96,
    "start_time": "2023-06-06T13:34:24.483Z"
   },
   {
    "duration": 92,
    "start_time": "2023-06-06T13:34:27.192Z"
   },
   {
    "duration": 78,
    "start_time": "2023-06-06T13:35:10.060Z"
   },
   {
    "duration": 94,
    "start_time": "2023-06-06T13:35:26.492Z"
   },
   {
    "duration": 88,
    "start_time": "2023-06-06T13:35:31.314Z"
   },
   {
    "duration": 94,
    "start_time": "2023-06-06T13:35:35.343Z"
   },
   {
    "duration": 95,
    "start_time": "2023-06-06T13:35:45.883Z"
   },
   {
    "duration": 96,
    "start_time": "2023-06-06T13:35:54.761Z"
   },
   {
    "duration": 115,
    "start_time": "2023-06-06T13:36:01.102Z"
   },
   {
    "duration": 103,
    "start_time": "2023-06-06T13:36:13.657Z"
   },
   {
    "duration": 91,
    "start_time": "2023-06-06T13:37:13.632Z"
   },
   {
    "duration": 127,
    "start_time": "2023-06-06T13:37:23.202Z"
   },
   {
    "duration": 104,
    "start_time": "2023-06-06T13:38:04.761Z"
   },
   {
    "duration": 115,
    "start_time": "2023-06-06T13:38:33.834Z"
   },
   {
    "duration": 104,
    "start_time": "2023-06-06T13:38:37.091Z"
   },
   {
    "duration": 146,
    "start_time": "2023-06-06T13:38:42.602Z"
   },
   {
    "duration": 136,
    "start_time": "2023-06-06T13:38:45.491Z"
   },
   {
    "duration": 114,
    "start_time": "2023-06-06T13:38:52.231Z"
   },
   {
    "duration": 117,
    "start_time": "2023-06-06T13:39:32.427Z"
   },
   {
    "duration": 169,
    "start_time": "2023-06-06T13:48:51.492Z"
   },
   {
    "duration": 130,
    "start_time": "2023-06-06T13:48:54.462Z"
   },
   {
    "duration": 13,
    "start_time": "2023-06-06T13:49:55.865Z"
   },
   {
    "duration": 8,
    "start_time": "2023-06-06T13:49:59.326Z"
   },
   {
    "duration": 108,
    "start_time": "2023-06-06T13:49:59.336Z"
   },
   {
    "duration": 15,
    "start_time": "2023-06-06T13:49:59.446Z"
   },
   {
    "duration": 21,
    "start_time": "2023-06-06T13:49:59.463Z"
   },
   {
    "duration": 29,
    "start_time": "2023-06-06T13:49:59.486Z"
   },
   {
    "duration": 15,
    "start_time": "2023-06-06T13:49:59.517Z"
   },
   {
    "duration": 5,
    "start_time": "2023-06-06T13:49:59.534Z"
   },
   {
    "duration": 14,
    "start_time": "2023-06-06T13:49:59.544Z"
   },
   {
    "duration": 67,
    "start_time": "2023-06-06T13:49:59.559Z"
   },
   {
    "duration": 16,
    "start_time": "2023-06-06T13:49:59.627Z"
   },
   {
    "duration": 106,
    "start_time": "2023-06-06T13:49:59.648Z"
   },
   {
    "duration": 111,
    "start_time": "2023-06-06T13:49:59.756Z"
   },
   {
    "duration": 12,
    "start_time": "2023-06-06T13:49:59.869Z"
   },
   {
    "duration": 311,
    "start_time": "2023-06-06T13:49:59.884Z"
   },
   {
    "duration": 35,
    "start_time": "2023-06-06T13:50:00.197Z"
   },
   {
    "duration": 328,
    "start_time": "2023-06-06T13:50:00.240Z"
   },
   {
    "duration": 21,
    "start_time": "2023-06-06T13:50:00.570Z"
   },
   {
    "duration": 232,
    "start_time": "2023-06-06T13:50:00.593Z"
   },
   {
    "duration": 138,
    "start_time": "2023-06-06T13:50:00.829Z"
   },
   {
    "duration": 7,
    "start_time": "2023-06-06T13:50:00.969Z"
   },
   {
    "duration": 76,
    "start_time": "2023-06-06T13:50:00.977Z"
   },
   {
    "duration": 402,
    "start_time": "2023-06-06T13:50:01.055Z"
   },
   {
    "duration": 268,
    "start_time": "2023-06-06T13:50:01.459Z"
   },
   {
    "duration": 443,
    "start_time": "2023-06-06T13:50:01.729Z"
   },
   {
    "duration": 230,
    "start_time": "2023-06-06T13:50:02.174Z"
   },
   {
    "duration": 318,
    "start_time": "2023-06-06T13:50:02.406Z"
   },
   {
    "duration": 164,
    "start_time": "2023-06-06T13:50:02.729Z"
   },
   {
    "duration": 141,
    "start_time": "2023-06-06T13:50:02.895Z"
   },
   {
    "duration": 4,
    "start_time": "2023-06-06T13:50:03.037Z"
   },
   {
    "duration": 157,
    "start_time": "2023-06-06T13:50:03.044Z"
   },
   {
    "duration": 162,
    "start_time": "2023-06-06T13:50:03.203Z"
   },
   {
    "duration": 189,
    "start_time": "2023-06-06T13:50:03.367Z"
   },
   {
    "duration": 5,
    "start_time": "2023-06-06T13:50:03.558Z"
   },
   {
    "duration": 294,
    "start_time": "2023-06-06T13:50:03.565Z"
   },
   {
    "duration": 181,
    "start_time": "2023-06-06T13:50:03.861Z"
   },
   {
    "duration": 7,
    "start_time": "2023-06-06T13:50:04.044Z"
   },
   {
    "duration": 17,
    "start_time": "2023-06-06T13:50:04.052Z"
   },
   {
    "duration": 22,
    "start_time": "2023-06-06T13:50:04.071Z"
   },
   {
    "duration": 16,
    "start_time": "2023-06-06T13:50:04.094Z"
   },
   {
    "duration": 36,
    "start_time": "2023-06-06T13:50:04.115Z"
   },
   {
    "duration": 32,
    "start_time": "2023-06-06T13:50:04.155Z"
   },
   {
    "duration": 32,
    "start_time": "2023-06-06T13:50:04.189Z"
   },
   {
    "duration": 11,
    "start_time": "2023-06-06T13:50:04.224Z"
   },
   {
    "duration": 1487,
    "start_time": "2023-06-07T06:30:00.355Z"
   },
   {
    "duration": 204,
    "start_time": "2023-06-07T06:30:01.844Z"
   },
   {
    "duration": 26,
    "start_time": "2023-06-07T06:30:02.050Z"
   },
   {
    "duration": 66,
    "start_time": "2023-06-07T06:30:02.078Z"
   },
   {
    "duration": 29,
    "start_time": "2023-06-07T06:30:02.145Z"
   },
   {
    "duration": 64,
    "start_time": "2023-06-07T06:30:02.176Z"
   },
   {
    "duration": 40,
    "start_time": "2023-06-07T06:30:02.242Z"
   },
   {
    "duration": 46,
    "start_time": "2023-06-07T06:30:02.284Z"
   },
   {
    "duration": 93,
    "start_time": "2023-06-07T06:30:02.332Z"
   },
   {
    "duration": 14,
    "start_time": "2023-06-07T06:30:02.427Z"
   },
   {
    "duration": 165,
    "start_time": "2023-06-07T06:30:02.443Z"
   },
   {
    "duration": 105,
    "start_time": "2023-06-07T06:30:02.610Z"
   },
   {
    "duration": 11,
    "start_time": "2023-06-07T06:30:02.717Z"
   },
   {
    "duration": 299,
    "start_time": "2023-06-07T06:30:02.730Z"
   },
   {
    "duration": 12,
    "start_time": "2023-06-07T06:30:03.031Z"
   },
   {
    "duration": 289,
    "start_time": "2023-06-07T06:30:03.045Z"
   },
   {
    "duration": 10,
    "start_time": "2023-06-07T06:30:03.336Z"
   },
   {
    "duration": 187,
    "start_time": "2023-06-07T06:30:03.348Z"
   },
   {
    "duration": 139,
    "start_time": "2023-06-07T06:30:03.537Z"
   },
   {
    "duration": 8,
    "start_time": "2023-06-07T06:30:03.678Z"
   },
   {
    "duration": 26,
    "start_time": "2023-06-07T06:30:03.687Z"
   },
   {
    "duration": 338,
    "start_time": "2023-06-07T06:30:03.715Z"
   },
   {
    "duration": 240,
    "start_time": "2023-06-07T06:30:04.056Z"
   },
   {
    "duration": 326,
    "start_time": "2023-06-07T06:30:04.297Z"
   },
   {
    "duration": 217,
    "start_time": "2023-06-07T06:30:04.625Z"
   },
   {
    "duration": 331,
    "start_time": "2023-06-07T06:30:04.844Z"
   },
   {
    "duration": 238,
    "start_time": "2023-06-07T06:30:05.177Z"
   },
   {
    "duration": 136,
    "start_time": "2023-06-07T06:30:05.418Z"
   },
   {
    "duration": 5,
    "start_time": "2023-06-07T06:30:05.556Z"
   },
   {
    "duration": 176,
    "start_time": "2023-06-07T06:30:05.563Z"
   },
   {
    "duration": 151,
    "start_time": "2023-06-07T06:30:05.741Z"
   },
   {
    "duration": 163,
    "start_time": "2023-06-07T06:30:05.894Z"
   },
   {
    "duration": 5,
    "start_time": "2023-06-07T06:30:06.060Z"
   },
   {
    "duration": 360,
    "start_time": "2023-06-07T06:30:06.075Z"
   },
   {
    "duration": 184,
    "start_time": "2023-06-07T06:30:06.438Z"
   },
   {
    "duration": 7,
    "start_time": "2023-06-07T06:30:06.626Z"
   },
   {
    "duration": 5,
    "start_time": "2023-06-07T06:30:06.638Z"
   },
   {
    "duration": 41,
    "start_time": "2023-06-07T06:30:06.644Z"
   },
   {
    "duration": 10,
    "start_time": "2023-06-07T06:30:06.687Z"
   },
   {
    "duration": 15,
    "start_time": "2023-06-07T06:30:06.699Z"
   },
   {
    "duration": 10,
    "start_time": "2023-06-07T06:30:06.716Z"
   },
   {
    "duration": 58,
    "start_time": "2023-06-07T06:30:06.729Z"
   },
   {
    "duration": 16,
    "start_time": "2023-06-07T06:30:06.789Z"
   }
  ],
  "kernelspec": {
   "display_name": "Python 3 (ipykernel)",
   "language": "python",
   "name": "python3"
  },
  "language_info": {
   "codemirror_mode": {
    "name": "ipython",
    "version": 3
   },
   "file_extension": ".py",
   "mimetype": "text/x-python",
   "name": "python",
   "nbconvert_exporter": "python",
   "pygments_lexer": "ipython3",
   "version": "3.9.5"
  },
  "toc": {
   "base_numbering": 1,
   "nav_menu": {},
   "number_sections": true,
   "sideBar": true,
   "skip_h1_title": true,
   "title_cell": "Table of Contents",
   "title_sidebar": "Contents",
   "toc_cell": false,
   "toc_position": {
    "height": "calc(100% - 180px)",
    "left": "10px",
    "top": "150px",
    "width": "343.938px"
   },
   "toc_section_display": true,
   "toc_window_display": true
  }
 },
 "nbformat": 4,
 "nbformat_minor": 5
}
