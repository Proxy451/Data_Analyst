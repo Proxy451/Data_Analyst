{
 "cells": [
  {
   "cell_type": "markdown",
   "metadata": {
    "deletable": false,
    "editable": false,
    "id": "E0vqbgi9ay0H"
   },
   "source": [
    "# Яндекс Музыка"
   ]
  },
  {
   "cell_type": "markdown",
   "metadata": {
    "deletable": false,
    "editable": false,
    "id": "VUC88oWjTJw2"
   },
   "source": [
    "Сравнение Москвы и Петербурга окружено мифами. Например:\n",
    " * Москва — мегаполис, подчинённый жёсткому ритму рабочей недели;\n",
    " * Петербург — культурная столица, со своими вкусами.\n",
    "\n",
    "На данных Яндекс Музыки вы сравните поведение пользователей двух столиц.\n",
    "\n",
    "**Цель исследования** — проверьте три гипотезы:\n",
    "1. Активность пользователей зависит от дня недели. Причём в Москве и Петербурге это проявляется по-разному.\n",
    "2. В понедельник утром в Москве преобладают одни жанры, а в Петербурге — другие. Так же и вечером пятницы преобладают разные жанры — в зависимости от города. \n",
    "3. Москва и Петербург предпочитают разные жанры музыки. В Москве чаще слушают поп-музыку, в Петербурге — русский рэп.\n",
    "\n",
    "**Ход исследования**\n",
    "\n",
    "Данные о поведении пользователей вы получите из файла `yandex_music_project.csv`. О качестве данных ничего не известно. Поэтому перед проверкой гипотез понадобится обзор данных. \n",
    "\n",
    "Вы проверите данные на ошибки и оцените их влияние на исследование. Затем, на этапе предобработки вы поищете возможность исправить самые критичные ошибки данных.\n",
    " \n",
    "Таким образом, исследование пройдёт в три этапа:\n",
    " 1. Обзор данных.\n",
    " 2. Предобработка данных.\n",
    " 3. Проверка гипотез.\n",
    "\n"
   ]
  },
  {
   "cell_type": "markdown",
   "metadata": {
    "deletable": false,
    "editable": false,
    "id": "Ml1hmfXC_Zcs"
   },
   "source": [
    "## Обзор данных\n",
    "\n",
    "Составьте первое представление о данных Яндекс Музыки.\n",
    "\n",
    "\n"
   ]
  },
  {
   "cell_type": "markdown",
   "metadata": {
    "deletable": false,
    "editable": false,
    "id": "57eAOGIz_Zcs",
    "tags": [
     "start_task"
    ]
   },
   "source": [
    "**Задание 1**\n",
    "\n",
    "Основной инструмент аналитика — `pandas`. Импортируйте эту библиотеку."
   ]
  },
  {
   "cell_type": "code",
   "execution_count": 1,
   "metadata": {
    "deletable": false,
    "id": "AXN7PHPN_Zcs"
   },
   "outputs": [],
   "source": [
    "import pandas as pd # импорт библиотеки pandas"
   ]
  },
  {
   "cell_type": "markdown",
   "metadata": {
    "deletable": false,
    "editable": false,
    "id": "SG23P8tt_Zcs",
    "tags": [
     "start_task"
    ]
   },
   "source": [
    "**Задание 2**\n",
    "\n",
    "Прочитайте файл `yandex_music_project.csv` из папки `/datasets` и сохраните его в переменной `df`:"
   ]
  },
  {
   "cell_type": "code",
   "execution_count": 2,
   "metadata": {
    "deletable": false,
    "id": "fFVu7vqh_Zct"
   },
   "outputs": [],
   "source": [
    "df = pd.read_csv('/datasets/yandex_music_project.csv') # чтение файла с данными и сохранение в df"
   ]
  },
  {
   "cell_type": "markdown",
   "metadata": {
    "deletable": false,
    "editable": false,
    "id": "rDoOMd3uTqnZ",
    "tags": [
     "start_task"
    ]
   },
   "source": [
    "**Задание 3**\n",
    "\n",
    "\n",
    "Выведите на экран первые десять строк таблицы:"
   ]
  },
  {
   "cell_type": "code",
   "execution_count": 3,
   "metadata": {
    "deletable": false,
    "id": "oWTVX3gW_Zct"
   },
   "outputs": [
    {
     "data": {
      "text/html": [
       "<div>\n",
       "<style scoped>\n",
       "    .dataframe tbody tr th:only-of-type {\n",
       "        vertical-align: middle;\n",
       "    }\n",
       "\n",
       "    .dataframe tbody tr th {\n",
       "        vertical-align: top;\n",
       "    }\n",
       "\n",
       "    .dataframe thead th {\n",
       "        text-align: right;\n",
       "    }\n",
       "</style>\n",
       "<table border=\"1\" class=\"dataframe\">\n",
       "  <thead>\n",
       "    <tr style=\"text-align: right;\">\n",
       "      <th></th>\n",
       "      <th>userID</th>\n",
       "      <th>Track</th>\n",
       "      <th>artist</th>\n",
       "      <th>genre</th>\n",
       "      <th>City</th>\n",
       "      <th>time</th>\n",
       "      <th>Day</th>\n",
       "    </tr>\n",
       "  </thead>\n",
       "  <tbody>\n",
       "    <tr>\n",
       "      <th>0</th>\n",
       "      <td>FFB692EC</td>\n",
       "      <td>Kamigata To Boots</td>\n",
       "      <td>The Mass Missile</td>\n",
       "      <td>rock</td>\n",
       "      <td>Saint-Petersburg</td>\n",
       "      <td>20:28:33</td>\n",
       "      <td>Wednesday</td>\n",
       "    </tr>\n",
       "    <tr>\n",
       "      <th>1</th>\n",
       "      <td>55204538</td>\n",
       "      <td>Delayed Because of Accident</td>\n",
       "      <td>Andreas Rönnberg</td>\n",
       "      <td>rock</td>\n",
       "      <td>Moscow</td>\n",
       "      <td>14:07:09</td>\n",
       "      <td>Friday</td>\n",
       "    </tr>\n",
       "    <tr>\n",
       "      <th>2</th>\n",
       "      <td>20EC38</td>\n",
       "      <td>Funiculì funiculà</td>\n",
       "      <td>Mario Lanza</td>\n",
       "      <td>pop</td>\n",
       "      <td>Saint-Petersburg</td>\n",
       "      <td>20:58:07</td>\n",
       "      <td>Wednesday</td>\n",
       "    </tr>\n",
       "    <tr>\n",
       "      <th>3</th>\n",
       "      <td>A3DD03C9</td>\n",
       "      <td>Dragons in the Sunset</td>\n",
       "      <td>Fire + Ice</td>\n",
       "      <td>folk</td>\n",
       "      <td>Saint-Petersburg</td>\n",
       "      <td>08:37:09</td>\n",
       "      <td>Monday</td>\n",
       "    </tr>\n",
       "    <tr>\n",
       "      <th>4</th>\n",
       "      <td>E2DC1FAE</td>\n",
       "      <td>Soul People</td>\n",
       "      <td>Space Echo</td>\n",
       "      <td>dance</td>\n",
       "      <td>Moscow</td>\n",
       "      <td>08:34:34</td>\n",
       "      <td>Monday</td>\n",
       "    </tr>\n",
       "    <tr>\n",
       "      <th>5</th>\n",
       "      <td>842029A1</td>\n",
       "      <td>Преданная</td>\n",
       "      <td>IMPERVTOR</td>\n",
       "      <td>rusrap</td>\n",
       "      <td>Saint-Petersburg</td>\n",
       "      <td>13:09:41</td>\n",
       "      <td>Friday</td>\n",
       "    </tr>\n",
       "    <tr>\n",
       "      <th>6</th>\n",
       "      <td>4CB90AA5</td>\n",
       "      <td>True</td>\n",
       "      <td>Roman Messer</td>\n",
       "      <td>dance</td>\n",
       "      <td>Moscow</td>\n",
       "      <td>13:00:07</td>\n",
       "      <td>Wednesday</td>\n",
       "    </tr>\n",
       "    <tr>\n",
       "      <th>7</th>\n",
       "      <td>F03E1C1F</td>\n",
       "      <td>Feeling This Way</td>\n",
       "      <td>Polina Griffith</td>\n",
       "      <td>dance</td>\n",
       "      <td>Moscow</td>\n",
       "      <td>20:47:49</td>\n",
       "      <td>Wednesday</td>\n",
       "    </tr>\n",
       "    <tr>\n",
       "      <th>8</th>\n",
       "      <td>8FA1D3BE</td>\n",
       "      <td>И вновь продолжается бой</td>\n",
       "      <td>NaN</td>\n",
       "      <td>ruspop</td>\n",
       "      <td>Moscow</td>\n",
       "      <td>09:17:40</td>\n",
       "      <td>Friday</td>\n",
       "    </tr>\n",
       "    <tr>\n",
       "      <th>9</th>\n",
       "      <td>E772D5C0</td>\n",
       "      <td>Pessimist</td>\n",
       "      <td>NaN</td>\n",
       "      <td>dance</td>\n",
       "      <td>Saint-Petersburg</td>\n",
       "      <td>21:20:49</td>\n",
       "      <td>Wednesday</td>\n",
       "    </tr>\n",
       "  </tbody>\n",
       "</table>\n",
       "</div>"
      ],
      "text/plain": [
       "     userID                        Track            artist   genre  \\\n",
       "0  FFB692EC            Kamigata To Boots  The Mass Missile    rock   \n",
       "1  55204538  Delayed Because of Accident  Andreas Rönnberg    rock   \n",
       "2    20EC38            Funiculì funiculà       Mario Lanza     pop   \n",
       "3  A3DD03C9        Dragons in the Sunset        Fire + Ice    folk   \n",
       "4  E2DC1FAE                  Soul People        Space Echo   dance   \n",
       "5  842029A1                    Преданная         IMPERVTOR  rusrap   \n",
       "6  4CB90AA5                         True      Roman Messer   dance   \n",
       "7  F03E1C1F             Feeling This Way   Polina Griffith   dance   \n",
       "8  8FA1D3BE     И вновь продолжается бой               NaN  ruspop   \n",
       "9  E772D5C0                    Pessimist               NaN   dance   \n",
       "\n",
       "             City        time        Day  \n",
       "0  Saint-Petersburg  20:28:33  Wednesday  \n",
       "1            Moscow  14:07:09     Friday  \n",
       "2  Saint-Petersburg  20:58:07  Wednesday  \n",
       "3  Saint-Petersburg  08:37:09     Monday  \n",
       "4            Moscow  08:34:34     Monday  \n",
       "5  Saint-Petersburg  13:09:41     Friday  \n",
       "6            Moscow  13:00:07  Wednesday  \n",
       "7            Moscow  20:47:49  Wednesday  \n",
       "8            Moscow  09:17:40     Friday  \n",
       "9  Saint-Petersburg  21:20:49  Wednesday  "
      ]
     },
     "execution_count": 3,
     "metadata": {},
     "output_type": "execute_result"
    }
   ],
   "source": [
    "df.head(10)# получение первых 10 строк таблицы df"
   ]
  },
  {
   "cell_type": "markdown",
   "metadata": {
    "deletable": false,
    "editable": false,
    "id": "EO73Kwic_Zct",
    "tags": [
     "start_task"
    ]
   },
   "source": [
    "**Задание 4**\n",
    "\n",
    "\n",
    "Одной командой получить общую информацию о таблице c помощью метода `info()`:"
   ]
  },
  {
   "cell_type": "code",
   "execution_count": 4,
   "metadata": {
    "deletable": false,
    "id": "DSf2kIb-_Zct"
   },
   "outputs": [
    {
     "name": "stdout",
     "output_type": "stream",
     "text": [
      "<class 'pandas.core.frame.DataFrame'>\n",
      "RangeIndex: 65079 entries, 0 to 65078\n",
      "Data columns (total 7 columns):\n",
      " #   Column    Non-Null Count  Dtype \n",
      "---  ------    --------------  ----- \n",
      " 0     userID  65079 non-null  object\n",
      " 1   Track     63848 non-null  object\n",
      " 2   artist    57876 non-null  object\n",
      " 3   genre     63881 non-null  object\n",
      " 4     City    65079 non-null  object\n",
      " 5   time      65079 non-null  object\n",
      " 6   Day       65079 non-null  object\n",
      "dtypes: object(7)\n",
      "memory usage: 3.5+ MB\n"
     ]
    }
   ],
   "source": [
    "df.info() # получение общей информации о данных в таблице df"
   ]
  },
  {
   "cell_type": "markdown",
   "metadata": {
    "deletable": false,
    "editable": false,
    "id": "TaQ2Iwbr_Zct"
   },
   "source": [
    "Итак, в таблице семь столбцов. Тип данных во всех столбцах — `object`.\n",
    "\n",
    "Согласно документации к данным:\n",
    "* `userID` — идентификатор пользователя;\n",
    "* `Track` — название трека;  \n",
    "* `artist` — имя исполнителя;\n",
    "* `genre` — название жанра;\n",
    "* `City` — город пользователя;\n",
    "* `time` — время начала прослушивания;\n",
    "* `Day` — день недели.\n",
    "\n",
    "Количество значений в столбцах различается. Значит, в данных есть пропущенные значения."
   ]
  },
  {
   "cell_type": "markdown",
   "metadata": {
    "deletable": false,
    "editable": false,
    "id": "rAfziTBDmf2h",
    "tags": [
     "start_task"
    ]
   },
   "source": [
    "**Задание 5**\n",
    "\n",
    "**Вопрос со свободной формой ответа**\n",
    "\n",
    "В названиях колонок видны нарушения стиля:\n",
    "* Строчные буквы сочетаются с прописными.\n",
    "* Встречаются пробелы.\n",
    "\n",
    "Какое третье нарушение?"
   ]
  },
  {
   "cell_type": "code",
   "execution_count": 5,
   "metadata": {
    "id": "jD8EXEIvmf2h"
   },
   "outputs": [],
   "source": [
    "#нет нижнего подчеркивания"
   ]
  },
  {
   "cell_type": "markdown",
   "metadata": {
    "deletable": false,
    "editable": false,
    "id": "MCB6-dXG_Zct"
   },
   "source": [
    "**Выводы**\n",
    "\n",
    "В каждой строке таблицы — данные о прослушанном треке. Часть колонок описывает саму композицию: название, исполнителя и жанр. Остальные данные рассказывают о пользователе: из какого он города, когда он слушал музыку. \n",
    "\n",
    "Предварительно можно утверждать, что данных достаточно для проверки гипотез. Но встречаются пропуски в данных, а в названиях колонок — расхождения с хорошим стилем.\n",
    "\n",
    "Чтобы двигаться дальше, нужно устранить проблемы в данных."
   ]
  },
  {
   "cell_type": "markdown",
   "metadata": {
    "deletable": false,
    "editable": false,
    "id": "SjYF6Ub9_Zct"
   },
   "source": [
    "## Предобработка данных\n",
    "Исправьте стиль в заголовках столбцов, исключите пропуски. Затем проверьте данные на дубликаты."
   ]
  },
  {
   "cell_type": "markdown",
   "metadata": {
    "deletable": false,
    "editable": false,
    "id": "dIaKXr29_Zct",
    "tags": [
     "start_task"
    ]
   },
   "source": [
    "### Стиль заголовков\n",
    "\n",
    "**Задание 6**\n",
    "\n",
    "Выведите на экран названия столбцов:"
   ]
  },
  {
   "cell_type": "code",
   "execution_count": 6,
   "metadata": {
    "deletable": false,
    "id": "oKOTdF_Q_Zct"
   },
   "outputs": [
    {
     "data": {
      "text/plain": [
       "Index(['  userID', 'Track', 'artist', 'genre', '  City  ', 'time', 'Day'], dtype='object')"
      ]
     },
     "execution_count": 6,
     "metadata": {},
     "output_type": "execute_result"
    }
   ],
   "source": [
    "df.columns \n",
    "# перечень названий столбцов таблицы df"
   ]
  },
  {
   "cell_type": "markdown",
   "metadata": {
    "deletable": false,
    "editable": false,
    "id": "zj5534cv_Zct",
    "tags": [
     "start_task"
    ]
   },
   "source": [
    "**Задание 7**\n",
    "\n",
    "\n",
    "Приведите названия в соответствие с хорошим стилем:\n",
    "* несколько слов в названии запишите в «змеином_регистре»,\n",
    "* все символы сделайте строчными,\n",
    "* устраните пробелы.\n",
    "\n",
    "Для этого переименуйте колонки так:\n",
    "* `'  userID'` → `'user_id'`;\n",
    "* `'Track'` → `'track'`;\n",
    "* `'  City  '` → `'city'`;\n",
    "* `'Day'` → `'day'`."
   ]
  },
  {
   "cell_type": "code",
   "execution_count": 7,
   "metadata": {
    "deletable": false,
    "id": "ISlFqs5y_Zct"
   },
   "outputs": [],
   "source": [
    "df = df.rename(columns={'  userID': 'user_id', 'Track': 'track', '  City  ': 'city', 'Day': 'day'}) # переименование столбцов"
   ]
  },
  {
   "cell_type": "markdown",
   "metadata": {
    "deletable": false,
    "editable": false,
    "id": "1dqbh00J_Zct",
    "tags": [
     "start_task"
    ]
   },
   "source": [
    "**Задание 8**\n",
    "\n",
    "\n",
    "Проверьте результат. Для этого ещё раз выведите на экран названия столбцов:"
   ]
  },
  {
   "cell_type": "code",
   "execution_count": 8,
   "metadata": {
    "deletable": false,
    "id": "d4NOAmTW_Zct"
   },
   "outputs": [
    {
     "data": {
      "text/plain": [
       "Index(['user_id', 'track', 'artist', 'genre', 'city', 'time', 'day'], dtype='object')"
      ]
     },
     "execution_count": 8,
     "metadata": {},
     "output_type": "execute_result"
    }
   ],
   "source": [
    "df.columns # проверка результатов - перечень названий столбцов"
   ]
  },
  {
   "cell_type": "markdown",
   "metadata": {
    "deletable": false,
    "editable": false,
    "id": "5ISfbcfY_Zct",
    "tags": [
     "start_task"
    ]
   },
   "source": [
    "### Пропуски значений\n",
    "\n",
    "**Задание 9**\n",
    "\n",
    "Сначала посчитайте, сколько в таблице пропущенных значений. Для этого достаточно двух методов `pandas`:"
   ]
  },
  {
   "cell_type": "code",
   "execution_count": 9,
   "metadata": {
    "deletable": false,
    "id": "RskX29qr_Zct"
   },
   "outputs": [
    {
     "data": {
      "text/plain": [
       "user_id       0\n",
       "track      1231\n",
       "artist     7203\n",
       "genre      1198\n",
       "city          0\n",
       "time          0\n",
       "day           0\n",
       "dtype: int64"
      ]
     },
     "execution_count": 9,
     "metadata": {},
     "output_type": "execute_result"
    }
   ],
   "source": [
    "df.isna().sum()# подсчёт пропусков"
   ]
  },
  {
   "cell_type": "markdown",
   "metadata": {
    "deletable": false,
    "editable": false,
    "id": "qubhgnlO_Zct"
   },
   "source": [
    "Не все пропущенные значения влияют на исследование. Так в `track` и `artist` пропуски не важны для вашей работы. Достаточно заменить их явными обозначениями.\n",
    "\n",
    "Но пропуски в `genre` могут помешать сравнению музыкальных вкусов в Москве и Санкт-Петербурге. На практике было бы правильно установить причину пропусков и восстановить данные. Такой возможности нет в учебном проекте. Придётся:\n",
    "* заполнить и эти пропуски явными обозначениями;\n",
    "* оценить, насколько они повредят расчётам. "
   ]
  },
  {
   "cell_type": "markdown",
   "metadata": {
    "deletable": false,
    "editable": false,
    "id": "fSv2laPA_Zct",
    "tags": [
     "start_task"
    ]
   },
   "source": [
    "**Задание 10**\n",
    "\n",
    "Замените пропущенные значения в столбцах `track`, `artist` и `genre` на строку `'unknown'`. Для этого создайте список `columns_to_replace`, переберите его элементы циклом `for` и для каждого столбца выполните замену пропущенных значений:"
   ]
  },
  {
   "cell_type": "code",
   "execution_count": 10,
   "metadata": {
    "deletable": false,
    "id": "KplB5qWs_Zct"
   },
   "outputs": [],
   "source": [
    "columns_to_replace = ['track', 'artist', 'genre']\n",
    "for column in columns_to_replace:\n",
    "    df[column] = df[column].fillna('unknown')\n",
    "\n",
    "\n",
    "\n",
    "# перебор названий столбцов в цикле и замена пропущенных значений на 'unknown'"
   ]
  },
  {
   "cell_type": "markdown",
   "metadata": {
    "deletable": false,
    "editable": false,
    "id": "Ilsm-MZo_Zct",
    "tags": [
     "start_task"
    ]
   },
   "source": [
    "**Задание 11**\n",
    "\n",
    "Убедитесь, что в таблице не осталось пропусков. Для этого ещё раз посчитайте пропущенные значения."
   ]
  },
  {
   "cell_type": "code",
   "execution_count": 11,
   "metadata": {
    "deletable": false,
    "id": "Tq4nYRX4_Zct"
   },
   "outputs": [
    {
     "data": {
      "text/plain": [
       "user_id    0\n",
       "track      0\n",
       "artist     0\n",
       "genre      0\n",
       "city       0\n",
       "time       0\n",
       "day        0\n",
       "dtype: int64"
      ]
     },
     "execution_count": 11,
     "metadata": {},
     "output_type": "execute_result"
    }
   ],
   "source": [
    "df.isna().sum() # подсчёт пропусков"
   ]
  },
  {
   "cell_type": "markdown",
   "metadata": {
    "deletable": false,
    "editable": false,
    "id": "BWKRtBJ3_Zct",
    "tags": [
     "start_task"
    ]
   },
   "source": [
    "### Дубликаты\n",
    "\n",
    "**Задание 12**\n",
    "\n",
    "Посчитайте явные дубликаты в таблице одной командой:"
   ]
  },
  {
   "cell_type": "code",
   "execution_count": 12,
   "metadata": {
    "deletable": false,
    "id": "36eES_S0_Zct"
   },
   "outputs": [
    {
     "data": {
      "text/plain": [
       "3826"
      ]
     },
     "execution_count": 12,
     "metadata": {},
     "output_type": "execute_result"
    }
   ],
   "source": [
    "df.duplicated().sum()# подсчёт явных дубликатов"
   ]
  },
  {
   "cell_type": "markdown",
   "metadata": {
    "deletable": false,
    "editable": false,
    "id": "Ot25h6XR_Zct",
    "tags": [
     "start_task"
    ]
   },
   "source": [
    "**Задание 13**\n",
    "\n",
    "Вызовите специальный метод `pandas`, чтобы удалить явные дубликаты:"
   ]
  },
  {
   "cell_type": "code",
   "execution_count": 13,
   "metadata": {
    "deletable": false,
    "id": "exFHq6tt_Zct"
   },
   "outputs": [],
   "source": [
    "df = df.drop_duplicates() # удаление явных дубликатов\n"
   ]
  },
  {
   "cell_type": "markdown",
   "metadata": {
    "deletable": false,
    "editable": false,
    "id": "Im2YwBEG_Zct",
    "tags": [
     "start_task"
    ]
   },
   "source": [
    "**Задание 14**\n",
    "\n",
    "Ещё раз посчитайте явные дубликаты в таблице — убедитесь, что полностью от них избавились:"
   ]
  },
  {
   "cell_type": "code",
   "execution_count": 14,
   "metadata": {
    "deletable": false,
    "id": "-8PuNWQ0_Zct"
   },
   "outputs": [
    {
     "data": {
      "text/plain": [
       "0"
      ]
     },
     "execution_count": 14,
     "metadata": {},
     "output_type": "execute_result"
    }
   ],
   "source": [
    "df.duplicated().sum()# проверка на отсутствие дубликатов"
   ]
  },
  {
   "cell_type": "markdown",
   "metadata": {
    "deletable": false,
    "editable": false,
    "id": "QlFBsxAr_Zct"
   },
   "source": [
    "Теперь избавьтесь от неявных дубликатов в колонке `genre`. Например, название одного и того же жанра может быть записано немного по-разному. Такие ошибки тоже повлияют на результат исследования."
   ]
  },
  {
   "cell_type": "markdown",
   "metadata": {
    "deletable": false,
    "editable": false,
    "id": "eSjWwsOh_Zct",
    "tags": [
     "start_task"
    ]
   },
   "source": [
    "**Задание 15**\n",
    "\n",
    "Выведите на экран список уникальных названий жанров, отсортированный в алфавитном порядке. Для этого:\n",
    "1. извлеките нужный столбец датафрейма; \n",
    "2. примените к нему метод сортировки;\n",
    "3. для отсортированного столбца вызовите метод, который вернёт уникальные значения из столбца."
   ]
  },
  {
   "cell_type": "code",
   "execution_count": 15,
   "metadata": {
    "deletable": false,
    "id": "JIUcqzZN_Zct"
   },
   "outputs": [
    {
     "data": {
      "text/plain": [
       "array(['acid', 'acoustic', 'action', 'adult', 'africa', 'afrikaans',\n",
       "       'alternative', 'alternativepunk', 'ambient', 'americana',\n",
       "       'animated', 'anime', 'arabesk', 'arabic', 'arena',\n",
       "       'argentinetango', 'art', 'audiobook', 'author', 'avantgarde',\n",
       "       'axé', 'baile', 'balkan', 'beats', 'bigroom', 'black', 'bluegrass',\n",
       "       'blues', 'bollywood', 'bossa', 'brazilian', 'breakbeat', 'breaks',\n",
       "       'broadway', 'cantautori', 'cantopop', 'canzone', 'caribbean',\n",
       "       'caucasian', 'celtic', 'chamber', 'chanson', 'children', 'chill',\n",
       "       'chinese', 'choral', 'christian', 'christmas', 'classical',\n",
       "       'classicmetal', 'club', 'colombian', 'comedy', 'conjazz',\n",
       "       'contemporary', 'country', 'cuban', 'dance', 'dancehall',\n",
       "       'dancepop', 'dark', 'death', 'deep', 'deutschrock', 'deutschspr',\n",
       "       'dirty', 'disco', 'dnb', 'documentary', 'downbeat', 'downtempo',\n",
       "       'drum', 'dub', 'dubstep', 'eastern', 'easy', 'electronic',\n",
       "       'electropop', 'emo', 'entehno', 'epicmetal', 'estrada', 'ethnic',\n",
       "       'eurofolk', 'european', 'experimental', 'extrememetal', 'fado',\n",
       "       'fairytail', 'film', 'fitness', 'flamenco', 'folk', 'folklore',\n",
       "       'folkmetal', 'folkrock', 'folktronica', 'forró', 'frankreich',\n",
       "       'französisch', 'french', 'funk', 'future', 'gangsta', 'garage',\n",
       "       'german', 'ghazal', 'gitarre', 'glitch', 'gospel', 'gothic',\n",
       "       'grime', 'grunge', 'gypsy', 'handsup', \"hard'n'heavy\", 'hardcore',\n",
       "       'hardstyle', 'hardtechno', 'hip', 'hip-hop', 'hiphop',\n",
       "       'historisch', 'holiday', 'hop', 'horror', 'house', 'hymn', 'idm',\n",
       "       'independent', 'indian', 'indie', 'indipop', 'industrial',\n",
       "       'inspirational', 'instrumental', 'international', 'irish', 'jam',\n",
       "       'japanese', 'jazz', 'jewish', 'jpop', 'jungle', 'k-pop',\n",
       "       'karadeniz', 'karaoke', 'kayokyoku', 'korean', 'laiko', 'latin',\n",
       "       'latino', 'leftfield', 'local', 'lounge', 'loungeelectronic',\n",
       "       'lovers', 'malaysian', 'mandopop', 'marschmusik', 'meditative',\n",
       "       'mediterranean', 'melodic', 'metal', 'metalcore', 'mexican',\n",
       "       'middle', 'minimal', 'miscellaneous', 'modern', 'mood', 'mpb',\n",
       "       'muslim', 'native', 'neoklassik', 'neue', 'new', 'newage',\n",
       "       'newwave', 'nu', 'nujazz', 'numetal', 'oceania', 'old', 'opera',\n",
       "       'orchestral', 'other', 'piano', 'podcasts', 'pop', 'popdance',\n",
       "       'popelectronic', 'popeurodance', 'poprussian', 'post',\n",
       "       'posthardcore', 'postrock', 'power', 'progmetal', 'progressive',\n",
       "       'psychedelic', 'punjabi', 'punk', 'quebecois', 'ragga', 'ram',\n",
       "       'rancheras', 'rap', 'rave', 'reggae', 'reggaeton', 'regional',\n",
       "       'relax', 'religious', 'retro', 'rhythm', 'rnb', 'rnr', 'rock',\n",
       "       'rockabilly', 'rockalternative', 'rockindie', 'rockother',\n",
       "       'romance', 'roots', 'ruspop', 'rusrap', 'rusrock', 'russian',\n",
       "       'salsa', 'samba', 'scenic', 'schlager', 'self', 'sertanejo',\n",
       "       'shanson', 'shoegazing', 'showtunes', 'singer', 'ska', 'skarock',\n",
       "       'slow', 'smooth', 'soft', 'soul', 'soulful', 'sound', 'soundtrack',\n",
       "       'southern', 'specialty', 'speech', 'spiritual', 'sport',\n",
       "       'stonerrock', 'surf', 'swing', 'synthpop', 'synthrock',\n",
       "       'sängerportrait', 'tango', 'tanzorchester', 'taraftar', 'tatar',\n",
       "       'tech', 'techno', 'teen', 'thrash', 'top', 'traditional',\n",
       "       'tradjazz', 'trance', 'tribal', 'trip', 'triphop', 'tropical',\n",
       "       'türk', 'türkçe', 'ukrrock', 'unknown', 'urban', 'uzbek',\n",
       "       'variété', 'vi', 'videogame', 'vocal', 'western', 'world',\n",
       "       'worldbeat', 'ïîï', 'электроника'], dtype=object)"
      ]
     },
     "execution_count": 15,
     "metadata": {},
     "output_type": "execute_result"
    }
   ],
   "source": [
    "genres_list = df['genre'].sort_values()\n",
    "genres_list = genres_list.unique()\n",
    "genres_list"
   ]
  },
  {
   "cell_type": "markdown",
   "metadata": {
    "deletable": false,
    "editable": false,
    "id": "qej-Qmuo_Zct",
    "tags": [
     "start_task"
    ]
   },
   "source": [
    "**Задание 16**\n",
    "\n",
    "Просмотрите список и найдите неявные дубликаты названия `hiphop`. Это могут быть названия с ошибками или альтернативные названия того же жанра.\n",
    "\n",
    "Вы увидите следующие неявные дубликаты:\n",
    "* *hip*,\n",
    "* *hop*,\n",
    "* *hip-hop*.\n",
    "\n",
    "Чтобы очистить от них таблицу используйте метод `replace()` с двумя аргументами: списком строк-дубликатов (включащий *hip*, *hop* и *hip-hop*) и строкой с правильным значением. Вам нужно исправить колонку `genre` в таблице `df`: заменить каждое значение из списка дубликатов на верное. Вместо `hip`, `hop` и `hip-hop` в таблице должно быть значение `hiphop`:"
   ]
  },
  {
   "cell_type": "code",
   "execution_count": 16,
   "metadata": {
    "deletable": false,
    "id": "ErNDkmns_Zct"
   },
   "outputs": [],
   "source": [
    "duplicates = ['hip', 'hop', 'hip-hop'] # список неправильных имён\n",
    "name = 'hiphop' # правильное имя\n",
    "df['genre'] = df['genre'].replace(duplicates, name) # замена всех значений из duplicates на name"
   ]
  },
  {
   "cell_type": "markdown",
   "metadata": {
    "deletable": false,
    "editable": false,
    "id": "zQKF16_RG15m",
    "tags": [
     "start_task"
    ]
   },
   "source": [
    "**Задание 17**\n",
    "\n",
    "Проверьте, что заменили неправильные названия:\n",
    "\n",
    "*   hip,\n",
    "*   hop,\n",
    "*   hip-hop.\n",
    "\n",
    "Выведите отсортированный список уникальных значений столбца `genre`:"
   ]
  },
  {
   "cell_type": "code",
   "execution_count": 17,
   "metadata": {
    "deletable": false,
    "id": "wvixALnFG15m"
   },
   "outputs": [
    {
     "data": {
      "text/plain": [
       "array(['acid', 'acoustic', 'action', 'adult', 'africa', 'afrikaans',\n",
       "       'alternative', 'alternativepunk', 'ambient', 'americana',\n",
       "       'animated', 'anime', 'arabesk', 'arabic', 'arena',\n",
       "       'argentinetango', 'art', 'audiobook', 'author', 'avantgarde',\n",
       "       'axé', 'baile', 'balkan', 'beats', 'bigroom', 'black', 'bluegrass',\n",
       "       'blues', 'bollywood', 'bossa', 'brazilian', 'breakbeat', 'breaks',\n",
       "       'broadway', 'cantautori', 'cantopop', 'canzone', 'caribbean',\n",
       "       'caucasian', 'celtic', 'chamber', 'chanson', 'children', 'chill',\n",
       "       'chinese', 'choral', 'christian', 'christmas', 'classical',\n",
       "       'classicmetal', 'club', 'colombian', 'comedy', 'conjazz',\n",
       "       'contemporary', 'country', 'cuban', 'dance', 'dancehall',\n",
       "       'dancepop', 'dark', 'death', 'deep', 'deutschrock', 'deutschspr',\n",
       "       'dirty', 'disco', 'dnb', 'documentary', 'downbeat', 'downtempo',\n",
       "       'drum', 'dub', 'dubstep', 'eastern', 'easy', 'electronic',\n",
       "       'electropop', 'emo', 'entehno', 'epicmetal', 'estrada', 'ethnic',\n",
       "       'eurofolk', 'european', 'experimental', 'extrememetal', 'fado',\n",
       "       'fairytail', 'film', 'fitness', 'flamenco', 'folk', 'folklore',\n",
       "       'folkmetal', 'folkrock', 'folktronica', 'forró', 'frankreich',\n",
       "       'französisch', 'french', 'funk', 'future', 'gangsta', 'garage',\n",
       "       'german', 'ghazal', 'gitarre', 'glitch', 'gospel', 'gothic',\n",
       "       'grime', 'grunge', 'gypsy', 'handsup', \"hard'n'heavy\", 'hardcore',\n",
       "       'hardstyle', 'hardtechno', 'hiphop', 'historisch', 'holiday',\n",
       "       'horror', 'house', 'hymn', 'idm', 'independent', 'indian', 'indie',\n",
       "       'indipop', 'industrial', 'inspirational', 'instrumental',\n",
       "       'international', 'irish', 'jam', 'japanese', 'jazz', 'jewish',\n",
       "       'jpop', 'jungle', 'k-pop', 'karadeniz', 'karaoke', 'kayokyoku',\n",
       "       'korean', 'laiko', 'latin', 'latino', 'leftfield', 'local',\n",
       "       'lounge', 'loungeelectronic', 'lovers', 'malaysian', 'mandopop',\n",
       "       'marschmusik', 'meditative', 'mediterranean', 'melodic', 'metal',\n",
       "       'metalcore', 'mexican', 'middle', 'minimal', 'miscellaneous',\n",
       "       'modern', 'mood', 'mpb', 'muslim', 'native', 'neoklassik', 'neue',\n",
       "       'new', 'newage', 'newwave', 'nu', 'nujazz', 'numetal', 'oceania',\n",
       "       'old', 'opera', 'orchestral', 'other', 'piano', 'podcasts', 'pop',\n",
       "       'popdance', 'popelectronic', 'popeurodance', 'poprussian', 'post',\n",
       "       'posthardcore', 'postrock', 'power', 'progmetal', 'progressive',\n",
       "       'psychedelic', 'punjabi', 'punk', 'quebecois', 'ragga', 'ram',\n",
       "       'rancheras', 'rap', 'rave', 'reggae', 'reggaeton', 'regional',\n",
       "       'relax', 'religious', 'retro', 'rhythm', 'rnb', 'rnr', 'rock',\n",
       "       'rockabilly', 'rockalternative', 'rockindie', 'rockother',\n",
       "       'romance', 'roots', 'ruspop', 'rusrap', 'rusrock', 'russian',\n",
       "       'salsa', 'samba', 'scenic', 'schlager', 'self', 'sertanejo',\n",
       "       'shanson', 'shoegazing', 'showtunes', 'singer', 'ska', 'skarock',\n",
       "       'slow', 'smooth', 'soft', 'soul', 'soulful', 'sound', 'soundtrack',\n",
       "       'southern', 'specialty', 'speech', 'spiritual', 'sport',\n",
       "       'stonerrock', 'surf', 'swing', 'synthpop', 'synthrock',\n",
       "       'sängerportrait', 'tango', 'tanzorchester', 'taraftar', 'tatar',\n",
       "       'tech', 'techno', 'teen', 'thrash', 'top', 'traditional',\n",
       "       'tradjazz', 'trance', 'tribal', 'trip', 'triphop', 'tropical',\n",
       "       'türk', 'türkçe', 'ukrrock', 'unknown', 'urban', 'uzbek',\n",
       "       'variété', 'vi', 'videogame', 'vocal', 'western', 'world',\n",
       "       'worldbeat', 'ïîï', 'электроника'], dtype=object)"
      ]
     },
     "execution_count": 17,
     "metadata": {},
     "output_type": "execute_result"
    }
   ],
   "source": [
    "genres_list = df['genre'].sort_values()\n",
    "genres_list = genres_list.unique()\n",
    "genres_list"
   ]
  },
  {
   "cell_type": "markdown",
   "metadata": {
    "deletable": false,
    "editable": false,
    "id": "jz6a9-7HQUDd"
   },
   "source": [
    "**Выводы**\n",
    "\n",
    "Предобработка обнаружила три проблемы в данных:\n",
    "\n",
    "- нарушения в стиле заголовков,\n",
    "- пропущенные значения,\n",
    "- дубликаты — явные и неявные.\n",
    "\n",
    "Вы исправили заголовки, чтобы упростить работу с таблицей. Без дубликатов исследование станет более точным.\n",
    "\n",
    "Пропущенные значения вы заменили на `'unknown'`. Ещё предстоит увидеть, не повредят ли исследованию пропуски в колонке `genre`.\n",
    "\n",
    "Теперь можно перейти к проверке гипотез. "
   ]
  },
  {
   "cell_type": "markdown",
   "metadata": {
    "deletable": false,
    "editable": false,
    "id": "WttZHXH0SqKk"
   },
   "source": [
    "## Проверка гипотез"
   ]
  },
  {
   "cell_type": "markdown",
   "metadata": {
    "deletable": false,
    "editable": false,
    "id": "Im936VVi_Zcu"
   },
   "source": [
    "### Сравнение поведения пользователей двух столиц"
   ]
  },
  {
   "cell_type": "markdown",
   "metadata": {
    "deletable": false,
    "editable": false,
    "id": "nwt_MuaL_Zcu"
   },
   "source": [
    "Первая гипотеза утверждает, что пользователи по-разному слушают музыку в Москве и Санкт-Петербурге. Проверьте это предположение по данным о трёх днях недели — понедельнике, среде и пятнице. Для этого:\n",
    "\n",
    "* Разделите пользователей Москвы и Санкт-Петербурга.\n",
    "* Сравните, сколько треков послушала каждая группа пользователей в понедельник, среду и пятницу.\n"
   ]
  },
  {
   "cell_type": "markdown",
   "metadata": {
    "deletable": false,
    "editable": false,
    "id": "8Dw_YMmT_Zcu",
    "tags": [
     "start_task"
    ]
   },
   "source": [
    "**Задание 18**\n",
    "\n",
    "Для тренировки сначала выполните каждый из расчётов по отдельности. \n",
    "\n",
    "Оцените активность пользователей в каждом городе. Сгруппируйте данные по городу и посчитайте прослушивания в каждой группе.\n",
    "\n"
   ]
  },
  {
   "cell_type": "code",
   "execution_count": 18,
   "metadata": {
    "deletable": false,
    "id": "0_Qs96oh_Zcu"
   },
   "outputs": [
    {
     "data": {
      "text/plain": [
       "city\n",
       "Moscow              42741\n",
       "Saint-Petersburg    18512\n",
       "Name: time, dtype: int64"
      ]
     },
     "execution_count": 18,
     "metadata": {},
     "output_type": "execute_result"
    }
   ],
   "source": [
    "df.groupby('city')['time'].count()"
   ]
  },
  {
   "cell_type": "markdown",
   "metadata": {
    "deletable": false,
    "editable": false,
    "id": "dzli3w8o_Zcu",
    "tags": [
     "start_task"
    ]
   },
   "source": [
    "В Москве прослушиваний больше, чем в Петербурге. Из этого не следует, что московские пользователи чаще слушают музыку. Просто самих пользователей в Москве больше.\n",
    "\n",
    "**Задание 19**\n",
    "\n",
    "Теперь сгруппируйте данные по дню недели и посчитайте прослушивания в понедельник, среду и пятницу. Учтите, что в данных есть информация о прослушиваниях только за эти дни.\n"
   ]
  },
  {
   "cell_type": "code",
   "execution_count": 19,
   "metadata": {
    "deletable": false,
    "id": "uZMKjiJz_Zcu"
   },
   "outputs": [
    {
     "data": {
      "text/plain": [
       "day\n",
       "Friday       21840\n",
       "Monday       21354\n",
       "Wednesday    18059\n",
       "Name: user_id, dtype: int64"
      ]
     },
     "execution_count": 19,
     "metadata": {},
     "output_type": "execute_result"
    }
   ],
   "source": [
    "df.groupby('day')['user_id'].count() # Подсчёт прослушиваний в каждый из трёх дней"
   ]
  },
  {
   "cell_type": "markdown",
   "metadata": {
    "deletable": false,
    "editable": false,
    "id": "cC2tNrlL_Zcu"
   },
   "source": [
    "В среднем пользователи из двух городов менее активны по средам. Но картина может измениться, если рассмотреть каждый город в отдельности."
   ]
  },
  {
   "cell_type": "markdown",
   "metadata": {
    "deletable": false,
    "editable": false,
    "id": "POzs8bGa_Zcu",
    "tags": [
     "start_task"
    ]
   },
   "source": [
    "**Задание 20**\n",
    "\n",
    "\n",
    "Вы видели, как работает группировка по городу и по дням недели. Теперь напишите функцию, которая объединит два эти расчёта.\n",
    "\n",
    "Создайте функцию `number_tracks()`, которая посчитает прослушивания для заданного дня и города. Ей понадобятся два параметра:\n",
    "* день недели,\n",
    "* название города.\n",
    "\n",
    "В функции сохраните в переменную строки исходной таблицы, у которых значение:\n",
    "  * в колонке `day` равно параметру `day`,\n",
    "  * в колонке `city` равно параметру `city`.\n",
    "\n",
    "Для этого примените последовательную фильтрацию с логической индексацией (или сложные логические выражения в одну строку, если вы уже знакомы с ними).\n",
    "\n",
    "Затем посчитайте значения в столбце `user_id` получившейся таблицы. Результат сохраните в новую переменную. Верните эту переменную из функции."
   ]
  },
  {
   "cell_type": "code",
   "execution_count": 20,
   "metadata": {
    "deletable": false,
    "id": "Nz3GdQB1_Zcu"
   },
   "outputs": [
    {
     "data": {
      "text/plain": [
       "5614"
      ]
     },
     "execution_count": 20,
     "metadata": {},
     "output_type": "execute_result"
    }
   ],
   "source": [
    "def number_tracks(day, city):                      \n",
    "    track_list = df[df['day'] == day]     \n",
    "    track_list = track_list[track_list['city'] == city]     \n",
    "    track_list_count = track_list['user_id'].count()\n",
    "    return track_list_count\n",
    "    \n",
    "number_tracks('Monday','Saint-Petersburg')\n",
    "    \n",
    "    \n",
    "    \n",
    "# <создание функции number_tracks()>\n",
    "# Объявляется функция с двумя параметрами: day, city.\n",
    "# В переменной track_list сохраняются те строки таблицы df, для которых \n",
    "# значение в столбце 'day' равно параметру day и одновременно значение\n",
    "# в столбце 'city' равно параметру city (используйте последовательную фильтрацию\n",
    "# с помощью логической индексации или сложные логические выражения в одну строку, если вы уже знакомы с ними).\n",
    "# В переменной track_list_count сохраняется число значений столбца 'user_id',\n",
    "# рассчитанное методом count() для таблицы track_list.\n",
    "# Функция возвращает число - значение track_list_count.\n",
    "\n",
    "# Функция для подсчёта прослушиваний для конкретного города и дня.\n",
    "# С помощью последовательной фильтрации с логической индексацией она \n",
    "# сначала получит из исходной таблицы строки с нужным днём,\n",
    "# затем из результата отфильтрует строки с нужным городом,\n",
    "# методом count() посчитает количество значений в колонке user_id. \n",
    "# Это количество функция вернёт в качестве результата"
   ]
  },
  {
   "cell_type": "markdown",
   "metadata": {
    "deletable": false,
    "editable": false,
    "id": "ytf7xFrFJQ2r",
    "tags": [
     "start_task"
    ]
   },
   "source": [
    "**Задание 21**\n",
    "\n",
    "Вызовите `number_tracks()` шесть раз, меняя значение параметров — так, чтобы получить данные для каждого города в каждый из трёх дней."
   ]
  },
  {
   "cell_type": "code",
   "execution_count": 21,
   "metadata": {
    "deletable": false,
    "id": "rJcRATNQ_Zcu"
   },
   "outputs": [
    {
     "data": {
      "text/plain": [
       "15740"
      ]
     },
     "execution_count": 21,
     "metadata": {},
     "output_type": "execute_result"
    }
   ],
   "source": [
    "number_tracks('Monday','Moscow') # количество прослушиваний в Москве по понедельникам"
   ]
  },
  {
   "cell_type": "code",
   "execution_count": 22,
   "metadata": {
    "deletable": false,
    "id": "hq_ncZ5T_Zcu"
   },
   "outputs": [
    {
     "data": {
      "text/plain": [
       "5614"
      ]
     },
     "execution_count": 22,
     "metadata": {},
     "output_type": "execute_result"
    }
   ],
   "source": [
    "number_tracks('Monday','Saint-Petersburg')# количество прослушиваний в Санкт-Петербурге по понедельникам"
   ]
  },
  {
   "cell_type": "code",
   "execution_count": 23,
   "metadata": {
    "deletable": false,
    "id": "_NTy2VPU_Zcu"
   },
   "outputs": [
    {
     "data": {
      "text/plain": [
       "11056"
      ]
     },
     "execution_count": 23,
     "metadata": {},
     "output_type": "execute_result"
    }
   ],
   "source": [
    "number_tracks('Wednesday', 'Moscow') # количество прослушиваний в Москве по средам"
   ]
  },
  {
   "cell_type": "code",
   "execution_count": 24,
   "metadata": {
    "deletable": false,
    "id": "j2y3TAwo_Zcu"
   },
   "outputs": [
    {
     "data": {
      "text/plain": [
       "7003"
      ]
     },
     "execution_count": 24,
     "metadata": {},
     "output_type": "execute_result"
    }
   ],
   "source": [
    "number_tracks('Wednesday', 'Saint-Petersburg') # количество прослушиваний в Санкт-Петербурге по средам"
   ]
  },
  {
   "cell_type": "code",
   "execution_count": 25,
   "metadata": {
    "deletable": false,
    "id": "vYDw5u_K_Zcu"
   },
   "outputs": [
    {
     "data": {
      "text/plain": [
       "15945"
      ]
     },
     "execution_count": 25,
     "metadata": {},
     "output_type": "execute_result"
    }
   ],
   "source": [
    "number_tracks('Friday', 'Moscow') # количество прослушиваний в Москве по пятницам"
   ]
  },
  {
   "cell_type": "code",
   "execution_count": 26,
   "metadata": {
    "deletable": false,
    "id": "8_yzFtW3_Zcu"
   },
   "outputs": [
    {
     "data": {
      "text/plain": [
       "5895"
      ]
     },
     "execution_count": 26,
     "metadata": {},
     "output_type": "execute_result"
    }
   ],
   "source": [
    "number_tracks('Friday','Saint-Petersburg') # количество прослушиваний в Санкт-Петербурге по пятницам"
   ]
  },
  {
   "cell_type": "markdown",
   "metadata": {
    "deletable": false,
    "editable": false,
    "id": "7QXffbO-_Zcu",
    "tags": [
     "start_task"
    ]
   },
   "source": [
    "**Задание 22**\n",
    "\n",
    "Создайте c помощью конструктора `pd.DataFrame` таблицу, где\n",
    "* названия колонок — `['city', 'monday', 'wednesday', 'friday']`;\n",
    "* данные — результаты, которые вы получили с помощью `number_tracks`."
   ]
  },
  {
   "cell_type": "code",
   "execution_count": 28,
   "metadata": {
    "deletable": false,
    "id": "APAcLpOr_Zcu"
   },
   "outputs": [
    {
     "ename": "NameError",
     "evalue": "name 'day' is not defined",
     "output_type": "error",
     "traceback": [
      "\u001b[0;31m---------------------------------------------------------------------------\u001b[0m",
      "\u001b[0;31mNameError\u001b[0m                                 Traceback (most recent call last)",
      "\u001b[0;32m/tmp/ipykernel_136/1073753193.py\u001b[0m in \u001b[0;36m<module>\u001b[0;34m\u001b[0m\n\u001b[1;32m      1\u001b[0m \u001b[0mcolumns\u001b[0m \u001b[0;34m=\u001b[0m \u001b[0;34m[\u001b[0m\u001b[0;34m'city'\u001b[0m\u001b[0;34m,\u001b[0m \u001b[0;34m'monday'\u001b[0m\u001b[0;34m,\u001b[0m \u001b[0;34m'wednesday'\u001b[0m\u001b[0;34m,\u001b[0m \u001b[0;34m'friday'\u001b[0m\u001b[0;34m]\u001b[0m \u001b[0;31m# Таблица с результатами\u001b[0m\u001b[0;34m\u001b[0m\u001b[0;34m\u001b[0m\u001b[0m\n\u001b[1;32m      2\u001b[0m \u001b[0;31m#data = [['Moscow', 15740, 15740, 15740], ['Saint-Petersburg', 5614, 7003, 5895]]\u001b[0m\u001b[0;34m\u001b[0m\u001b[0;34m\u001b[0m\u001b[0;34m\u001b[0m\u001b[0m\n\u001b[0;32m----> 3\u001b[0;31m \u001b[0mdata\u001b[0m\u001b[0;34m=\u001b[0m\u001b[0mnumber_tracks\u001b[0m\u001b[0;34m(\u001b[0m\u001b[0mday\u001b[0m\u001b[0;34m,\u001b[0m \u001b[0mcity\u001b[0m\u001b[0;34m)\u001b[0m\u001b[0;34m\u001b[0m\u001b[0;34m\u001b[0m\u001b[0m\n\u001b[0m\u001b[1;32m      4\u001b[0m \u001b[0mdf_table\u001b[0m \u001b[0;34m=\u001b[0m \u001b[0mpd\u001b[0m\u001b[0;34m.\u001b[0m\u001b[0mDataFrame\u001b[0m\u001b[0;34m(\u001b[0m\u001b[0mdata\u001b[0m\u001b[0;34m=\u001b[0m\u001b[0mdata\u001b[0m\u001b[0;34m,\u001b[0m \u001b[0mcolumns\u001b[0m\u001b[0;34m=\u001b[0m\u001b[0mcolumns\u001b[0m\u001b[0;34m)\u001b[0m\u001b[0;34m\u001b[0m\u001b[0;34m\u001b[0m\u001b[0m\n\u001b[1;32m      5\u001b[0m \u001b[0mdf_table\u001b[0m\u001b[0;34m\u001b[0m\u001b[0;34m\u001b[0m\u001b[0m\n",
      "\u001b[0;31mNameError\u001b[0m: name 'day' is not defined"
     ]
    }
   ],
   "source": [
    "columns = ['city', 'monday', 'wednesday', 'friday'] # Таблица с результатами\n",
    "data = [['Moscow', 15740, 15740, 15740], ['Saint-Petersburg', 5614, 7003, 5895]]\n",
    "df_table = pd.DataFrame(data=data, columns=columns)\n",
    "df_table"
   ]
  },
  {
   "cell_type": "markdown",
   "metadata": {
    "deletable": false,
    "editable": false,
    "id": "-EgPIHYu_Zcu"
   },
   "source": [
    "**Выводы**\n",
    "\n",
    "Данные показывают разницу поведения пользователей:\n",
    "\n",
    "- В Москве пик прослушиваний приходится на понедельник и пятницу, а в среду заметен спад.\n",
    "- В Петербурге, наоборот, больше слушают музыку по средам. Активность в понедельник и пятницу здесь почти в равной мере уступает среде.\n",
    "\n",
    "Значит, данные говорят в пользу первой гипотезы."
   ]
  },
  {
   "cell_type": "markdown",
   "metadata": {
    "deletable": false,
    "editable": false,
    "id": "atZAxtq4_Zcu"
   },
   "source": [
    "### Музыка в начале и в конце недели"
   ]
  },
  {
   "cell_type": "markdown",
   "metadata": {
    "deletable": false,
    "editable": false,
    "id": "eXrQqXFH_Zcu"
   },
   "source": [
    "Согласно второй гипотезе, утром в понедельник в Москве преобладают одни жанры, а в Петербурге — другие. Так же и вечером пятницы преобладают разные жанры — в зависимости от города."
   ]
  },
  {
   "cell_type": "markdown",
   "metadata": {
    "deletable": false,
    "editable": false,
    "id": "S8UcW6Hw_Zcu",
    "tags": [
     "start_task"
    ]
   },
   "source": [
    "**Задание 23**\n",
    "\n",
    "Сохраните таблицы с данными в две переменные:\n",
    "* по Москве — в `moscow_general`;\n",
    "* по Санкт-Петербургу — в `spb_general`."
   ]
  },
  {
   "cell_type": "code",
   "execution_count": null,
   "metadata": {
    "deletable": false,
    "id": "qeaFfM_P_Zcu"
   },
   "outputs": [],
   "source": [
    "moscow_general = df[df['city'] == 'Moscow']\n",
    "# получение таблицы moscow_general из тех строк таблицы df, \n",
    "# для которых значение в столбце 'city' равно 'Moscow'\n"
   ]
  },
  {
   "cell_type": "code",
   "execution_count": null,
   "metadata": {
    "deletable": false,
    "id": "ORaVRKto_Zcu"
   },
   "outputs": [],
   "source": [
    "spb_general = df[df['city'] == 'Saint-Petersburg']\n",
    "# получение таблицы spb_general из тех строк таблицы df,\n",
    "# для которых значение в столбце 'city' равно 'Saint-Petersburg'\n"
   ]
  },
  {
   "cell_type": "markdown",
   "metadata": {
    "deletable": false,
    "editable": false,
    "id": "MEJV-CX2_Zcu",
    "tags": [
     "start_task"
    ]
   },
   "source": [
    "**Задание 24**\n",
    "\n",
    "Создайте функцию `genre_weekday()` с четырьмя параметрами:\n",
    "* таблица (датафрейм) с данными,\n",
    "* день недели,\n",
    "* начальная временная метка в формате 'hh:mm', \n",
    "* последняя временная метка в формате 'hh:mm'.\n",
    "\n",
    "Функция должна вернуть информацию о топ-10 жанров тех треков, которые прослушивали в указанный день, в промежутке между двумя отметками времени."
   ]
  },
  {
   "cell_type": "code",
   "execution_count": null,
   "metadata": {
    "deletable": false,
    "id": "laJT9BYl_Zcu"
   },
   "outputs": [],
   "source": [
    "\n",
    "# Объявление функции genre_weekday() с параметрами table, day, time1, time2,\n",
    "# которая возвращает информацию о самых популярных жанрах в указанный день в\n",
    "# заданное время:\n",
    "# 1) в переменную genre_df сохраняются те строки переданного датафрейма table, для\n",
    "#    которых одновременно:\n",
    "#    - значение в столбце day равно значению аргумента day\n",
    "#    - значение в столбце time больше значения аргумента time1\n",
    "#    - значение в столбце time меньше значения аргумента time2\n",
    "#    Используйте последовательную фильтрацию с помощью логической индексации.\n",
    "# 2) сгруппировать датафрейм genre_df по столбцу genre, взять один из его\n",
    "#    столбцов и посчитать методом count() количество записей для каждого из\n",
    "#    присутствующих жанров, получившийся Series записать в переменную\n",
    "#    genre_df_count\n",
    "# 3) отсортировать genre_df_count по убыванию встречаемости и сохранить\n",
    "#    в переменную genre_df_sorted\n",
    "# 4) вернуть Series из 10 первых значений genre_df_sorted, это будут топ-10\n",
    "#    популярных жанров (в указанный день, в заданное время)\n",
    "\n",
    "def genre_weekday(df, day, time1, time2):\n",
    "    # последовательная фильтрация\n",
    "    # оставляем в genre_df только те строки df, у которых день равен day\n",
    "    genre_df = df[df['day'] == day] # ваш код здесь\n",
    "    # оставляем в genre_df только те строки genre_df, у которых время меньше time2\n",
    "    genre_df = genre_df[genre_df['time'] < time2] \n",
    "    # оставляем в genre_df только те строки genre_df, у которых время больше time1\n",
    "    genre_df = genre_df[genre_df['time'] > time1] # ваш код здесь\n",
    "    # сгруппируем отфильтрованный датафрейм по столбцу с названиями жанров, возьмём столбец genre и посчитаем кол-во строк для каждого жанра методом count()\n",
    "    genre_df_grouped = genre_df.groupby('genre')['genre'].count() # ваш код здесь\n",
    "    # отсортируем результат по убыванию (чтобы в начале Series оказались самые популярные жанры)\n",
    "    genre_df_sorted = genre_df_grouped.sort_values(ascending=False) # ваш код здесь\n",
    "    # вернём Series с 10 самыми популярными жанрами в указанный отрезок времени заданного дня\n",
    "    return genre_df_sorted[:10]\n"
   ]
  },
  {
   "cell_type": "markdown",
   "metadata": {
    "deletable": false,
    "editable": false,
    "id": "la2s2_PF_Zcu",
    "tags": [
     "start_task"
    ]
   },
   "source": [
    "**Задание 25**\n",
    "\n",
    "\n",
    "Cравните результаты функции `genre_weekday()` для Москвы и Санкт-Петербурга в понедельник утром (с 7:00 до 11:00) и в пятницу вечером (с 17:00 до 23:00):"
   ]
  },
  {
   "cell_type": "code",
   "execution_count": null,
   "metadata": {
    "deletable": false,
    "id": "yz7itPUQ_Zcu"
   },
   "outputs": [],
   "source": [
    "genre_weekday(moscow_general, 'Monday', '07:00', '11:00')\n",
    "# вызов функции для утра понедельника в Москве (вместо df — таблица moscow_general)\n",
    "# объекты, хранящие время, являются строками и сравниваются как строки\n",
    "# пример вызова: genre_weekday(moscow_general, 'Monday', '07:00', '11:00')"
   ]
  },
  {
   "cell_type": "code",
   "execution_count": null,
   "metadata": {
    "deletable": false,
    "id": "kwUcHPdy_Zcu"
   },
   "outputs": [],
   "source": [
    "genre_weekday(spb_general, 'Monday', '07:00', '11:00') # вызов функции для утра понедельника в Петербурге (вместо df — таблица spb_general)"
   ]
  },
  {
   "cell_type": "code",
   "execution_count": null,
   "metadata": {
    "deletable": false,
    "id": "EzXVRE1o_Zcu"
   },
   "outputs": [],
   "source": [
    "genre_weekday(moscow_general, 'Friday', '17:00', '23:00') # вызов функции для вечера пятницы в Москве"
   ]
  },
  {
   "cell_type": "code",
   "execution_count": null,
   "metadata": {
    "deletable": false,
    "id": "JZaEKu5v_Zcu"
   },
   "outputs": [],
   "source": [
    "genre_weekday(spb_general, 'Friday', '17:00', '23:00') # вызов функции для вечера пятницы в Петербурге"
   ]
  },
  {
   "cell_type": "markdown",
   "metadata": {
    "deletable": false,
    "editable": false,
    "id": "wrCe4MNX_Zcu"
   },
   "source": [
    "**Выводы**\n",
    "\n",
    "Если сравнить топ-10 жанров в понедельник утром, можно сделать такие выводы:\n",
    "\n",
    "1. В Москве и Петербурге слушают похожую музыку. Единственное отличие — в московский рейтинг вошёл жанр “world”, а в петербургский — джаз и классика.\n",
    "\n",
    "2. В Москве пропущенных значений оказалось так много, что значение `'unknown'` заняло десятое место среди самых популярных жанров. Значит, пропущенные значения занимают существенную долю в данных и угрожают достоверности исследования.\n",
    "\n",
    "Вечер пятницы не меняет эту картину. Некоторые жанры поднимаются немного выше, другие спускаются, но в целом топ-10 остаётся тем же самым.\n",
    "\n",
    "Таким образом, вторая гипотеза подтвердилась лишь частично:\n",
    "* Пользователи слушают похожую музыку в начале недели и в конце.\n",
    "* Разница между Москвой и Петербургом не слишком выражена. В Москве чаще слушают русскую популярную музыку, в Петербурге — джаз.\n",
    "\n",
    "Однако пропуски в данных ставят под сомнение этот результат. В Москве их так много, что рейтинг топ-10 мог бы выглядеть иначе, если бы не утерянные  данные о жанрах."
   ]
  },
  {
   "cell_type": "markdown",
   "metadata": {
    "deletable": false,
    "editable": false,
    "id": "JolODAqr_Zcu"
   },
   "source": [
    "### Жанровые предпочтения в Москве и Петербурге\n",
    "\n",
    "Гипотеза: Петербург — столица рэпа, музыку этого жанра там слушают чаще, чем в Москве.  А Москва — город контрастов, в котором, тем не менее, преобладает поп-музыка."
   ]
  },
  {
   "cell_type": "markdown",
   "metadata": {
    "deletable": false,
    "editable": false,
    "id": "DlegSvaT_Zcu",
    "tags": [
     "start_task"
    ]
   },
   "source": [
    "**Задание 26**\n",
    "\n",
    "Сгруппируйте таблицу `moscow_general` по жанру и посчитайте прослушивания треков каждого жанра методом `count()`. Затем отсортируйте результат в порядке убывания и сохраните его в таблице `moscow_genres`."
   ]
  },
  {
   "cell_type": "code",
   "execution_count": null,
   "metadata": {
    "deletable": false,
    "id": "r19lIPke_Zcu"
   },
   "outputs": [],
   "source": [
    "#moscow_general = moscow_general.groupby('time').count()\n",
    "#moscow_genres = moscow_general.sort_values(byascending=False)\n",
    "#moscow_genres\n",
    "moscow_genres=moscow_general.groupby('genre')['genre'].count().sort_values(ascending = False)\n",
    "# одной строкой: группировка таблицы moscow_general по столбцу 'genre', \n",
    "# подсчёт числа значений 'genre' в этой группировке методом count(), \n",
    "# сортировка получившегося Series в порядке убывания и сохранение в moscow_genres"
   ]
  },
  {
   "cell_type": "markdown",
   "metadata": {
    "deletable": false,
    "editable": false,
    "id": "6kMuomxTiIr8",
    "tags": [
     "start_task"
    ]
   },
   "source": [
    "**Задание 27**\n",
    "\n",
    "Выведите на экран первые десять строк `moscow_genres`:"
   ]
  },
  {
   "cell_type": "code",
   "execution_count": null,
   "metadata": {
    "deletable": false,
    "id": "WhCSooF8_Zcv"
   },
   "outputs": [],
   "source": [
    "moscow_genres.head(10) # просмотр первых 10 строк moscow_genres"
   ]
  },
  {
   "cell_type": "markdown",
   "metadata": {
    "deletable": false,
    "editable": false,
    "id": "cnPG2vnN_Zcv",
    "tags": [
     "start_task"
    ]
   },
   "source": [
    "**Задание 28**\n",
    "\n",
    "\n",
    "Теперь повторите то же и для Петербурга.\n",
    "\n",
    "Сгруппируйте таблицу `spb_general` по жанру. Посчитайте прослушивания треков каждого жанра. Результат отсортируйте в порядке убывания и сохраните в таблице `spb_genres`:\n"
   ]
  },
  {
   "cell_type": "code",
   "execution_count": null,
   "metadata": {
    "deletable": false,
    "id": "gluLIpE7_Zcv"
   },
   "outputs": [],
   "source": [
    "spb_genres = spb_general.groupby('genre')['genre'].count().sort_values(ascending = False)\n",
    "# одной строкой: группировка таблицы spb_general по столбцу 'genre',\n",
    "# подсчёт числа значений 'genre' в этой группировке методом count(), \n",
    "# сортировка получившегося Series в порядке убывания и сохранение в spb_genres"
   ]
  },
  {
   "cell_type": "markdown",
   "metadata": {
    "deletable": false,
    "editable": false,
    "id": "5Doha_ODgyQ8",
    "tags": [
     "start_task"
    ]
   },
   "source": [
    "**Задание 29**\n",
    "\n",
    "Выведите на экран первые десять строк `spb_genres`:"
   ]
  },
  {
   "cell_type": "code",
   "execution_count": null,
   "metadata": {
    "deletable": false,
    "id": "uaGJHjVU_Zcv"
   },
   "outputs": [],
   "source": [
    "spb_genres.head(10) # просмотр первых 10 строк spb_genres"
   ]
  },
  {
   "cell_type": "markdown",
   "metadata": {
    "deletable": false,
    "editable": false,
    "id": "RY51YJYu_Zcv"
   },
   "source": [
    "**Выводы**"
   ]
  },
  {
   "cell_type": "markdown",
   "metadata": {
    "deletable": false,
    "editable": false,
    "id": "nVhnJEm__Zcv"
   },
   "source": [
    "Гипотеза частично подтвердилась:\n",
    "* Поп-музыка — самый популярный жанр в Москве, как и предполагала гипотеза. Более того, в топ-10 жанров встречается близкий жанр — русская популярная музыка.\n",
    "* Вопреки ожиданиям, рэп одинаково популярен в Москве и Петербурге. \n"
   ]
  },
  {
   "cell_type": "markdown",
   "metadata": {
    "deletable": false,
    "editable": false,
    "id": "ykKQ0N65_Zcv"
   },
   "source": [
    "## Итоги исследования"
   ]
  },
  {
   "cell_type": "markdown",
   "metadata": {
    "deletable": false,
    "editable": false,
    "id": "tjUwbHb3_Zcv"
   },
   "source": [
    "Вы проверили три гипотезы и установили:\n",
    "\n",
    "1. День недели по-разному влияет на активность пользователей в Москве и Петербурге. \n",
    "\n",
    "Первая гипотеза полностью подтвердилась.\n",
    "\n",
    "2. Музыкальные предпочтения не сильно меняются в течение недели — будь то Москва или Петербург. Небольшие различия заметны в начале недели, по понедельникам:\n",
    "* в Москве слушают музыку жанра “world”,\n",
    "* в Петербурге — джаз и классику.\n",
    "\n",
    "Таким образом, вторая гипотеза подтвердилась лишь отчасти. Этот результат мог оказаться иным, если бы не пропуски в данных.\n",
    "\n",
    "3. Во вкусах пользователей Москвы и Петербурга больше общего чем различий. Вопреки ожиданиям, предпочтения жанров в Петербурге напоминают московские.\n",
    "\n",
    "Третья гипотеза не подтвердилась. Если различия в предпочтениях и существуют, на основной массе пользователей они незаметны.\n",
    "\n",
    "**На практике исследования содержат проверки статистических гипотез.**\n",
    "Из данных одного сервиса не всегда можно сделать вывод о всех жителях города.\n",
    "Проверки статистических гипотез покажут, насколько они достоверны, исходя из имеющихся данных. \n",
    "С методами проверок гипотез вы ещё познакомитесь в следующих темах."
   ]
  }
 ],
 "metadata": {
  "ExecuteTimeLog": [
   {
    "duration": 363,
    "start_time": "2023-01-22T12:25:47.229Z"
   },
   {
    "duration": 102,
    "start_time": "2023-01-22T12:31:47.696Z"
   },
   {
    "duration": 9,
    "start_time": "2023-01-22T12:32:30.960Z"
   },
   {
    "duration": 203,
    "start_time": "2023-01-22T12:32:43.324Z"
   },
   {
    "duration": 10,
    "start_time": "2023-01-22T12:32:46.571Z"
   },
   {
    "duration": 30,
    "start_time": "2023-01-22T12:32:59.463Z"
   },
   {
    "duration": 47,
    "start_time": "2023-01-22T12:33:17.805Z"
   },
   {
    "duration": 53,
    "start_time": "2023-01-22T12:33:19.132Z"
   },
   {
    "duration": 39,
    "start_time": "2023-01-22T12:33:20.968Z"
   },
   {
    "duration": 4,
    "start_time": "2023-01-22T12:38:08.324Z"
   },
   {
    "duration": 1124,
    "start_time": "2023-01-22T12:38:10.870Z"
   },
   {
    "duration": 1129,
    "start_time": "2023-01-22T12:38:12.480Z"
   },
   {
    "duration": 3,
    "start_time": "2023-01-22T12:39:27.135Z"
   },
   {
    "duration": 8,
    "start_time": "2023-01-22T12:40:10.304Z"
   },
   {
    "duration": 4,
    "start_time": "2023-01-22T12:40:17.226Z"
   },
   {
    "duration": 73,
    "start_time": "2023-01-22T12:46:03.069Z"
   },
   {
    "duration": 72,
    "start_time": "2023-01-22T12:46:27.567Z"
   },
   {
    "duration": 91,
    "start_time": "2023-01-22T12:46:42.435Z"
   },
   {
    "duration": 72,
    "start_time": "2023-01-22T12:47:12.689Z"
   },
   {
    "duration": 72,
    "start_time": "2023-01-22T12:47:34.359Z"
   },
   {
    "duration": 46,
    "start_time": "2023-01-22T12:48:50.103Z"
   },
   {
    "duration": 47,
    "start_time": "2023-01-22T12:48:56.060Z"
   },
   {
    "duration": 10,
    "start_time": "2023-01-22T12:49:15.820Z"
   },
   {
    "duration": 54,
    "start_time": "2023-01-22T12:49:20.966Z"
   },
   {
    "duration": 36,
    "start_time": "2023-01-22T12:49:52.071Z"
   },
   {
    "duration": 5,
    "start_time": "2023-01-22T12:50:34.220Z"
   },
   {
    "duration": 9,
    "start_time": "2023-01-22T12:52:37.271Z"
   },
   {
    "duration": 7,
    "start_time": "2023-01-22T12:52:55.985Z"
   },
   {
    "duration": 39,
    "start_time": "2023-01-22T12:53:53.227Z"
   },
   {
    "duration": 32,
    "start_time": "2023-01-22T12:54:05.604Z"
   },
   {
    "duration": 22,
    "start_time": "2023-01-22T13:03:28.128Z"
   },
   {
    "duration": 20,
    "start_time": "2023-01-22T13:03:51.568Z"
   },
   {
    "duration": 20,
    "start_time": "2023-01-22T13:03:53.893Z"
   },
   {
    "duration": 30,
    "start_time": "2023-01-22T13:04:11.114Z"
   },
   {
    "duration": 63,
    "start_time": "2023-01-22T13:04:53.584Z"
   },
   {
    "duration": 80,
    "start_time": "2023-01-22T13:06:08.202Z"
   },
   {
    "duration": 68,
    "start_time": "2023-01-22T13:06:51.269Z"
   },
   {
    "duration": 75,
    "start_time": "2023-01-22T13:07:20.501Z"
   },
   {
    "duration": 61,
    "start_time": "2023-01-22T13:08:00.199Z"
   },
   {
    "duration": 3,
    "start_time": "2023-01-22T14:15:28.712Z"
   },
   {
    "duration": 143,
    "start_time": "2023-01-22T14:15:29.028Z"
   },
   {
    "duration": 11,
    "start_time": "2023-01-22T14:15:29.367Z"
   },
   {
    "duration": 34,
    "start_time": "2023-01-22T14:15:30.127Z"
   },
   {
    "duration": 2,
    "start_time": "2023-01-22T14:15:31.421Z"
   },
   {
    "duration": 4,
    "start_time": "2023-01-22T14:15:32.721Z"
   },
   {
    "duration": 6,
    "start_time": "2023-01-22T14:15:33.419Z"
   },
   {
    "duration": 4,
    "start_time": "2023-01-22T14:15:33.967Z"
   },
   {
    "duration": 32,
    "start_time": "2023-01-22T14:15:34.368Z"
   },
   {
    "duration": 20,
    "start_time": "2023-01-22T14:15:35.662Z"
   },
   {
    "duration": 32,
    "start_time": "2023-01-22T14:15:36.289Z"
   },
   {
    "duration": 57,
    "start_time": "2023-01-22T14:15:36.812Z"
   },
   {
    "duration": 73,
    "start_time": "2023-01-22T14:15:37.284Z"
   },
   {
    "duration": 65,
    "start_time": "2023-01-22T14:15:37.675Z"
   },
   {
    "duration": 5,
    "start_time": "2023-01-22T14:15:38.306Z"
   },
   {
    "duration": 3,
    "start_time": "2023-01-22T14:15:39.064Z"
   },
   {
    "duration": 34,
    "start_time": "2023-01-22T14:15:58.877Z"
   },
   {
    "duration": 48,
    "start_time": "2023-01-22T14:16:23.580Z"
   },
   {
    "duration": 32,
    "start_time": "2023-01-22T14:16:28.017Z"
   },
   {
    "duration": 50,
    "start_time": "2023-01-22T14:16:41.374Z"
   },
   {
    "duration": 31,
    "start_time": "2023-01-22T14:16:44.724Z"
   },
   {
    "duration": 34,
    "start_time": "2023-01-22T14:16:48.313Z"
   },
   {
    "duration": 1195,
    "start_time": "2023-01-22T14:16:59.911Z"
   },
   {
    "duration": 49,
    "start_time": "2023-01-22T14:17:05.584Z"
   },
   {
    "duration": 32,
    "start_time": "2023-01-22T14:17:10.020Z"
   },
   {
    "duration": 34,
    "start_time": "2023-01-22T14:17:16.134Z"
   },
   {
    "duration": 7,
    "start_time": "2023-01-22T14:17:20.645Z"
   },
   {
    "duration": 34,
    "start_time": "2023-01-22T14:17:29.351Z"
   },
   {
    "duration": 35,
    "start_time": "2023-01-22T14:18:02.088Z"
   },
   {
    "duration": 1140,
    "start_time": "2023-01-22T14:18:12.997Z"
   },
   {
    "duration": 44,
    "start_time": "2023-01-22T14:18:36.711Z"
   },
   {
    "duration": 45,
    "start_time": "2023-01-22T14:18:52.595Z"
   },
   {
    "duration": 35,
    "start_time": "2023-01-22T14:19:00.775Z"
   },
   {
    "duration": 40,
    "start_time": "2023-01-22T14:19:35.550Z"
   },
   {
    "duration": 39,
    "start_time": "2023-01-22T14:19:46.468Z"
   },
   {
    "duration": 49,
    "start_time": "2023-01-22T14:21:02.679Z"
   },
   {
    "duration": 38,
    "start_time": "2023-01-22T14:21:21.472Z"
   },
   {
    "duration": 7,
    "start_time": "2023-01-22T14:22:05.835Z"
   },
   {
    "duration": 8,
    "start_time": "2023-01-22T14:26:38.419Z"
   },
   {
    "duration": 47,
    "start_time": "2023-01-22T14:27:00.284Z"
   },
   {
    "duration": 50,
    "start_time": "2023-01-22T14:27:09.178Z"
   },
   {
    "duration": 49,
    "start_time": "2023-01-22T14:27:18.364Z"
   },
   {
    "duration": 894,
    "start_time": "2023-01-22T14:30:25.909Z"
   },
   {
    "duration": 36,
    "start_time": "2023-01-22T14:30:31.567Z"
   },
   {
    "duration": 46,
    "start_time": "2023-01-22T15:38:36.222Z"
   },
   {
    "duration": 411,
    "start_time": "2023-01-22T15:39:17.781Z"
   },
   {
    "duration": 216,
    "start_time": "2023-01-22T15:39:18.194Z"
   },
   {
    "duration": 16,
    "start_time": "2023-01-22T15:39:18.412Z"
   },
   {
    "duration": 27,
    "start_time": "2023-01-22T15:39:18.430Z"
   },
   {
    "duration": 2,
    "start_time": "2023-01-22T15:39:18.459Z"
   },
   {
    "duration": 8,
    "start_time": "2023-01-22T15:39:18.462Z"
   },
   {
    "duration": 11,
    "start_time": "2023-01-22T15:39:18.472Z"
   },
   {
    "duration": 19,
    "start_time": "2023-01-22T15:39:18.485Z"
   },
   {
    "duration": 34,
    "start_time": "2023-01-22T15:39:18.505Z"
   },
   {
    "duration": 16,
    "start_time": "2023-01-22T15:39:18.541Z"
   },
   {
    "duration": 25,
    "start_time": "2023-01-22T15:39:18.559Z"
   },
   {
    "duration": 66,
    "start_time": "2023-01-22T15:39:18.586Z"
   },
   {
    "duration": 79,
    "start_time": "2023-01-22T15:39:18.654Z"
   },
   {
    "duration": 71,
    "start_time": "2023-01-22T15:39:18.737Z"
   },
   {
    "duration": 35,
    "start_time": "2023-01-22T15:39:18.810Z"
   },
   {
    "duration": 10,
    "start_time": "2023-01-22T15:39:18.847Z"
   },
   {
    "duration": 6,
    "start_time": "2023-01-22T15:39:18.859Z"
   },
   {
    "duration": 5,
    "start_time": "2023-01-22T15:39:18.867Z"
   },
   {
    "duration": 5,
    "start_time": "2023-01-22T15:39:18.873Z"
   },
   {
    "duration": 24,
    "start_time": "2023-01-22T15:39:18.879Z"
   },
   {
    "duration": 8,
    "start_time": "2023-01-22T15:39:18.905Z"
   },
   {
    "duration": 7,
    "start_time": "2023-01-22T15:39:18.915Z"
   },
   {
    "duration": 6,
    "start_time": "2023-01-22T15:39:18.923Z"
   },
   {
    "duration": 5,
    "start_time": "2023-01-22T15:39:18.930Z"
   },
   {
    "duration": 9,
    "start_time": "2023-01-22T15:39:18.936Z"
   },
   {
    "duration": 5,
    "start_time": "2023-01-22T15:39:18.946Z"
   },
   {
    "duration": 5,
    "start_time": "2023-01-22T15:39:18.952Z"
   },
   {
    "duration": 6,
    "start_time": "2023-01-22T15:39:18.959Z"
   },
   {
    "duration": 9,
    "start_time": "2023-01-22T15:39:18.966Z"
   },
   {
    "duration": 69,
    "start_time": "2023-01-22T15:39:18.977Z"
   },
   {
    "duration": 0,
    "start_time": "2023-01-22T15:39:19.048Z"
   },
   {
    "duration": 0,
    "start_time": "2023-01-22T15:39:19.050Z"
   },
   {
    "duration": 0,
    "start_time": "2023-01-22T15:39:19.051Z"
   },
   {
    "duration": 0,
    "start_time": "2023-01-22T15:39:19.053Z"
   },
   {
    "duration": 0,
    "start_time": "2023-01-22T15:39:19.054Z"
   },
   {
    "duration": 0,
    "start_time": "2023-01-22T15:39:19.055Z"
   },
   {
    "duration": 0,
    "start_time": "2023-01-22T15:39:19.057Z"
   },
   {
    "duration": 0,
    "start_time": "2023-01-22T15:39:19.058Z"
   },
   {
    "duration": 9,
    "start_time": "2023-01-22T15:39:28.991Z"
   },
   {
    "duration": 5,
    "start_time": "2023-01-22T15:40:04.204Z"
   },
   {
    "duration": 33,
    "start_time": "2023-01-22T15:40:46.572Z"
   },
   {
    "duration": 5,
    "start_time": "2023-01-22T15:41:17.547Z"
   },
   {
    "duration": 5,
    "start_time": "2023-01-22T15:42:41.058Z"
   },
   {
    "duration": 7,
    "start_time": "2023-01-22T15:43:03.088Z"
   },
   {
    "duration": 34,
    "start_time": "2023-01-22T15:43:33.900Z"
   },
   {
    "duration": 24,
    "start_time": "2023-01-22T15:44:18.164Z"
   },
   {
    "duration": 6,
    "start_time": "2023-01-22T15:45:39.717Z"
   },
   {
    "duration": 90,
    "start_time": "2023-01-22T15:46:10.651Z"
   },
   {
    "duration": 99,
    "start_time": "2023-01-22T15:47:26.853Z"
   },
   {
    "duration": 12,
    "start_time": "2023-01-22T15:48:08.602Z"
   },
   {
    "duration": 12,
    "start_time": "2023-01-22T15:48:13.649Z"
   },
   {
    "duration": 13,
    "start_time": "2023-01-22T15:48:20.874Z"
   },
   {
    "duration": 10,
    "start_time": "2023-01-22T15:50:53.717Z"
   },
   {
    "duration": 8,
    "start_time": "2023-01-22T15:51:08.074Z"
   },
   {
    "duration": 13,
    "start_time": "2023-01-22T15:51:14.684Z"
   },
   {
    "duration": 33,
    "start_time": "2023-01-22T15:53:15.893Z"
   },
   {
    "duration": 38,
    "start_time": "2023-01-22T15:53:27.333Z"
   },
   {
    "duration": 13,
    "start_time": "2023-01-22T15:54:54.613Z"
   },
   {
    "duration": 31,
    "start_time": "2023-01-22T15:56:10.906Z"
   },
   {
    "duration": 13,
    "start_time": "2023-01-22T15:56:30.486Z"
   },
   {
    "duration": 4,
    "start_time": "2023-01-22T16:06:46.826Z"
   },
   {
    "duration": 4,
    "start_time": "2023-01-22T16:08:44.724Z"
   },
   {
    "duration": 15,
    "start_time": "2023-01-22T16:12:16.249Z"
   },
   {
    "duration": 23,
    "start_time": "2023-01-22T16:20:04.028Z"
   },
   {
    "duration": 16,
    "start_time": "2023-01-22T16:20:50.307Z"
   },
   {
    "duration": 10,
    "start_time": "2023-01-22T16:20:53.284Z"
   },
   {
    "duration": 21,
    "start_time": "2023-01-22T16:20:56.014Z"
   },
   {
    "duration": 9,
    "start_time": "2023-01-22T16:20:57.609Z"
   },
   {
    "duration": 16,
    "start_time": "2023-01-22T16:20:59.182Z"
   },
   {
    "duration": 21,
    "start_time": "2023-01-22T16:21:42.772Z"
   },
   {
    "duration": 21,
    "start_time": "2023-01-22T16:21:44.822Z"
   },
   {
    "duration": 22,
    "start_time": "2023-01-22T16:21:46.392Z"
   },
   {
    "duration": 22,
    "start_time": "2023-01-22T16:21:47.973Z"
   },
   {
    "duration": 25,
    "start_time": "2023-01-22T16:21:49.715Z"
   },
   {
    "duration": 11,
    "start_time": "2023-01-22T16:23:23.442Z"
   },
   {
    "duration": 11,
    "start_time": "2023-01-22T16:24:12.936Z"
   },
   {
    "duration": 10,
    "start_time": "2023-01-22T16:24:19.408Z"
   },
   {
    "duration": 8,
    "start_time": "2023-01-22T16:25:22.352Z"
   },
   {
    "duration": 18,
    "start_time": "2023-01-22T16:26:05.072Z"
   },
   {
    "duration": 13,
    "start_time": "2023-01-22T16:26:09.609Z"
   },
   {
    "duration": 12,
    "start_time": "2023-01-22T16:27:11.692Z"
   },
   {
    "duration": 13,
    "start_time": "2023-01-22T16:28:58.927Z"
   },
   {
    "duration": 14,
    "start_time": "2023-01-22T16:29:38.801Z"
   },
   {
    "duration": 15,
    "start_time": "2023-01-22T16:29:52.963Z"
   },
   {
    "duration": 15,
    "start_time": "2023-01-22T16:30:12.744Z"
   },
   {
    "duration": 16,
    "start_time": "2023-01-22T16:34:35.690Z"
   },
   {
    "duration": 14,
    "start_time": "2023-01-22T16:40:45.667Z"
   },
   {
    "duration": 17,
    "start_time": "2023-01-22T16:41:08.241Z"
   },
   {
    "duration": 7,
    "start_time": "2023-01-22T16:42:17.370Z"
   },
   {
    "duration": 7,
    "start_time": "2023-01-22T16:42:27.027Z"
   },
   {
    "duration": 12,
    "start_time": "2023-01-22T16:42:35.672Z"
   },
   {
    "duration": 6,
    "start_time": "2023-01-22T16:48:59.014Z"
   },
   {
    "duration": 9,
    "start_time": "2023-01-22T16:49:05.831Z"
   },
   {
    "duration": 13,
    "start_time": "2023-01-22T16:53:25.107Z"
   },
   {
    "duration": 40,
    "start_time": "2023-01-22T16:53:35.606Z"
   },
   {
    "duration": 34,
    "start_time": "2023-01-22T16:53:38.383Z"
   },
   {
    "duration": 32,
    "start_time": "2023-01-22T16:53:46.830Z"
   },
   {
    "duration": 19,
    "start_time": "2023-01-22T16:54:32.808Z"
   },
   {
    "duration": 9,
    "start_time": "2023-01-22T16:55:02.681Z"
   },
   {
    "duration": 18,
    "start_time": "2023-01-22T16:55:15.367Z"
   },
   {
    "duration": 5,
    "start_time": "2023-01-22T17:05:16.337Z"
   },
   {
    "duration": 4,
    "start_time": "2023-01-22T17:05:23.009Z"
   },
   {
    "duration": 7,
    "start_time": "2023-01-22T17:05:34.043Z"
   },
   {
    "duration": 5,
    "start_time": "2023-01-22T17:05:41.867Z"
   },
   {
    "duration": 76,
    "start_time": "2023-01-22T17:06:58.668Z"
   },
   {
    "duration": 94,
    "start_time": "2023-01-22T17:07:24.369Z"
   },
   {
    "duration": 67,
    "start_time": "2023-01-22T17:07:31.868Z"
   },
   {
    "duration": 4,
    "start_time": "2023-01-22T17:07:49.582Z"
   },
   {
    "duration": 4,
    "start_time": "2023-01-22T17:07:52.823Z"
   },
   {
    "duration": 7,
    "start_time": "2023-01-22T17:07:56.306Z"
   },
   {
    "duration": 5,
    "start_time": "2023-01-22T17:10:06.307Z"
   },
   {
    "duration": 5,
    "start_time": "2023-01-22T17:10:31.505Z"
   },
   {
    "duration": 5,
    "start_time": "2023-01-22T17:11:00.513Z"
   },
   {
    "duration": 403,
    "start_time": "2023-01-22T17:11:46.805Z"
   },
   {
    "duration": 189,
    "start_time": "2023-01-22T17:11:47.211Z"
   },
   {
    "duration": 19,
    "start_time": "2023-01-22T17:11:47.402Z"
   },
   {
    "duration": 39,
    "start_time": "2023-01-22T17:11:47.423Z"
   },
   {
    "duration": 3,
    "start_time": "2023-01-22T17:11:47.465Z"
   },
   {
    "duration": 17,
    "start_time": "2023-01-22T17:11:47.470Z"
   },
   {
    "duration": 23,
    "start_time": "2023-01-22T17:11:47.489Z"
   },
   {
    "duration": 13,
    "start_time": "2023-01-22T17:11:47.514Z"
   },
   {
    "duration": 62,
    "start_time": "2023-01-22T17:11:47.529Z"
   },
   {
    "duration": 33,
    "start_time": "2023-01-22T17:11:47.593Z"
   },
   {
    "duration": 24,
    "start_time": "2023-01-22T17:11:47.628Z"
   },
   {
    "duration": 73,
    "start_time": "2023-01-22T17:11:47.654Z"
   },
   {
    "duration": 79,
    "start_time": "2023-01-22T17:11:47.729Z"
   },
   {
    "duration": 68,
    "start_time": "2023-01-22T17:11:47.811Z"
   },
   {
    "duration": 49,
    "start_time": "2023-01-22T17:11:47.881Z"
   },
   {
    "duration": 14,
    "start_time": "2023-01-22T17:11:47.932Z"
   },
   {
    "duration": 40,
    "start_time": "2023-01-22T17:11:47.948Z"
   },
   {
    "duration": 13,
    "start_time": "2023-01-22T17:11:48.004Z"
   },
   {
    "duration": 13,
    "start_time": "2023-01-22T17:11:48.019Z"
   },
   {
    "duration": 16,
    "start_time": "2023-01-22T17:11:48.034Z"
   },
   {
    "duration": 17,
    "start_time": "2023-01-22T17:11:48.052Z"
   },
   {
    "duration": 45,
    "start_time": "2023-01-22T17:11:48.071Z"
   },
   {
    "duration": 24,
    "start_time": "2023-01-22T17:11:48.118Z"
   },
   {
    "duration": 16,
    "start_time": "2023-01-22T17:11:48.144Z"
   },
   {
    "duration": 21,
    "start_time": "2023-01-22T17:11:48.162Z"
   },
   {
    "duration": 29,
    "start_time": "2023-01-22T17:11:48.185Z"
   },
   {
    "duration": 15,
    "start_time": "2023-01-22T17:11:48.215Z"
   },
   {
    "duration": 26,
    "start_time": "2023-01-22T17:11:48.231Z"
   },
   {
    "duration": 9,
    "start_time": "2023-01-22T17:11:48.259Z"
   },
   {
    "duration": 9,
    "start_time": "2023-01-22T17:11:48.270Z"
   },
   {
    "duration": 10,
    "start_time": "2023-01-22T17:11:48.280Z"
   },
   {
    "duration": 14,
    "start_time": "2023-01-22T17:11:48.292Z"
   },
   {
    "duration": 6,
    "start_time": "2023-01-22T17:11:48.308Z"
   },
   {
    "duration": 6,
    "start_time": "2023-01-22T17:11:48.316Z"
   },
   {
    "duration": 9,
    "start_time": "2023-01-22T17:11:48.323Z"
   },
   {
    "duration": 20,
    "start_time": "2023-01-22T17:11:48.333Z"
   },
   {
    "duration": 13,
    "start_time": "2023-01-22T17:11:48.355Z"
   },
   {
    "duration": 13,
    "start_time": "2023-01-22T17:11:48.370Z"
   },
   {
    "duration": 5,
    "start_time": "2023-01-22T17:11:50.342Z"
   },
   {
    "duration": 73,
    "start_time": "2023-01-22T17:11:54.808Z"
   },
   {
    "duration": 391,
    "start_time": "2023-01-22T17:12:05.017Z"
   },
   {
    "duration": 160,
    "start_time": "2023-01-22T17:12:05.410Z"
   },
   {
    "duration": 17,
    "start_time": "2023-01-22T17:12:05.571Z"
   },
   {
    "duration": 50,
    "start_time": "2023-01-22T17:12:05.589Z"
   },
   {
    "duration": 34,
    "start_time": "2023-01-22T17:12:05.641Z"
   },
   {
    "duration": 40,
    "start_time": "2023-01-22T17:12:05.677Z"
   },
   {
    "duration": 52,
    "start_time": "2023-01-22T17:12:05.719Z"
   },
   {
    "duration": 94,
    "start_time": "2023-01-22T17:12:05.773Z"
   },
   {
    "duration": 71,
    "start_time": "2023-01-22T17:12:05.868Z"
   },
   {
    "duration": 60,
    "start_time": "2023-01-22T17:12:05.940Z"
   },
   {
    "duration": 78,
    "start_time": "2023-01-22T17:12:06.001Z"
   },
   {
    "duration": 108,
    "start_time": "2023-01-22T17:12:06.080Z"
   },
   {
    "duration": 70,
    "start_time": "2023-01-22T17:12:06.190Z"
   },
   {
    "duration": 77,
    "start_time": "2023-01-22T17:12:06.264Z"
   },
   {
    "duration": 36,
    "start_time": "2023-01-22T17:12:06.343Z"
   },
   {
    "duration": 29,
    "start_time": "2023-01-22T17:12:06.381Z"
   },
   {
    "duration": 62,
    "start_time": "2023-01-22T17:12:06.412Z"
   },
   {
    "duration": 33,
    "start_time": "2023-01-22T17:12:06.476Z"
   },
   {
    "duration": 20,
    "start_time": "2023-01-22T17:12:06.511Z"
   },
   {
    "duration": 38,
    "start_time": "2023-01-22T17:12:06.534Z"
   },
   {
    "duration": 35,
    "start_time": "2023-01-22T17:12:06.574Z"
   },
   {
    "duration": 25,
    "start_time": "2023-01-22T17:12:06.611Z"
   },
   {
    "duration": 32,
    "start_time": "2023-01-22T17:12:06.638Z"
   },
   {
    "duration": 30,
    "start_time": "2023-01-22T17:12:06.672Z"
   },
   {
    "duration": 43,
    "start_time": "2023-01-22T17:12:06.704Z"
   },
   {
    "duration": 30,
    "start_time": "2023-01-22T17:12:06.749Z"
   },
   {
    "duration": 13,
    "start_time": "2023-01-22T17:12:06.781Z"
   },
   {
    "duration": 34,
    "start_time": "2023-01-22T17:12:06.796Z"
   },
   {
    "duration": 16,
    "start_time": "2023-01-22T17:12:06.832Z"
   },
   {
    "duration": 76,
    "start_time": "2023-01-22T17:12:06.850Z"
   },
   {
    "duration": 0,
    "start_time": "2023-01-22T17:12:06.928Z"
   },
   {
    "duration": 0,
    "start_time": "2023-01-22T17:12:06.930Z"
   },
   {
    "duration": 0,
    "start_time": "2023-01-22T17:12:06.932Z"
   },
   {
    "duration": 0,
    "start_time": "2023-01-22T17:12:06.933Z"
   },
   {
    "duration": 0,
    "start_time": "2023-01-22T17:12:06.935Z"
   },
   {
    "duration": 0,
    "start_time": "2023-01-22T17:12:06.936Z"
   },
   {
    "duration": 0,
    "start_time": "2023-01-22T17:12:06.937Z"
   },
   {
    "duration": 0,
    "start_time": "2023-01-22T17:12:06.938Z"
   },
   {
    "duration": 7,
    "start_time": "2023-01-22T17:12:18.378Z"
   },
   {
    "duration": 5,
    "start_time": "2023-01-22T17:12:20.974Z"
   },
   {
    "duration": 18,
    "start_time": "2023-01-22T17:13:02.470Z"
   },
   {
    "duration": 15,
    "start_time": "2023-01-22T17:13:18.709Z"
   },
   {
    "duration": 23,
    "start_time": "2023-01-22T17:14:29.523Z"
   },
   {
    "duration": 11,
    "start_time": "2023-01-22T17:14:31.963Z"
   },
   {
    "duration": 47,
    "start_time": "2023-01-22T17:15:33.150Z"
   },
   {
    "duration": 64,
    "start_time": "2023-01-22T17:16:24.723Z"
   },
   {
    "duration": 1126,
    "start_time": "2023-01-22T17:16:44.802Z"
   },
   {
    "duration": 15,
    "start_time": "2023-01-22T17:17:03.050Z"
   },
   {
    "duration": 13,
    "start_time": "2023-01-22T17:17:35.054Z"
   },
   {
    "duration": 17,
    "start_time": "2023-01-22T17:17:42.571Z"
   },
   {
    "duration": 16,
    "start_time": "2023-01-22T17:17:49.685Z"
   },
   {
    "duration": 13,
    "start_time": "2023-01-22T17:18:29.950Z"
   },
   {
    "duration": 12,
    "start_time": "2023-01-22T17:18:47.012Z"
   },
   {
    "duration": 16,
    "start_time": "2023-01-22T17:18:57.190Z"
   },
   {
    "duration": 11,
    "start_time": "2023-01-22T17:20:44.232Z"
   },
   {
    "duration": 15,
    "start_time": "2023-01-22T17:24:32.372Z"
   },
   {
    "duration": 405,
    "start_time": "2023-01-22T17:24:59.853Z"
   },
   {
    "duration": 170,
    "start_time": "2023-01-22T17:25:00.261Z"
   },
   {
    "duration": 20,
    "start_time": "2023-01-22T17:25:00.433Z"
   },
   {
    "duration": 58,
    "start_time": "2023-01-22T17:25:00.455Z"
   },
   {
    "duration": 36,
    "start_time": "2023-01-22T17:25:00.514Z"
   },
   {
    "duration": 50,
    "start_time": "2023-01-22T17:25:00.553Z"
   },
   {
    "duration": 92,
    "start_time": "2023-01-22T17:25:00.605Z"
   },
   {
    "duration": 49,
    "start_time": "2023-01-22T17:25:00.699Z"
   },
   {
    "duration": 62,
    "start_time": "2023-01-22T17:25:00.750Z"
   },
   {
    "duration": 76,
    "start_time": "2023-01-22T17:25:00.815Z"
   },
   {
    "duration": 39,
    "start_time": "2023-01-22T17:25:00.893Z"
   },
   {
    "duration": 133,
    "start_time": "2023-01-22T17:25:00.934Z"
   },
   {
    "duration": 85,
    "start_time": "2023-01-22T17:25:01.069Z"
   },
   {
    "duration": 77,
    "start_time": "2023-01-22T17:25:01.156Z"
   },
   {
    "duration": 39,
    "start_time": "2023-01-22T17:25:01.234Z"
   },
   {
    "duration": 53,
    "start_time": "2023-01-22T17:25:01.275Z"
   },
   {
    "duration": 60,
    "start_time": "2023-01-22T17:25:01.330Z"
   },
   {
    "duration": 13,
    "start_time": "2023-01-22T17:25:01.391Z"
   },
   {
    "duration": 98,
    "start_time": "2023-01-22T17:25:01.406Z"
   },
   {
    "duration": 84,
    "start_time": "2023-01-22T17:25:01.506Z"
   },
   {
    "duration": 57,
    "start_time": "2023-01-22T17:25:01.592Z"
   },
   {
    "duration": 96,
    "start_time": "2023-01-22T17:25:01.651Z"
   },
   {
    "duration": 48,
    "start_time": "2023-01-22T17:25:01.748Z"
   },
   {
    "duration": 52,
    "start_time": "2023-01-22T17:25:01.798Z"
   },
   {
    "duration": 70,
    "start_time": "2023-01-22T17:25:01.852Z"
   },
   {
    "duration": 45,
    "start_time": "2023-01-22T17:25:01.923Z"
   },
   {
    "duration": 33,
    "start_time": "2023-01-22T17:25:01.970Z"
   },
   {
    "duration": 71,
    "start_time": "2023-01-22T17:25:02.006Z"
   },
   {
    "duration": 36,
    "start_time": "2023-01-22T17:25:02.079Z"
   },
   {
    "duration": 62,
    "start_time": "2023-01-22T17:25:02.117Z"
   },
   {
    "duration": 82,
    "start_time": "2023-01-22T17:25:02.181Z"
   },
   {
    "duration": 50,
    "start_time": "2023-01-22T17:25:02.264Z"
   },
   {
    "duration": 59,
    "start_time": "2023-01-22T17:25:02.315Z"
   },
   {
    "duration": 49,
    "start_time": "2023-01-22T17:25:02.376Z"
   },
   {
    "duration": 47,
    "start_time": "2023-01-22T17:25:02.426Z"
   },
   {
    "duration": 78,
    "start_time": "2023-01-22T17:25:02.475Z"
   },
   {
    "duration": 42,
    "start_time": "2023-01-22T17:25:02.554Z"
   },
   {
    "duration": 40,
    "start_time": "2023-01-22T17:25:02.597Z"
   },
   {
    "duration": 7,
    "start_time": "2023-01-22T17:25:41.733Z"
   },
   {
    "duration": 7,
    "start_time": "2023-01-22T17:26:21.662Z"
   },
   {
    "duration": 4,
    "start_time": "2023-01-22T17:26:44.682Z"
   },
   {
    "duration": 76,
    "start_time": "2023-01-22T17:48:57.637Z"
   },
   {
    "duration": 399,
    "start_time": "2023-01-22T17:49:08.613Z"
   },
   {
    "duration": 154,
    "start_time": "2023-01-22T17:49:09.014Z"
   },
   {
    "duration": 17,
    "start_time": "2023-01-22T17:49:09.170Z"
   },
   {
    "duration": 82,
    "start_time": "2023-01-22T17:49:09.189Z"
   },
   {
    "duration": 3,
    "start_time": "2023-01-22T17:49:09.274Z"
   },
   {
    "duration": 11,
    "start_time": "2023-01-22T17:49:09.279Z"
   },
   {
    "duration": 13,
    "start_time": "2023-01-22T17:49:09.292Z"
   },
   {
    "duration": 12,
    "start_time": "2023-01-22T17:49:09.306Z"
   },
   {
    "duration": 40,
    "start_time": "2023-01-22T17:49:09.319Z"
   },
   {
    "duration": 42,
    "start_time": "2023-01-22T17:49:09.360Z"
   },
   {
    "duration": 33,
    "start_time": "2023-01-22T17:49:09.404Z"
   },
   {
    "duration": 70,
    "start_time": "2023-01-22T17:49:09.438Z"
   },
   {
    "duration": 69,
    "start_time": "2023-01-22T17:49:09.509Z"
   },
   {
    "duration": 68,
    "start_time": "2023-01-22T17:49:09.581Z"
   },
   {
    "duration": 34,
    "start_time": "2023-01-22T17:49:09.650Z"
   },
   {
    "duration": 22,
    "start_time": "2023-01-22T17:49:09.686Z"
   },
   {
    "duration": 35,
    "start_time": "2023-01-22T17:49:09.709Z"
   },
   {
    "duration": 12,
    "start_time": "2023-01-22T17:49:09.746Z"
   },
   {
    "duration": 15,
    "start_time": "2023-01-22T17:49:09.760Z"
   },
   {
    "duration": 40,
    "start_time": "2023-01-22T17:49:09.777Z"
   },
   {
    "duration": 22,
    "start_time": "2023-01-22T17:49:09.818Z"
   },
   {
    "duration": 17,
    "start_time": "2023-01-22T17:49:09.842Z"
   },
   {
    "duration": 14,
    "start_time": "2023-01-22T17:49:09.861Z"
   },
   {
    "duration": 37,
    "start_time": "2023-01-22T17:49:09.877Z"
   },
   {
    "duration": 25,
    "start_time": "2023-01-22T17:49:09.917Z"
   },
   {
    "duration": 22,
    "start_time": "2023-01-22T17:49:09.944Z"
   },
   {
    "duration": 81,
    "start_time": "2023-01-22T17:49:09.967Z"
   },
   {
    "duration": 0,
    "start_time": "2023-01-22T17:49:10.050Z"
   },
   {
    "duration": 0,
    "start_time": "2023-01-22T17:49:10.052Z"
   },
   {
    "duration": 0,
    "start_time": "2023-01-22T17:49:10.054Z"
   },
   {
    "duration": 0,
    "start_time": "2023-01-22T17:49:10.056Z"
   },
   {
    "duration": 0,
    "start_time": "2023-01-22T17:49:10.057Z"
   },
   {
    "duration": 0,
    "start_time": "2023-01-22T17:49:10.058Z"
   },
   {
    "duration": 0,
    "start_time": "2023-01-22T17:49:10.059Z"
   },
   {
    "duration": 0,
    "start_time": "2023-01-22T17:49:10.061Z"
   },
   {
    "duration": 0,
    "start_time": "2023-01-22T17:49:10.062Z"
   },
   {
    "duration": 1,
    "start_time": "2023-01-22T17:49:10.063Z"
   },
   {
    "duration": 0,
    "start_time": "2023-01-22T17:49:10.065Z"
   },
   {
    "duration": 11,
    "start_time": "2023-01-22T17:49:16.632Z"
   }
  ],
  "colab": {
   "collapsed_sections": [
    "E0vqbgi9ay0H",
    "VUC88oWjTJw2"
   ],
   "name": "automatization_template_upd4.ipynb",
   "provenance": []
  },
  "kernelspec": {
   "display_name": "Python 3 (ipykernel)",
   "language": "python",
   "name": "python3"
  },
  "language_info": {
   "codemirror_mode": {
    "name": "ipython",
    "version": 3
   },
   "file_extension": ".py",
   "mimetype": "text/x-python",
   "name": "python",
   "nbconvert_exporter": "python",
   "pygments_lexer": "ipython3",
   "version": "3.9.5"
  },
  "toc": {
   "base_numbering": 1,
   "nav_menu": {
    "height": "215px",
    "width": "403px"
   },
   "number_sections": true,
   "sideBar": true,
   "skip_h1_title": true,
   "title_cell": "Table of Contents",
   "title_sidebar": "Contents",
   "toc_cell": false,
   "toc_position": {
    "height": "calc(100% - 180px)",
    "left": "10px",
    "top": "150px",
    "width": "285.825px"
   },
   "toc_section_display": true,
   "toc_window_display": false
  }
 },
 "nbformat": 4,
 "nbformat_minor": 1
}
