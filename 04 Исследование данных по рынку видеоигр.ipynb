{
 "cells": [
  {
   "cell_type": "markdown",
   "metadata": {},
   "source": [
    "## Исследование данных по рынку видеоигр"
   ]
  },
  {
   "cell_type": "markdown",
   "metadata": {},
   "source": [
    "Вы работаете в интернет-магазине «Стримчик», который продаёт по всему миру компьютерные игры. Из открытых источников доступны исторические данные о продажах игр, оценки пользователей и экспертов, жанры и платформы (например, Xbox или PlayStation). Вам нужно выявить определяющие успешность игры закономерности. Это позволит сделать ставку на потенциально популярный продукт и спланировать рекламные кампании.\n",
    "Перед вами данные до 2016 года. Представим, что сейчас декабрь 2016 г., и вы планируете кампанию на 2017-й. Нужно отработать принцип работы с данными. Неважно, прогнозируете ли вы продажи на 2017 год по данным 2016-го или же 2027-й — по данным 2026 года.\n",
    "В наборе данных попадается аббревиатура ESRB (Entertainment Software Rating Board) — это ассоциация, определяющая возрастной рейтинг компьютерных игр. ESRB оценивает игровой контент и присваивает ему подходящую возрастную категорию, например, «Для взрослых», «Для детей младшего возраста» или «Для подростков»."
   ]
  },
  {
   "cell_type": "markdown",
   "metadata": {},
   "source": [
    "### Описание данных"
   ]
  },
  {
   "cell_type": "markdown",
   "metadata": {},
   "source": [
    "- `Name` — название игры\n",
    "- `Platform` — платформа\n",
    "- `Year_of_Release` — год выпуска\n",
    "- `Genre` — жанр игры\n",
    "- `NA_sales` — продажи в Северной Америке (миллионы проданных копий)\n",
    "- `EU_sales` — продажи в Европе (миллионы проданных копий)\n",
    "- `JP_sales` — продажи в Японии (миллионы проданных копий)\n",
    "- `Other_sales` — продажи в других странах (миллионы проданных копий)\n",
    "- `Critic_Score` — оценка критиков (максимум 100)\n",
    "- `User_Score` — оценка пользователей (максимум 10)\n",
    "- `Rating` — рейтинг от организации ESRB (англ. Entertainment Software Rating Board). Эта ассоциация определяет рейтинг компьютерных игр и присваивает им подходящую возрастную категорию."
   ]
  },
  {
   "cell_type": "markdown",
   "metadata": {},
   "source": [
    "### 1. Откройте файл с данными и изучите общую информацию"
   ]
  },
  {
   "cell_type": "code",
   "execution_count": 1,
   "metadata": {},
   "outputs": [],
   "source": [
    "import math\n",
    "import pandas as pd\n",
    "import matplotlib\n",
    "import matplotlib.pyplot as plt\n",
    "pd.set_option('display.max_columns', None)\n",
    "import seaborn as sns\n",
    "import numpy as np\n",
    "from scipy import stats as st\n",
    "pd.options.display.float_format = '{:.2f}'.format\n",
    "import warnings\n",
    "warnings.filterwarnings('ignore')"
   ]
  },
  {
   "cell_type": "code",
   "execution_count": 2,
   "metadata": {},
   "outputs": [],
   "source": [
    "data = pd.read_csv('/datasets/games.csv', sep=',')"
   ]
  },
  {
   "cell_type": "code",
   "execution_count": 3,
   "metadata": {},
   "outputs": [
    {
     "name": "stdout",
     "output_type": "stream",
     "text": [
      "<class 'pandas.core.frame.DataFrame'>\n",
      "RangeIndex: 16715 entries, 0 to 16714\n",
      "Data columns (total 11 columns):\n",
      " #   Column           Non-Null Count  Dtype  \n",
      "---  ------           --------------  -----  \n",
      " 0   Name             16713 non-null  object \n",
      " 1   Platform         16715 non-null  object \n",
      " 2   Year_of_Release  16446 non-null  float64\n",
      " 3   Genre            16713 non-null  object \n",
      " 4   NA_sales         16715 non-null  float64\n",
      " 5   EU_sales         16715 non-null  float64\n",
      " 6   JP_sales         16715 non-null  float64\n",
      " 7   Other_sales      16715 non-null  float64\n",
      " 8   Critic_Score     8137 non-null   float64\n",
      " 9   User_Score       10014 non-null  object \n",
      " 10  Rating           9949 non-null   object \n",
      "dtypes: float64(6), object(5)\n",
      "memory usage: 1.4+ MB\n"
     ]
    },
    {
     "data": {
      "text/html": [
       "<div>\n",
       "<style scoped>\n",
       "    .dataframe tbody tr th:only-of-type {\n",
       "        vertical-align: middle;\n",
       "    }\n",
       "\n",
       "    .dataframe tbody tr th {\n",
       "        vertical-align: top;\n",
       "    }\n",
       "\n",
       "    .dataframe thead th {\n",
       "        text-align: right;\n",
       "    }\n",
       "</style>\n",
       "<table border=\"1\" class=\"dataframe\">\n",
       "  <thead>\n",
       "    <tr style=\"text-align: right;\">\n",
       "      <th></th>\n",
       "      <th>Name</th>\n",
       "      <th>Platform</th>\n",
       "      <th>Year_of_Release</th>\n",
       "      <th>Genre</th>\n",
       "      <th>NA_sales</th>\n",
       "      <th>EU_sales</th>\n",
       "      <th>JP_sales</th>\n",
       "      <th>Other_sales</th>\n",
       "      <th>Critic_Score</th>\n",
       "      <th>User_Score</th>\n",
       "      <th>Rating</th>\n",
       "    </tr>\n",
       "  </thead>\n",
       "  <tbody>\n",
       "    <tr>\n",
       "      <th>172</th>\n",
       "      <td>Dr. Mario</td>\n",
       "      <td>GB</td>\n",
       "      <td>1989.00</td>\n",
       "      <td>Puzzle</td>\n",
       "      <td>2.18</td>\n",
       "      <td>0.96</td>\n",
       "      <td>2.00</td>\n",
       "      <td>0.20</td>\n",
       "      <td>NaN</td>\n",
       "      <td>NaN</td>\n",
       "      <td>NaN</td>\n",
       "    </tr>\n",
       "    <tr>\n",
       "      <th>4196</th>\n",
       "      <td>Final Fantasy Crystal Chronicles: Echoes of Time</td>\n",
       "      <td>DS</td>\n",
       "      <td>2009.00</td>\n",
       "      <td>Role-Playing</td>\n",
       "      <td>0.12</td>\n",
       "      <td>0.06</td>\n",
       "      <td>0.27</td>\n",
       "      <td>0.02</td>\n",
       "      <td>75.00</td>\n",
       "      <td>7.3</td>\n",
       "      <td>E10+</td>\n",
       "    </tr>\n",
       "    <tr>\n",
       "      <th>14434</th>\n",
       "      <td>The Legend of Heroes III: Song of the Ocean</td>\n",
       "      <td>PSP</td>\n",
       "      <td>2006.00</td>\n",
       "      <td>Role-Playing</td>\n",
       "      <td>0.03</td>\n",
       "      <td>0.00</td>\n",
       "      <td>0.00</td>\n",
       "      <td>0.00</td>\n",
       "      <td>58.00</td>\n",
       "      <td>6.1</td>\n",
       "      <td>E10+</td>\n",
       "    </tr>\n",
       "    <tr>\n",
       "      <th>5456</th>\n",
       "      <td>WWE Wrestlemania XIX</td>\n",
       "      <td>GC</td>\n",
       "      <td>2003.00</td>\n",
       "      <td>Fighting</td>\n",
       "      <td>0.26</td>\n",
       "      <td>0.07</td>\n",
       "      <td>0.00</td>\n",
       "      <td>0.01</td>\n",
       "      <td>76.00</td>\n",
       "      <td>8.7</td>\n",
       "      <td>T</td>\n",
       "    </tr>\n",
       "    <tr>\n",
       "      <th>2948</th>\n",
       "      <td>MX vs. ATV Unleashed: On the Edge</td>\n",
       "      <td>PSP</td>\n",
       "      <td>2006.00</td>\n",
       "      <td>Racing</td>\n",
       "      <td>0.64</td>\n",
       "      <td>0.00</td>\n",
       "      <td>0.00</td>\n",
       "      <td>0.05</td>\n",
       "      <td>68.00</td>\n",
       "      <td>8.1</td>\n",
       "      <td>E</td>\n",
       "    </tr>\n",
       "    <tr>\n",
       "      <th>9244</th>\n",
       "      <td>Daytona USA Championship Circuit Edition</td>\n",
       "      <td>SAT</td>\n",
       "      <td>1995.00</td>\n",
       "      <td>Racing</td>\n",
       "      <td>0.00</td>\n",
       "      <td>0.00</td>\n",
       "      <td>0.14</td>\n",
       "      <td>0.00</td>\n",
       "      <td>NaN</td>\n",
       "      <td>NaN</td>\n",
       "      <td>NaN</td>\n",
       "    </tr>\n",
       "    <tr>\n",
       "      <th>1736</th>\n",
       "      <td>Army of Two</td>\n",
       "      <td>PS3</td>\n",
       "      <td>2008.00</td>\n",
       "      <td>Shooter</td>\n",
       "      <td>0.74</td>\n",
       "      <td>0.26</td>\n",
       "      <td>0.02</td>\n",
       "      <td>0.15</td>\n",
       "      <td>74.00</td>\n",
       "      <td>7.3</td>\n",
       "      <td>M</td>\n",
       "    </tr>\n",
       "    <tr>\n",
       "      <th>8062</th>\n",
       "      <td>Corpse Party: Blood Drive</td>\n",
       "      <td>PSV</td>\n",
       "      <td>2014.00</td>\n",
       "      <td>Adventure</td>\n",
       "      <td>0.08</td>\n",
       "      <td>0.01</td>\n",
       "      <td>0.06</td>\n",
       "      <td>0.03</td>\n",
       "      <td>60.00</td>\n",
       "      <td>7.4</td>\n",
       "      <td>M</td>\n",
       "    </tr>\n",
       "    <tr>\n",
       "      <th>10800</th>\n",
       "      <td>Castlevania Double Pack</td>\n",
       "      <td>GBA</td>\n",
       "      <td>2006.00</td>\n",
       "      <td>Platform</td>\n",
       "      <td>0.07</td>\n",
       "      <td>0.03</td>\n",
       "      <td>0.00</td>\n",
       "      <td>0.00</td>\n",
       "      <td>86.00</td>\n",
       "      <td>8.4</td>\n",
       "      <td>T</td>\n",
       "    </tr>\n",
       "    <tr>\n",
       "      <th>11855</th>\n",
       "      <td>Harlem Globetrotters: World Tour</td>\n",
       "      <td>DS</td>\n",
       "      <td>2006.00</td>\n",
       "      <td>Sports</td>\n",
       "      <td>0.07</td>\n",
       "      <td>0.00</td>\n",
       "      <td>0.00</td>\n",
       "      <td>0.01</td>\n",
       "      <td>NaN</td>\n",
       "      <td>tbd</td>\n",
       "      <td>E</td>\n",
       "    </tr>\n",
       "    <tr>\n",
       "      <th>13289</th>\n",
       "      <td>Reader Rabbit 2nd Grade</td>\n",
       "      <td>Wii</td>\n",
       "      <td>NaN</td>\n",
       "      <td>Misc</td>\n",
       "      <td>0.04</td>\n",
       "      <td>0.00</td>\n",
       "      <td>0.00</td>\n",
       "      <td>0.00</td>\n",
       "      <td>NaN</td>\n",
       "      <td>tbd</td>\n",
       "      <td>E</td>\n",
       "    </tr>\n",
       "    <tr>\n",
       "      <th>6469</th>\n",
       "      <td>Etrian Odyssey Untold: The Millennium Girl</td>\n",
       "      <td>3DS</td>\n",
       "      <td>2013.00</td>\n",
       "      <td>Role-Playing</td>\n",
       "      <td>0.10</td>\n",
       "      <td>0.01</td>\n",
       "      <td>0.14</td>\n",
       "      <td>0.01</td>\n",
       "      <td>80.00</td>\n",
       "      <td>8.2</td>\n",
       "      <td>T</td>\n",
       "    </tr>\n",
       "    <tr>\n",
       "      <th>14928</th>\n",
       "      <td>Lost Planet 2</td>\n",
       "      <td>PC</td>\n",
       "      <td>2010.00</td>\n",
       "      <td>Shooter</td>\n",
       "      <td>0.00</td>\n",
       "      <td>0.02</td>\n",
       "      <td>0.00</td>\n",
       "      <td>0.00</td>\n",
       "      <td>63.00</td>\n",
       "      <td>6.3</td>\n",
       "      <td>T</td>\n",
       "    </tr>\n",
       "    <tr>\n",
       "      <th>13824</th>\n",
       "      <td>Super Robot Gakuen</td>\n",
       "      <td>DS</td>\n",
       "      <td>2009.00</td>\n",
       "      <td>Adventure</td>\n",
       "      <td>0.00</td>\n",
       "      <td>0.00</td>\n",
       "      <td>0.04</td>\n",
       "      <td>0.00</td>\n",
       "      <td>NaN</td>\n",
       "      <td>NaN</td>\n",
       "      <td>NaN</td>\n",
       "    </tr>\n",
       "    <tr>\n",
       "      <th>13973</th>\n",
       "      <td>Lost Planet 3</td>\n",
       "      <td>PC</td>\n",
       "      <td>2013.00</td>\n",
       "      <td>Shooter</td>\n",
       "      <td>0.00</td>\n",
       "      <td>0.04</td>\n",
       "      <td>0.00</td>\n",
       "      <td>0.00</td>\n",
       "      <td>61.00</td>\n",
       "      <td>6.2</td>\n",
       "      <td>T</td>\n",
       "    </tr>\n",
       "  </tbody>\n",
       "</table>\n",
       "</div>"
      ],
      "text/plain": [
       "                                                   Name Platform  \\\n",
       "172                                           Dr. Mario       GB   \n",
       "4196   Final Fantasy Crystal Chronicles: Echoes of Time       DS   \n",
       "14434       The Legend of Heroes III: Song of the Ocean      PSP   \n",
       "5456                               WWE Wrestlemania XIX       GC   \n",
       "2948                  MX vs. ATV Unleashed: On the Edge      PSP   \n",
       "9244           Daytona USA Championship Circuit Edition      SAT   \n",
       "1736                                        Army of Two      PS3   \n",
       "8062                          Corpse Party: Blood Drive      PSV   \n",
       "10800                           Castlevania Double Pack      GBA   \n",
       "11855                  Harlem Globetrotters: World Tour       DS   \n",
       "13289                           Reader Rabbit 2nd Grade      Wii   \n",
       "6469         Etrian Odyssey Untold: The Millennium Girl      3DS   \n",
       "14928                                     Lost Planet 2       PC   \n",
       "13824                                Super Robot Gakuen       DS   \n",
       "13973                                     Lost Planet 3       PC   \n",
       "\n",
       "       Year_of_Release         Genre  NA_sales  EU_sales  JP_sales  \\\n",
       "172            1989.00        Puzzle      2.18      0.96      2.00   \n",
       "4196           2009.00  Role-Playing      0.12      0.06      0.27   \n",
       "14434          2006.00  Role-Playing      0.03      0.00      0.00   \n",
       "5456           2003.00      Fighting      0.26      0.07      0.00   \n",
       "2948           2006.00        Racing      0.64      0.00      0.00   \n",
       "9244           1995.00        Racing      0.00      0.00      0.14   \n",
       "1736           2008.00       Shooter      0.74      0.26      0.02   \n",
       "8062           2014.00     Adventure      0.08      0.01      0.06   \n",
       "10800          2006.00      Platform      0.07      0.03      0.00   \n",
       "11855          2006.00        Sports      0.07      0.00      0.00   \n",
       "13289              NaN          Misc      0.04      0.00      0.00   \n",
       "6469           2013.00  Role-Playing      0.10      0.01      0.14   \n",
       "14928          2010.00       Shooter      0.00      0.02      0.00   \n",
       "13824          2009.00     Adventure      0.00      0.00      0.04   \n",
       "13973          2013.00       Shooter      0.00      0.04      0.00   \n",
       "\n",
       "       Other_sales  Critic_Score User_Score Rating  \n",
       "172           0.20           NaN        NaN    NaN  \n",
       "4196          0.02         75.00        7.3   E10+  \n",
       "14434         0.00         58.00        6.1   E10+  \n",
       "5456          0.01         76.00        8.7      T  \n",
       "2948          0.05         68.00        8.1      E  \n",
       "9244          0.00           NaN        NaN    NaN  \n",
       "1736          0.15         74.00        7.3      M  \n",
       "8062          0.03         60.00        7.4      M  \n",
       "10800         0.00         86.00        8.4      T  \n",
       "11855         0.01           NaN        tbd      E  \n",
       "13289         0.00           NaN        tbd      E  \n",
       "6469          0.01         80.00        8.2      T  \n",
       "14928         0.00         63.00        6.3      T  \n",
       "13824         0.00           NaN        NaN    NaN  \n",
       "13973         0.00         61.00        6.2      T  "
      ]
     },
     "execution_count": 3,
     "metadata": {},
     "output_type": "execute_result"
    }
   ],
   "source": [
    "data.info()\n",
    "data.sample(15)"
   ]
  },
  {
   "cell_type": "code",
   "execution_count": 4,
   "metadata": {},
   "outputs": [
    {
     "data": {
      "image/png": "[encoded data removed]",
      "text/plain": [
       "<Figure size 1080x1440 with 6 Axes>"
      ]
     },
     "metadata": {
      "needs_background": "light"
     },
     "output_type": "display_data"
    }
   ],
   "source": [
    "data.hist(bins=50, figsize=(15,20))\n",
    "plt.show()"
   ]
  },
  {
   "cell_type": "code",
   "execution_count": 5,
   "metadata": {},
   "outputs": [
    {
     "data": {
      "text/html": [
       "<div>\n",
       "<style scoped>\n",
       "    .dataframe tbody tr th:only-of-type {\n",
       "        vertical-align: middle;\n",
       "    }\n",
       "\n",
       "    .dataframe tbody tr th {\n",
       "        vertical-align: top;\n",
       "    }\n",
       "\n",
       "    .dataframe thead th {\n",
       "        text-align: right;\n",
       "    }\n",
       "</style>\n",
       "<table border=\"1\" class=\"dataframe\">\n",
       "  <thead>\n",
       "    <tr style=\"text-align: right;\">\n",
       "      <th></th>\n",
       "      <th>Year_of_Release</th>\n",
       "      <th>NA_sales</th>\n",
       "      <th>EU_sales</th>\n",
       "      <th>JP_sales</th>\n",
       "      <th>Other_sales</th>\n",
       "      <th>Critic_Score</th>\n",
       "    </tr>\n",
       "  </thead>\n",
       "  <tbody>\n",
       "    <tr>\n",
       "      <th>count</th>\n",
       "      <td>16446.00</td>\n",
       "      <td>16715.00</td>\n",
       "      <td>16715.00</td>\n",
       "      <td>16715.00</td>\n",
       "      <td>16715.00</td>\n",
       "      <td>8137.00</td>\n",
       "    </tr>\n",
       "    <tr>\n",
       "      <th>mean</th>\n",
       "      <td>2006.48</td>\n",
       "      <td>0.26</td>\n",
       "      <td>0.15</td>\n",
       "      <td>0.08</td>\n",
       "      <td>0.05</td>\n",
       "      <td>68.97</td>\n",
       "    </tr>\n",
       "    <tr>\n",
       "      <th>std</th>\n",
       "      <td>5.88</td>\n",
       "      <td>0.81</td>\n",
       "      <td>0.50</td>\n",
       "      <td>0.31</td>\n",
       "      <td>0.19</td>\n",
       "      <td>13.94</td>\n",
       "    </tr>\n",
       "    <tr>\n",
       "      <th>min</th>\n",
       "      <td>1980.00</td>\n",
       "      <td>0.00</td>\n",
       "      <td>0.00</td>\n",
       "      <td>0.00</td>\n",
       "      <td>0.00</td>\n",
       "      <td>13.00</td>\n",
       "    </tr>\n",
       "    <tr>\n",
       "      <th>25%</th>\n",
       "      <td>2003.00</td>\n",
       "      <td>0.00</td>\n",
       "      <td>0.00</td>\n",
       "      <td>0.00</td>\n",
       "      <td>0.00</td>\n",
       "      <td>60.00</td>\n",
       "    </tr>\n",
       "    <tr>\n",
       "      <th>50%</th>\n",
       "      <td>2007.00</td>\n",
       "      <td>0.08</td>\n",
       "      <td>0.02</td>\n",
       "      <td>0.00</td>\n",
       "      <td>0.01</td>\n",
       "      <td>71.00</td>\n",
       "    </tr>\n",
       "    <tr>\n",
       "      <th>75%</th>\n",
       "      <td>2010.00</td>\n",
       "      <td>0.24</td>\n",
       "      <td>0.11</td>\n",
       "      <td>0.04</td>\n",
       "      <td>0.03</td>\n",
       "      <td>79.00</td>\n",
       "    </tr>\n",
       "    <tr>\n",
       "      <th>max</th>\n",
       "      <td>2016.00</td>\n",
       "      <td>41.36</td>\n",
       "      <td>28.96</td>\n",
       "      <td>10.22</td>\n",
       "      <td>10.57</td>\n",
       "      <td>98.00</td>\n",
       "    </tr>\n",
       "  </tbody>\n",
       "</table>\n",
       "</div>"
      ],
      "text/plain": [
       "       Year_of_Release  NA_sales  EU_sales  JP_sales  Other_sales  \\\n",
       "count         16446.00  16715.00  16715.00  16715.00     16715.00   \n",
       "mean           2006.48      0.26      0.15      0.08         0.05   \n",
       "std               5.88      0.81      0.50      0.31         0.19   \n",
       "min            1980.00      0.00      0.00      0.00         0.00   \n",
       "25%            2003.00      0.00      0.00      0.00         0.00   \n",
       "50%            2007.00      0.08      0.02      0.00         0.01   \n",
       "75%            2010.00      0.24      0.11      0.04         0.03   \n",
       "max            2016.00     41.36     28.96     10.22        10.57   \n",
       "\n",
       "       Critic_Score  \n",
       "count       8137.00  \n",
       "mean          68.97  \n",
       "std           13.94  \n",
       "min           13.00  \n",
       "25%           60.00  \n",
       "50%           71.00  \n",
       "75%           79.00  \n",
       "max           98.00  "
      ]
     },
     "execution_count": 5,
     "metadata": {},
     "output_type": "execute_result"
    }
   ],
   "source": [
    "data.describe()"
   ]
  },
  {
   "cell_type": "code",
   "execution_count": 6,
   "metadata": {},
   "outputs": [
    {
     "data": {
      "text/plain": [
       "Name                  2\n",
       "Platform              0\n",
       "Year_of_Release     269\n",
       "Genre                 2\n",
       "NA_sales              0\n",
       "EU_sales              0\n",
       "JP_sales              0\n",
       "Other_sales           0\n",
       "Critic_Score       8578\n",
       "User_Score         6701\n",
       "Rating             6766\n",
       "dtype: int64"
      ]
     },
     "execution_count": 6,
     "metadata": {},
     "output_type": "execute_result"
    }
   ],
   "source": [
    "data.isna().sum()"
   ]
  },
  {
   "cell_type": "code",
   "execution_count": 7,
   "metadata": {
    "scrolled": true
   },
   "outputs": [
    {
     "data": {
      "text/plain": [
       "0"
      ]
     },
     "execution_count": 7,
     "metadata": {},
     "output_type": "execute_result"
    }
   ],
   "source": [
    "data.duplicated().sum()"
   ]
  },
  {
   "cell_type": "markdown",
   "metadata": {},
   "source": [
    "Видим, что проблем не так уж много, но они есть. Пропуски в довольно важных категориях, зато явных дубликатов нет.\n",
    "\n",
    "Столбцы можно будет тоже поправить немного."
   ]
  },
  {
   "cell_type": "markdown",
   "metadata": {},
   "source": [
    "### 2. Подготовим данные"
   ]
  },
  {
   "cell_type": "markdown",
   "metadata": {},
   "source": [
    "- Заменим названия столбцов (приведите к нижнему регистру);\n",
    "- Преобразуем данные в нужные типы. Опишем, в каких столбцах заменили тип данных и почему;\n",
    "- Обработаем пропуски при необходимости:\n",
    "- Объясним, почему заполнили пропуски определённым образом или почему не стали это делать;\n",
    "- Опишем причины, которые могли привести к пропускам;\n",
    "- Обратим внимание на аббревиатуру 'tbd' в столбце с оценкой пользователей.\n",
    "- Посчитаем суммарные продажи во всех регионах и запишем их в отдельный столбец."
   ]
  },
  {
   "cell_type": "code",
   "execution_count": 8,
   "metadata": {},
   "outputs": [],
   "source": [
    "data.columns = data.columns.str.lower()"
   ]
  },
  {
   "cell_type": "code",
   "execution_count": 9,
   "metadata": {},
   "outputs": [
    {
     "data": {
      "text/plain": [
       "['name',\n",
       " 'platform',\n",
       " 'year_of_release',\n",
       " 'genre',\n",
       " 'na_sales',\n",
       " 'eu_sales',\n",
       " 'jp_sales',\n",
       " 'other_sales',\n",
       " 'critic_score',\n",
       " 'user_score',\n",
       " 'rating']"
      ]
     },
     "execution_count": 9,
     "metadata": {},
     "output_type": "execute_result"
    }
   ],
   "source": [
    "data.columns.tolist()"
   ]
  },
  {
   "cell_type": "code",
   "execution_count": 10,
   "metadata": {},
   "outputs": [
    {
     "data": {
      "text/plain": [
       "array(['Wii', 'NES', 'GB', 'DS', 'X360', 'PS3', 'PS2', 'SNES', 'GBA',\n",
       "       'PS4', '3DS', 'N64', 'PS', 'XB', 'PC', '2600', 'PSP', 'XOne',\n",
       "       'WiiU', 'GC', 'GEN', 'DC', 'PSV', 'SAT', 'SCD', 'WS', 'NG', 'TG16',\n",
       "       '3DO', 'GG', 'PCFX'], dtype=object)"
      ]
     },
     "execution_count": 10,
     "metadata": {},
     "output_type": "execute_result"
    }
   ],
   "source": [
    "data['platform'].unique()"
   ]
  },
  {
   "cell_type": "code",
   "execution_count": 11,
   "metadata": {},
   "outputs": [
    {
     "name": "stdout",
     "output_type": "stream",
     "text": [
      "<class 'pandas.core.frame.DataFrame'>\n",
      "Int64Index: 6621 entries, 1 to 16714\n",
      "Data columns (total 11 columns):\n",
      " #   Column           Non-Null Count  Dtype  \n",
      "---  ------           --------------  -----  \n",
      " 0   name             6619 non-null   object \n",
      " 1   platform         6621 non-null   object \n",
      " 2   year_of_release  6536 non-null   float64\n",
      " 3   genre            6619 non-null   object \n",
      " 4   na_sales         6621 non-null   float64\n",
      " 5   eu_sales         6621 non-null   float64\n",
      " 6   jp_sales         6621 non-null   float64\n",
      " 7   other_sales      6621 non-null   float64\n",
      " 8   critic_score     0 non-null      float64\n",
      " 9   user_score       0 non-null      object \n",
      " 10  rating           0 non-null      object \n",
      "dtypes: float64(6), object(5)\n",
      "memory usage: 620.7+ KB\n"
     ]
    }
   ],
   "source": [
    "data.query('user_score.isna() and critic_score.isna() and rating.isna()').info()"
   ]
  },
  {
   "cell_type": "code",
   "execution_count": 12,
   "metadata": {},
   "outputs": [
    {
     "data": {
      "text/html": [
       "<div>\n",
       "<style scoped>\n",
       "    .dataframe tbody tr th:only-of-type {\n",
       "        vertical-align: middle;\n",
       "    }\n",
       "\n",
       "    .dataframe tbody tr th {\n",
       "        vertical-align: top;\n",
       "    }\n",
       "\n",
       "    .dataframe thead th {\n",
       "        text-align: right;\n",
       "    }\n",
       "</style>\n",
       "<table border=\"1\" class=\"dataframe\">\n",
       "  <thead>\n",
       "    <tr style=\"text-align: right;\">\n",
       "      <th></th>\n",
       "      <th>name</th>\n",
       "      <th>platform</th>\n",
       "      <th>year_of_release</th>\n",
       "      <th>genre</th>\n",
       "      <th>na_sales</th>\n",
       "      <th>eu_sales</th>\n",
       "      <th>jp_sales</th>\n",
       "      <th>other_sales</th>\n",
       "      <th>critic_score</th>\n",
       "      <th>user_score</th>\n",
       "      <th>rating</th>\n",
       "    </tr>\n",
       "  </thead>\n",
       "  <tbody>\n",
       "    <tr>\n",
       "      <th>5394</th>\n",
       "      <td>Bank Heist</td>\n",
       "      <td>2600</td>\n",
       "      <td>1982.00</td>\n",
       "      <td>Action</td>\n",
       "      <td>0.32</td>\n",
       "      <td>0.02</td>\n",
       "      <td>0.00</td>\n",
       "      <td>0.00</td>\n",
       "      <td>NaN</td>\n",
       "      <td>NaN</td>\n",
       "      <td>NaN</td>\n",
       "    </tr>\n",
       "    <tr>\n",
       "      <th>12123</th>\n",
       "      <td>Judie no Atelier: Guramnat no Renkinjutsushi</td>\n",
       "      <td>PS2</td>\n",
       "      <td>2002.00</td>\n",
       "      <td>Role-Playing</td>\n",
       "      <td>0.00</td>\n",
       "      <td>0.00</td>\n",
       "      <td>0.07</td>\n",
       "      <td>0.00</td>\n",
       "      <td>NaN</td>\n",
       "      <td>NaN</td>\n",
       "      <td>NaN</td>\n",
       "    </tr>\n",
       "    <tr>\n",
       "      <th>15919</th>\n",
       "      <td>Oshiri Kajiri Mushi no Rhythm Lesson DS: Kawai...</td>\n",
       "      <td>DS</td>\n",
       "      <td>2008.00</td>\n",
       "      <td>Misc</td>\n",
       "      <td>0.00</td>\n",
       "      <td>0.00</td>\n",
       "      <td>0.02</td>\n",
       "      <td>0.00</td>\n",
       "      <td>NaN</td>\n",
       "      <td>NaN</td>\n",
       "      <td>NaN</td>\n",
       "    </tr>\n",
       "    <tr>\n",
       "      <th>15655</th>\n",
       "      <td>Super Dodge Ball</td>\n",
       "      <td>NG</td>\n",
       "      <td>1995.00</td>\n",
       "      <td>Sports</td>\n",
       "      <td>0.00</td>\n",
       "      <td>0.00</td>\n",
       "      <td>0.02</td>\n",
       "      <td>0.00</td>\n",
       "      <td>NaN</td>\n",
       "      <td>NaN</td>\n",
       "      <td>NaN</td>\n",
       "    </tr>\n",
       "    <tr>\n",
       "      <th>9976</th>\n",
       "      <td>Sengoku Cyber: Fujimaru Jigokuhen</td>\n",
       "      <td>PS</td>\n",
       "      <td>1995.00</td>\n",
       "      <td>Strategy</td>\n",
       "      <td>0.00</td>\n",
       "      <td>0.00</td>\n",
       "      <td>0.11</td>\n",
       "      <td>0.01</td>\n",
       "      <td>NaN</td>\n",
       "      <td>NaN</td>\n",
       "      <td>NaN</td>\n",
       "    </tr>\n",
       "    <tr>\n",
       "      <th>12322</th>\n",
       "      <td>Super Mahjong 2: Honkaku 4Jin Uchi</td>\n",
       "      <td>SNES</td>\n",
       "      <td>1993.00</td>\n",
       "      <td>Misc</td>\n",
       "      <td>0.00</td>\n",
       "      <td>0.00</td>\n",
       "      <td>0.06</td>\n",
       "      <td>0.00</td>\n",
       "      <td>NaN</td>\n",
       "      <td>NaN</td>\n",
       "      <td>NaN</td>\n",
       "    </tr>\n",
       "    <tr>\n",
       "      <th>10906</th>\n",
       "      <td>MegaTagmension Blanc + Neptune VS Zombies</td>\n",
       "      <td>PSV</td>\n",
       "      <td>2015.00</td>\n",
       "      <td>Action</td>\n",
       "      <td>0.02</td>\n",
       "      <td>0.01</td>\n",
       "      <td>0.05</td>\n",
       "      <td>0.01</td>\n",
       "      <td>NaN</td>\n",
       "      <td>NaN</td>\n",
       "      <td>NaN</td>\n",
       "    </tr>\n",
       "    <tr>\n",
       "      <th>16164</th>\n",
       "      <td>SeaWorld Adventure Parks: Shamu's Deep Sea Adv...</td>\n",
       "      <td>XB</td>\n",
       "      <td>2005.00</td>\n",
       "      <td>Adventure</td>\n",
       "      <td>0.01</td>\n",
       "      <td>0.00</td>\n",
       "      <td>0.00</td>\n",
       "      <td>0.00</td>\n",
       "      <td>NaN</td>\n",
       "      <td>NaN</td>\n",
       "      <td>NaN</td>\n",
       "    </tr>\n",
       "    <tr>\n",
       "      <th>11798</th>\n",
       "      <td>My First Songs</td>\n",
       "      <td>Wii</td>\n",
       "      <td>2010.00</td>\n",
       "      <td>Misc</td>\n",
       "      <td>0.00</td>\n",
       "      <td>0.06</td>\n",
       "      <td>0.00</td>\n",
       "      <td>0.01</td>\n",
       "      <td>NaN</td>\n",
       "      <td>NaN</td>\n",
       "      <td>NaN</td>\n",
       "    </tr>\n",
       "    <tr>\n",
       "      <th>14572</th>\n",
       "      <td>Hudson x GReeeeN Live!? DeeeeS!?</td>\n",
       "      <td>DS</td>\n",
       "      <td>2010.00</td>\n",
       "      <td>Misc</td>\n",
       "      <td>0.00</td>\n",
       "      <td>0.00</td>\n",
       "      <td>0.03</td>\n",
       "      <td>0.00</td>\n",
       "      <td>NaN</td>\n",
       "      <td>NaN</td>\n",
       "      <td>NaN</td>\n",
       "    </tr>\n",
       "    <tr>\n",
       "      <th>5160</th>\n",
       "      <td>Zero4 Champ RR</td>\n",
       "      <td>SNES</td>\n",
       "      <td>1994.00</td>\n",
       "      <td>Sports</td>\n",
       "      <td>0.00</td>\n",
       "      <td>0.00</td>\n",
       "      <td>0.36</td>\n",
       "      <td>0.00</td>\n",
       "      <td>NaN</td>\n",
       "      <td>NaN</td>\n",
       "      <td>NaN</td>\n",
       "    </tr>\n",
       "    <tr>\n",
       "      <th>7568</th>\n",
       "      <td>Taiko no Tatsujin: Waku Waku Anime Matsuri</td>\n",
       "      <td>PS2</td>\n",
       "      <td>2003.00</td>\n",
       "      <td>Misc</td>\n",
       "      <td>0.00</td>\n",
       "      <td>0.00</td>\n",
       "      <td>0.20</td>\n",
       "      <td>0.00</td>\n",
       "      <td>NaN</td>\n",
       "      <td>NaN</td>\n",
       "      <td>NaN</td>\n",
       "    </tr>\n",
       "    <tr>\n",
       "      <th>16662</th>\n",
       "      <td>Hakuoki: Reimeiroku - Omouhase Kara</td>\n",
       "      <td>PSV</td>\n",
       "      <td>2015.00</td>\n",
       "      <td>Action</td>\n",
       "      <td>0.00</td>\n",
       "      <td>0.00</td>\n",
       "      <td>0.01</td>\n",
       "      <td>0.00</td>\n",
       "      <td>NaN</td>\n",
       "      <td>NaN</td>\n",
       "      <td>NaN</td>\n",
       "    </tr>\n",
       "    <tr>\n",
       "      <th>9477</th>\n",
       "      <td>NBA Jam 2000</td>\n",
       "      <td>N64</td>\n",
       "      <td>1999.00</td>\n",
       "      <td>Sports</td>\n",
       "      <td>0.12</td>\n",
       "      <td>0.01</td>\n",
       "      <td>0.00</td>\n",
       "      <td>0.00</td>\n",
       "      <td>NaN</td>\n",
       "      <td>NaN</td>\n",
       "      <td>NaN</td>\n",
       "    </tr>\n",
       "    <tr>\n",
       "      <th>6471</th>\n",
       "      <td>Hey Arnold! The Movie</td>\n",
       "      <td>GBA</td>\n",
       "      <td>2002.00</td>\n",
       "      <td>Platform</td>\n",
       "      <td>0.19</td>\n",
       "      <td>0.07</td>\n",
       "      <td>0.00</td>\n",
       "      <td>0.00</td>\n",
       "      <td>NaN</td>\n",
       "      <td>NaN</td>\n",
       "      <td>NaN</td>\n",
       "    </tr>\n",
       "    <tr>\n",
       "      <th>5837</th>\n",
       "      <td>Naruto: Ninja Destiny (US sales)</td>\n",
       "      <td>DS</td>\n",
       "      <td>2006.00</td>\n",
       "      <td>Fighting</td>\n",
       "      <td>0.30</td>\n",
       "      <td>0.00</td>\n",
       "      <td>0.00</td>\n",
       "      <td>0.00</td>\n",
       "      <td>NaN</td>\n",
       "      <td>NaN</td>\n",
       "      <td>NaN</td>\n",
       "    </tr>\n",
       "    <tr>\n",
       "      <th>1747</th>\n",
       "      <td>Yu-Gi-Oh! The Sacred Cards (American and Other...</td>\n",
       "      <td>GBA</td>\n",
       "      <td>2002.00</td>\n",
       "      <td>Role-Playing</td>\n",
       "      <td>0.84</td>\n",
       "      <td>0.27</td>\n",
       "      <td>0.00</td>\n",
       "      <td>0.05</td>\n",
       "      <td>NaN</td>\n",
       "      <td>NaN</td>\n",
       "      <td>NaN</td>\n",
       "    </tr>\n",
       "    <tr>\n",
       "      <th>9913</th>\n",
       "      <td>SD Gundam G Generation-F.I.F</td>\n",
       "      <td>PS</td>\n",
       "      <td>2001.00</td>\n",
       "      <td>Strategy</td>\n",
       "      <td>0.00</td>\n",
       "      <td>0.00</td>\n",
       "      <td>0.11</td>\n",
       "      <td>0.01</td>\n",
       "      <td>NaN</td>\n",
       "      <td>NaN</td>\n",
       "      <td>NaN</td>\n",
       "    </tr>\n",
       "    <tr>\n",
       "      <th>4421</th>\n",
       "      <td>The Urbz: Sims in the City (all regions sales)</td>\n",
       "      <td>DS</td>\n",
       "      <td>2004.00</td>\n",
       "      <td>Simulation</td>\n",
       "      <td>0.40</td>\n",
       "      <td>0.01</td>\n",
       "      <td>0.02</td>\n",
       "      <td>0.00</td>\n",
       "      <td>NaN</td>\n",
       "      <td>NaN</td>\n",
       "      <td>NaN</td>\n",
       "    </tr>\n",
       "    <tr>\n",
       "      <th>12355</th>\n",
       "      <td>Zill O'll Infinite Plus</td>\n",
       "      <td>PSP</td>\n",
       "      <td>2009.00</td>\n",
       "      <td>Role-Playing</td>\n",
       "      <td>0.00</td>\n",
       "      <td>0.00</td>\n",
       "      <td>0.06</td>\n",
       "      <td>0.00</td>\n",
       "      <td>NaN</td>\n",
       "      <td>NaN</td>\n",
       "      <td>NaN</td>\n",
       "    </tr>\n",
       "    <tr>\n",
       "      <th>16158</th>\n",
       "      <td>Raven's Cry</td>\n",
       "      <td>PS4</td>\n",
       "      <td>2015.00</td>\n",
       "      <td>Role-Playing</td>\n",
       "      <td>0.00</td>\n",
       "      <td>0.01</td>\n",
       "      <td>0.00</td>\n",
       "      <td>0.00</td>\n",
       "      <td>NaN</td>\n",
       "      <td>NaN</td>\n",
       "      <td>NaN</td>\n",
       "    </tr>\n",
       "    <tr>\n",
       "      <th>2594</th>\n",
       "      <td>WCW Mayhem</td>\n",
       "      <td>N64</td>\n",
       "      <td>1999.00</td>\n",
       "      <td>Fighting</td>\n",
       "      <td>0.63</td>\n",
       "      <td>0.15</td>\n",
       "      <td>0.00</td>\n",
       "      <td>0.01</td>\n",
       "      <td>NaN</td>\n",
       "      <td>NaN</td>\n",
       "      <td>NaN</td>\n",
       "    </tr>\n",
       "    <tr>\n",
       "      <th>7719</th>\n",
       "      <td>The Naked Brothers Band: The Video Game</td>\n",
       "      <td>DS</td>\n",
       "      <td>2008.00</td>\n",
       "      <td>Misc</td>\n",
       "      <td>0.18</td>\n",
       "      <td>0.00</td>\n",
       "      <td>0.00</td>\n",
       "      <td>0.01</td>\n",
       "      <td>NaN</td>\n",
       "      <td>NaN</td>\n",
       "      <td>NaN</td>\n",
       "    </tr>\n",
       "    <tr>\n",
       "      <th>828</th>\n",
       "      <td>Ghostbusters: The Video Game (DS Version)</td>\n",
       "      <td>PS3</td>\n",
       "      <td>2010.00</td>\n",
       "      <td>Action</td>\n",
       "      <td>0.60</td>\n",
       "      <td>0.96</td>\n",
       "      <td>0.13</td>\n",
       "      <td>0.36</td>\n",
       "      <td>NaN</td>\n",
       "      <td>NaN</td>\n",
       "      <td>NaN</td>\n",
       "    </tr>\n",
       "    <tr>\n",
       "      <th>11566</th>\n",
       "      <td>Ogre Battle Series: Tactics Ogre</td>\n",
       "      <td>PS</td>\n",
       "      <td>1997.00</td>\n",
       "      <td>Role-Playing</td>\n",
       "      <td>0.04</td>\n",
       "      <td>0.03</td>\n",
       "      <td>0.00</td>\n",
       "      <td>0.01</td>\n",
       "      <td>NaN</td>\n",
       "      <td>NaN</td>\n",
       "      <td>NaN</td>\n",
       "    </tr>\n",
       "    <tr>\n",
       "      <th>4063</th>\n",
       "      <td>Momotarou Dentetsu X: Kyuushuu-hen mo Arubai</td>\n",
       "      <td>PS2</td>\n",
       "      <td>2001.00</td>\n",
       "      <td>Misc</td>\n",
       "      <td>0.00</td>\n",
       "      <td>0.00</td>\n",
       "      <td>0.49</td>\n",
       "      <td>0.00</td>\n",
       "      <td>NaN</td>\n",
       "      <td>NaN</td>\n",
       "      <td>NaN</td>\n",
       "    </tr>\n",
       "    <tr>\n",
       "      <th>10828</th>\n",
       "      <td>Gundam Breaker</td>\n",
       "      <td>PSV</td>\n",
       "      <td>2013.00</td>\n",
       "      <td>Action</td>\n",
       "      <td>0.00</td>\n",
       "      <td>0.00</td>\n",
       "      <td>0.09</td>\n",
       "      <td>0.00</td>\n",
       "      <td>NaN</td>\n",
       "      <td>NaN</td>\n",
       "      <td>NaN</td>\n",
       "    </tr>\n",
       "    <tr>\n",
       "      <th>3886</th>\n",
       "      <td>International Track &amp; Field</td>\n",
       "      <td>PS</td>\n",
       "      <td>1996.00</td>\n",
       "      <td>Sports</td>\n",
       "      <td>0.08</td>\n",
       "      <td>0.05</td>\n",
       "      <td>0.35</td>\n",
       "      <td>0.03</td>\n",
       "      <td>NaN</td>\n",
       "      <td>NaN</td>\n",
       "      <td>NaN</td>\n",
       "    </tr>\n",
       "    <tr>\n",
       "      <th>12912</th>\n",
       "      <td>Bottom of the 9th '99</td>\n",
       "      <td>PS</td>\n",
       "      <td>1998.00</td>\n",
       "      <td>Sports</td>\n",
       "      <td>0.03</td>\n",
       "      <td>0.02</td>\n",
       "      <td>0.00</td>\n",
       "      <td>0.00</td>\n",
       "      <td>NaN</td>\n",
       "      <td>NaN</td>\n",
       "      <td>NaN</td>\n",
       "    </tr>\n",
       "    <tr>\n",
       "      <th>13294</th>\n",
       "      <td>Growlanser VI: Precarious World</td>\n",
       "      <td>PS2</td>\n",
       "      <td>2007.00</td>\n",
       "      <td>Role-Playing</td>\n",
       "      <td>0.00</td>\n",
       "      <td>0.00</td>\n",
       "      <td>0.05</td>\n",
       "      <td>0.00</td>\n",
       "      <td>NaN</td>\n",
       "      <td>NaN</td>\n",
       "      <td>NaN</td>\n",
       "    </tr>\n",
       "    <tr>\n",
       "      <th>4892</th>\n",
       "      <td>Laser Blast</td>\n",
       "      <td>2600</td>\n",
       "      <td>1981.00</td>\n",
       "      <td>Action</td>\n",
       "      <td>0.37</td>\n",
       "      <td>0.02</td>\n",
       "      <td>0.00</td>\n",
       "      <td>0.00</td>\n",
       "      <td>NaN</td>\n",
       "      <td>NaN</td>\n",
       "      <td>NaN</td>\n",
       "    </tr>\n",
       "    <tr>\n",
       "      <th>15957</th>\n",
       "      <td>Strongest Tokyo University Shogi DS</td>\n",
       "      <td>DS</td>\n",
       "      <td>1985.00</td>\n",
       "      <td>Action</td>\n",
       "      <td>0.00</td>\n",
       "      <td>0.00</td>\n",
       "      <td>0.02</td>\n",
       "      <td>0.00</td>\n",
       "      <td>NaN</td>\n",
       "      <td>NaN</td>\n",
       "      <td>NaN</td>\n",
       "    </tr>\n",
       "    <tr>\n",
       "      <th>16221</th>\n",
       "      <td>Winning Post 7 Maximum 2008</td>\n",
       "      <td>PS3</td>\n",
       "      <td>2008.00</td>\n",
       "      <td>Sports</td>\n",
       "      <td>0.00</td>\n",
       "      <td>0.00</td>\n",
       "      <td>0.01</td>\n",
       "      <td>0.00</td>\n",
       "      <td>NaN</td>\n",
       "      <td>NaN</td>\n",
       "      <td>NaN</td>\n",
       "    </tr>\n",
       "    <tr>\n",
       "      <th>11183</th>\n",
       "      <td>Ys I &amp; II Chronicles</td>\n",
       "      <td>PSP</td>\n",
       "      <td>2009.00</td>\n",
       "      <td>Role-Playing</td>\n",
       "      <td>0.05</td>\n",
       "      <td>0.00</td>\n",
       "      <td>0.03</td>\n",
       "      <td>0.01</td>\n",
       "      <td>NaN</td>\n",
       "      <td>NaN</td>\n",
       "      <td>NaN</td>\n",
       "    </tr>\n",
       "    <tr>\n",
       "      <th>14726</th>\n",
       "      <td>Girls Only</td>\n",
       "      <td>DS</td>\n",
       "      <td>2010.00</td>\n",
       "      <td>Simulation</td>\n",
       "      <td>0.03</td>\n",
       "      <td>0.00</td>\n",
       "      <td>0.00</td>\n",
       "      <td>0.00</td>\n",
       "      <td>NaN</td>\n",
       "      <td>NaN</td>\n",
       "      <td>NaN</td>\n",
       "    </tr>\n",
       "    <tr>\n",
       "      <th>4886</th>\n",
       "      <td>Dishonored</td>\n",
       "      <td>PS4</td>\n",
       "      <td>2015.00</td>\n",
       "      <td>Action</td>\n",
       "      <td>0.12</td>\n",
       "      <td>0.20</td>\n",
       "      <td>0.02</td>\n",
       "      <td>0.06</td>\n",
       "      <td>NaN</td>\n",
       "      <td>NaN</td>\n",
       "      <td>NaN</td>\n",
       "    </tr>\n",
       "    <tr>\n",
       "      <th>14693</th>\n",
       "      <td>Gekiatsu!! Pachi Game Tamashi Vol. 2: CR Evang...</td>\n",
       "      <td>PS3</td>\n",
       "      <td>2011.00</td>\n",
       "      <td>Misc</td>\n",
       "      <td>0.00</td>\n",
       "      <td>0.00</td>\n",
       "      <td>0.03</td>\n",
       "      <td>0.00</td>\n",
       "      <td>NaN</td>\n",
       "      <td>NaN</td>\n",
       "      <td>NaN</td>\n",
       "    </tr>\n",
       "    <tr>\n",
       "      <th>13019</th>\n",
       "      <td>SingStar Mallorca Party</td>\n",
       "      <td>PS3</td>\n",
       "      <td>2009.00</td>\n",
       "      <td>Misc</td>\n",
       "      <td>0.00</td>\n",
       "      <td>0.04</td>\n",
       "      <td>0.00</td>\n",
       "      <td>0.01</td>\n",
       "      <td>NaN</td>\n",
       "      <td>NaN</td>\n",
       "      <td>NaN</td>\n",
       "    </tr>\n",
       "    <tr>\n",
       "      <th>15856</th>\n",
       "      <td>Soul Eater: Monotone Princess</td>\n",
       "      <td>Wii</td>\n",
       "      <td>2008.00</td>\n",
       "      <td>Action</td>\n",
       "      <td>0.00</td>\n",
       "      <td>0.00</td>\n",
       "      <td>0.02</td>\n",
       "      <td>0.00</td>\n",
       "      <td>NaN</td>\n",
       "      <td>NaN</td>\n",
       "      <td>NaN</td>\n",
       "    </tr>\n",
       "    <tr>\n",
       "      <th>15164</th>\n",
       "      <td>Hyakka Hyakurou: Sengoku Ninpoujou</td>\n",
       "      <td>PSV</td>\n",
       "      <td>2016.00</td>\n",
       "      <td>Adventure</td>\n",
       "      <td>0.00</td>\n",
       "      <td>0.00</td>\n",
       "      <td>0.02</td>\n",
       "      <td>0.00</td>\n",
       "      <td>NaN</td>\n",
       "      <td>NaN</td>\n",
       "      <td>NaN</td>\n",
       "    </tr>\n",
       "    <tr>\n",
       "      <th>6140</th>\n",
       "      <td>Tales of the World: Radiant Mythology 3</td>\n",
       "      <td>PSP</td>\n",
       "      <td>2011.00</td>\n",
       "      <td>Role-Playing</td>\n",
       "      <td>0.00</td>\n",
       "      <td>0.00</td>\n",
       "      <td>0.28</td>\n",
       "      <td>0.00</td>\n",
       "      <td>NaN</td>\n",
       "      <td>NaN</td>\n",
       "      <td>NaN</td>\n",
       "    </tr>\n",
       "    <tr>\n",
       "      <th>12140</th>\n",
       "      <td>Jackass the Game DS</td>\n",
       "      <td>DS</td>\n",
       "      <td>2008.00</td>\n",
       "      <td>Action</td>\n",
       "      <td>0.06</td>\n",
       "      <td>0.00</td>\n",
       "      <td>0.00</td>\n",
       "      <td>0.01</td>\n",
       "      <td>NaN</td>\n",
       "      <td>NaN</td>\n",
       "      <td>NaN</td>\n",
       "    </tr>\n",
       "    <tr>\n",
       "      <th>1790</th>\n",
       "      <td>Commando</td>\n",
       "      <td>NES</td>\n",
       "      <td>1986.00</td>\n",
       "      <td>Action</td>\n",
       "      <td>0.71</td>\n",
       "      <td>0.16</td>\n",
       "      <td>0.25</td>\n",
       "      <td>0.03</td>\n",
       "      <td>NaN</td>\n",
       "      <td>NaN</td>\n",
       "      <td>NaN</td>\n",
       "    </tr>\n",
       "    <tr>\n",
       "      <th>12946</th>\n",
       "      <td>Omega Labyrinth</td>\n",
       "      <td>PSV</td>\n",
       "      <td>2015.00</td>\n",
       "      <td>Role-Playing</td>\n",
       "      <td>0.00</td>\n",
       "      <td>0.00</td>\n",
       "      <td>0.05</td>\n",
       "      <td>0.00</td>\n",
       "      <td>NaN</td>\n",
       "      <td>NaN</td>\n",
       "      <td>NaN</td>\n",
       "    </tr>\n",
       "    <tr>\n",
       "      <th>12791</th>\n",
       "      <td>Doraemon 4: Nobita to Toki no Okoku</td>\n",
       "      <td>SNES</td>\n",
       "      <td>1995.00</td>\n",
       "      <td>Platform</td>\n",
       "      <td>0.00</td>\n",
       "      <td>0.00</td>\n",
       "      <td>0.06</td>\n",
       "      <td>0.00</td>\n",
       "      <td>NaN</td>\n",
       "      <td>NaN</td>\n",
       "      <td>NaN</td>\n",
       "    </tr>\n",
       "    <tr>\n",
       "      <th>12824</th>\n",
       "      <td>Nobunaga no Yabou: Souzou</td>\n",
       "      <td>PS4</td>\n",
       "      <td>2014.00</td>\n",
       "      <td>Strategy</td>\n",
       "      <td>0.00</td>\n",
       "      <td>0.00</td>\n",
       "      <td>0.06</td>\n",
       "      <td>0.00</td>\n",
       "      <td>NaN</td>\n",
       "      <td>NaN</td>\n",
       "      <td>NaN</td>\n",
       "    </tr>\n",
       "    <tr>\n",
       "      <th>15031</th>\n",
       "      <td>Jikkyou Powerful Pro Yakyuu 12 Ketteiban</td>\n",
       "      <td>GC</td>\n",
       "      <td>2005.00</td>\n",
       "      <td>Sports</td>\n",
       "      <td>0.00</td>\n",
       "      <td>0.00</td>\n",
       "      <td>0.02</td>\n",
       "      <td>0.00</td>\n",
       "      <td>NaN</td>\n",
       "      <td>NaN</td>\n",
       "      <td>NaN</td>\n",
       "    </tr>\n",
       "    <tr>\n",
       "      <th>12101</th>\n",
       "      <td>Keroro RPG: Kishi to Musha to Densetsu no Kaizoku</td>\n",
       "      <td>DS</td>\n",
       "      <td>2010.00</td>\n",
       "      <td>Role-Playing</td>\n",
       "      <td>0.00</td>\n",
       "      <td>0.00</td>\n",
       "      <td>0.07</td>\n",
       "      <td>0.00</td>\n",
       "      <td>NaN</td>\n",
       "      <td>NaN</td>\n",
       "      <td>NaN</td>\n",
       "    </tr>\n",
       "    <tr>\n",
       "      <th>6568</th>\n",
       "      <td>NHL Rock the Rink</td>\n",
       "      <td>PS</td>\n",
       "      <td>1999.00</td>\n",
       "      <td>Sports</td>\n",
       "      <td>0.14</td>\n",
       "      <td>0.10</td>\n",
       "      <td>0.00</td>\n",
       "      <td>0.02</td>\n",
       "      <td>NaN</td>\n",
       "      <td>NaN</td>\n",
       "      <td>NaN</td>\n",
       "    </tr>\n",
       "    <tr>\n",
       "      <th>10418</th>\n",
       "      <td>Power Pocket Koushien</td>\n",
       "      <td>DS</td>\n",
       "      <td>2005.00</td>\n",
       "      <td>Sports</td>\n",
       "      <td>0.00</td>\n",
       "      <td>0.00</td>\n",
       "      <td>0.10</td>\n",
       "      <td>0.00</td>\n",
       "      <td>NaN</td>\n",
       "      <td>NaN</td>\n",
       "      <td>NaN</td>\n",
       "    </tr>\n",
       "  </tbody>\n",
       "</table>\n",
       "</div>"
      ],
      "text/plain": [
       "                                                    name platform  \\\n",
       "5394                                          Bank Heist     2600   \n",
       "12123       Judie no Atelier: Guramnat no Renkinjutsushi      PS2   \n",
       "15919  Oshiri Kajiri Mushi no Rhythm Lesson DS: Kawai...       DS   \n",
       "15655                                   Super Dodge Ball       NG   \n",
       "9976                   Sengoku Cyber: Fujimaru Jigokuhen       PS   \n",
       "12322                 Super Mahjong 2: Honkaku 4Jin Uchi     SNES   \n",
       "10906          MegaTagmension Blanc + Neptune VS Zombies      PSV   \n",
       "16164  SeaWorld Adventure Parks: Shamu's Deep Sea Adv...       XB   \n",
       "11798                                     My First Songs      Wii   \n",
       "14572                   Hudson x GReeeeN Live!? DeeeeS!?       DS   \n",
       "5160                                      Zero4 Champ RR     SNES   \n",
       "7568          Taiko no Tatsujin: Waku Waku Anime Matsuri      PS2   \n",
       "16662                Hakuoki: Reimeiroku - Omouhase Kara      PSV   \n",
       "9477                                        NBA Jam 2000      N64   \n",
       "6471                               Hey Arnold! The Movie      GBA   \n",
       "5837                    Naruto: Ninja Destiny (US sales)       DS   \n",
       "1747   Yu-Gi-Oh! The Sacred Cards (American and Other...      GBA   \n",
       "9913                        SD Gundam G Generation-F.I.F       PS   \n",
       "4421      The Urbz: Sims in the City (all regions sales)       DS   \n",
       "12355                            Zill O'll Infinite Plus      PSP   \n",
       "16158                                        Raven's Cry      PS4   \n",
       "2594                                          WCW Mayhem      N64   \n",
       "7719             The Naked Brothers Band: The Video Game       DS   \n",
       "828            Ghostbusters: The Video Game (DS Version)      PS3   \n",
       "11566                   Ogre Battle Series: Tactics Ogre       PS   \n",
       "4063        Momotarou Dentetsu X: Kyuushuu-hen mo Arubai      PS2   \n",
       "10828                                     Gundam Breaker      PSV   \n",
       "3886                         International Track & Field       PS   \n",
       "12912                              Bottom of the 9th '99       PS   \n",
       "13294                    Growlanser VI: Precarious World      PS2   \n",
       "4892                                         Laser Blast     2600   \n",
       "15957                Strongest Tokyo University Shogi DS       DS   \n",
       "16221                        Winning Post 7 Maximum 2008      PS3   \n",
       "11183                               Ys I & II Chronicles      PSP   \n",
       "14726                                         Girls Only       DS   \n",
       "4886                                          Dishonored      PS4   \n",
       "14693  Gekiatsu!! Pachi Game Tamashi Vol. 2: CR Evang...      PS3   \n",
       "13019                            SingStar Mallorca Party      PS3   \n",
       "15856                      Soul Eater: Monotone Princess      Wii   \n",
       "15164                 Hyakka Hyakurou: Sengoku Ninpoujou      PSV   \n",
       "6140             Tales of the World: Radiant Mythology 3      PSP   \n",
       "12140                                Jackass the Game DS       DS   \n",
       "1790                                            Commando      NES   \n",
       "12946                                    Omega Labyrinth      PSV   \n",
       "12791                Doraemon 4: Nobita to Toki no Okoku     SNES   \n",
       "12824                          Nobunaga no Yabou: Souzou      PS4   \n",
       "15031           Jikkyou Powerful Pro Yakyuu 12 Ketteiban       GC   \n",
       "12101  Keroro RPG: Kishi to Musha to Densetsu no Kaizoku       DS   \n",
       "6568                                   NHL Rock the Rink       PS   \n",
       "10418                              Power Pocket Koushien       DS   \n",
       "\n",
       "       year_of_release         genre  na_sales  eu_sales  jp_sales  \\\n",
       "5394           1982.00        Action      0.32      0.02      0.00   \n",
       "12123          2002.00  Role-Playing      0.00      0.00      0.07   \n",
       "15919          2008.00          Misc      0.00      0.00      0.02   \n",
       "15655          1995.00        Sports      0.00      0.00      0.02   \n",
       "9976           1995.00      Strategy      0.00      0.00      0.11   \n",
       "12322          1993.00          Misc      0.00      0.00      0.06   \n",
       "10906          2015.00        Action      0.02      0.01      0.05   \n",
       "16164          2005.00     Adventure      0.01      0.00      0.00   \n",
       "11798          2010.00          Misc      0.00      0.06      0.00   \n",
       "14572          2010.00          Misc      0.00      0.00      0.03   \n",
       "5160           1994.00        Sports      0.00      0.00      0.36   \n",
       "7568           2003.00          Misc      0.00      0.00      0.20   \n",
       "16662          2015.00        Action      0.00      0.00      0.01   \n",
       "9477           1999.00        Sports      0.12      0.01      0.00   \n",
       "6471           2002.00      Platform      0.19      0.07      0.00   \n",
       "5837           2006.00      Fighting      0.30      0.00      0.00   \n",
       "1747           2002.00  Role-Playing      0.84      0.27      0.00   \n",
       "9913           2001.00      Strategy      0.00      0.00      0.11   \n",
       "4421           2004.00    Simulation      0.40      0.01      0.02   \n",
       "12355          2009.00  Role-Playing      0.00      0.00      0.06   \n",
       "16158          2015.00  Role-Playing      0.00      0.01      0.00   \n",
       "2594           1999.00      Fighting      0.63      0.15      0.00   \n",
       "7719           2008.00          Misc      0.18      0.00      0.00   \n",
       "828            2010.00        Action      0.60      0.96      0.13   \n",
       "11566          1997.00  Role-Playing      0.04      0.03      0.00   \n",
       "4063           2001.00          Misc      0.00      0.00      0.49   \n",
       "10828          2013.00        Action      0.00      0.00      0.09   \n",
       "3886           1996.00        Sports      0.08      0.05      0.35   \n",
       "12912          1998.00        Sports      0.03      0.02      0.00   \n",
       "13294          2007.00  Role-Playing      0.00      0.00      0.05   \n",
       "4892           1981.00        Action      0.37      0.02      0.00   \n",
       "15957          1985.00        Action      0.00      0.00      0.02   \n",
       "16221          2008.00        Sports      0.00      0.00      0.01   \n",
       "11183          2009.00  Role-Playing      0.05      0.00      0.03   \n",
       "14726          2010.00    Simulation      0.03      0.00      0.00   \n",
       "4886           2015.00        Action      0.12      0.20      0.02   \n",
       "14693          2011.00          Misc      0.00      0.00      0.03   \n",
       "13019          2009.00          Misc      0.00      0.04      0.00   \n",
       "15856          2008.00        Action      0.00      0.00      0.02   \n",
       "15164          2016.00     Adventure      0.00      0.00      0.02   \n",
       "6140           2011.00  Role-Playing      0.00      0.00      0.28   \n",
       "12140          2008.00        Action      0.06      0.00      0.00   \n",
       "1790           1986.00        Action      0.71      0.16      0.25   \n",
       "12946          2015.00  Role-Playing      0.00      0.00      0.05   \n",
       "12791          1995.00      Platform      0.00      0.00      0.06   \n",
       "12824          2014.00      Strategy      0.00      0.00      0.06   \n",
       "15031          2005.00        Sports      0.00      0.00      0.02   \n",
       "12101          2010.00  Role-Playing      0.00      0.00      0.07   \n",
       "6568           1999.00        Sports      0.14      0.10      0.00   \n",
       "10418          2005.00        Sports      0.00      0.00      0.10   \n",
       "\n",
       "       other_sales  critic_score user_score rating  \n",
       "5394          0.00           NaN        NaN    NaN  \n",
       "12123         0.00           NaN        NaN    NaN  \n",
       "15919         0.00           NaN        NaN    NaN  \n",
       "15655         0.00           NaN        NaN    NaN  \n",
       "9976          0.01           NaN        NaN    NaN  \n",
       "12322         0.00           NaN        NaN    NaN  \n",
       "10906         0.01           NaN        NaN    NaN  \n",
       "16164         0.00           NaN        NaN    NaN  \n",
       "11798         0.01           NaN        NaN    NaN  \n",
       "14572         0.00           NaN        NaN    NaN  \n",
       "5160          0.00           NaN        NaN    NaN  \n",
       "7568          0.00           NaN        NaN    NaN  \n",
       "16662         0.00           NaN        NaN    NaN  \n",
       "9477          0.00           NaN        NaN    NaN  \n",
       "6471          0.00           NaN        NaN    NaN  \n",
       "5837          0.00           NaN        NaN    NaN  \n",
       "1747          0.05           NaN        NaN    NaN  \n",
       "9913          0.01           NaN        NaN    NaN  \n",
       "4421          0.00           NaN        NaN    NaN  \n",
       "12355         0.00           NaN        NaN    NaN  \n",
       "16158         0.00           NaN        NaN    NaN  \n",
       "2594          0.01           NaN        NaN    NaN  \n",
       "7719          0.01           NaN        NaN    NaN  \n",
       "828           0.36           NaN        NaN    NaN  \n",
       "11566         0.01           NaN        NaN    NaN  \n",
       "4063          0.00           NaN        NaN    NaN  \n",
       "10828         0.00           NaN        NaN    NaN  \n",
       "3886          0.03           NaN        NaN    NaN  \n",
       "12912         0.00           NaN        NaN    NaN  \n",
       "13294         0.00           NaN        NaN    NaN  \n",
       "4892          0.00           NaN        NaN    NaN  \n",
       "15957         0.00           NaN        NaN    NaN  \n",
       "16221         0.00           NaN        NaN    NaN  \n",
       "11183         0.01           NaN        NaN    NaN  \n",
       "14726         0.00           NaN        NaN    NaN  \n",
       "4886          0.06           NaN        NaN    NaN  \n",
       "14693         0.00           NaN        NaN    NaN  \n",
       "13019         0.01           NaN        NaN    NaN  \n",
       "15856         0.00           NaN        NaN    NaN  \n",
       "15164         0.00           NaN        NaN    NaN  \n",
       "6140          0.00           NaN        NaN    NaN  \n",
       "12140         0.01           NaN        NaN    NaN  \n",
       "1790          0.03           NaN        NaN    NaN  \n",
       "12946         0.00           NaN        NaN    NaN  \n",
       "12791         0.00           NaN        NaN    NaN  \n",
       "12824         0.00           NaN        NaN    NaN  \n",
       "15031         0.00           NaN        NaN    NaN  \n",
       "12101         0.00           NaN        NaN    NaN  \n",
       "6568          0.02           NaN        NaN    NaN  \n",
       "10418         0.00           NaN        NaN    NaN  "
      ]
     },
     "execution_count": 12,
     "metadata": {},
     "output_type": "execute_result"
    }
   ],
   "source": [
    "data.query('user_score.isna() and critic_score.isna() and rating.isna()').sample(50)"
   ]
  },
  {
   "cell_type": "markdown",
   "metadata": {},
   "source": [
    "Пропуски в `critic_score` и `user_score` сложно объяснить. Я не знаю откуда была выгружена информация, возможно возникли проблемы при выгрузке.\n",
    "\n",
    "Интересно заметить оценки отсутствуют почти везде где отсутствует `rating`. Судя по тому, что выборка выдала мне почти все японские платформы, предположу, что рейтинга здесь нет из-за того, что ESRB - это сугубо американская система. У Европы своя программа (PEGI), а у Японии - своя (CERO). Вплоне логично, что у японской продукции нет рейтинга ESRB.\n",
    "\n",
    "Возможно отсутствие оценок связано с отсутсвием рейтинга. Было бы понятно точно, если бы я знал с какой платформы были выгруженны данные по рейтингу и оценкам.\n",
    "\n",
    "Заполнить такие данные тоже не представляется возможным.\n",
    "\n",
    "Что касается `year_of_release` - данные довольно важные, скорее всего ошибка при выгрузке. Но так как здесь очень малый процент пропусков - их можно игнорировать.\n",
    "\n",
    "`name` и `genre` можно будет просто удалить как аномальные значения (к тому же исследование покажет, что там и вовсе остутствует половина данных)\n"
   ]
  },
  {
   "cell_type": "markdown",
   "metadata": {},
   "source": [
    "Чтобы преобразовать данные в нужные, нужно сначала разобраться с пропусками. Исходя из поставленных задач - сменой типов данных займемся в последнюю очередь."
   ]
  },
  {
   "cell_type": "markdown",
   "metadata": {},
   "source": [
    "Как я уже писал выше - заполнить пропуски корректным способом невозможно. Поэтому просто поставим заглушки, чтобы потом эти данные не мешали нам в дальнейших действиях."
   ]
  },
  {
   "cell_type": "code",
   "execution_count": 13,
   "metadata": {},
   "outputs": [
    {
     "data": {
      "text/plain": [
       "tbd    2424\n",
       "7.8     324\n",
       "8       290\n",
       "8.2     282\n",
       "8.3     254\n",
       "       ... \n",
       "1.5       2\n",
       "0.3       2\n",
       "0.9       2\n",
       "0         1\n",
       "9.7       1\n",
       "Name: user_score, Length: 96, dtype: int64"
      ]
     },
     "execution_count": 13,
     "metadata": {},
     "output_type": "execute_result"
    }
   ],
   "source": [
    "data['user_score'].value_counts()"
   ]
  },
  {
   "cell_type": "code",
   "execution_count": 14,
   "metadata": {},
   "outputs": [
    {
     "data": {
      "text/plain": [
       "E       3990\n",
       "T       2961\n",
       "M       1563\n",
       "E10+    1420\n",
       "EC         8\n",
       "RP         3\n",
       "K-A        3\n",
       "AO         1\n",
       "Name: rating, dtype: int64"
      ]
     },
     "execution_count": 14,
     "metadata": {},
     "output_type": "execute_result"
    }
   ],
   "source": [
    "data['rating'].value_counts()"
   ]
  },
  {
   "cell_type": "markdown",
   "metadata": {},
   "source": [
    "Сразу разберемся с 'tbd' из столбца `user_score`. TBD означает To-Be-Determined. Такое обозначение возможно, когда данных слишком мало (в данном случае оценок) для выявления достовреной средней величины. В нашем случае такие данные для нас бесполезны и равносильны NaN, поэтому заменим эти значения так же, как и пропуски.\n",
    "\n",
    "Сразу обращу внимание на колонку `rating`, в частности на рейтинг под названием `K-A`. Это устаревшая форма `E` рейтинга. ESRB изначально хотели использовать `E`, но были проблемы с лицензией. Тоже сразу приведём всё в порядок."
   ]
  },
  {
   "cell_type": "code",
   "execution_count": 15,
   "metadata": {},
   "outputs": [],
   "source": [
    "data['user_score'] = data['user_score'].replace('tbd', -1, regex=True)\n",
    "data['rating'] = data['rating'].replace('K-A', 'E', regex=True)"
   ]
  },
  {
   "cell_type": "markdown",
   "metadata": {},
   "source": [
    "Как я уже писал выше - заполнить пропуски корректным способом невозможно. Поэтому просто поставим заглушки, чтобы потом эти данные не мешали нам в дальнейших действиях. \n",
    "\n",
    "Заодно удалим пару строчек, где остутствует половина данных. Их можно было бы использовать в исследовательском анализе, но под вопросом стоит достоверность таких данных."
   ]
  },
  {
   "cell_type": "code",
   "execution_count": 16,
   "metadata": {},
   "outputs": [
    {
     "data": {
      "text/html": [
       "<div>\n",
       "<style scoped>\n",
       "    .dataframe tbody tr th:only-of-type {\n",
       "        vertical-align: middle;\n",
       "    }\n",
       "\n",
       "    .dataframe tbody tr th {\n",
       "        vertical-align: top;\n",
       "    }\n",
       "\n",
       "    .dataframe thead th {\n",
       "        text-align: right;\n",
       "    }\n",
       "</style>\n",
       "<table border=\"1\" class=\"dataframe\">\n",
       "  <thead>\n",
       "    <tr style=\"text-align: right;\">\n",
       "      <th></th>\n",
       "      <th>name</th>\n",
       "      <th>platform</th>\n",
       "      <th>year_of_release</th>\n",
       "      <th>genre</th>\n",
       "      <th>na_sales</th>\n",
       "      <th>eu_sales</th>\n",
       "      <th>jp_sales</th>\n",
       "      <th>other_sales</th>\n",
       "      <th>critic_score</th>\n",
       "      <th>user_score</th>\n",
       "      <th>rating</th>\n",
       "    </tr>\n",
       "  </thead>\n",
       "  <tbody>\n",
       "    <tr>\n",
       "      <th>659</th>\n",
       "      <td>NaN</td>\n",
       "      <td>GEN</td>\n",
       "      <td>1993.00</td>\n",
       "      <td>NaN</td>\n",
       "      <td>1.78</td>\n",
       "      <td>0.53</td>\n",
       "      <td>0.00</td>\n",
       "      <td>0.08</td>\n",
       "      <td>NaN</td>\n",
       "      <td>NaN</td>\n",
       "      <td>NaN</td>\n",
       "    </tr>\n",
       "    <tr>\n",
       "      <th>14244</th>\n",
       "      <td>NaN</td>\n",
       "      <td>GEN</td>\n",
       "      <td>1993.00</td>\n",
       "      <td>NaN</td>\n",
       "      <td>0.00</td>\n",
       "      <td>0.00</td>\n",
       "      <td>0.03</td>\n",
       "      <td>0.00</td>\n",
       "      <td>NaN</td>\n",
       "      <td>NaN</td>\n",
       "      <td>NaN</td>\n",
       "    </tr>\n",
       "  </tbody>\n",
       "</table>\n",
       "</div>"
      ],
      "text/plain": [
       "      name platform  year_of_release genre  na_sales  eu_sales  jp_sales  \\\n",
       "659    NaN      GEN          1993.00   NaN      1.78      0.53      0.00   \n",
       "14244  NaN      GEN          1993.00   NaN      0.00      0.00      0.03   \n",
       "\n",
       "       other_sales  critic_score user_score rating  \n",
       "659           0.08           NaN        NaN    NaN  \n",
       "14244         0.00           NaN        NaN    NaN  "
      ]
     },
     "execution_count": 16,
     "metadata": {},
     "output_type": "execute_result"
    }
   ],
   "source": [
    "data.query('name.isna()')"
   ]
  },
  {
   "cell_type": "code",
   "execution_count": 17,
   "metadata": {},
   "outputs": [],
   "source": [
    "data = data.drop(index=[659, 14244])"
   ]
  },
  {
   "cell_type": "code",
   "execution_count": 18,
   "metadata": {},
   "outputs": [],
   "source": [
    "data['year_of_release'] = data['year_of_release'].fillna(-1)\n",
    "data['critic_score'] = data['critic_score'].fillna(-1)\n",
    "data['user_score'] = data['user_score'].fillna(-1)\n",
    "data['rating'] = data['rating'].fillna('none')"
   ]
  },
  {
   "cell_type": "code",
   "execution_count": 19,
   "metadata": {},
   "outputs": [
    {
     "data": {
      "text/plain": [
       "name               0\n",
       "platform           0\n",
       "year_of_release    0\n",
       "genre              0\n",
       "na_sales           0\n",
       "eu_sales           0\n",
       "jp_sales           0\n",
       "other_sales        0\n",
       "critic_score       0\n",
       "user_score         0\n",
       "rating             0\n",
       "dtype: int64"
      ]
     },
     "execution_count": 19,
     "metadata": {},
     "output_type": "execute_result"
    }
   ],
   "source": [
    "data.isna().sum()"
   ]
  },
  {
   "cell_type": "code",
   "execution_count": 20,
   "metadata": {},
   "outputs": [],
   "source": [
    "data['sales_total'] = data['na_sales'] + data['eu_sales'] + data['jp_sales'] + data['other_sales']"
   ]
  },
  {
   "cell_type": "code",
   "execution_count": 21,
   "metadata": {},
   "outputs": [
    {
     "name": "stdout",
     "output_type": "stream",
     "text": [
      "<class 'pandas.core.frame.DataFrame'>\n",
      "Int64Index: 16713 entries, 0 to 16714\n",
      "Data columns (total 12 columns):\n",
      " #   Column           Non-Null Count  Dtype  \n",
      "---  ------           --------------  -----  \n",
      " 0   name             16713 non-null  object \n",
      " 1   platform         16713 non-null  object \n",
      " 2   year_of_release  16713 non-null  float64\n",
      " 3   genre            16713 non-null  object \n",
      " 4   na_sales         16713 non-null  float64\n",
      " 5   eu_sales         16713 non-null  float64\n",
      " 6   jp_sales         16713 non-null  float64\n",
      " 7   other_sales      16713 non-null  float64\n",
      " 8   critic_score     16713 non-null  float64\n",
      " 9   user_score       16713 non-null  object \n",
      " 10  rating           16713 non-null  object \n",
      " 11  sales_total      16713 non-null  float64\n",
      "dtypes: float64(7), object(5)\n",
      "memory usage: 1.7+ MB\n"
     ]
    }
   ],
   "source": [
    "data.info()"
   ]
  },
  {
   "cell_type": "markdown",
   "metadata": {},
   "source": [
    "Поменяем типы данных где нужно"
   ]
  },
  {
   "cell_type": "code",
   "execution_count": 22,
   "metadata": {},
   "outputs": [],
   "source": [
    "data['year_of_release'] = data['year_of_release'].astype('int64') #дробные нам тут не нужны\n",
    "data['user_score'] = data['user_score'].astype('float') #а здесь наборот, числа - к числам"
   ]
  },
  {
   "cell_type": "code",
   "execution_count": 23,
   "metadata": {},
   "outputs": [
    {
     "name": "stdout",
     "output_type": "stream",
     "text": [
      "<class 'pandas.core.frame.DataFrame'>\n",
      "Int64Index: 16713 entries, 0 to 16714\n",
      "Data columns (total 12 columns):\n",
      " #   Column           Non-Null Count  Dtype  \n",
      "---  ------           --------------  -----  \n",
      " 0   name             16713 non-null  object \n",
      " 1   platform         16713 non-null  object \n",
      " 2   year_of_release  16713 non-null  int64  \n",
      " 3   genre            16713 non-null  object \n",
      " 4   na_sales         16713 non-null  float64\n",
      " 5   eu_sales         16713 non-null  float64\n",
      " 6   jp_sales         16713 non-null  float64\n",
      " 7   other_sales      16713 non-null  float64\n",
      " 8   critic_score     16713 non-null  float64\n",
      " 9   user_score       16713 non-null  float64\n",
      " 10  rating           16713 non-null  object \n",
      " 11  sales_total      16713 non-null  float64\n",
      "dtypes: float64(7), int64(1), object(4)\n",
      "memory usage: 1.7+ MB\n"
     ]
    }
   ],
   "source": [
    "data.info()"
   ]
  },
  {
   "cell_type": "markdown",
   "metadata": {},
   "source": [
    "### 3. Проведем исследовательский анализ данных"
   ]
  },
  {
   "cell_type": "markdown",
   "metadata": {},
   "source": [
    "- Посмотрим, сколько игр выпускалось в разные годы. Важны ли данные за все периоды?\n",
    "- Посмотрим, как менялись продажи по платформам. Выберите платформы с наибольшими суммарными продажами и постройте распределение по годам. За какой характерный срок появляются новые и исчезают старые платформы?\n",
    "- Подберем актуальный период.\n",
    "- Какие платформы лидируют по продажам, растут или падают? Выберем несколько потенциально прибыльных платформ.\n",
    "- Построим график «ящик с усами» по глобальным продажам игр в разбивке по платформам. Опишем результат.\n",
    "- Посмотрим, как влияют на продажи внутри одной популярной платформы отзывы пользователей и критиков. Постройте диаграмму рассеяния и посчитайте корреляцию между отзывами и продажами. Сформулируйте выводы.\n",
    "- Соотнесем выводы с продажами игр на других платформах.\n",
    "- Посмотрим на общее распределение игр по жанрам. Что можно сказать о самых прибыльных жанрах? Выделяются ли жанры с высокими и низкими продажами?"
   ]
  },
  {
   "cell_type": "code",
   "execution_count": 24,
   "metadata": {},
   "outputs": [
    {
     "data": {
      "text/html": [
       "<div>\n",
       "<style scoped>\n",
       "    .dataframe tbody tr th:only-of-type {\n",
       "        vertical-align: middle;\n",
       "    }\n",
       "\n",
       "    .dataframe tbody tr th {\n",
       "        vertical-align: top;\n",
       "    }\n",
       "\n",
       "    .dataframe thead th {\n",
       "        text-align: right;\n",
       "    }\n",
       "</style>\n",
       "<table border=\"1\" class=\"dataframe\">\n",
       "  <thead>\n",
       "    <tr style=\"text-align: right;\">\n",
       "      <th></th>\n",
       "      <th>name</th>\n",
       "      <th>platform</th>\n",
       "      <th>year_of_release</th>\n",
       "      <th>genre</th>\n",
       "      <th>na_sales</th>\n",
       "      <th>eu_sales</th>\n",
       "      <th>jp_sales</th>\n",
       "      <th>other_sales</th>\n",
       "      <th>critic_score</th>\n",
       "      <th>user_score</th>\n",
       "      <th>rating</th>\n",
       "      <th>sales_total</th>\n",
       "    </tr>\n",
       "  </thead>\n",
       "  <tbody>\n",
       "    <tr>\n",
       "      <th>13168</th>\n",
       "      <td>Winning Post 7 2013</td>\n",
       "      <td>PS3</td>\n",
       "      <td>2013</td>\n",
       "      <td>Sports</td>\n",
       "      <td>0.00</td>\n",
       "      <td>0.00</td>\n",
       "      <td>0.05</td>\n",
       "      <td>0.00</td>\n",
       "      <td>-1.00</td>\n",
       "      <td>-1.00</td>\n",
       "      <td>none</td>\n",
       "      <td>0.05</td>\n",
       "    </tr>\n",
       "  </tbody>\n",
       "</table>\n",
       "</div>"
      ],
      "text/plain": [
       "                      name platform  year_of_release   genre  na_sales  \\\n",
       "13168  Winning Post 7 2013      PS3             2013  Sports      0.00   \n",
       "\n",
       "       eu_sales  jp_sales  other_sales  critic_score  user_score rating  \\\n",
       "13168      0.00      0.05         0.00         -1.00       -1.00   none   \n",
       "\n",
       "       sales_total  \n",
       "13168         0.05  "
      ]
     },
     "execution_count": 24,
     "metadata": {},
     "output_type": "execute_result"
    }
   ],
   "source": [
    "data.sample()"
   ]
  },
  {
   "cell_type": "code",
   "execution_count": 25,
   "metadata": {
    "scrolled": false
   },
   "outputs": [
    {
     "data": {
      "image/png": "[encoded data removed]",
      "text/plain": [
       "<Figure size 720x360 with 1 Axes>"
      ]
     },
     "metadata": {
      "needs_background": "light"
     },
     "output_type": "display_data"
    }
   ],
   "source": [
    "data['year_of_release'].hist(bins=75, range=(1980,2016), figsize=(10,5))\n",
    "plt.show()"
   ]
  },
  {
   "cell_type": "markdown",
   "metadata": {},
   "source": [
    "Появились в 80-ых, затем было долго плато — мощностей не хватало, а на текстовых квестах много не заработаешь. С 95-года росли чипы видеоадаптеров в мощности, соответственно график релизов тоже рос. 2005-2010 год - золотой век видеоигр, потом все инветоры разбрелись по возникшим крупным AAA издателям которые, в свою очередь, начали пожирать друг друга. В то время как качество игр и, соответственно, время и стоимость их разработки увеличивалось - самих игр стало меньше.\n",
    "\n",
    "Но еще один фактор, который не отображен на наших данных - это сильный рост моблиьного рынка, особенно в азиатских странах."
   ]
  },
  {
   "cell_type": "code",
   "execution_count": 26,
   "metadata": {
    "scrolled": false
   },
   "outputs": [
    {
     "data": {
      "image/png": "[encoded data removed]",
      "text/plain": [
       "<Figure size 432x288 with 1 Axes>"
      ]
     },
     "metadata": {
      "needs_background": "light"
     },
     "output_type": "display_data"
    }
   ],
   "source": [
    "data.groupby('platform')['sales_total'].sum().sort_values(ascending=False).head(10).plot(kind='bar')\n",
    "plt.show()"
   ]
  },
  {
   "cell_type": "markdown",
   "metadata": {},
   "source": [
    "Здесь мы видим популярность платформ, возьмём 6 самых продаваемых за всё время и посмотрим на них под другим углом."
   ]
  },
  {
   "cell_type": "code",
   "execution_count": 27,
   "metadata": {},
   "outputs": [],
   "source": [
    "top_platfrom_sales = data.query('year_of_release != -1')\\\n",
    ".pivot_table(index = 'year_of_release', columns = 'platform', values = 'sales_total', aggfunc = 'sum').fillna(0)\n",
    "#создадим отдельную табличку, игнорируем заглушки, заполняем все пустые значения 0 для болле отчетливой визуализации"
   ]
  },
  {
   "cell_type": "code",
   "execution_count": 228,
   "metadata": {},
   "outputs": [
    {
     "data": {
      "text/plain": [
       "<AxesSubplot:xlabel='year_of_release'>"
      ]
     },
     "execution_count": 228,
     "metadata": {},
     "output_type": "execute_result"
    },
    {
     "data": {
      "image/png": "[encoded data removed]",
      "text/plain": [
       "<Figure size 1224x432 with 1 Axes>"
      ]
     },
     "metadata": {
      "needs_background": "light"
     },
     "output_type": "display_data"
    }
   ],
   "source": [
    "data.query('year_of_release >= 2005')\\\n",
    ".pivot_table(index = 'year_of_release', columns = 'platform', values = 'sales_total', aggfunc = 'sum').fillna(0).plot(figsize=(17,6))"
   ]
  },
  {
   "cell_type": "code",
   "execution_count": 28,
   "metadata": {},
   "outputs": [
    {
     "data": {
      "image/png": "[encoded data removed]",
      "text/plain": [
       "<Figure size 864x432 with 1 Axes>"
      ]
     },
     "metadata": {
      "needs_background": "light"
     },
     "output_type": "display_data"
    }
   ],
   "source": [
    "top_platfrom_sales = top_platfrom_sales[['PS2', 'X360','PS3','Wii', 'DS', 'PS']]\n",
    "top_platfrom_sales.plot(xticks=top_platfrom_sales.index,figsize=(12,6))\n",
    "plt.xticks(rotation = 45)\n",
    "plt.show()"
   ]
  },
  {
   "cell_type": "markdown",
   "metadata": {},
   "source": [
    "Заметно, что цикл появления новых и исчезновения старых платформ составляет примерно 12 лет. Таким образом, для прогнозирования подаж на следующий год нужно использовать данные за последние 5-ть лет: платформы, продажи которых растут в течение этого срока, являются наиболее перспективными (т.к. есть еще пара лет до пика продаж + впереди достаточно большой срок, когда продажи будут падать, но все еще будут приносить достаточно денег).\n",
    "\n",
    "Давайте посмотрим данные за 2013-2016г, чтобы понять, какие платформы окажутся в лидерах."
   ]
  },
  {
   "cell_type": "code",
   "execution_count": 29,
   "metadata": {},
   "outputs": [
    {
     "data": {
      "image/png": "[encoded data removed]",
      "text/plain": [
       "<Figure size 864x432 with 1 Axes>"
      ]
     },
     "metadata": {
      "needs_background": "light"
     },
     "output_type": "display_data"
    }
   ],
   "source": [
    "relevant_sales = data.query('year_of_release != -1 and year_of_release >= 2013')\\\n",
    ".pivot_table(index = 'year_of_release', columns = 'platform', values = 'sales_total', aggfunc = 'sum').fillna(0)\n",
    "relevant_sales.plot(xticks=relevant_sales.index,figsize=(12,6))\n",
    "plt.show()"
   ]
  },
  {
   "cell_type": "markdown",
   "metadata": {},
   "source": [
    "Итак, самыми потенциально прибыльными платформами являются Sony PlayStation 4 и Xbox One от Microsoft. Какое-то время будут актуальны игры для платформ Nintendo 3DS, Wii U, Xbox 360 и PlayStation 3. Остальные платформы уже упали в продажах и ждать второго дыхания в 2017 году не стоит. Конечно, на графике виден спад абсолютно всех продаж в 2016 году, но возможно это связано с тем, что просто нет полных данных за этот период.\n",
    "\n",
    "Так же любопытно, что на примере Sony PlayStation 3 и Sony PlayStation (или Xbox One и Xbox 360) можно увидеть смену поколений, когда игры выпускаются как для старой платформы, так и для новой."
   ]
  },
  {
   "cell_type": "code",
   "execution_count": 30,
   "metadata": {},
   "outputs": [
    {
     "data": {
      "text/html": [
       "<div>\n",
       "<style scoped>\n",
       "    .dataframe tbody tr th:only-of-type {\n",
       "        vertical-align: middle;\n",
       "    }\n",
       "\n",
       "    .dataframe tbody tr th {\n",
       "        vertical-align: top;\n",
       "    }\n",
       "\n",
       "    .dataframe thead th {\n",
       "        text-align: right;\n",
       "    }\n",
       "</style>\n",
       "<table border=\"1\" class=\"dataframe\">\n",
       "  <thead>\n",
       "    <tr style=\"text-align: right;\">\n",
       "      <th></th>\n",
       "      <th>name</th>\n",
       "      <th>platform</th>\n",
       "      <th>year_of_release</th>\n",
       "      <th>genre</th>\n",
       "      <th>na_sales</th>\n",
       "      <th>eu_sales</th>\n",
       "      <th>jp_sales</th>\n",
       "      <th>other_sales</th>\n",
       "      <th>critic_score</th>\n",
       "      <th>user_score</th>\n",
       "      <th>rating</th>\n",
       "      <th>sales_total</th>\n",
       "    </tr>\n",
       "  </thead>\n",
       "  <tbody>\n",
       "    <tr>\n",
       "      <th>16</th>\n",
       "      <td>Grand Theft Auto V</td>\n",
       "      <td>PS3</td>\n",
       "      <td>2013</td>\n",
       "      <td>Action</td>\n",
       "      <td>7.02</td>\n",
       "      <td>9.09</td>\n",
       "      <td>0.98</td>\n",
       "      <td>3.96</td>\n",
       "      <td>97.00</td>\n",
       "      <td>8.20</td>\n",
       "      <td>M</td>\n",
       "      <td>21.05</td>\n",
       "    </tr>\n",
       "    <tr>\n",
       "      <th>23</th>\n",
       "      <td>Grand Theft Auto V</td>\n",
       "      <td>X360</td>\n",
       "      <td>2013</td>\n",
       "      <td>Action</td>\n",
       "      <td>9.66</td>\n",
       "      <td>5.14</td>\n",
       "      <td>0.06</td>\n",
       "      <td>1.41</td>\n",
       "      <td>97.00</td>\n",
       "      <td>8.10</td>\n",
       "      <td>M</td>\n",
       "      <td>16.27</td>\n",
       "    </tr>\n",
       "    <tr>\n",
       "      <th>31</th>\n",
       "      <td>Call of Duty: Black Ops 3</td>\n",
       "      <td>PS4</td>\n",
       "      <td>2015</td>\n",
       "      <td>Shooter</td>\n",
       "      <td>6.03</td>\n",
       "      <td>5.86</td>\n",
       "      <td>0.36</td>\n",
       "      <td>2.38</td>\n",
       "      <td>-1.00</td>\n",
       "      <td>-1.00</td>\n",
       "      <td>none</td>\n",
       "      <td>14.63</td>\n",
       "    </tr>\n",
       "    <tr>\n",
       "      <th>33</th>\n",
       "      <td>Pokemon X/Pokemon Y</td>\n",
       "      <td>3DS</td>\n",
       "      <td>2013</td>\n",
       "      <td>Role-Playing</td>\n",
       "      <td>5.28</td>\n",
       "      <td>4.19</td>\n",
       "      <td>4.35</td>\n",
       "      <td>0.78</td>\n",
       "      <td>-1.00</td>\n",
       "      <td>-1.00</td>\n",
       "      <td>none</td>\n",
       "      <td>14.60</td>\n",
       "    </tr>\n",
       "    <tr>\n",
       "      <th>42</th>\n",
       "      <td>Grand Theft Auto V</td>\n",
       "      <td>PS4</td>\n",
       "      <td>2014</td>\n",
       "      <td>Action</td>\n",
       "      <td>3.96</td>\n",
       "      <td>6.31</td>\n",
       "      <td>0.38</td>\n",
       "      <td>1.97</td>\n",
       "      <td>97.00</td>\n",
       "      <td>8.30</td>\n",
       "      <td>M</td>\n",
       "      <td>12.62</td>\n",
       "    </tr>\n",
       "  </tbody>\n",
       "</table>\n",
       "</div>"
      ],
      "text/plain": [
       "                         name platform  year_of_release         genre  \\\n",
       "16         Grand Theft Auto V      PS3             2013        Action   \n",
       "23         Grand Theft Auto V     X360             2013        Action   \n",
       "31  Call of Duty: Black Ops 3      PS4             2015       Shooter   \n",
       "33        Pokemon X/Pokemon Y      3DS             2013  Role-Playing   \n",
       "42         Grand Theft Auto V      PS4             2014        Action   \n",
       "\n",
       "    na_sales  eu_sales  jp_sales  other_sales  critic_score  user_score  \\\n",
       "16      7.02      9.09      0.98         3.96         97.00        8.20   \n",
       "23      9.66      5.14      0.06         1.41         97.00        8.10   \n",
       "31      6.03      5.86      0.36         2.38         -1.00       -1.00   \n",
       "33      5.28      4.19      4.35         0.78         -1.00       -1.00   \n",
       "42      3.96      6.31      0.38         1.97         97.00        8.30   \n",
       "\n",
       "   rating  sales_total  \n",
       "16      M        21.05  \n",
       "23      M        16.27  \n",
       "31   none        14.63  \n",
       "33   none        14.60  \n",
       "42      M        12.62  "
      ]
     },
     "execution_count": 30,
     "metadata": {},
     "output_type": "execute_result"
    }
   ],
   "source": [
    "new_data = data.query('year_of_release != -1 and year_of_release >= 2013 and platform in [\"PS4\", \"XOne\", \"PS3\", \"X360\", \"WiiU\", \"3DS\"]')\n",
    "new_data.head(5)"
   ]
  },
  {
   "cell_type": "code",
   "execution_count": 63,
   "metadata": {},
   "outputs": [
    {
     "data": {
      "text/html": [
       "<div>\n",
       "<style scoped>\n",
       "    .dataframe tbody tr th:only-of-type {\n",
       "        vertical-align: middle;\n",
       "    }\n",
       "\n",
       "    .dataframe tbody tr th {\n",
       "        vertical-align: top;\n",
       "    }\n",
       "\n",
       "    .dataframe thead th {\n",
       "        text-align: right;\n",
       "    }\n",
       "</style>\n",
       "<table border=\"1\" class=\"dataframe\">\n",
       "  <thead>\n",
       "    <tr style=\"text-align: right;\">\n",
       "      <th></th>\n",
       "      <th>name</th>\n",
       "      <th>platform</th>\n",
       "      <th>year_of_release</th>\n",
       "      <th>genre</th>\n",
       "      <th>na_sales</th>\n",
       "      <th>eu_sales</th>\n",
       "      <th>jp_sales</th>\n",
       "      <th>other_sales</th>\n",
       "      <th>critic_score</th>\n",
       "      <th>user_score</th>\n",
       "      <th>rating</th>\n",
       "      <th>sales_total</th>\n",
       "    </tr>\n",
       "  </thead>\n",
       "  <tbody>\n",
       "    <tr>\n",
       "      <th>16</th>\n",
       "      <td>Grand Theft Auto V</td>\n",
       "      <td>PS3</td>\n",
       "      <td>2013</td>\n",
       "      <td>Action</td>\n",
       "      <td>7.02</td>\n",
       "      <td>9.09</td>\n",
       "      <td>0.98</td>\n",
       "      <td>3.96</td>\n",
       "      <td>97.00</td>\n",
       "      <td>8.20</td>\n",
       "      <td>M</td>\n",
       "      <td>21.05</td>\n",
       "    </tr>\n",
       "    <tr>\n",
       "      <th>23</th>\n",
       "      <td>Grand Theft Auto V</td>\n",
       "      <td>X360</td>\n",
       "      <td>2013</td>\n",
       "      <td>Action</td>\n",
       "      <td>9.66</td>\n",
       "      <td>5.14</td>\n",
       "      <td>0.06</td>\n",
       "      <td>1.41</td>\n",
       "      <td>97.00</td>\n",
       "      <td>8.10</td>\n",
       "      <td>M</td>\n",
       "      <td>16.27</td>\n",
       "    </tr>\n",
       "    <tr>\n",
       "      <th>42</th>\n",
       "      <td>Grand Theft Auto V</td>\n",
       "      <td>PS4</td>\n",
       "      <td>2014</td>\n",
       "      <td>Action</td>\n",
       "      <td>3.96</td>\n",
       "      <td>6.31</td>\n",
       "      <td>0.38</td>\n",
       "      <td>1.97</td>\n",
       "      <td>97.00</td>\n",
       "      <td>8.30</td>\n",
       "      <td>M</td>\n",
       "      <td>12.62</td>\n",
       "    </tr>\n",
       "    <tr>\n",
       "      <th>165</th>\n",
       "      <td>Grand Theft Auto V</td>\n",
       "      <td>XOne</td>\n",
       "      <td>2014</td>\n",
       "      <td>Action</td>\n",
       "      <td>2.81</td>\n",
       "      <td>2.19</td>\n",
       "      <td>0.00</td>\n",
       "      <td>0.47</td>\n",
       "      <td>97.00</td>\n",
       "      <td>7.90</td>\n",
       "      <td>M</td>\n",
       "      <td>5.47</td>\n",
       "    </tr>\n",
       "  </tbody>\n",
       "</table>\n",
       "</div>"
      ],
      "text/plain": [
       "                   name platform  year_of_release   genre  na_sales  eu_sales  \\\n",
       "16   Grand Theft Auto V      PS3             2013  Action      7.02      9.09   \n",
       "23   Grand Theft Auto V     X360             2013  Action      9.66      5.14   \n",
       "42   Grand Theft Auto V      PS4             2014  Action      3.96      6.31   \n",
       "165  Grand Theft Auto V     XOne             2014  Action      2.81      2.19   \n",
       "\n",
       "     jp_sales  other_sales  critic_score  user_score rating  sales_total  \n",
       "16       0.98         3.96         97.00        8.20      M        21.05  \n",
       "23       0.06         1.41         97.00        8.10      M        16.27  \n",
       "42       0.38         1.97         97.00        8.30      M        12.62  \n",
       "165      0.00         0.47         97.00        7.90      M         5.47  "
      ]
     },
     "execution_count": 63,
     "metadata": {},
     "output_type": "execute_result"
    }
   ],
   "source": [
    "new_data.query('name == \"Grand Theft Auto V\"')"
   ]
  },
  {
   "cell_type": "code",
   "execution_count": 62,
   "metadata": {},
   "outputs": [
    {
     "data": {
      "text/html": [
       "<div>\n",
       "<style scoped>\n",
       "    .dataframe tbody tr th:only-of-type {\n",
       "        vertical-align: middle;\n",
       "    }\n",
       "\n",
       "    .dataframe tbody tr th {\n",
       "        vertical-align: top;\n",
       "    }\n",
       "\n",
       "    .dataframe thead th {\n",
       "        text-align: right;\n",
       "    }\n",
       "</style>\n",
       "<table border=\"1\" class=\"dataframe\">\n",
       "  <thead>\n",
       "    <tr style=\"text-align: right;\">\n",
       "      <th></th>\n",
       "      <th>name</th>\n",
       "      <th>platform</th>\n",
       "      <th>year_of_release</th>\n",
       "      <th>genre</th>\n",
       "      <th>na_sales</th>\n",
       "      <th>eu_sales</th>\n",
       "      <th>jp_sales</th>\n",
       "      <th>other_sales</th>\n",
       "      <th>critic_score</th>\n",
       "      <th>user_score</th>\n",
       "      <th>rating</th>\n",
       "      <th>sales_total</th>\n",
       "    </tr>\n",
       "  </thead>\n",
       "  <tbody>\n",
       "    <tr>\n",
       "      <th>16</th>\n",
       "      <td>Grand Theft Auto V</td>\n",
       "      <td>PS3</td>\n",
       "      <td>2013</td>\n",
       "      <td>Action</td>\n",
       "      <td>7.02</td>\n",
       "      <td>9.09</td>\n",
       "      <td>0.98</td>\n",
       "      <td>3.96</td>\n",
       "      <td>97.00</td>\n",
       "      <td>8.20</td>\n",
       "      <td>M</td>\n",
       "      <td>21.05</td>\n",
       "    </tr>\n",
       "  </tbody>\n",
       "</table>\n",
       "</div>"
      ],
      "text/plain": [
       "                  name platform  year_of_release   genre  na_sales  eu_sales  \\\n",
       "16  Grand Theft Auto V      PS3             2013  Action      7.02      9.09   \n",
       "\n",
       "    jp_sales  other_sales  critic_score  user_score rating  sales_total  \n",
       "16      0.98         3.96         97.00        8.20      M        21.05  "
      ]
     },
     "execution_count": 62,
     "metadata": {},
     "output_type": "execute_result"
    }
   ],
   "source": [
    "new_data.query('sales_total > 20')"
   ]
  },
  {
   "cell_type": "code",
   "execution_count": 31,
   "metadata": {},
   "outputs": [
    {
     "data": {
      "image/png": "[encoded data removed]",
      "text/plain": [
       "<Figure size 720x720 with 1 Axes>"
      ]
     },
     "metadata": {
      "needs_background": "light"
     },
     "output_type": "display_data"
    }
   ],
   "source": [
    "new_data.boxplot('sales_total', by='platform',figsize=(10,10))\n",
    "plt.show()"
   ]
  },
  {
   "cell_type": "markdown",
   "metadata": {},
   "source": [
    "Здесь мы видим, что почти все платформы имели свои бестселлеры, и немало. В особенности отличились PS3 и Xbox 360 с выходом GTAV. "
   ]
  },
  {
   "cell_type": "code",
   "execution_count": 32,
   "metadata": {},
   "outputs": [
    {
     "data": {
      "image/png": "[encoded data removed]",
      "text/plain": [
       "<Figure size 720x720 with 1 Axes>"
      ]
     },
     "metadata": {
      "needs_background": "light"
     },
     "output_type": "display_data"
    }
   ],
   "source": [
    "new_data.boxplot('sales_total', by='platform',figsize=(10,10), showfliers=False)\n",
    "plt.show()"
   ]
  },
  {
   "cell_type": "markdown",
   "metadata": {},
   "source": [
    "Медианные значения продаж смещены к нижнему краю – то есть на всех платформах выходит много игр с относительно небольшими продажами. При этом везде есть небольшое количество бестселлеров, продажи которых могут многократно превышать обычные значения."
   ]
  },
  {
   "cell_type": "markdown",
   "metadata": {},
   "source": [
    "Рассмотрим одну из популярных платформ и влияние на продажи внутри неё отзывов пользователей и критиков. Самый подходящий вариант здесь, думаю, будет PS4."
   ]
  },
  {
   "cell_type": "code",
   "execution_count": 33,
   "metadata": {},
   "outputs": [
    {
     "data": {
      "text/html": [
       "<div>\n",
       "<style scoped>\n",
       "    .dataframe tbody tr th:only-of-type {\n",
       "        vertical-align: middle;\n",
       "    }\n",
       "\n",
       "    .dataframe tbody tr th {\n",
       "        vertical-align: top;\n",
       "    }\n",
       "\n",
       "    .dataframe thead th {\n",
       "        text-align: right;\n",
       "    }\n",
       "</style>\n",
       "<table border=\"1\" class=\"dataframe\">\n",
       "  <thead>\n",
       "    <tr style=\"text-align: right;\">\n",
       "      <th></th>\n",
       "      <th>name</th>\n",
       "      <th>platform</th>\n",
       "      <th>year_of_release</th>\n",
       "      <th>genre</th>\n",
       "      <th>na_sales</th>\n",
       "      <th>eu_sales</th>\n",
       "      <th>jp_sales</th>\n",
       "      <th>other_sales</th>\n",
       "      <th>critic_score</th>\n",
       "      <th>user_score</th>\n",
       "      <th>rating</th>\n",
       "      <th>sales_total</th>\n",
       "    </tr>\n",
       "  </thead>\n",
       "  <tbody>\n",
       "    <tr>\n",
       "      <th>5954</th>\n",
       "      <td>Disney Infinity</td>\n",
       "      <td>3DS</td>\n",
       "      <td>2013</td>\n",
       "      <td>Action</td>\n",
       "      <td>0.17</td>\n",
       "      <td>0.10</td>\n",
       "      <td>0.00</td>\n",
       "      <td>0.02</td>\n",
       "      <td>-1.00</td>\n",
       "      <td>-1.00</td>\n",
       "      <td>none</td>\n",
       "      <td>0.29</td>\n",
       "    </tr>\n",
       "  </tbody>\n",
       "</table>\n",
       "</div>"
      ],
      "text/plain": [
       "                 name platform  year_of_release   genre  na_sales  eu_sales  \\\n",
       "5954  Disney Infinity      3DS             2013  Action      0.17      0.10   \n",
       "\n",
       "      jp_sales  other_sales  critic_score  user_score rating  sales_total  \n",
       "5954      0.00         0.02         -1.00       -1.00   none         0.29  "
      ]
     },
     "execution_count": 33,
     "metadata": {},
     "output_type": "execute_result"
    }
   ],
   "source": [
    "new_data.sample()"
   ]
  },
  {
   "cell_type": "code",
   "execution_count": 34,
   "metadata": {},
   "outputs": [
    {
     "data": {
      "text/html": [
       "<div>\n",
       "<style scoped>\n",
       "    .dataframe tbody tr th:only-of-type {\n",
       "        vertical-align: middle;\n",
       "    }\n",
       "\n",
       "    .dataframe tbody tr th {\n",
       "        vertical-align: top;\n",
       "    }\n",
       "\n",
       "    .dataframe thead th {\n",
       "        text-align: right;\n",
       "    }\n",
       "</style>\n",
       "<table border=\"1\" class=\"dataframe\">\n",
       "  <thead>\n",
       "    <tr style=\"text-align: right;\">\n",
       "      <th></th>\n",
       "      <th>sales_total</th>\n",
       "      <th>critic_score</th>\n",
       "      <th>user_score</th>\n",
       "    </tr>\n",
       "  </thead>\n",
       "  <tbody>\n",
       "    <tr>\n",
       "      <th>42</th>\n",
       "      <td>12.62</td>\n",
       "      <td>97.00</td>\n",
       "      <td>8.30</td>\n",
       "    </tr>\n",
       "    <tr>\n",
       "      <th>77</th>\n",
       "      <td>8.58</td>\n",
       "      <td>82.00</td>\n",
       "      <td>4.30</td>\n",
       "    </tr>\n",
       "    <tr>\n",
       "      <th>92</th>\n",
       "      <td>7.66</td>\n",
       "      <td>83.00</td>\n",
       "      <td>5.70</td>\n",
       "    </tr>\n",
       "    <tr>\n",
       "      <th>94</th>\n",
       "      <td>7.60</td>\n",
       "      <td>85.00</td>\n",
       "      <td>5.00</td>\n",
       "    </tr>\n",
       "    <tr>\n",
       "      <th>105</th>\n",
       "      <td>7.17</td>\n",
       "      <td>87.00</td>\n",
       "      <td>6.50</td>\n",
       "    </tr>\n",
       "    <tr>\n",
       "      <th>...</th>\n",
       "      <td>...</td>\n",
       "      <td>...</td>\n",
       "      <td>...</td>\n",
       "    </tr>\n",
       "    <tr>\n",
       "      <th>16486</th>\n",
       "      <td>0.01</td>\n",
       "      <td>42.00</td>\n",
       "      <td>2.30</td>\n",
       "    </tr>\n",
       "    <tr>\n",
       "      <th>16499</th>\n",
       "      <td>0.01</td>\n",
       "      <td>70.00</td>\n",
       "      <td>6.80</td>\n",
       "    </tr>\n",
       "    <tr>\n",
       "      <th>16500</th>\n",
       "      <td>0.01</td>\n",
       "      <td>69.00</td>\n",
       "      <td>7.50</td>\n",
       "    </tr>\n",
       "    <tr>\n",
       "      <th>16526</th>\n",
       "      <td>0.01</td>\n",
       "      <td>61.00</td>\n",
       "      <td>7.90</td>\n",
       "    </tr>\n",
       "    <tr>\n",
       "      <th>16530</th>\n",
       "      <td>0.01</td>\n",
       "      <td>51.00</td>\n",
       "      <td>5.50</td>\n",
       "    </tr>\n",
       "  </tbody>\n",
       "</table>\n",
       "<p>249 rows × 3 columns</p>\n",
       "</div>"
      ],
      "text/plain": [
       "       sales_total  critic_score  user_score\n",
       "42           12.62         97.00        8.30\n",
       "77            8.58         82.00        4.30\n",
       "92            7.66         83.00        5.70\n",
       "94            7.60         85.00        5.00\n",
       "105           7.17         87.00        6.50\n",
       "...            ...           ...         ...\n",
       "16486         0.01         42.00        2.30\n",
       "16499         0.01         70.00        6.80\n",
       "16500         0.01         69.00        7.50\n",
       "16526         0.01         61.00        7.90\n",
       "16530         0.01         51.00        5.50\n",
       "\n",
       "[249 rows x 3 columns]"
      ]
     },
     "execution_count": 34,
     "metadata": {},
     "output_type": "execute_result"
    }
   ],
   "source": [
    "new_data.query('platform == \"PS4\" and critic_score != -1 and user_score != -1')[['sales_total', 'critic_score', 'user_score']]"
   ]
  },
  {
   "cell_type": "code",
   "execution_count": 35,
   "metadata": {},
   "outputs": [
    {
     "data": {
      "text/html": [
       "<div>\n",
       "<style scoped>\n",
       "    .dataframe tbody tr th:only-of-type {\n",
       "        vertical-align: middle;\n",
       "    }\n",
       "\n",
       "    .dataframe tbody tr th {\n",
       "        vertical-align: top;\n",
       "    }\n",
       "\n",
       "    .dataframe thead th {\n",
       "        text-align: right;\n",
       "    }\n",
       "</style>\n",
       "<table border=\"1\" class=\"dataframe\">\n",
       "  <thead>\n",
       "    <tr style=\"text-align: right;\">\n",
       "      <th></th>\n",
       "      <th>sales_total</th>\n",
       "      <th>critic_score</th>\n",
       "      <th>user_score</th>\n",
       "    </tr>\n",
       "  </thead>\n",
       "  <tbody>\n",
       "    <tr>\n",
       "      <th>42</th>\n",
       "      <td>12.62</td>\n",
       "      <td>97.00</td>\n",
       "      <td>8.30</td>\n",
       "    </tr>\n",
       "    <tr>\n",
       "      <th>77</th>\n",
       "      <td>8.58</td>\n",
       "      <td>82.00</td>\n",
       "      <td>4.30</td>\n",
       "    </tr>\n",
       "    <tr>\n",
       "      <th>92</th>\n",
       "      <td>7.66</td>\n",
       "      <td>83.00</td>\n",
       "      <td>5.70</td>\n",
       "    </tr>\n",
       "    <tr>\n",
       "      <th>94</th>\n",
       "      <td>7.60</td>\n",
       "      <td>85.00</td>\n",
       "      <td>5.00</td>\n",
       "    </tr>\n",
       "    <tr>\n",
       "      <th>105</th>\n",
       "      <td>7.17</td>\n",
       "      <td>87.00</td>\n",
       "      <td>6.50</td>\n",
       "    </tr>\n",
       "  </tbody>\n",
       "</table>\n",
       "</div>"
      ],
      "text/plain": [
       "     sales_total  critic_score  user_score\n",
       "42         12.62         97.00        8.30\n",
       "77          8.58         82.00        4.30\n",
       "92          7.66         83.00        5.70\n",
       "94          7.60         85.00        5.00\n",
       "105         7.17         87.00        6.50"
      ]
     },
     "execution_count": 35,
     "metadata": {},
     "output_type": "execute_result"
    }
   ],
   "source": [
    "score_corr_PS4 = new_data.query('platform == \"PS4\" and critic_score != -1 and user_score != -1')[['sales_total', 'critic_score', 'user_score']]\n",
    "score_corr_PS4.head()"
   ]
  },
  {
   "cell_type": "code",
   "execution_count": 36,
   "metadata": {},
   "outputs": [
    {
     "data": {
      "text/html": [
       "<div>\n",
       "<style scoped>\n",
       "    .dataframe tbody tr th:only-of-type {\n",
       "        vertical-align: middle;\n",
       "    }\n",
       "\n",
       "    .dataframe tbody tr th {\n",
       "        vertical-align: top;\n",
       "    }\n",
       "\n",
       "    .dataframe thead th {\n",
       "        text-align: right;\n",
       "    }\n",
       "</style>\n",
       "<table border=\"1\" class=\"dataframe\">\n",
       "  <thead>\n",
       "    <tr style=\"text-align: right;\">\n",
       "      <th></th>\n",
       "      <th>sales_total</th>\n",
       "      <th>critic_score</th>\n",
       "      <th>user_score</th>\n",
       "    </tr>\n",
       "  </thead>\n",
       "  <tbody>\n",
       "    <tr>\n",
       "      <th>sales_total</th>\n",
       "      <td>1.00</td>\n",
       "      <td>0.41</td>\n",
       "      <td>-0.03</td>\n",
       "    </tr>\n",
       "    <tr>\n",
       "      <th>critic_score</th>\n",
       "      <td>0.41</td>\n",
       "      <td>1.00</td>\n",
       "      <td>0.56</td>\n",
       "    </tr>\n",
       "    <tr>\n",
       "      <th>user_score</th>\n",
       "      <td>-0.03</td>\n",
       "      <td>0.56</td>\n",
       "      <td>1.00</td>\n",
       "    </tr>\n",
       "  </tbody>\n",
       "</table>\n",
       "</div>"
      ],
      "text/plain": [
       "              sales_total  critic_score  user_score\n",
       "sales_total          1.00          0.41       -0.03\n",
       "critic_score         0.41          1.00        0.56\n",
       "user_score          -0.03          0.56        1.00"
      ]
     },
     "execution_count": 36,
     "metadata": {},
     "output_type": "execute_result"
    }
   ],
   "source": [
    "score_corr_PS4.corr()"
   ]
  },
  {
   "cell_type": "code",
   "execution_count": 37,
   "metadata": {},
   "outputs": [
    {
     "data": {
      "image/png": "[encoded data removed]",
      "text/plain": [
       "<Figure size 432x288 with 1 Axes>"
      ]
     },
     "metadata": {
      "needs_background": "light"
     },
     "output_type": "display_data"
    }
   ],
   "source": [
    "X = score_corr_PS4['sales_total']\n",
    "Y1 = score_corr_PS4['user_score']\n",
    "Y2 = score_corr_PS4['critic_score']\n",
    "\n",
    "plt.scatter(X,Y1*10, alpha=0.5)\n",
    "plt.scatter(X,Y2, alpha=0.5)\n",
    "plt.legend(['user_score', 'critic_score'])\n",
    "plt.show()"
   ]
  },
  {
   "cell_type": "markdown",
   "metadata": {},
   "source": [
    "Прямой зависимости не наблюдается, хотя оценки критиков влияют на продажи чуть больше. Посмотрим на другие платформы."
   ]
  },
  {
   "cell_type": "code",
   "execution_count": 38,
   "metadata": {},
   "outputs": [],
   "source": [
    "score_corr_all = new_data.query('critic_score != -1 and user_score != -1')[['sales_total', 'critic_score', 'user_score']]"
   ]
  },
  {
   "cell_type": "code",
   "execution_count": 39,
   "metadata": {
    "scrolled": true
   },
   "outputs": [
    {
     "data": {
      "text/html": [
       "<div>\n",
       "<style scoped>\n",
       "    .dataframe tbody tr th:only-of-type {\n",
       "        vertical-align: middle;\n",
       "    }\n",
       "\n",
       "    .dataframe tbody tr th {\n",
       "        vertical-align: top;\n",
       "    }\n",
       "\n",
       "    .dataframe thead th {\n",
       "        text-align: right;\n",
       "    }\n",
       "</style>\n",
       "<table border=\"1\" class=\"dataframe\">\n",
       "  <thead>\n",
       "    <tr style=\"text-align: right;\">\n",
       "      <th></th>\n",
       "      <th>sales_total</th>\n",
       "      <th>critic_score</th>\n",
       "      <th>user_score</th>\n",
       "    </tr>\n",
       "  </thead>\n",
       "  <tbody>\n",
       "    <tr>\n",
       "      <th>sales_total</th>\n",
       "      <td>1.00</td>\n",
       "      <td>0.36</td>\n",
       "      <td>0.01</td>\n",
       "    </tr>\n",
       "    <tr>\n",
       "      <th>critic_score</th>\n",
       "      <td>0.36</td>\n",
       "      <td>1.00</td>\n",
       "      <td>0.56</td>\n",
       "    </tr>\n",
       "    <tr>\n",
       "      <th>user_score</th>\n",
       "      <td>0.01</td>\n",
       "      <td>0.56</td>\n",
       "      <td>1.00</td>\n",
       "    </tr>\n",
       "  </tbody>\n",
       "</table>\n",
       "</div>"
      ],
      "text/plain": [
       "              sales_total  critic_score  user_score\n",
       "sales_total          1.00          0.36        0.01\n",
       "critic_score         0.36          1.00        0.56\n",
       "user_score           0.01          0.56        1.00"
      ]
     },
     "execution_count": 39,
     "metadata": {},
     "output_type": "execute_result"
    }
   ],
   "source": [
    "score_corr_all.corr()"
   ]
  },
  {
   "cell_type": "code",
   "execution_count": 40,
   "metadata": {},
   "outputs": [
    {
     "data": {
      "image/png": "[encoded data removed]",
      "text/plain": [
       "<Figure size 432x288 with 1 Axes>"
      ]
     },
     "metadata": {
      "needs_background": "light"
     },
     "output_type": "display_data"
    }
   ],
   "source": [
    "X = score_corr_all['sales_total']\n",
    "Y1 = score_corr_all['user_score']\n",
    "Y2 = score_corr_all['critic_score']\n",
    "\n",
    "plt.scatter(X,Y1*10, alpha=0.5)\n",
    "plt.scatter(X,Y2, alpha=0.5)\n",
    "plt.legend(['user_score', 'critic_score'])\n",
    "plt.show()"
   ]
  },
  {
   "cell_type": "markdown",
   "metadata": {},
   "source": [
    "Если брать общий срез, то картина не меняется. Рассмотрим каждую платформу по отдельности."
   ]
  },
  {
   "cell_type": "code",
   "execution_count": 41,
   "metadata": {
    "scrolled": false
   },
   "outputs": [
    {
     "data": {
      "image/png": "[encoded data removed]",
      "text/plain": [
       "<Figure size 432x288 with 1 Axes>"
      ]
     },
     "metadata": {
      "needs_background": "light"
     },
     "output_type": "display_data"
    },
    {
     "data": {
      "text/html": [
       "<div>\n",
       "<style scoped>\n",
       "    .dataframe tbody tr th:only-of-type {\n",
       "        vertical-align: middle;\n",
       "    }\n",
       "\n",
       "    .dataframe tbody tr th {\n",
       "        vertical-align: top;\n",
       "    }\n",
       "\n",
       "    .dataframe thead th {\n",
       "        text-align: right;\n",
       "    }\n",
       "</style>\n",
       "<table border=\"1\" class=\"dataframe\">\n",
       "  <thead>\n",
       "    <tr style=\"text-align: right;\">\n",
       "      <th></th>\n",
       "      <th>sales_total</th>\n",
       "      <th>user_score</th>\n",
       "      <th>critic_score</th>\n",
       "    </tr>\n",
       "  </thead>\n",
       "  <tbody>\n",
       "    <tr>\n",
       "      <th>sales_total</th>\n",
       "      <td>1.00</td>\n",
       "      <td>0.27</td>\n",
       "      <td>0.34</td>\n",
       "    </tr>\n",
       "    <tr>\n",
       "      <th>user_score</th>\n",
       "      <td>0.27</td>\n",
       "      <td>1.00</td>\n",
       "      <td>0.77</td>\n",
       "    </tr>\n",
       "    <tr>\n",
       "      <th>critic_score</th>\n",
       "      <td>0.34</td>\n",
       "      <td>0.77</td>\n",
       "      <td>1.00</td>\n",
       "    </tr>\n",
       "  </tbody>\n",
       "</table>\n",
       "</div>"
      ],
      "text/plain": [
       "              sales_total  user_score  critic_score\n",
       "sales_total          1.00        0.27          0.34\n",
       "user_score           0.27        1.00          0.77\n",
       "critic_score         0.34        0.77          1.00"
      ]
     },
     "metadata": {},
     "output_type": "display_data"
    },
    {
     "data": {
      "image/png": "[encoded data removed]",
      "text/plain": [
       "<Figure size 432x288 with 1 Axes>"
      ]
     },
     "metadata": {
      "needs_background": "light"
     },
     "output_type": "display_data"
    },
    {
     "data": {
      "text/html": [
       "<div>\n",
       "<style scoped>\n",
       "    .dataframe tbody tr th:only-of-type {\n",
       "        vertical-align: middle;\n",
       "    }\n",
       "\n",
       "    .dataframe tbody tr th {\n",
       "        vertical-align: top;\n",
       "    }\n",
       "\n",
       "    .dataframe thead th {\n",
       "        text-align: right;\n",
       "    }\n",
       "</style>\n",
       "<table border=\"1\" class=\"dataframe\">\n",
       "  <thead>\n",
       "    <tr style=\"text-align: right;\">\n",
       "      <th></th>\n",
       "      <th>sales_total</th>\n",
       "      <th>user_score</th>\n",
       "      <th>critic_score</th>\n",
       "    </tr>\n",
       "  </thead>\n",
       "  <tbody>\n",
       "    <tr>\n",
       "      <th>sales_total</th>\n",
       "      <td>1.00</td>\n",
       "      <td>0.02</td>\n",
       "      <td>0.33</td>\n",
       "    </tr>\n",
       "    <tr>\n",
       "      <th>user_score</th>\n",
       "      <td>0.02</td>\n",
       "      <td>1.00</td>\n",
       "      <td>0.60</td>\n",
       "    </tr>\n",
       "    <tr>\n",
       "      <th>critic_score</th>\n",
       "      <td>0.33</td>\n",
       "      <td>0.60</td>\n",
       "      <td>1.00</td>\n",
       "    </tr>\n",
       "  </tbody>\n",
       "</table>\n",
       "</div>"
      ],
      "text/plain": [
       "              sales_total  user_score  critic_score\n",
       "sales_total          1.00        0.02          0.33\n",
       "user_score           0.02        1.00          0.60\n",
       "critic_score         0.33        0.60          1.00"
      ]
     },
     "metadata": {},
     "output_type": "display_data"
    },
    {
     "data": {
      "image/png": "[encoded data removed]",
      "text/plain": [
       "<Figure size 432x288 with 1 Axes>"
      ]
     },
     "metadata": {
      "needs_background": "light"
     },
     "output_type": "display_data"
    },
    {
     "data": {
      "text/html": [
       "<div>\n",
       "<style scoped>\n",
       "    .dataframe tbody tr th:only-of-type {\n",
       "        vertical-align: middle;\n",
       "    }\n",
       "\n",
       "    .dataframe tbody tr th {\n",
       "        vertical-align: top;\n",
       "    }\n",
       "\n",
       "    .dataframe thead th {\n",
       "        text-align: right;\n",
       "    }\n",
       "</style>\n",
       "<table border=\"1\" class=\"dataframe\">\n",
       "  <thead>\n",
       "    <tr style=\"text-align: right;\">\n",
       "      <th></th>\n",
       "      <th>sales_total</th>\n",
       "      <th>user_score</th>\n",
       "      <th>critic_score</th>\n",
       "    </tr>\n",
       "  </thead>\n",
       "  <tbody>\n",
       "    <tr>\n",
       "      <th>sales_total</th>\n",
       "      <td>1.00</td>\n",
       "      <td>0.41</td>\n",
       "      <td>0.38</td>\n",
       "    </tr>\n",
       "    <tr>\n",
       "      <th>user_score</th>\n",
       "      <td>0.41</td>\n",
       "      <td>1.00</td>\n",
       "      <td>0.72</td>\n",
       "    </tr>\n",
       "    <tr>\n",
       "      <th>critic_score</th>\n",
       "      <td>0.38</td>\n",
       "      <td>0.72</td>\n",
       "      <td>1.00</td>\n",
       "    </tr>\n",
       "  </tbody>\n",
       "</table>\n",
       "</div>"
      ],
      "text/plain": [
       "              sales_total  user_score  critic_score\n",
       "sales_total          1.00        0.41          0.38\n",
       "user_score           0.41        1.00          0.72\n",
       "critic_score         0.38        0.72          1.00"
      ]
     },
     "metadata": {},
     "output_type": "display_data"
    },
    {
     "data": {
      "image/png": "[encoded data removed]",
      "text/plain": [
       "<Figure size 432x288 with 1 Axes>"
      ]
     },
     "metadata": {
      "needs_background": "light"
     },
     "output_type": "display_data"
    },
    {
     "data": {
      "text/html": [
       "<div>\n",
       "<style scoped>\n",
       "    .dataframe tbody tr th:only-of-type {\n",
       "        vertical-align: middle;\n",
       "    }\n",
       "\n",
       "    .dataframe tbody tr th {\n",
       "        vertical-align: top;\n",
       "    }\n",
       "\n",
       "    .dataframe thead th {\n",
       "        text-align: right;\n",
       "    }\n",
       "</style>\n",
       "<table border=\"1\" class=\"dataframe\">\n",
       "  <thead>\n",
       "    <tr style=\"text-align: right;\">\n",
       "      <th></th>\n",
       "      <th>sales_total</th>\n",
       "      <th>user_score</th>\n",
       "      <th>critic_score</th>\n",
       "    </tr>\n",
       "  </thead>\n",
       "  <tbody>\n",
       "    <tr>\n",
       "      <th>sales_total</th>\n",
       "      <td>1.00</td>\n",
       "      <td>-0.01</td>\n",
       "      <td>0.35</td>\n",
       "    </tr>\n",
       "    <tr>\n",
       "      <th>user_score</th>\n",
       "      <td>-0.01</td>\n",
       "      <td>1.00</td>\n",
       "      <td>0.52</td>\n",
       "    </tr>\n",
       "    <tr>\n",
       "      <th>critic_score</th>\n",
       "      <td>0.35</td>\n",
       "      <td>0.52</td>\n",
       "      <td>1.00</td>\n",
       "    </tr>\n",
       "  </tbody>\n",
       "</table>\n",
       "</div>"
      ],
      "text/plain": [
       "              sales_total  user_score  critic_score\n",
       "sales_total          1.00       -0.01          0.35\n",
       "user_score          -0.01        1.00          0.52\n",
       "critic_score         0.35        0.52          1.00"
      ]
     },
     "metadata": {},
     "output_type": "display_data"
    },
    {
     "data": {
      "image/png": "[encoded data removed]",
      "text/plain": [
       "<Figure size 432x288 with 1 Axes>"
      ]
     },
     "metadata": {
      "needs_background": "light"
     },
     "output_type": "display_data"
    },
    {
     "data": {
      "text/html": [
       "<div>\n",
       "<style scoped>\n",
       "    .dataframe tbody tr th:only-of-type {\n",
       "        vertical-align: middle;\n",
       "    }\n",
       "\n",
       "    .dataframe tbody tr th {\n",
       "        vertical-align: top;\n",
       "    }\n",
       "\n",
       "    .dataframe thead th {\n",
       "        text-align: right;\n",
       "    }\n",
       "</style>\n",
       "<table border=\"1\" class=\"dataframe\">\n",
       "  <thead>\n",
       "    <tr style=\"text-align: right;\">\n",
       "      <th></th>\n",
       "      <th>sales_total</th>\n",
       "      <th>user_score</th>\n",
       "      <th>critic_score</th>\n",
       "    </tr>\n",
       "  </thead>\n",
       "  <tbody>\n",
       "    <tr>\n",
       "      <th>sales_total</th>\n",
       "      <td>1.00</td>\n",
       "      <td>-0.09</td>\n",
       "      <td>0.41</td>\n",
       "    </tr>\n",
       "    <tr>\n",
       "      <th>user_score</th>\n",
       "      <td>-0.09</td>\n",
       "      <td>1.00</td>\n",
       "      <td>0.47</td>\n",
       "    </tr>\n",
       "    <tr>\n",
       "      <th>critic_score</th>\n",
       "      <td>0.41</td>\n",
       "      <td>0.47</td>\n",
       "      <td>1.00</td>\n",
       "    </tr>\n",
       "  </tbody>\n",
       "</table>\n",
       "</div>"
      ],
      "text/plain": [
       "              sales_total  user_score  critic_score\n",
       "sales_total          1.00       -0.09          0.41\n",
       "user_score          -0.09        1.00          0.47\n",
       "critic_score         0.41        0.47          1.00"
      ]
     },
     "metadata": {},
     "output_type": "display_data"
    }
   ],
   "source": [
    "platform_list = ['3DS', 'PS3','WiiU', 'X360', 'XOne']\n",
    "#Простым циклом применим тот же метод ко всем остальным платформам.\n",
    "for platform in platform_list:\n",
    "    temp = new_data.query('critic_score != -1 and user_score != -1 and platform == @platform')[['sales_total','user_score', 'critic_score']]\n",
    "    \n",
    "    X = temp['sales_total']\n",
    "    Y1 = temp['user_score']\n",
    "    Y2 = temp['critic_score']\n",
    "\n",
    "    plt.scatter(X,Y1*10, alpha=0.5)\n",
    "    plt.scatter(X,Y2, alpha=0.5)\n",
    "    plt.legend(['user_score', 'critic_score'])\n",
    "    plt.title(platform)\n",
    "    plt.show()   \n",
    "    \n",
    "    display(temp.corr())\n",
    "    "
   ]
  },
  {
   "cell_type": "markdown",
   "metadata": {},
   "source": [
    "Как мы видим на графиках для всех остальных платформ - корреляции так и не прибавилось. Для Wii U оценка пользователей имела большее значение, но в целом прямого влияния оценка критиков/пользователей на продажи не имеет."
   ]
  },
  {
   "cell_type": "markdown",
   "metadata": {},
   "source": [
    "#### Распределение игр по жанрам"
   ]
  },
  {
   "cell_type": "code",
   "execution_count": 42,
   "metadata": {},
   "outputs": [
    {
     "data": {
      "text/html": [
       "<div>\n",
       "<style scoped>\n",
       "    .dataframe tbody tr th:only-of-type {\n",
       "        vertical-align: middle;\n",
       "    }\n",
       "\n",
       "    .dataframe tbody tr th {\n",
       "        vertical-align: top;\n",
       "    }\n",
       "\n",
       "    .dataframe thead th {\n",
       "        text-align: right;\n",
       "    }\n",
       "</style>\n",
       "<table border=\"1\" class=\"dataframe\">\n",
       "  <thead>\n",
       "    <tr style=\"text-align: right;\">\n",
       "      <th></th>\n",
       "      <th>name</th>\n",
       "      <th>platform</th>\n",
       "      <th>year_of_release</th>\n",
       "      <th>genre</th>\n",
       "      <th>na_sales</th>\n",
       "      <th>eu_sales</th>\n",
       "      <th>jp_sales</th>\n",
       "      <th>other_sales</th>\n",
       "      <th>critic_score</th>\n",
       "      <th>user_score</th>\n",
       "      <th>rating</th>\n",
       "      <th>sales_total</th>\n",
       "    </tr>\n",
       "  </thead>\n",
       "  <tbody>\n",
       "    <tr>\n",
       "      <th>898</th>\n",
       "      <td>Destiny</td>\n",
       "      <td>X360</td>\n",
       "      <td>2014</td>\n",
       "      <td>Shooter</td>\n",
       "      <td>1.31</td>\n",
       "      <td>0.43</td>\n",
       "      <td>0.00</td>\n",
       "      <td>0.18</td>\n",
       "      <td>-1.00</td>\n",
       "      <td>4.70</td>\n",
       "      <td>T</td>\n",
       "      <td>1.92</td>\n",
       "    </tr>\n",
       "  </tbody>\n",
       "</table>\n",
       "</div>"
      ],
      "text/plain": [
       "        name platform  year_of_release    genre  na_sales  eu_sales  jp_sales  \\\n",
       "898  Destiny     X360             2014  Shooter      1.31      0.43      0.00   \n",
       "\n",
       "     other_sales  critic_score  user_score rating  sales_total  \n",
       "898         0.18         -1.00        4.70      T         1.92  "
      ]
     },
     "execution_count": 42,
     "metadata": {},
     "output_type": "execute_result"
    }
   ],
   "source": [
    "new_data.sample()"
   ]
  },
  {
   "cell_type": "code",
   "execution_count": 43,
   "metadata": {},
   "outputs": [
    {
     "data": {
      "text/plain": [
       "Action          569\n",
       "Role-Playing    189\n",
       "Sports          175\n",
       "Shooter         153\n",
       "Misc            116\n",
       "Adventure       113\n",
       "Fighting         67\n",
       "Racing           66\n",
       "Platform         62\n",
       "Simulation       36\n",
       "Strategy         27\n",
       "Puzzle           15\n",
       "Name: genre, dtype: int64"
      ]
     },
     "execution_count": 43,
     "metadata": {},
     "output_type": "execute_result"
    }
   ],
   "source": [
    "new_data['genre'].value_counts()"
   ]
  },
  {
   "cell_type": "code",
   "execution_count": 44,
   "metadata": {},
   "outputs": [
    {
     "data": {
      "image/png": "[encoded data removed]",
      "text/plain": [
       "<Figure size 864x432 with 1 Axes>"
      ]
     },
     "metadata": {
      "needs_background": "light"
     },
     "output_type": "display_data"
    }
   ],
   "source": [
    "data.query('year_of_release != -1 and year_of_release >= 2013')\\\n",
    ".pivot_table(index = 'genre', values = ['na_sales', 'eu_sales', 'jp_sales'], aggfunc = ['sum'])\\\n",
    ".plot(kind='bar', grid=True, stacked=True, figsize=(12,6), alpha=0.5)\n",
    "plt.ylabel('sales_total')\n",
    "plt.xlabel('genre')\n",
    "plt.show()"
   ]
  },
  {
   "cell_type": "markdown",
   "metadata": {},
   "source": [
    "Самыми продаваемыми жанрами в играх являются Action, Shooter и Role-Playing/Sports.\n",
    "\n",
    "А вот самые низкие продажи у игр в жанрах Adventure, Strategy, Simulation и Puzzle."
   ]
  },
  {
   "cell_type": "code",
   "execution_count": 45,
   "metadata": {},
   "outputs": [
    {
     "data": {
      "image/png": "[encoded data removed]",
      "text/plain": [
       "<Figure size 720x720 with 1 Axes>"
      ]
     },
     "metadata": {
      "needs_background": "light"
     },
     "output_type": "display_data"
    }
   ],
   "source": [
    "data.query('year_of_release != -1 and year_of_release >= 2013')\\\n",
    ".boxplot('sales_total', by='genre',figsize=(10,10), rot=45, showfliers=False)\n",
    "plt.ylabel('sales_total')\n",
    "plt.xlabel('genre')\n",
    "plt.show()"
   ]
  },
  {
   "cell_type": "markdown",
   "metadata": {},
   "source": [
    "Здесь мы видим, что у action большее число продаж, но у Shooter/Sports/Platform медиана выше.\n",
    "Можно предположить, что Action увеличивает число продаж за счёт отдельных популярных игр, а Shooter в целом лучше продаётся, даже если хитовых игр меньше."
   ]
  },
  {
   "cell_type": "markdown",
   "metadata": {},
   "source": [
    "### 4. Составьте портрет пользователя каждого региона"
   ]
  },
  {
   "cell_type": "markdown",
   "metadata": {},
   "source": [
    "Определите для пользователя каждого региона (NA, EU, JP):\n",
    "- Самые популярные платформы (топ-5). Опишите различия в долях продаж.\n",
    "- Самые популярные жанры (топ-5). Поясните разницу.\n",
    "- Влияет ли рейтинг ESRB на продажи в отдельном регионе?"
   ]
  },
  {
   "cell_type": "markdown",
   "metadata": {},
   "source": [
    "Здесь я решил продолжить работу с выборкой после 2013 года для исследования актуальной информации."
   ]
  },
  {
   "cell_type": "markdown",
   "metadata": {},
   "source": [
    "#### Самые популярные платформы (топ-5)"
   ]
  },
  {
   "cell_type": "code",
   "execution_count": 46,
   "metadata": {},
   "outputs": [
    {
     "data": {
      "text/plain": [
       "array(['PS3', 'X360', 'PS4', '3DS', 'XOne', 'WiiU'], dtype=object)"
      ]
     },
     "execution_count": 46,
     "metadata": {},
     "output_type": "execute_result"
    }
   ],
   "source": [
    "new_data['platform'].unique()"
   ]
  },
  {
   "cell_type": "code",
   "execution_count": 166,
   "metadata": {
    "scrolled": false
   },
   "outputs": [],
   "source": [
    "top_5_platform = data.query('year_of_release != -1 and year_of_release >= 2013').pivot_table(index = 'platform', values = ['na_sales', 'eu_sales', 'jp_sales'], aggfunc='sum')\n",
    "platform_na = top_5_platform['na_sales'].sort_values(ascending=False).head(5)\n",
    "platform_eu = top_5_platform['eu_sales'].sort_values(ascending=False).head(5)\n",
    "platform_jp = top_5_platform['jp_sales'].sort_values(ascending=False).head(5)"
   ]
  },
  {
   "cell_type": "code",
   "execution_count": 196,
   "metadata": {},
   "outputs": [
    {
     "data": {
      "image/png": "[encoded data removed]",
      "text/plain": [
       "<Figure size 1080x360 with 3 Axes>"
      ]
     },
     "metadata": {},
     "output_type": "display_data"
    }
   ],
   "source": [
    "fig, (ax1, ax2, ax3) = plt.subplots(1,3, figsize=(15,5))\n",
    "fig.suptitle('Самые популярные платформы (топ-5)')\n",
    "ax1.pie(platform_na, labels=platform_na.index, autopct='%.0F%%')\n",
    "ax2.pie(platform_eu, labels=platform_eu.index, autopct='%.0F%%')\n",
    "ax3.pie(platform_jp, labels=platform_jp.index, autopct='%.0F%%')\n",
    "plt.show()"
   ]
  },
  {
   "cell_type": "code",
   "execution_count": 185,
   "metadata": {},
   "outputs": [],
   "source": [
    "# platform_na.head(5).plot(kind='pie', subplots=True, figsize=(12,6), legend=False, autopct='%.0F%%')\n",
    "# plt.title('North America')\n",
    "# plt.show()\n",
    "# platform_eu.head(5).plot(kind='pie', subplots=True, figsize=(12,6), legend=False, autopct='%.0F%%')\n",
    "# plt.title('Europe')\n",
    "# plt.show()\n",
    "# platform_jp.head(5).plot(kind='pie', subplots=True, figsize=(12,6), legend=False, autopct='%.0F%%')\n",
    "# plt.title('Japan')\n",
    "# plt.show()"
   ]
  },
  {
   "cell_type": "markdown",
   "metadata": {},
   "source": [
    "Здесь мы видим, что в период с 2013 по 2016 год Япония оказала очень большое влияние для Америку и Европу, в частности с выходом PS4, которая на тот момент сильно превзошла по популярности продукцию своего конкурента Microsoft. \n",
    "\n",
    "Nintendo в свою очередь уже давно захватила сердца западной аудитории ещё с выходом Mario. Можно с уверенностью сказать, что эта компания еще не один год будет занимать свою малую, но очень уверенную позицию на западном рынке.\n",
    "\n",
    "Сами Японцы в свою очередь предпочитают поддерживать родную продукцию, что не удивительно, если смотреть насколько культурно изолирована сама страна. Продукция Nintendo гораздо более привлекательна Японцам, вполне возможно из-за того, 3DS является довольно мобильной платформой, что в принципе очень ценится на азиатском рынке."
   ]
  },
  {
   "cell_type": "markdown",
   "metadata": {},
   "source": [
    "#### Самые популярные жанры (топ-5)"
   ]
  },
  {
   "cell_type": "code",
   "execution_count": 198,
   "metadata": {},
   "outputs": [],
   "source": [
    "top_5_genre = data.query('year_of_release != -1 and year_of_release >= 2013').pivot_table(index = 'genre', values = ['na_sales', 'eu_sales', 'jp_sales'], aggfunc='sum')\n",
    "genre_na = top_5_genre['na_sales'].sort_values(ascending=False).head(5)\n",
    "genre_eu = top_5_genre['eu_sales'].sort_values(ascending=False).head(5)\n",
    "genre_jp = top_5_genre['jp_sales'].sort_values(ascending=False).head(5)"
   ]
  },
  {
   "cell_type": "code",
   "execution_count": 200,
   "metadata": {},
   "outputs": [
    {
     "data": {
      "image/png": "[encoded data removed]",
      "text/plain": [
       "<Figure size 1080x360 with 3 Axes>"
      ]
     },
     "metadata": {},
     "output_type": "display_data"
    }
   ],
   "source": [
    "fig, (ax1, ax2, ax3) = plt.subplots(1,3, figsize=(15,5))\n",
    "fig.suptitle('Самые популярные жанры (топ-5)')\n",
    "ax1.pie(genre_na, labels=genre_na.index, autopct='%.0F%%')\n",
    "ax2.pie(genre_eu, labels=genre_eu.index, autopct='%.0F%%')\n",
    "ax3.pie(genre_jp, labels=genre_jp.index, autopct='%.0F%%')\n",
    "plt.show()"
   ]
  },
  {
   "cell_type": "code",
   "execution_count": 184,
   "metadata": {
    "scrolled": false
   },
   "outputs": [],
   "source": [
    "# genre_na.head(5).plot(kind='pie', subplots=True, figsize=(6,6), legend=True, autopct='%.0F%%', labeldistance=None)\n",
    "# plt.title('North America')\n",
    "# plt.show()\n",
    "# genre_eu.head(5).plot(kind='pie', subplots=True, figsize=(6,6), legend=True, autopct='%.0F%%', labeldistance=None)\n",
    "# plt.title('Europe')\n",
    "# plt.show()\n",
    "# genre_jp.head(5).plot(kind='pie', subplots=True, figsize=(6,6), legend=True, autopct='%.0F%%', labeldistance=None)\n",
    "# plt.title('Japan')\n",
    "# plt.show()"
   ]
  },
  {
   "cell_type": "markdown",
   "metadata": {},
   "source": [
    "Здесь мы видим, что Америку и Европу привлекают более динамические жанры. В обоих регионах Action и Shooter занимают лидирующие позиции, со спортивными играми слегка позади. И лишь 11-12% игроков предпочитают исследовать альтернативные миры жанра RPG.\n",
    "\n",
    "В Японии же на тот момент (да и до сих пор) преобладал популярностью жанр JRPG (Japanese Roleplaying Game), который с уверенностью забирает 44% внимания японских геймеров, с жанром Action на втором месте, практически не интересуясь остальными жанрами."
   ]
  },
  {
   "cell_type": "markdown",
   "metadata": {},
   "source": [
    "#### Влияет ли рейтинг ESRB на продажи в отдельном регионе?"
   ]
  },
  {
   "cell_type": "code",
   "execution_count": 51,
   "metadata": {},
   "outputs": [
    {
     "data": {
      "text/plain": [
       "array(['E', 'none', 'M', 'T', 'E10+', 'AO', 'EC', 'RP'], dtype=object)"
      ]
     },
     "execution_count": 51,
     "metadata": {},
     "output_type": "execute_result"
    }
   ],
   "source": [
    "data['rating'].unique()"
   ]
  },
  {
   "cell_type": "markdown",
   "metadata": {},
   "source": [
    "Entertainment Software Rating Board (ESRB) — негосударственная организация, основное направление деятельности — принятие и определение рейтингов для компьютерных видеоигр и другого развлекательного программного обеспечения в США и Канаде. ESRB была основана в 1994 году ассоциацией Interactive Digital Software Association (современное название — «Entertainment Software Association»). К началу 2003 года рейтинги ESRB получили более 8000 продуктов от 350 издателей.\n",
    "\n",
    "`EC` — Early Childhood «Для детей младшего возраста»: Игра подходит для детей от 3 лет и не содержит материалов, которые родители могли бы счесть неподходящими. Продукты, получившие данный рейтинг, изначально разрабатываются для детей и обычно представляют собой развивающие игры; Устаревшая градация.\n",
    "\n",
    "`E` — Everyone «Для всех»: Содержание вполне подходит для возрастной категории от 6 лет. Такие игры могут понравиться и взрослым. Игры с этим рейтингом могут содержать минимальное насилие, в основном «мультяшного» характера. Первоначально K-A (\"Kids to Adults\");\n",
    "\n",
    "`E10+` — Everyone 10+ «Для всех от 10 лет и старше»: Проекты с данным рейтингом могут содержать или немного больше мультипликационного или мягкого насилия, или несколько откровенные сцены, или минимальное количество крови;\n",
    "\n",
    "`T` — Teen «Подросткам»: Игра подходит для лиц от 13 лет. Проекты из данной категории могут содержать насилие, непристойные сцены, грубый юмор, в меру откровенное сексуальное содержимое, кровь или нечастое использование ненормативной лексики;\n",
    "\n",
    "`M` — Mature «Для взрослых»: Материалы игры не подходят для подростков младше 17 лет. Проекты с данным рейтингом могут содержать достаточно жестокое насилие, большое количество крови с расчленением, непристойные сексуальные сцены или грубую ненормативную лексику, нежелательную для младшей аудитории;\n",
    "\n",
    "`AO` — Adults Only Только для взрослых»: Содержание игры только для взрослых старше 18 лет. Продукты из данной категории могут содержать длительные сцены жестокого насилия и/или очень откровенное сексуальное содержимое, а также сцены с обнажением;\n",
    "\n",
    "`RP` — Rating Pending Рейтинг ожидается."
   ]
  },
  {
   "cell_type": "code",
   "execution_count": 201,
   "metadata": {},
   "outputs": [],
   "source": [
    "top_5_rating = data.query('year_of_release != -1 and year_of_release >= 2013').pivot_table(index = 'rating', values = ['na_sales', 'eu_sales', 'jp_sales'], aggfunc='sum')\n",
    "rating_na = top_5_rating['na_sales'].sort_values(ascending=False).head(5)\n",
    "rating_eu = top_5_rating['eu_sales'].sort_values(ascending=False).head(5)\n",
    "rating_jp = top_5_rating['jp_sales'].sort_values(ascending=False).head(5)"
   ]
  },
  {
   "cell_type": "code",
   "execution_count": 53,
   "metadata": {
    "scrolled": false
   },
   "outputs": [
    {
     "data": {
      "text/html": [
       "<div>\n",
       "<style scoped>\n",
       "    .dataframe tbody tr th:only-of-type {\n",
       "        vertical-align: middle;\n",
       "    }\n",
       "\n",
       "    .dataframe tbody tr th {\n",
       "        vertical-align: top;\n",
       "    }\n",
       "\n",
       "    .dataframe thead th {\n",
       "        text-align: right;\n",
       "    }\n",
       "</style>\n",
       "<table border=\"1\" class=\"dataframe\">\n",
       "  <thead>\n",
       "    <tr style=\"text-align: right;\">\n",
       "      <th></th>\n",
       "      <th>name</th>\n",
       "      <th>platform</th>\n",
       "      <th>year_of_release</th>\n",
       "      <th>genre</th>\n",
       "      <th>na_sales</th>\n",
       "      <th>eu_sales</th>\n",
       "      <th>jp_sales</th>\n",
       "      <th>other_sales</th>\n",
       "      <th>critic_score</th>\n",
       "      <th>user_score</th>\n",
       "      <th>rating</th>\n",
       "      <th>sales_total</th>\n",
       "    </tr>\n",
       "  </thead>\n",
       "  <tbody>\n",
       "    <tr>\n",
       "      <th>10556</th>\n",
       "      <td>Penguin no Mondai: The World</td>\n",
       "      <td>DS</td>\n",
       "      <td>2010</td>\n",
       "      <td>Adventure</td>\n",
       "      <td>0.00</td>\n",
       "      <td>0.00</td>\n",
       "      <td>0.10</td>\n",
       "      <td>0.00</td>\n",
       "      <td>-1.00</td>\n",
       "      <td>-1.00</td>\n",
       "      <td>none</td>\n",
       "      <td>0.10</td>\n",
       "    </tr>\n",
       "    <tr>\n",
       "      <th>14755</th>\n",
       "      <td>Yahari Game Demo Ore no Seishun Love-Kome wa M...</td>\n",
       "      <td>PSV</td>\n",
       "      <td>2016</td>\n",
       "      <td>Adventure</td>\n",
       "      <td>0.00</td>\n",
       "      <td>0.00</td>\n",
       "      <td>0.03</td>\n",
       "      <td>0.00</td>\n",
       "      <td>-1.00</td>\n",
       "      <td>-1.00</td>\n",
       "      <td>none</td>\n",
       "      <td>0.03</td>\n",
       "    </tr>\n",
       "    <tr>\n",
       "      <th>9406</th>\n",
       "      <td>Tales of the Heroes: Twin Brave</td>\n",
       "      <td>PSP</td>\n",
       "      <td>2012</td>\n",
       "      <td>Role-Playing</td>\n",
       "      <td>0.00</td>\n",
       "      <td>0.00</td>\n",
       "      <td>0.13</td>\n",
       "      <td>0.00</td>\n",
       "      <td>-1.00</td>\n",
       "      <td>-1.00</td>\n",
       "      <td>none</td>\n",
       "      <td>0.13</td>\n",
       "    </tr>\n",
       "    <tr>\n",
       "      <th>8473</th>\n",
       "      <td>Hamster Heroes</td>\n",
       "      <td>Wii</td>\n",
       "      <td>2008</td>\n",
       "      <td>Puzzle</td>\n",
       "      <td>0.16</td>\n",
       "      <td>0.00</td>\n",
       "      <td>0.00</td>\n",
       "      <td>0.00</td>\n",
       "      <td>-1.00</td>\n",
       "      <td>-1.00</td>\n",
       "      <td>none</td>\n",
       "      <td>0.16</td>\n",
       "    </tr>\n",
       "    <tr>\n",
       "      <th>11167</th>\n",
       "      <td>Sengoku Basara 4: Sumeragi</td>\n",
       "      <td>PS3</td>\n",
       "      <td>2015</td>\n",
       "      <td>Action</td>\n",
       "      <td>0.00</td>\n",
       "      <td>0.00</td>\n",
       "      <td>0.09</td>\n",
       "      <td>0.00</td>\n",
       "      <td>-1.00</td>\n",
       "      <td>-1.00</td>\n",
       "      <td>none</td>\n",
       "      <td>0.09</td>\n",
       "    </tr>\n",
       "    <tr>\n",
       "      <th>9088</th>\n",
       "      <td>Shonen Jump's Shaman King: Master of Spirits</td>\n",
       "      <td>GBA</td>\n",
       "      <td>2004</td>\n",
       "      <td>Role-Playing</td>\n",
       "      <td>0.10</td>\n",
       "      <td>0.04</td>\n",
       "      <td>0.00</td>\n",
       "      <td>0.00</td>\n",
       "      <td>-1.00</td>\n",
       "      <td>-1.00</td>\n",
       "      <td>none</td>\n",
       "      <td>0.14</td>\n",
       "    </tr>\n",
       "    <tr>\n",
       "      <th>16387</th>\n",
       "      <td>Durarara!! Relay</td>\n",
       "      <td>PSV</td>\n",
       "      <td>2015</td>\n",
       "      <td>Action</td>\n",
       "      <td>0.00</td>\n",
       "      <td>0.00</td>\n",
       "      <td>0.01</td>\n",
       "      <td>0.00</td>\n",
       "      <td>-1.00</td>\n",
       "      <td>-1.00</td>\n",
       "      <td>none</td>\n",
       "      <td>0.01</td>\n",
       "    </tr>\n",
       "    <tr>\n",
       "      <th>14523</th>\n",
       "      <td>Great Edo Blacksmith</td>\n",
       "      <td>PSV</td>\n",
       "      <td>2014</td>\n",
       "      <td>Adventure</td>\n",
       "      <td>0.00</td>\n",
       "      <td>0.00</td>\n",
       "      <td>0.03</td>\n",
       "      <td>0.00</td>\n",
       "      <td>-1.00</td>\n",
       "      <td>-1.00</td>\n",
       "      <td>none</td>\n",
       "      <td>0.03</td>\n",
       "    </tr>\n",
       "    <tr>\n",
       "      <th>10194</th>\n",
       "      <td>Shin Sangoku Musou 6 Special</td>\n",
       "      <td>PSP</td>\n",
       "      <td>2011</td>\n",
       "      <td>Action</td>\n",
       "      <td>0.00</td>\n",
       "      <td>0.00</td>\n",
       "      <td>0.11</td>\n",
       "      <td>0.00</td>\n",
       "      <td>-1.00</td>\n",
       "      <td>-1.00</td>\n",
       "      <td>none</td>\n",
       "      <td>0.11</td>\n",
       "    </tr>\n",
       "    <tr>\n",
       "      <th>8248</th>\n",
       "      <td>The Idolm@ster: Shiny Festa - Honey Sound / Fu...</td>\n",
       "      <td>PSP</td>\n",
       "      <td>2012</td>\n",
       "      <td>Action</td>\n",
       "      <td>0.00</td>\n",
       "      <td>0.00</td>\n",
       "      <td>0.17</td>\n",
       "      <td>0.00</td>\n",
       "      <td>-1.00</td>\n",
       "      <td>-1.00</td>\n",
       "      <td>none</td>\n",
       "      <td>0.17</td>\n",
       "    </tr>\n",
       "    <tr>\n",
       "      <th>3364</th>\n",
       "      <td>Front Mission</td>\n",
       "      <td>SNES</td>\n",
       "      <td>1995</td>\n",
       "      <td>Strategy</td>\n",
       "      <td>0.00</td>\n",
       "      <td>0.00</td>\n",
       "      <td>0.60</td>\n",
       "      <td>0.00</td>\n",
       "      <td>-1.00</td>\n",
       "      <td>-1.00</td>\n",
       "      <td>none</td>\n",
       "      <td>0.60</td>\n",
       "    </tr>\n",
       "    <tr>\n",
       "      <th>14133</th>\n",
       "      <td>Hakuouki: Zuisouroku DS</td>\n",
       "      <td>DS</td>\n",
       "      <td>2011</td>\n",
       "      <td>Adventure</td>\n",
       "      <td>0.00</td>\n",
       "      <td>0.00</td>\n",
       "      <td>0.04</td>\n",
       "      <td>0.00</td>\n",
       "      <td>-1.00</td>\n",
       "      <td>-1.00</td>\n",
       "      <td>none</td>\n",
       "      <td>0.04</td>\n",
       "    </tr>\n",
       "    <tr>\n",
       "      <th>232</th>\n",
       "      <td>The Legend of Zelda: A Link to the Past</td>\n",
       "      <td>SNES</td>\n",
       "      <td>1991</td>\n",
       "      <td>Action</td>\n",
       "      <td>2.42</td>\n",
       "      <td>0.91</td>\n",
       "      <td>1.15</td>\n",
       "      <td>0.13</td>\n",
       "      <td>-1.00</td>\n",
       "      <td>-1.00</td>\n",
       "      <td>none</td>\n",
       "      <td>4.61</td>\n",
       "    </tr>\n",
       "    <tr>\n",
       "      <th>3654</th>\n",
       "      <td>Super Robot Taisen F</td>\n",
       "      <td>SAT</td>\n",
       "      <td>1997</td>\n",
       "      <td>Strategy</td>\n",
       "      <td>0.00</td>\n",
       "      <td>0.00</td>\n",
       "      <td>0.55</td>\n",
       "      <td>0.00</td>\n",
       "      <td>-1.00</td>\n",
       "      <td>-1.00</td>\n",
       "      <td>none</td>\n",
       "      <td>0.55</td>\n",
       "    </tr>\n",
       "    <tr>\n",
       "      <th>15254</th>\n",
       "      <td>Zillions of Enemy X: Zetsukai no Crusade</td>\n",
       "      <td>PS3</td>\n",
       "      <td>2013</td>\n",
       "      <td>Role-Playing</td>\n",
       "      <td>0.00</td>\n",
       "      <td>0.00</td>\n",
       "      <td>0.02</td>\n",
       "      <td>0.00</td>\n",
       "      <td>-1.00</td>\n",
       "      <td>-1.00</td>\n",
       "      <td>none</td>\n",
       "      <td>0.02</td>\n",
       "    </tr>\n",
       "    <tr>\n",
       "      <th>1815</th>\n",
       "      <td>Pokémon Mystery Dungeon: Red Rescue Team (US w...</td>\n",
       "      <td>GBA</td>\n",
       "      <td>2005</td>\n",
       "      <td>Role-Playing</td>\n",
       "      <td>0.81</td>\n",
       "      <td>0.30</td>\n",
       "      <td>0.00</td>\n",
       "      <td>0.02</td>\n",
       "      <td>-1.00</td>\n",
       "      <td>-1.00</td>\n",
       "      <td>none</td>\n",
       "      <td>1.13</td>\n",
       "    </tr>\n",
       "    <tr>\n",
       "      <th>7121</th>\n",
       "      <td>Puzzle &amp; Dragons X: God Chapter / Dragon Chapter</td>\n",
       "      <td>3DS</td>\n",
       "      <td>2016</td>\n",
       "      <td>Action</td>\n",
       "      <td>0.00</td>\n",
       "      <td>0.00</td>\n",
       "      <td>0.22</td>\n",
       "      <td>0.00</td>\n",
       "      <td>-1.00</td>\n",
       "      <td>-1.00</td>\n",
       "      <td>none</td>\n",
       "      <td>0.22</td>\n",
       "    </tr>\n",
       "    <tr>\n",
       "      <th>10312</th>\n",
       "      <td>The Penguins of Madagascar: Dr. Blowhole Retur...</td>\n",
       "      <td>X360</td>\n",
       "      <td>2011</td>\n",
       "      <td>Action</td>\n",
       "      <td>0.07</td>\n",
       "      <td>0.03</td>\n",
       "      <td>0.00</td>\n",
       "      <td>0.01</td>\n",
       "      <td>-1.00</td>\n",
       "      <td>-1.00</td>\n",
       "      <td>none</td>\n",
       "      <td>0.11</td>\n",
       "    </tr>\n",
       "    <tr>\n",
       "      <th>8189</th>\n",
       "      <td>Pro Yaky? Spirits 5</td>\n",
       "      <td>PS2</td>\n",
       "      <td>2008</td>\n",
       "      <td>Sports</td>\n",
       "      <td>0.00</td>\n",
       "      <td>0.00</td>\n",
       "      <td>0.18</td>\n",
       "      <td>0.00</td>\n",
       "      <td>-1.00</td>\n",
       "      <td>-1.00</td>\n",
       "      <td>none</td>\n",
       "      <td>0.18</td>\n",
       "    </tr>\n",
       "    <tr>\n",
       "      <th>2764</th>\n",
       "      <td>The Lord of the Rings: The Two Towers</td>\n",
       "      <td>GBA</td>\n",
       "      <td>2002</td>\n",
       "      <td>Action</td>\n",
       "      <td>0.53</td>\n",
       "      <td>0.20</td>\n",
       "      <td>0.00</td>\n",
       "      <td>0.01</td>\n",
       "      <td>-1.00</td>\n",
       "      <td>-1.00</td>\n",
       "      <td>none</td>\n",
       "      <td>0.74</td>\n",
       "    </tr>\n",
       "    <tr>\n",
       "      <th>15183</th>\n",
       "      <td>Enchanted Arms (JP sales)</td>\n",
       "      <td>X360</td>\n",
       "      <td>2006</td>\n",
       "      <td>Role-Playing</td>\n",
       "      <td>0.00</td>\n",
       "      <td>0.00</td>\n",
       "      <td>0.02</td>\n",
       "      <td>0.00</td>\n",
       "      <td>-1.00</td>\n",
       "      <td>-1.00</td>\n",
       "      <td>none</td>\n",
       "      <td>0.02</td>\n",
       "    </tr>\n",
       "    <tr>\n",
       "      <th>13912</th>\n",
       "      <td>Just Sing! Vol. 2</td>\n",
       "      <td>DS</td>\n",
       "      <td>2011</td>\n",
       "      <td>Misc</td>\n",
       "      <td>0.00</td>\n",
       "      <td>0.03</td>\n",
       "      <td>0.00</td>\n",
       "      <td>0.00</td>\n",
       "      <td>-1.00</td>\n",
       "      <td>-1.00</td>\n",
       "      <td>none</td>\n",
       "      <td>0.03</td>\n",
       "    </tr>\n",
       "    <tr>\n",
       "      <th>15342</th>\n",
       "      <td>Dakar 2: The World's Ultimate Rally</td>\n",
       "      <td>XB</td>\n",
       "      <td>2003</td>\n",
       "      <td>Racing</td>\n",
       "      <td>0.02</td>\n",
       "      <td>0.00</td>\n",
       "      <td>0.00</td>\n",
       "      <td>0.00</td>\n",
       "      <td>-1.00</td>\n",
       "      <td>-1.00</td>\n",
       "      <td>none</td>\n",
       "      <td>0.02</td>\n",
       "    </tr>\n",
       "    <tr>\n",
       "      <th>3668</th>\n",
       "      <td>Grease</td>\n",
       "      <td>Wii</td>\n",
       "      <td>2010</td>\n",
       "      <td>Misc</td>\n",
       "      <td>0.26</td>\n",
       "      <td>0.24</td>\n",
       "      <td>0.00</td>\n",
       "      <td>0.05</td>\n",
       "      <td>-1.00</td>\n",
       "      <td>-1.00</td>\n",
       "      <td>none</td>\n",
       "      <td>0.55</td>\n",
       "    </tr>\n",
       "    <tr>\n",
       "      <th>13168</th>\n",
       "      <td>Winning Post 7 2013</td>\n",
       "      <td>PS3</td>\n",
       "      <td>2013</td>\n",
       "      <td>Sports</td>\n",
       "      <td>0.00</td>\n",
       "      <td>0.00</td>\n",
       "      <td>0.05</td>\n",
       "      <td>0.00</td>\n",
       "      <td>-1.00</td>\n",
       "      <td>-1.00</td>\n",
       "      <td>none</td>\n",
       "      <td>0.05</td>\n",
       "    </tr>\n",
       "    <tr>\n",
       "      <th>642</th>\n",
       "      <td>Ice Hockey</td>\n",
       "      <td>NES</td>\n",
       "      <td>1988</td>\n",
       "      <td>Sports</td>\n",
       "      <td>1.27</td>\n",
       "      <td>0.32</td>\n",
       "      <td>0.78</td>\n",
       "      <td>0.05</td>\n",
       "      <td>-1.00</td>\n",
       "      <td>-1.00</td>\n",
       "      <td>none</td>\n",
       "      <td>2.42</td>\n",
       "    </tr>\n",
       "    <tr>\n",
       "      <th>15409</th>\n",
       "      <td>Last Escort</td>\n",
       "      <td>PS2</td>\n",
       "      <td>2006</td>\n",
       "      <td>Adventure</td>\n",
       "      <td>0.00</td>\n",
       "      <td>0.00</td>\n",
       "      <td>0.02</td>\n",
       "      <td>0.00</td>\n",
       "      <td>-1.00</td>\n",
       "      <td>-1.00</td>\n",
       "      <td>none</td>\n",
       "      <td>0.02</td>\n",
       "    </tr>\n",
       "    <tr>\n",
       "      <th>815</th>\n",
       "      <td>Yu-Gi-Oh! The Eternal Duelist Soul</td>\n",
       "      <td>GBA</td>\n",
       "      <td>2001</td>\n",
       "      <td>Strategy</td>\n",
       "      <td>1.64</td>\n",
       "      <td>0.36</td>\n",
       "      <td>0.00</td>\n",
       "      <td>0.07</td>\n",
       "      <td>-1.00</td>\n",
       "      <td>-1.00</td>\n",
       "      <td>none</td>\n",
       "      <td>2.07</td>\n",
       "    </tr>\n",
       "    <tr>\n",
       "      <th>9908</th>\n",
       "      <td>Petz Puppyz &amp; Kittenz</td>\n",
       "      <td>DS</td>\n",
       "      <td>2011</td>\n",
       "      <td>Misc</td>\n",
       "      <td>0.11</td>\n",
       "      <td>0.00</td>\n",
       "      <td>0.00</td>\n",
       "      <td>0.01</td>\n",
       "      <td>-1.00</td>\n",
       "      <td>-1.00</td>\n",
       "      <td>none</td>\n",
       "      <td>0.12</td>\n",
       "    </tr>\n",
       "    <tr>\n",
       "      <th>3456</th>\n",
       "      <td>FIFA: Road to  World Cup 98</td>\n",
       "      <td>N64</td>\n",
       "      <td>1997</td>\n",
       "      <td>Sports</td>\n",
       "      <td>0.15</td>\n",
       "      <td>0.39</td>\n",
       "      <td>0.00</td>\n",
       "      <td>0.03</td>\n",
       "      <td>-1.00</td>\n",
       "      <td>-1.00</td>\n",
       "      <td>none</td>\n",
       "      <td>0.57</td>\n",
       "    </tr>\n",
       "    <tr>\n",
       "      <th>769</th>\n",
       "      <td>SimCity 2000</td>\n",
       "      <td>PC</td>\n",
       "      <td>1992</td>\n",
       "      <td>Simulation</td>\n",
       "      <td>1.20</td>\n",
       "      <td>0.84</td>\n",
       "      <td>0.00</td>\n",
       "      <td>0.10</td>\n",
       "      <td>-1.00</td>\n",
       "      <td>-1.00</td>\n",
       "      <td>none</td>\n",
       "      <td>2.14</td>\n",
       "    </tr>\n",
       "    <tr>\n",
       "      <th>6738</th>\n",
       "      <td>U-Sing: Girls Night</td>\n",
       "      <td>Wii</td>\n",
       "      <td>2010</td>\n",
       "      <td>Misc</td>\n",
       "      <td>0.00</td>\n",
       "      <td>0.21</td>\n",
       "      <td>0.00</td>\n",
       "      <td>0.04</td>\n",
       "      <td>-1.00</td>\n",
       "      <td>-1.00</td>\n",
       "      <td>none</td>\n",
       "      <td>0.25</td>\n",
       "    </tr>\n",
       "    <tr>\n",
       "      <th>16567</th>\n",
       "      <td>Memories Off #5: Togireta Film</td>\n",
       "      <td>PSP</td>\n",
       "      <td>2009</td>\n",
       "      <td>Adventure</td>\n",
       "      <td>0.00</td>\n",
       "      <td>0.00</td>\n",
       "      <td>0.01</td>\n",
       "      <td>0.00</td>\n",
       "      <td>-1.00</td>\n",
       "      <td>-1.00</td>\n",
       "      <td>none</td>\n",
       "      <td>0.01</td>\n",
       "    </tr>\n",
       "    <tr>\n",
       "      <th>7267</th>\n",
       "      <td>Saltwater Sportfishing</td>\n",
       "      <td>PS</td>\n",
       "      <td>2001</td>\n",
       "      <td>Sports</td>\n",
       "      <td>0.12</td>\n",
       "      <td>0.08</td>\n",
       "      <td>0.00</td>\n",
       "      <td>0.01</td>\n",
       "      <td>-1.00</td>\n",
       "      <td>-1.00</td>\n",
       "      <td>none</td>\n",
       "      <td>0.21</td>\n",
       "    </tr>\n",
       "    <tr>\n",
       "      <th>16531</th>\n",
       "      <td>Getsuei Gakuen: kou</td>\n",
       "      <td>PSV</td>\n",
       "      <td>2013</td>\n",
       "      <td>Adventure</td>\n",
       "      <td>0.00</td>\n",
       "      <td>0.00</td>\n",
       "      <td>0.01</td>\n",
       "      <td>0.00</td>\n",
       "      <td>-1.00</td>\n",
       "      <td>-1.00</td>\n",
       "      <td>none</td>\n",
       "      <td>0.01</td>\n",
       "    </tr>\n",
       "    <tr>\n",
       "      <th>14264</th>\n",
       "      <td>First Queen: Ornic Senki</td>\n",
       "      <td>SNES</td>\n",
       "      <td>1994</td>\n",
       "      <td>Role-Playing</td>\n",
       "      <td>0.00</td>\n",
       "      <td>0.00</td>\n",
       "      <td>0.03</td>\n",
       "      <td>0.00</td>\n",
       "      <td>-1.00</td>\n",
       "      <td>-1.00</td>\n",
       "      <td>none</td>\n",
       "      <td>0.03</td>\n",
       "    </tr>\n",
       "    <tr>\n",
       "      <th>8725</th>\n",
       "      <td>My Baby 3 &amp; Friends</td>\n",
       "      <td>DS</td>\n",
       "      <td>2010</td>\n",
       "      <td>Simulation</td>\n",
       "      <td>0.12</td>\n",
       "      <td>0.02</td>\n",
       "      <td>0.00</td>\n",
       "      <td>0.01</td>\n",
       "      <td>-1.00</td>\n",
       "      <td>-1.00</td>\n",
       "      <td>none</td>\n",
       "      <td>0.15</td>\n",
       "    </tr>\n",
       "    <tr>\n",
       "      <th>1018</th>\n",
       "      <td>Kingdom Hearts</td>\n",
       "      <td>PS3</td>\n",
       "      <td>2013</td>\n",
       "      <td>Role-Playing</td>\n",
       "      <td>0.90</td>\n",
       "      <td>0.35</td>\n",
       "      <td>0.25</td>\n",
       "      <td>0.24</td>\n",
       "      <td>-1.00</td>\n",
       "      <td>-1.00</td>\n",
       "      <td>none</td>\n",
       "      <td>1.74</td>\n",
       "    </tr>\n",
       "    <tr>\n",
       "      <th>2731</th>\n",
       "      <td>Street Fighter EX Plus Alpha</td>\n",
       "      <td>PS</td>\n",
       "      <td>1997</td>\n",
       "      <td>Fighting</td>\n",
       "      <td>0.28</td>\n",
       "      <td>0.19</td>\n",
       "      <td>0.23</td>\n",
       "      <td>0.05</td>\n",
       "      <td>-1.00</td>\n",
       "      <td>-1.00</td>\n",
       "      <td>none</td>\n",
       "      <td>0.75</td>\n",
       "    </tr>\n",
       "    <tr>\n",
       "      <th>9611</th>\n",
       "      <td>7th Dragon 2020-II</td>\n",
       "      <td>PSP</td>\n",
       "      <td>2013</td>\n",
       "      <td>Role-Playing</td>\n",
       "      <td>0.00</td>\n",
       "      <td>0.00</td>\n",
       "      <td>0.13</td>\n",
       "      <td>0.00</td>\n",
       "      <td>-1.00</td>\n",
       "      <td>-1.00</td>\n",
       "      <td>none</td>\n",
       "      <td>0.13</td>\n",
       "    </tr>\n",
       "    <tr>\n",
       "      <th>7140</th>\n",
       "      <td>101-in-1 Party Megamix Wii</td>\n",
       "      <td>Wii</td>\n",
       "      <td>2009</td>\n",
       "      <td>Misc</td>\n",
       "      <td>0.19</td>\n",
       "      <td>0.01</td>\n",
       "      <td>0.00</td>\n",
       "      <td>0.02</td>\n",
       "      <td>-1.00</td>\n",
       "      <td>-1.00</td>\n",
       "      <td>none</td>\n",
       "      <td>0.22</td>\n",
       "    </tr>\n",
       "    <tr>\n",
       "      <th>9076</th>\n",
       "      <td>Okami</td>\n",
       "      <td>PS3</td>\n",
       "      <td>2012</td>\n",
       "      <td>Action</td>\n",
       "      <td>0.00</td>\n",
       "      <td>0.00</td>\n",
       "      <td>0.14</td>\n",
       "      <td>0.00</td>\n",
       "      <td>-1.00</td>\n",
       "      <td>-1.00</td>\n",
       "      <td>none</td>\n",
       "      <td>0.14</td>\n",
       "    </tr>\n",
       "    <tr>\n",
       "      <th>9612</th>\n",
       "      <td>Doukyuusei 2</td>\n",
       "      <td>SAT</td>\n",
       "      <td>1997</td>\n",
       "      <td>Role-Playing</td>\n",
       "      <td>0.00</td>\n",
       "      <td>0.00</td>\n",
       "      <td>0.13</td>\n",
       "      <td>0.00</td>\n",
       "      <td>-1.00</td>\n",
       "      <td>-1.00</td>\n",
       "      <td>none</td>\n",
       "      <td>0.13</td>\n",
       "    </tr>\n",
       "    <tr>\n",
       "      <th>6496</th>\n",
       "      <td>The Amazing Spider-Man 2 (2014)</td>\n",
       "      <td>PS3</td>\n",
       "      <td>2014</td>\n",
       "      <td>Action</td>\n",
       "      <td>0.06</td>\n",
       "      <td>0.14</td>\n",
       "      <td>0.02</td>\n",
       "      <td>0.04</td>\n",
       "      <td>-1.00</td>\n",
       "      <td>-1.00</td>\n",
       "      <td>none</td>\n",
       "      <td>0.26</td>\n",
       "    </tr>\n",
       "    <tr>\n",
       "      <th>12348</th>\n",
       "      <td>Sunrise Eiyuutan R</td>\n",
       "      <td>PS2</td>\n",
       "      <td>2000</td>\n",
       "      <td>Role-Playing</td>\n",
       "      <td>0.00</td>\n",
       "      <td>0.00</td>\n",
       "      <td>0.06</td>\n",
       "      <td>0.00</td>\n",
       "      <td>-1.00</td>\n",
       "      <td>-1.00</td>\n",
       "      <td>none</td>\n",
       "      <td>0.06</td>\n",
       "    </tr>\n",
       "    <tr>\n",
       "      <th>14455</th>\n",
       "      <td>Last Escort: Club Katze</td>\n",
       "      <td>PSP</td>\n",
       "      <td>2010</td>\n",
       "      <td>Adventure</td>\n",
       "      <td>0.00</td>\n",
       "      <td>0.00</td>\n",
       "      <td>0.03</td>\n",
       "      <td>0.00</td>\n",
       "      <td>-1.00</td>\n",
       "      <td>-1.00</td>\n",
       "      <td>none</td>\n",
       "      <td>0.03</td>\n",
       "    </tr>\n",
       "    <tr>\n",
       "      <th>11605</th>\n",
       "      <td>Striker 96</td>\n",
       "      <td>PS</td>\n",
       "      <td>1995</td>\n",
       "      <td>Sports</td>\n",
       "      <td>0.04</td>\n",
       "      <td>0.03</td>\n",
       "      <td>0.00</td>\n",
       "      <td>0.01</td>\n",
       "      <td>-1.00</td>\n",
       "      <td>-1.00</td>\n",
       "      <td>none</td>\n",
       "      <td>0.08</td>\n",
       "    </tr>\n",
       "    <tr>\n",
       "      <th>15965</th>\n",
       "      <td>Full House Kiss 2</td>\n",
       "      <td>PS2</td>\n",
       "      <td>2006</td>\n",
       "      <td>Adventure</td>\n",
       "      <td>0.00</td>\n",
       "      <td>0.00</td>\n",
       "      <td>0.02</td>\n",
       "      <td>0.00</td>\n",
       "      <td>-1.00</td>\n",
       "      <td>-1.00</td>\n",
       "      <td>none</td>\n",
       "      <td>0.02</td>\n",
       "    </tr>\n",
       "    <tr>\n",
       "      <th>11976</th>\n",
       "      <td>Jewel Link Chronicles: Legend of Athena</td>\n",
       "      <td>DS</td>\n",
       "      <td>2011</td>\n",
       "      <td>Puzzle</td>\n",
       "      <td>0.00</td>\n",
       "      <td>0.06</td>\n",
       "      <td>0.00</td>\n",
       "      <td>0.01</td>\n",
       "      <td>-1.00</td>\n",
       "      <td>-1.00</td>\n",
       "      <td>none</td>\n",
       "      <td>0.07</td>\n",
       "    </tr>\n",
       "    <tr>\n",
       "      <th>3746</th>\n",
       "      <td>Clock Tower</td>\n",
       "      <td>PS</td>\n",
       "      <td>1996</td>\n",
       "      <td>Adventure</td>\n",
       "      <td>0.07</td>\n",
       "      <td>0.05</td>\n",
       "      <td>0.38</td>\n",
       "      <td>0.03</td>\n",
       "      <td>-1.00</td>\n",
       "      <td>-1.00</td>\n",
       "      <td>none</td>\n",
       "      <td>0.53</td>\n",
       "    </tr>\n",
       "  </tbody>\n",
       "</table>\n",
       "</div>"
      ],
      "text/plain": [
       "                                                    name platform  \\\n",
       "10556                       Penguin no Mondai: The World       DS   \n",
       "14755  Yahari Game Demo Ore no Seishun Love-Kome wa M...      PSV   \n",
       "9406                     Tales of the Heroes: Twin Brave      PSP   \n",
       "8473                                      Hamster Heroes      Wii   \n",
       "11167                         Sengoku Basara 4: Sumeragi      PS3   \n",
       "9088        Shonen Jump's Shaman King: Master of Spirits      GBA   \n",
       "16387                                   Durarara!! Relay      PSV   \n",
       "14523                               Great Edo Blacksmith      PSV   \n",
       "10194                       Shin Sangoku Musou 6 Special      PSP   \n",
       "8248   The Idolm@ster: Shiny Festa - Honey Sound / Fu...      PSP   \n",
       "3364                                       Front Mission     SNES   \n",
       "14133                            Hakuouki: Zuisouroku DS       DS   \n",
       "232              The Legend of Zelda: A Link to the Past     SNES   \n",
       "3654                                Super Robot Taisen F      SAT   \n",
       "15254           Zillions of Enemy X: Zetsukai no Crusade      PS3   \n",
       "1815   Pokémon Mystery Dungeon: Red Rescue Team (US w...      GBA   \n",
       "7121    Puzzle & Dragons X: God Chapter / Dragon Chapter      3DS   \n",
       "10312  The Penguins of Madagascar: Dr. Blowhole Retur...     X360   \n",
       "8189                                 Pro Yaky? Spirits 5      PS2   \n",
       "2764               The Lord of the Rings: The Two Towers      GBA   \n",
       "15183                          Enchanted Arms (JP sales)     X360   \n",
       "13912                                  Just Sing! Vol. 2       DS   \n",
       "15342                Dakar 2: The World's Ultimate Rally       XB   \n",
       "3668                                              Grease      Wii   \n",
       "13168                                Winning Post 7 2013      PS3   \n",
       "642                                           Ice Hockey      NES   \n",
       "15409                                        Last Escort      PS2   \n",
       "815                   Yu-Gi-Oh! The Eternal Duelist Soul      GBA   \n",
       "9908                               Petz Puppyz & Kittenz       DS   \n",
       "3456                         FIFA: Road to  World Cup 98      N64   \n",
       "769                                         SimCity 2000       PC   \n",
       "6738                                 U-Sing: Girls Night      Wii   \n",
       "16567                     Memories Off #5: Togireta Film      PSP   \n",
       "7267                              Saltwater Sportfishing       PS   \n",
       "16531                                Getsuei Gakuen: kou      PSV   \n",
       "14264                           First Queen: Ornic Senki     SNES   \n",
       "8725                                 My Baby 3 & Friends       DS   \n",
       "1018                                      Kingdom Hearts      PS3   \n",
       "2731                        Street Fighter EX Plus Alpha       PS   \n",
       "9611                                  7th Dragon 2020-II      PSP   \n",
       "7140                          101-in-1 Party Megamix Wii      Wii   \n",
       "9076                                               Okami      PS3   \n",
       "9612                                        Doukyuusei 2      SAT   \n",
       "6496                     The Amazing Spider-Man 2 (2014)      PS3   \n",
       "12348                                 Sunrise Eiyuutan R      PS2   \n",
       "14455                            Last Escort: Club Katze      PSP   \n",
       "11605                                         Striker 96       PS   \n",
       "15965                                  Full House Kiss 2      PS2   \n",
       "11976            Jewel Link Chronicles: Legend of Athena       DS   \n",
       "3746                                         Clock Tower       PS   \n",
       "\n",
       "       year_of_release         genre  na_sales  eu_sales  jp_sales  \\\n",
       "10556             2010     Adventure      0.00      0.00      0.10   \n",
       "14755             2016     Adventure      0.00      0.00      0.03   \n",
       "9406              2012  Role-Playing      0.00      0.00      0.13   \n",
       "8473              2008        Puzzle      0.16      0.00      0.00   \n",
       "11167             2015        Action      0.00      0.00      0.09   \n",
       "9088              2004  Role-Playing      0.10      0.04      0.00   \n",
       "16387             2015        Action      0.00      0.00      0.01   \n",
       "14523             2014     Adventure      0.00      0.00      0.03   \n",
       "10194             2011        Action      0.00      0.00      0.11   \n",
       "8248              2012        Action      0.00      0.00      0.17   \n",
       "3364              1995      Strategy      0.00      0.00      0.60   \n",
       "14133             2011     Adventure      0.00      0.00      0.04   \n",
       "232               1991        Action      2.42      0.91      1.15   \n",
       "3654              1997      Strategy      0.00      0.00      0.55   \n",
       "15254             2013  Role-Playing      0.00      0.00      0.02   \n",
       "1815              2005  Role-Playing      0.81      0.30      0.00   \n",
       "7121              2016        Action      0.00      0.00      0.22   \n",
       "10312             2011        Action      0.07      0.03      0.00   \n",
       "8189              2008        Sports      0.00      0.00      0.18   \n",
       "2764              2002        Action      0.53      0.20      0.00   \n",
       "15183             2006  Role-Playing      0.00      0.00      0.02   \n",
       "13912             2011          Misc      0.00      0.03      0.00   \n",
       "15342             2003        Racing      0.02      0.00      0.00   \n",
       "3668              2010          Misc      0.26      0.24      0.00   \n",
       "13168             2013        Sports      0.00      0.00      0.05   \n",
       "642               1988        Sports      1.27      0.32      0.78   \n",
       "15409             2006     Adventure      0.00      0.00      0.02   \n",
       "815               2001      Strategy      1.64      0.36      0.00   \n",
       "9908              2011          Misc      0.11      0.00      0.00   \n",
       "3456              1997        Sports      0.15      0.39      0.00   \n",
       "769               1992    Simulation      1.20      0.84      0.00   \n",
       "6738              2010          Misc      0.00      0.21      0.00   \n",
       "16567             2009     Adventure      0.00      0.00      0.01   \n",
       "7267              2001        Sports      0.12      0.08      0.00   \n",
       "16531             2013     Adventure      0.00      0.00      0.01   \n",
       "14264             1994  Role-Playing      0.00      0.00      0.03   \n",
       "8725              2010    Simulation      0.12      0.02      0.00   \n",
       "1018              2013  Role-Playing      0.90      0.35      0.25   \n",
       "2731              1997      Fighting      0.28      0.19      0.23   \n",
       "9611              2013  Role-Playing      0.00      0.00      0.13   \n",
       "7140              2009          Misc      0.19      0.01      0.00   \n",
       "9076              2012        Action      0.00      0.00      0.14   \n",
       "9612              1997  Role-Playing      0.00      0.00      0.13   \n",
       "6496              2014        Action      0.06      0.14      0.02   \n",
       "12348             2000  Role-Playing      0.00      0.00      0.06   \n",
       "14455             2010     Adventure      0.00      0.00      0.03   \n",
       "11605             1995        Sports      0.04      0.03      0.00   \n",
       "15965             2006     Adventure      0.00      0.00      0.02   \n",
       "11976             2011        Puzzle      0.00      0.06      0.00   \n",
       "3746              1996     Adventure      0.07      0.05      0.38   \n",
       "\n",
       "       other_sales  critic_score  user_score rating  sales_total  \n",
       "10556         0.00         -1.00       -1.00   none         0.10  \n",
       "14755         0.00         -1.00       -1.00   none         0.03  \n",
       "9406          0.00         -1.00       -1.00   none         0.13  \n",
       "8473          0.00         -1.00       -1.00   none         0.16  \n",
       "11167         0.00         -1.00       -1.00   none         0.09  \n",
       "9088          0.00         -1.00       -1.00   none         0.14  \n",
       "16387         0.00         -1.00       -1.00   none         0.01  \n",
       "14523         0.00         -1.00       -1.00   none         0.03  \n",
       "10194         0.00         -1.00       -1.00   none         0.11  \n",
       "8248          0.00         -1.00       -1.00   none         0.17  \n",
       "3364          0.00         -1.00       -1.00   none         0.60  \n",
       "14133         0.00         -1.00       -1.00   none         0.04  \n",
       "232           0.13         -1.00       -1.00   none         4.61  \n",
       "3654          0.00         -1.00       -1.00   none         0.55  \n",
       "15254         0.00         -1.00       -1.00   none         0.02  \n",
       "1815          0.02         -1.00       -1.00   none         1.13  \n",
       "7121          0.00         -1.00       -1.00   none         0.22  \n",
       "10312         0.01         -1.00       -1.00   none         0.11  \n",
       "8189          0.00         -1.00       -1.00   none         0.18  \n",
       "2764          0.01         -1.00       -1.00   none         0.74  \n",
       "15183         0.00         -1.00       -1.00   none         0.02  \n",
       "13912         0.00         -1.00       -1.00   none         0.03  \n",
       "15342         0.00         -1.00       -1.00   none         0.02  \n",
       "3668          0.05         -1.00       -1.00   none         0.55  \n",
       "13168         0.00         -1.00       -1.00   none         0.05  \n",
       "642           0.05         -1.00       -1.00   none         2.42  \n",
       "15409         0.00         -1.00       -1.00   none         0.02  \n",
       "815           0.07         -1.00       -1.00   none         2.07  \n",
       "9908          0.01         -1.00       -1.00   none         0.12  \n",
       "3456          0.03         -1.00       -1.00   none         0.57  \n",
       "769           0.10         -1.00       -1.00   none         2.14  \n",
       "6738          0.04         -1.00       -1.00   none         0.25  \n",
       "16567         0.00         -1.00       -1.00   none         0.01  \n",
       "7267          0.01         -1.00       -1.00   none         0.21  \n",
       "16531         0.00         -1.00       -1.00   none         0.01  \n",
       "14264         0.00         -1.00       -1.00   none         0.03  \n",
       "8725          0.01         -1.00       -1.00   none         0.15  \n",
       "1018          0.24         -1.00       -1.00   none         1.74  \n",
       "2731          0.05         -1.00       -1.00   none         0.75  \n",
       "9611          0.00         -1.00       -1.00   none         0.13  \n",
       "7140          0.02         -1.00       -1.00   none         0.22  \n",
       "9076          0.00         -1.00       -1.00   none         0.14  \n",
       "9612          0.00         -1.00       -1.00   none         0.13  \n",
       "6496          0.04         -1.00       -1.00   none         0.26  \n",
       "12348         0.00         -1.00       -1.00   none         0.06  \n",
       "14455         0.00         -1.00       -1.00   none         0.03  \n",
       "11605         0.01         -1.00       -1.00   none         0.08  \n",
       "15965         0.00         -1.00       -1.00   none         0.02  \n",
       "11976         0.01         -1.00       -1.00   none         0.07  \n",
       "3746          0.03         -1.00       -1.00   none         0.53  "
      ]
     },
     "execution_count": 53,
     "metadata": {},
     "output_type": "execute_result"
    }
   ],
   "source": [
    "data.query('rating == \"none\"').sample(50)"
   ]
  },
  {
   "cell_type": "code",
   "execution_count": 202,
   "metadata": {},
   "outputs": [
    {
     "data": {
      "image/png": "[encoded data removed]",
      "text/plain": [
       "<Figure size 1080x360 with 3 Axes>"
      ]
     },
     "metadata": {},
     "output_type": "display_data"
    }
   ],
   "source": [
    "fig, (ax1, ax2, ax3) = plt.subplots(1,3, figsize=(15,5))\n",
    "fig.suptitle('Самые популярные жанры (топ-5)')\n",
    "ax1.pie(rating_na, labels=rating_na.index, autopct='%.0F%%')\n",
    "ax2.pie(rating_eu, labels=rating_eu.index, autopct='%.0F%%')\n",
    "ax3.pie(rating_jp, labels=rating_jp.index, autopct='%.0F%%')\n",
    "plt.show()"
   ]
  },
  {
   "cell_type": "code",
   "execution_count": 203,
   "metadata": {},
   "outputs": [],
   "source": [
    "# rating_na.head(5).plot(kind='pie', subplots=True, figsize=(12,6), legend=False, autopct='%.0F%%')\n",
    "# plt.title('North America')\n",
    "# plt.show()\n",
    "# rating_eu.head(5).plot(kind='pie', subplots=True, figsize=(12,6), legend=False, autopct='%.0F%%')\n",
    "# plt.title('Europe')\n",
    "# plt.show()\n",
    "# rating_jp.head(5).plot(kind='pie', subplots=True, figsize=(12,6), legend=False, autopct='%.0F%%')\n",
    "# plt.title('Japan')\n",
    "# plt.show()"
   ]
  },
  {
   "cell_type": "markdown",
   "metadata": {},
   "source": [
    "Здесь мы видим, что в Америке и Европе преобладает рейтинг М. Это связано с тем, что практически все экшн блокбастеры (такие как Assassin's Creed, Call of Duty, Grand Theft Auto) имеют рейтинг М. \n",
    "\n",
    "Насчёт Японии достоверных выводов сделать невозможно, так Япония играет в свои игры со своей рейтинговой системой.\n",
    "\n",
    "Вообще ESRB - это исключительно Американская программа. У Японии есть своё (CERO), а у Европы своё (PEGI). "
   ]
  },
  {
   "cell_type": "markdown",
   "metadata": {},
   "source": [
    "Несмотря на некоторую недостоверность данных, я всё же скажу, что среднестатистический пользователь на рейтинг не смотрит. Родители очень часто не контроллируют то, во что их дети играют. А подростки и вовсе уже во всю покупают M игры.\n",
    "\n",
    "Всё же для издателя - это довольно важный вопрос, так как подобная процедура имеет правовые последствия непосредственно для самого издателя или третьего лица, продающего игру. Поэтому издатель будет стараться насколько сможет держать игру в 12+ или 16+ категории. \n",
    "\n",
    "Но как мы видим в нашем случае: клиент хочет - клиент получит."
   ]
  },
  {
   "cell_type": "markdown",
   "metadata": {},
   "source": [
    "### 5. Проверьте гипотезы"
   ]
  },
  {
   "cell_type": "markdown",
   "metadata": {},
   "source": [
    "- Средние пользовательские рейтинги платформ Xbox One и PC одинаковые;\n",
    "- Средние пользовательские рейтинги жанров Action (англ. «действие», экшен-игры) и Sports (англ. «спортивные соревнования») разные.\n",
    "\n",
    "Задайте самостоятельно пороговое значение alpha.\n",
    "\n",
    "Поясните:\n",
    "- Как вы сформулировали нулевую и альтернативную гипотезы;\n",
    "- Какой критерий применили для проверки гипотез и почему."
   ]
  },
  {
   "cell_type": "markdown",
   "metadata": {},
   "source": [
    "Будем использовать t-критерий Стьюдента, так как сравниваемые выборки независимы между собой."
   ]
  },
  {
   "cell_type": "code",
   "execution_count": 213,
   "metadata": {},
   "outputs": [],
   "source": [
    "relevant_data = data.query('year_of_release >= 2013') #определяем срез, с которым мы хотим работать"
   ]
  },
  {
   "cell_type": "markdown",
   "metadata": {},
   "source": [
    "### Гипотезы:\n",
    "- H0: средние пользовательские рейтинги платформ Xbox One и PC одинаковые.\n",
    "- H1: средние пользовательские рейтинги платформ Xbox One и PC отличаются."
   ]
  },
  {
   "cell_type": "code",
   "execution_count": 214,
   "metadata": {},
   "outputs": [],
   "source": [
    "alpha = 0.05"
   ]
  },
  {
   "cell_type": "code",
   "execution_count": 215,
   "metadata": {},
   "outputs": [],
   "source": [
    "xbox_one = relevant_data[(relevant_data['platform'] == 'XOne') & (relevant_data['user_score'] > 0)]['user_score']\n",
    "pc = relevant_data[(relevant_data['platform'] == 'PC') & (relevant_data['user_score'] > 0)]['user_score']"
   ]
  },
  {
   "cell_type": "code",
   "execution_count": 216,
   "metadata": {},
   "outputs": [],
   "source": [
    "results = st.ttest_ind(xbox_one, pc)"
   ]
  },
  {
   "cell_type": "code",
   "execution_count": 217,
   "metadata": {},
   "outputs": [
    {
     "name": "stdout",
     "output_type": "stream",
     "text": [
      "p-значение: 0.14012658403611647\n",
      "Не получилось отвергнуть нулевую гипотезу\n"
     ]
    }
   ],
   "source": [
    "print('p-значение:', results.pvalue)\n",
    "\n",
    "if (results.pvalue < alpha):\n",
    "    print(\"Отвергаем нулевую гипотезу\")\n",
    "else:\n",
    "    print(\"Не получилось отвергнуть нулевую гипотезу\")"
   ]
  },
  {
   "cell_type": "markdown",
   "metadata": {},
   "source": [
    "### Гипотезы:\n",
    "- H0: Средние пользовательские рейтинги жанров Action (англ. «действие», экшен-игры) и Sports (англ. «спортивные соревнования») одинаковые.\n",
    "- H1: Средние пользовательские рейтинги жанров Action (англ. «действие», экшен-игры) и Sports (англ. «спортивные соревнования») разные."
   ]
  },
  {
   "cell_type": "code",
   "execution_count": 218,
   "metadata": {},
   "outputs": [],
   "source": [
    "action = relevant_data[(relevant_data['genre'] == 'Action') & (relevant_data['user_score'] > 0)]['user_score']\n",
    "sports = relevant_data[(relevant_data['genre'] == 'Sports') & (relevant_data['user_score'] > 0)]['user_score']"
   ]
  },
  {
   "cell_type": "code",
   "execution_count": 219,
   "metadata": {},
   "outputs": [],
   "source": [
    "results = st.ttest_ind(action, sports)"
   ]
  },
  {
   "cell_type": "code",
   "execution_count": 220,
   "metadata": {},
   "outputs": [
    {
     "name": "stdout",
     "output_type": "stream",
     "text": [
      "p-значение: 1.0517832389140023e-27\n",
      "Отвергаем нулевую гипотезу\n"
     ]
    }
   ],
   "source": [
    "print('p-значение:', results.pvalue)\n",
    "\n",
    "if (results.pvalue < alpha):\n",
    "    print(\"Отвергаем нулевую гипотезу\")\n",
    "else:\n",
    "    print(\"Не получилось отвергнуть нулевую гипотезу\")"
   ]
  },
  {
   "cell_type": "markdown",
   "metadata": {},
   "source": [
    "### 6. Напишите общий вывод"
   ]
  },
  {
   "cell_type": "markdown",
   "metadata": {},
   "source": [
    "В ходе исследования мы сделали следующие выводы:\n",
    "\n",
    "Для успешных продаж, ритейлеру нужно учитывать несколько факторов:\n",
    "\n",
    "- актуальность игровой платформы сильно влияет на интерес пользователей. \n",
    "\n",
    "    - Средняя жизнь платформы составляет от `8 до 12 лет`. Очень хорошо это было видно на примере `Sony` vs `Microsoft`. На протяжении всего периода эти две компании воевали за внимание пользователей, и это хорошо отражалось на продажах. \n",
    "\n",
    "        - В период с 2013 по 2016 год самыми актуальными платформами являются `PS4` и `Xbox One`. Тут можно быть уверенными в том, что они будут продаваться еще не один год. В этот период Япония взорвала Запад с выпуском `PS4`. Эта платформа принесла наибольшую прибыль в последние 2-3 года, но тут тоже поспешных выводов делать не стоит - `Xbox One` остается вполне конкурентноспособной консолью.\n",
    "        - А после можно быть уверенным в том, что конкуренция между этими команиями не оставит вас без новой консоли. \n",
    "        - Еще следует учесть, что у `Microsoft` присутствует система 'backwards compatibility' позволяющая на новых консолях играть в старые игры. Поэтому даже игры на `Xbox 360` будут пользоваться спросом какое-то время.\n",
    "    \n",
    "    - Что касается темной лошадки Nintendo - их платформы обычно живут немного дольше, потому что они производят свой немного нишевый, но очень уникальный продукт. Это касается игр и платформ. Самая популярная платформа на которой стоит заострить внимание - это Nintendo 3DS.\n",
    "\n",
    "\n",
    "- Но актуальность платформы - это ещё далеко не последний фактор. Мы выяснили, что в большинстве платформы вывозят на бестселлерах. Так что стоит обратить внимание на конкретных издателей и разработчиков (например: Rockstar, Activision, Ubisoft), а также следить за наличием консольных эксклюзивов. Как показывает практика - эксклюзивы играют большую роль в продаже консоли.\n",
    "\n",
    "\n",
    "- Несмотря на выявленную малозначимость влияния оценок на продажи игры, всё таки стоит смотреть за оценками критиков - это поможет выбрать более успешный продукт. Но всё таки большая часть продаж приходится на усилия маркетологов.\n",
    "\n",
    "\n",
    "- Стоит обратить внимание и на жанры. Стоит обратить внимание на такие жанры игр как `Action/Shooter/Role-playing/Sports`. `Action` в разы превосходит по выручке. Здесь важно понимать, что большая часть из перечисленных жанров приносит стабильную прибыль, а вот с `Action` будьте осторожны - этот жанр вывозит на отдельных очень популярных случаях. Не поддавайтесь на искушение забить все полки именно этим жанром.\n",
    "\n",
    "\n",
    "- Тут еще важно знать предпочтения самих пользователей. \n",
    "\n",
    "    - В отношении платформ мы видим, что PS4 и Xbox One лидируют на обоих `Американском` и `Европейском` рынках.\n",
    "    - Предпочтения в жанре практически одинаковы в обоих регионах. В лидерах - `Action/Shooter/Sports`.\n",
    "    - Что касается `Японии` - тут пользователи предпочитают родной продукт. Nintendo 3DS здесь оставляет позади все остальные платформы, при этом в топ-5 нет ни одной западной платформы. А любовь японцев к `JRPG` перебивает интерес к остальным жанрам. Выделить еще можно разве что `Action`. \n",
    "    \n",
    "- Что касается рейтинга, в целом влияние на интерес пользователей это оказывает маловажное. Все и так играют в 17+ игры. Стоит так же заметить, что рейтинга `ESRB` недостаточно для оценки продукта, если мы говорим о регионах кроме Америки. Для Европы следует учитывать рейтинг `PEGI`, а для Японии - `CERO`.\n",
    "\n",
    "Так же, мы проверили две гипотезы, заявленные в самом начале исследования. В результате этого:\n",
    "\n",
    "- Гипотеза о различии средних значений пользовательских оценок игр двух жанров Action и Sports не была отвергнута.\n",
    "\n",
    "- Гипотеза о идентичности средних значений пользовательских оценок игр двух платформ PC и Xbox One не была отвергнута.\n",
    "\n",
    "В случае с жанрами - тут всё понятно, Экшн и Спорт - совершенно разные вещи и подразумевают разную аудиторию.\n",
    "\n",
    "В случае с платформами - тут может играть роль то, что эти две платформы очень плотно сопряжены в лице Microsoft. В то время как Sony старается как можно больше удержать на своей платформе, игры выходящие на Xbox - как правило сразу выходят на ПК. Одинковая аудитория - одинаковые оценки. В прочем неудивительно, Microsoft перед тем как выпустить Xbox, выпустила сначала Windows и глубоко заинтересована в взаимодействии между ПК и Xbox платформами.\n",
    "\n",
    "\n",
    "В ходе исследования мы выяснили, что золотой век видеоигр уже позади. Как только в сферу игр пришли большие деньги, разработчики и издатели начали более активно гнаться за качеством и технологиями. Стали появляться AAA компании, игры делать стало дороже и стало занимать больше времени. Инди игры ушли в тень AAA проектов. Маленькие компании - в желудок большим. Итог - за тот же промежуток времени стало выходить меньше игр, а меньше игр - меньше прибыли на известных нам платформах.\n",
    "\n",
    "В тоже время начал активно развиваться мобильный рынок, который пока что (2016 год) ориентируется на азиатскую сферу. Вы можете этого не замечать, но большие игровые компании, такие как Activision уже вовсю пашет в эту сторону. Activision Blizzard помимо основных дочерних компаний Activision и Blizzard также имеют компанию King, которую даже в название не поставили. Так вот King занимается исключительно мобильными играми и занимает чуть ли не лидирующую позицию в прибыли Activision Blizzard. \n",
    "\n",
    "Исходя из этого можно предположить, что прибыли не стало меньше, но её распределение сильно изменилось. Я бы посоветовал исследовать данные по мобильному рынку для полной картины."
   ]
  }
 ],
 "metadata": {
  "ExecuteTimeLog": [
   {
    "duration": 1402,
    "start_time": "2023-03-18T17:56:00.004Z"
   },
   {
    "duration": 58,
    "start_time": "2023-03-18T17:56:01.408Z"
   },
   {
    "duration": 38,
    "start_time": "2023-03-18T17:56:01.468Z"
   },
   {
    "duration": 1630,
    "start_time": "2023-03-18T17:56:01.508Z"
   },
   {
    "duration": 44,
    "start_time": "2023-03-18T17:56:03.140Z"
   },
   {
    "duration": 10,
    "start_time": "2023-03-18T17:56:03.186Z"
   },
   {
    "duration": 39,
    "start_time": "2023-03-18T17:56:03.198Z"
   },
   {
    "duration": 3,
    "start_time": "2023-03-18T17:56:03.239Z"
   },
   {
    "duration": 9,
    "start_time": "2023-03-18T17:56:03.244Z"
   },
   {
    "duration": 6,
    "start_time": "2023-03-18T17:56:03.272Z"
   },
   {
    "duration": 24,
    "start_time": "2023-03-18T17:56:03.280Z"
   },
   {
    "duration": 30,
    "start_time": "2023-03-18T17:56:03.306Z"
   },
   {
    "duration": 39,
    "start_time": "2023-03-18T17:56:03.339Z"
   },
   {
    "duration": 10,
    "start_time": "2023-03-18T17:56:03.382Z"
   },
   {
    "duration": 36,
    "start_time": "2023-03-18T17:56:03.394Z"
   },
   {
    "duration": 16,
    "start_time": "2023-03-18T17:56:03.432Z"
   },
   {
    "duration": 28,
    "start_time": "2023-03-18T17:56:03.450Z"
   },
   {
    "duration": 13,
    "start_time": "2023-03-18T17:56:03.480Z"
   },
   {
    "duration": 11,
    "start_time": "2023-03-18T17:56:03.495Z"
   },
   {
    "duration": 10,
    "start_time": "2023-03-18T17:56:03.508Z"
   },
   {
    "duration": 20,
    "start_time": "2023-03-18T17:56:03.520Z"
   },
   {
    "duration": 36,
    "start_time": "2023-03-18T17:56:03.542Z"
   },
   {
    "duration": 17,
    "start_time": "2023-03-18T17:56:03.580Z"
   },
   {
    "duration": 13,
    "start_time": "2023-03-18T17:56:03.599Z"
   },
   {
    "duration": 412,
    "start_time": "2023-03-18T17:56:03.613Z"
   },
   {
    "duration": 313,
    "start_time": "2023-03-18T17:56:04.026Z"
   },
   {
    "duration": 33,
    "start_time": "2023-03-18T17:56:04.340Z"
   },
   {
    "duration": 573,
    "start_time": "2023-03-18T17:56:04.374Z"
   },
   {
    "duration": 430,
    "start_time": "2023-03-18T17:56:04.949Z"
   },
   {
    "duration": 19,
    "start_time": "2023-03-18T17:56:05.381Z"
   },
   {
    "duration": 425,
    "start_time": "2023-03-18T17:56:05.402Z"
   },
   {
    "duration": 13,
    "start_time": "2023-03-18T17:56:05.829Z"
   },
   {
    "duration": 32,
    "start_time": "2023-03-18T17:56:05.844Z"
   },
   {
    "duration": 16,
    "start_time": "2023-03-18T17:56:05.878Z"
   },
   {
    "duration": 23,
    "start_time": "2023-03-18T17:56:05.896Z"
   },
   {
    "duration": 313,
    "start_time": "2023-03-18T17:56:05.921Z"
   },
   {
    "duration": 7,
    "start_time": "2023-03-18T17:56:06.236Z"
   },
   {
    "duration": 14,
    "start_time": "2023-03-18T17:56:06.245Z"
   },
   {
    "duration": 351,
    "start_time": "2023-03-18T17:56:06.273Z"
   },
   {
    "duration": 1906,
    "start_time": "2023-03-18T17:56:06.626Z"
   },
   {
    "duration": 13,
    "start_time": "2023-03-18T17:56:08.536Z"
   },
   {
    "duration": 28,
    "start_time": "2023-03-18T17:56:08.551Z"
   },
   {
    "duration": 434,
    "start_time": "2023-03-18T17:56:08.581Z"
   },
   {
    "duration": 431,
    "start_time": "2023-03-18T17:56:09.017Z"
   },
   {
    "duration": 4,
    "start_time": "2023-03-18T17:56:09.450Z"
   },
   {
    "duration": 27,
    "start_time": "2023-03-18T17:56:09.456Z"
   },
   {
    "duration": 703,
    "start_time": "2023-03-18T17:56:09.485Z"
   },
   {
    "duration": 89,
    "start_time": "2023-03-18T17:56:10.191Z"
   },
   {
    "duration": 991,
    "start_time": "2023-03-18T17:56:10.282Z"
   },
   {
    "duration": 5,
    "start_time": "2023-03-18T17:56:11.275Z"
   },
   {
    "duration": 16,
    "start_time": "2023-03-18T17:56:11.282Z"
   },
   {
    "duration": 25,
    "start_time": "2023-03-18T17:56:11.300Z"
   },
   {
    "duration": 569,
    "start_time": "2023-03-18T17:56:11.327Z"
   },
   {
    "duration": 3,
    "start_time": "2023-03-18T17:56:11.898Z"
   },
   {
    "duration": 10,
    "start_time": "2023-03-18T17:56:11.973Z"
   },
   {
    "duration": 8,
    "start_time": "2023-03-18T17:56:11.985Z"
   },
   {
    "duration": 7,
    "start_time": "2023-03-18T17:56:11.995Z"
   },
   {
    "duration": 13,
    "start_time": "2023-03-18T17:56:12.003Z"
   },
   {
    "duration": 6,
    "start_time": "2023-03-18T17:56:12.018Z"
   },
   {
    "duration": 7,
    "start_time": "2023-03-18T17:56:12.026Z"
   },
   {
    "duration": 19,
    "start_time": "2023-03-18T18:50:15.950Z"
   },
   {
    "duration": 58,
    "start_time": "2023-03-18T18:56:27.252Z"
   },
   {
    "duration": 1398,
    "start_time": "2023-03-18T18:56:32.707Z"
   },
   {
    "duration": 108,
    "start_time": "2023-03-18T18:56:34.107Z"
   },
   {
    "duration": 37,
    "start_time": "2023-03-18T18:56:34.217Z"
   },
   {
    "duration": 1155,
    "start_time": "2023-03-18T18:56:34.256Z"
   },
   {
    "duration": 30,
    "start_time": "2023-03-18T18:56:35.413Z"
   },
   {
    "duration": 30,
    "start_time": "2023-03-18T18:56:35.445Z"
   },
   {
    "duration": 17,
    "start_time": "2023-03-18T18:56:35.477Z"
   },
   {
    "duration": 3,
    "start_time": "2023-03-18T18:56:35.496Z"
   },
   {
    "duration": 8,
    "start_time": "2023-03-18T18:56:35.500Z"
   },
   {
    "duration": 7,
    "start_time": "2023-03-18T18:56:35.511Z"
   },
   {
    "duration": 22,
    "start_time": "2023-03-18T18:56:35.520Z"
   },
   {
    "duration": 29,
    "start_time": "2023-03-18T18:56:35.573Z"
   },
   {
    "duration": 8,
    "start_time": "2023-03-18T18:56:35.603Z"
   },
   {
    "duration": 10,
    "start_time": "2023-03-18T18:56:35.613Z"
   },
   {
    "duration": 51,
    "start_time": "2023-03-18T18:56:35.625Z"
   },
   {
    "duration": 15,
    "start_time": "2023-03-18T18:56:35.678Z"
   },
   {
    "duration": 19,
    "start_time": "2023-03-18T18:56:35.695Z"
   },
   {
    "duration": 10,
    "start_time": "2023-03-18T18:56:35.716Z"
   },
   {
    "duration": 11,
    "start_time": "2023-03-18T18:56:35.728Z"
   },
   {
    "duration": 16,
    "start_time": "2023-03-18T18:56:35.742Z"
   },
   {
    "duration": 23,
    "start_time": "2023-03-18T18:56:35.760Z"
   },
   {
    "duration": 6,
    "start_time": "2023-03-18T18:56:35.785Z"
   },
   {
    "duration": 17,
    "start_time": "2023-03-18T18:56:35.792Z"
   },
   {
    "duration": 13,
    "start_time": "2023-03-18T18:56:35.811Z"
   },
   {
    "duration": 270,
    "start_time": "2023-03-18T18:56:35.826Z"
   },
   {
    "duration": 236,
    "start_time": "2023-03-18T18:56:36.098Z"
   },
   {
    "duration": 20,
    "start_time": "2023-03-18T18:56:36.335Z"
   },
   {
    "duration": 373,
    "start_time": "2023-03-18T18:56:36.359Z"
   },
   {
    "duration": 271,
    "start_time": "2023-03-18T18:56:36.734Z"
   },
   {
    "duration": 18,
    "start_time": "2023-03-18T18:56:37.007Z"
   },
   {
    "duration": 219,
    "start_time": "2023-03-18T18:56:37.027Z"
   },
   {
    "duration": 12,
    "start_time": "2023-03-18T18:56:37.248Z"
   },
   {
    "duration": 25,
    "start_time": "2023-03-18T18:56:37.262Z"
   },
   {
    "duration": 17,
    "start_time": "2023-03-18T18:56:37.289Z"
   },
   {
    "duration": 11,
    "start_time": "2023-03-18T18:56:37.308Z"
   },
   {
    "duration": 200,
    "start_time": "2023-03-18T18:56:37.321Z"
   },
   {
    "duration": 9,
    "start_time": "2023-03-18T18:56:37.523Z"
   },
   {
    "duration": 10,
    "start_time": "2023-03-18T18:56:37.534Z"
   },
   {
    "duration": 204,
    "start_time": "2023-03-18T18:56:37.546Z"
   },
   {
    "duration": 1034,
    "start_time": "2023-03-18T18:56:37.752Z"
   },
   {
    "duration": 10,
    "start_time": "2023-03-18T18:56:38.788Z"
   },
   {
    "duration": 8,
    "start_time": "2023-03-18T18:56:38.800Z"
   },
   {
    "duration": 311,
    "start_time": "2023-03-18T18:56:38.809Z"
   },
   {
    "duration": 292,
    "start_time": "2023-03-18T18:56:39.122Z"
   },
   {
    "duration": 5,
    "start_time": "2023-03-18T18:56:39.416Z"
   },
   {
    "duration": 20,
    "start_time": "2023-03-18T18:56:39.422Z"
   },
   {
    "duration": 333,
    "start_time": "2023-03-18T18:56:39.444Z"
   },
   {
    "duration": 14,
    "start_time": "2023-03-18T18:56:39.778Z"
   },
   {
    "duration": 557,
    "start_time": "2023-03-18T18:56:39.793Z"
   },
   {
    "duration": 6,
    "start_time": "2023-03-18T18:56:40.352Z"
   },
   {
    "duration": 16,
    "start_time": "2023-03-18T18:56:40.373Z"
   },
   {
    "duration": 39,
    "start_time": "2023-03-18T18:56:40.390Z"
   },
   {
    "duration": 453,
    "start_time": "2023-03-18T18:56:40.431Z"
   },
   {
    "duration": 3,
    "start_time": "2023-03-18T18:56:40.885Z"
   },
   {
    "duration": 12,
    "start_time": "2023-03-18T18:56:40.889Z"
   },
   {
    "duration": 5,
    "start_time": "2023-03-18T18:56:40.903Z"
   },
   {
    "duration": 7,
    "start_time": "2023-03-18T18:56:40.909Z"
   },
   {
    "duration": 9,
    "start_time": "2023-03-18T18:56:40.918Z"
   },
   {
    "duration": 6,
    "start_time": "2023-03-18T18:56:40.929Z"
   },
   {
    "duration": 6,
    "start_time": "2023-03-18T18:56:40.937Z"
   },
   {
    "duration": 203,
    "start_time": "2023-03-18T18:57:17.064Z"
   },
   {
    "duration": 69,
    "start_time": "2023-03-19T11:12:45.338Z"
   },
   {
    "duration": 1449,
    "start_time": "2023-03-19T11:12:51.379Z"
   },
   {
    "duration": 114,
    "start_time": "2023-03-19T11:12:52.830Z"
   },
   {
    "duration": 37,
    "start_time": "2023-03-19T11:12:52.945Z"
   },
   {
    "duration": 1001,
    "start_time": "2023-03-19T11:12:52.983Z"
   },
   {
    "duration": 29,
    "start_time": "2023-03-19T11:12:53.986Z"
   },
   {
    "duration": 9,
    "start_time": "2023-03-19T11:12:54.017Z"
   },
   {
    "duration": 17,
    "start_time": "2023-03-19T11:12:54.027Z"
   },
   {
    "duration": 3,
    "start_time": "2023-03-19T11:12:54.046Z"
   },
   {
    "duration": 5,
    "start_time": "2023-03-19T11:12:54.079Z"
   },
   {
    "duration": 26,
    "start_time": "2023-03-19T11:12:54.085Z"
   },
   {
    "duration": 25,
    "start_time": "2023-03-19T11:12:54.113Z"
   },
   {
    "duration": 40,
    "start_time": "2023-03-19T11:12:54.141Z"
   },
   {
    "duration": 9,
    "start_time": "2023-03-19T11:12:54.182Z"
   },
   {
    "duration": 19,
    "start_time": "2023-03-19T11:12:54.194Z"
   },
   {
    "duration": 30,
    "start_time": "2023-03-19T11:12:54.216Z"
   },
   {
    "duration": 13,
    "start_time": "2023-03-19T11:12:54.247Z"
   },
   {
    "duration": 21,
    "start_time": "2023-03-19T11:12:54.262Z"
   },
   {
    "duration": 25,
    "start_time": "2023-03-19T11:12:54.285Z"
   },
   {
    "duration": 8,
    "start_time": "2023-03-19T11:12:54.312Z"
   },
   {
    "duration": 5,
    "start_time": "2023-03-19T11:12:54.321Z"
   },
   {
    "duration": 14,
    "start_time": "2023-03-19T11:12:54.327Z"
   },
   {
    "duration": 9,
    "start_time": "2023-03-19T11:12:54.343Z"
   },
   {
    "duration": 26,
    "start_time": "2023-03-19T11:12:54.353Z"
   },
   {
    "duration": 13,
    "start_time": "2023-03-19T11:12:54.382Z"
   },
   {
    "duration": 229,
    "start_time": "2023-03-19T11:12:54.397Z"
   },
   {
    "duration": 201,
    "start_time": "2023-03-19T11:12:54.628Z"
   },
   {
    "duration": 23,
    "start_time": "2023-03-19T11:12:54.831Z"
   },
   {
    "duration": 382,
    "start_time": "2023-03-19T11:12:54.856Z"
   },
   {
    "duration": 288,
    "start_time": "2023-03-19T11:12:55.240Z"
   },
   {
    "duration": 20,
    "start_time": "2023-03-19T11:12:55.531Z"
   },
   {
    "duration": 197,
    "start_time": "2023-03-19T11:12:55.552Z"
   },
   {
    "duration": 202,
    "start_time": "2023-03-19T11:12:55.751Z"
   },
   {
    "duration": 10,
    "start_time": "2023-03-19T11:12:55.955Z"
   },
   {
    "duration": 26,
    "start_time": "2023-03-19T11:12:55.967Z"
   },
   {
    "duration": 29,
    "start_time": "2023-03-19T11:12:55.995Z"
   },
   {
    "duration": 11,
    "start_time": "2023-03-19T11:12:56.026Z"
   },
   {
    "duration": 231,
    "start_time": "2023-03-19T11:12:56.038Z"
   },
   {
    "duration": 7,
    "start_time": "2023-03-19T11:12:56.271Z"
   },
   {
    "duration": 38,
    "start_time": "2023-03-19T11:12:56.280Z"
   },
   {
    "duration": 221,
    "start_time": "2023-03-19T11:12:56.320Z"
   },
   {
    "duration": 865,
    "start_time": "2023-03-19T11:12:56.544Z"
   },
   {
    "duration": 9,
    "start_time": "2023-03-19T11:12:57.411Z"
   },
   {
    "duration": 8,
    "start_time": "2023-03-19T11:12:57.421Z"
   },
   {
    "duration": 278,
    "start_time": "2023-03-19T11:12:57.431Z"
   },
   {
    "duration": 256,
    "start_time": "2023-03-19T11:12:57.711Z"
   },
   {
    "duration": 10,
    "start_time": "2023-03-19T11:12:57.969Z"
   },
   {
    "duration": 18,
    "start_time": "2023-03-19T11:12:57.981Z"
   },
   {
    "duration": 309,
    "start_time": "2023-03-19T11:12:58.001Z"
   },
   {
    "duration": 15,
    "start_time": "2023-03-19T11:12:58.311Z"
   },
   {
    "duration": 497,
    "start_time": "2023-03-19T11:12:58.328Z"
   },
   {
    "duration": 5,
    "start_time": "2023-03-19T11:12:58.826Z"
   },
   {
    "duration": 21,
    "start_time": "2023-03-19T11:12:58.833Z"
   },
   {
    "duration": 46,
    "start_time": "2023-03-19T11:12:58.856Z"
   },
   {
    "duration": 415,
    "start_time": "2023-03-19T11:12:58.903Z"
   },
   {
    "duration": 3,
    "start_time": "2023-03-19T11:12:59.319Z"
   },
   {
    "duration": 9,
    "start_time": "2023-03-19T11:12:59.324Z"
   },
   {
    "duration": 4,
    "start_time": "2023-03-19T11:12:59.335Z"
   },
   {
    "duration": 4,
    "start_time": "2023-03-19T11:12:59.340Z"
   },
   {
    "duration": 33,
    "start_time": "2023-03-19T11:12:59.346Z"
   },
   {
    "duration": 4,
    "start_time": "2023-03-19T11:12:59.381Z"
   },
   {
    "duration": 23,
    "start_time": "2023-03-19T11:12:59.386Z"
   },
   {
    "duration": 16,
    "start_time": "2023-03-19T11:15:02.510Z"
   },
   {
    "duration": 17,
    "start_time": "2023-03-19T11:15:54.719Z"
   },
   {
    "duration": 144,
    "start_time": "2023-03-19T11:26:24.891Z"
   },
   {
    "duration": 288,
    "start_time": "2023-03-19T11:26:57.548Z"
   },
   {
    "duration": 264,
    "start_time": "2023-03-19T11:27:09.363Z"
   },
   {
    "duration": 215,
    "start_time": "2023-03-19T11:27:23.774Z"
   },
   {
    "duration": 246,
    "start_time": "2023-03-19T11:27:28.864Z"
   },
   {
    "duration": 255,
    "start_time": "2023-03-19T11:27:34.333Z"
   },
   {
    "duration": 307,
    "start_time": "2023-03-19T11:27:39.874Z"
   },
   {
    "duration": 237,
    "start_time": "2023-03-19T11:27:45.664Z"
   },
   {
    "duration": 376,
    "start_time": "2023-03-19T11:27:56.028Z"
   },
   {
    "duration": 263,
    "start_time": "2023-03-19T11:27:59.753Z"
   },
   {
    "duration": 216,
    "start_time": "2023-03-19T11:28:08.223Z"
   },
   {
    "duration": 370,
    "start_time": "2023-03-19T11:28:12.854Z"
   },
   {
    "duration": 279,
    "start_time": "2023-03-19T11:28:22.883Z"
   },
   {
    "duration": 123,
    "start_time": "2023-03-19T11:28:27.894Z"
   },
   {
    "duration": 196,
    "start_time": "2023-03-19T11:28:40.944Z"
   },
   {
    "duration": 246,
    "start_time": "2023-03-19T11:28:48.301Z"
   },
   {
    "duration": 100,
    "start_time": "2023-03-19T11:28:52.134Z"
   },
   {
    "duration": 90,
    "start_time": "2023-03-19T11:28:55.414Z"
   },
   {
    "duration": 271,
    "start_time": "2023-03-19T11:30:39.785Z"
   },
   {
    "duration": 19,
    "start_time": "2023-03-19T11:30:48.144Z"
   },
   {
    "duration": 16,
    "start_time": "2023-03-19T11:30:52.302Z"
   },
   {
    "duration": 85,
    "start_time": "2023-03-19T11:31:49.802Z"
   },
   {
    "duration": 230,
    "start_time": "2023-03-19T11:31:56.684Z"
   },
   {
    "duration": 207,
    "start_time": "2023-03-19T11:32:07.835Z"
   },
   {
    "duration": 170,
    "start_time": "2023-03-19T11:32:12.409Z"
   },
   {
    "duration": 156,
    "start_time": "2023-03-19T11:32:24.526Z"
   },
   {
    "duration": 254,
    "start_time": "2023-03-19T11:32:28.875Z"
   },
   {
    "duration": 314,
    "start_time": "2023-03-19T11:32:44.945Z"
   },
   {
    "duration": 282,
    "start_time": "2023-03-19T11:33:29.245Z"
   },
   {
    "duration": 259,
    "start_time": "2023-03-19T11:33:37.085Z"
   },
   {
    "duration": 290,
    "start_time": "2023-03-19T11:33:50.725Z"
   },
   {
    "duration": 20,
    "start_time": "2023-03-19T11:33:56.535Z"
   },
   {
    "duration": 348,
    "start_time": "2023-03-19T11:34:02.345Z"
   },
   {
    "duration": 239,
    "start_time": "2023-03-19T11:34:07.805Z"
   },
   {
    "duration": 22,
    "start_time": "2023-03-19T11:35:31.625Z"
   },
   {
    "duration": 156,
    "start_time": "2023-03-19T11:37:39.195Z"
   },
   {
    "duration": 225,
    "start_time": "2023-03-19T11:38:02.345Z"
   },
   {
    "duration": 356,
    "start_time": "2023-03-19T11:39:09.446Z"
   },
   {
    "duration": 280,
    "start_time": "2023-03-19T11:39:29.736Z"
   },
   {
    "duration": 212,
    "start_time": "2023-03-19T11:39:36.635Z"
   },
   {
    "duration": 12,
    "start_time": "2023-03-19T11:40:14.494Z"
   },
   {
    "duration": 330,
    "start_time": "2023-03-19T11:40:37.565Z"
   },
   {
    "duration": 626,
    "start_time": "2023-03-19T11:40:46.455Z"
   },
   {
    "duration": 415,
    "start_time": "2023-03-19T11:40:54.376Z"
   },
   {
    "duration": 306,
    "start_time": "2023-03-19T11:41:05.626Z"
   },
   {
    "duration": 548,
    "start_time": "2023-03-19T11:41:11.314Z"
   },
   {
    "duration": 268,
    "start_time": "2023-03-19T11:41:53.635Z"
   },
   {
    "duration": 239,
    "start_time": "2023-03-19T11:42:01.875Z"
   },
   {
    "duration": 307,
    "start_time": "2023-03-19T11:42:05.758Z"
   },
   {
    "duration": 374,
    "start_time": "2023-03-19T11:42:20.746Z"
   },
   {
    "duration": 357,
    "start_time": "2023-03-19T11:42:30.906Z"
   },
   {
    "duration": 238,
    "start_time": "2023-03-19T11:42:39.694Z"
   },
   {
    "duration": 9,
    "start_time": "2023-03-19T11:43:23.327Z"
   },
   {
    "duration": 17,
    "start_time": "2023-03-19T11:43:28.735Z"
   },
   {
    "duration": 238,
    "start_time": "2023-03-19T11:43:51.816Z"
   },
   {
    "duration": 241,
    "start_time": "2023-03-19T11:44:02.515Z"
   },
   {
    "duration": 392,
    "start_time": "2023-03-19T11:44:12.124Z"
   },
   {
    "duration": 335,
    "start_time": "2023-03-19T11:44:23.465Z"
   },
   {
    "duration": 292,
    "start_time": "2023-03-19T11:44:29.855Z"
   },
   {
    "duration": 386,
    "start_time": "2023-03-19T11:44:55.014Z"
   },
   {
    "duration": 348,
    "start_time": "2023-03-19T11:46:21.062Z"
   },
   {
    "duration": 163,
    "start_time": "2023-03-19T11:46:52.991Z"
   },
   {
    "duration": 148,
    "start_time": "2023-03-19T11:46:58.952Z"
   },
   {
    "duration": 16,
    "start_time": "2023-03-19T11:47:09.903Z"
   },
   {
    "duration": 20,
    "start_time": "2023-03-19T11:47:16.102Z"
   },
   {
    "duration": 15,
    "start_time": "2023-03-19T11:47:19.063Z"
   },
   {
    "duration": 8,
    "start_time": "2023-03-19T11:47:28.262Z"
   },
   {
    "duration": 169,
    "start_time": "2023-03-19T11:47:35.972Z"
   },
   {
    "duration": 14,
    "start_time": "2023-03-19T11:47:52.122Z"
   },
   {
    "duration": 21,
    "start_time": "2023-03-19T11:48:00.272Z"
   },
   {
    "duration": 9,
    "start_time": "2023-03-19T11:48:07.093Z"
   },
   {
    "duration": 90,
    "start_time": "2023-03-19T11:48:18.231Z"
   },
   {
    "duration": 15,
    "start_time": "2023-03-19T11:48:39.691Z"
   },
   {
    "duration": 13,
    "start_time": "2023-03-19T11:48:43.413Z"
   },
   {
    "duration": 82,
    "start_time": "2023-03-19T11:48:55.581Z"
   },
   {
    "duration": 13,
    "start_time": "2023-03-19T11:53:15.236Z"
   },
   {
    "duration": 279,
    "start_time": "2023-03-19T11:53:26.578Z"
   },
   {
    "duration": 208,
    "start_time": "2023-03-19T11:54:13.139Z"
   },
   {
    "duration": 248,
    "start_time": "2023-03-19T11:55:15.128Z"
   },
   {
    "duration": 191,
    "start_time": "2023-03-19T11:55:22.708Z"
   },
   {
    "duration": 189,
    "start_time": "2023-03-19T11:56:16.947Z"
   },
   {
    "duration": 262,
    "start_time": "2023-03-19T11:56:33.968Z"
   },
   {
    "duration": 341,
    "start_time": "2023-03-19T11:56:42.736Z"
   },
   {
    "duration": 439,
    "start_time": "2023-03-19T11:56:58.177Z"
   },
   {
    "duration": 208,
    "start_time": "2023-03-19T11:58:06.957Z"
   },
   {
    "duration": 197,
    "start_time": "2023-03-19T11:58:24.225Z"
   },
   {
    "duration": 244,
    "start_time": "2023-03-19T11:58:46.536Z"
   },
   {
    "duration": 268,
    "start_time": "2023-03-19T11:59:13.240Z"
   },
   {
    "duration": 269,
    "start_time": "2023-03-19T11:59:27.526Z"
   },
   {
    "duration": 400,
    "start_time": "2023-03-19T11:59:41.817Z"
   },
   {
    "duration": 273,
    "start_time": "2023-03-19T12:03:47.526Z"
   },
   {
    "duration": 234,
    "start_time": "2023-03-19T12:03:57.416Z"
   },
   {
    "duration": 290,
    "start_time": "2023-03-19T12:04:18.116Z"
   },
   {
    "duration": 256,
    "start_time": "2023-03-19T12:04:25.606Z"
   },
   {
    "duration": 343,
    "start_time": "2023-03-19T12:04:39.007Z"
   },
   {
    "duration": 252,
    "start_time": "2023-03-19T12:17:13.134Z"
   },
   {
    "duration": 201,
    "start_time": "2023-03-19T12:17:20.398Z"
   },
   {
    "duration": 256,
    "start_time": "2023-03-19T12:17:56.597Z"
   },
   {
    "duration": 239,
    "start_time": "2023-03-19T12:18:07.864Z"
   },
   {
    "duration": 408,
    "start_time": "2023-03-19T12:18:11.555Z"
   },
   {
    "duration": 265,
    "start_time": "2023-03-19T12:18:30.901Z"
   },
   {
    "duration": 19,
    "start_time": "2023-03-19T12:18:44.066Z"
   },
   {
    "duration": 14,
    "start_time": "2023-03-19T12:18:49.497Z"
   },
   {
    "duration": 225,
    "start_time": "2023-03-19T12:18:50.013Z"
   },
   {
    "duration": 207,
    "start_time": "2023-03-19T12:18:57.097Z"
   },
   {
    "duration": 199,
    "start_time": "2023-03-19T12:19:05.315Z"
   },
   {
    "duration": 199,
    "start_time": "2023-03-19T12:19:09.216Z"
   },
   {
    "duration": 310,
    "start_time": "2023-03-19T12:19:13.856Z"
   },
   {
    "duration": 282,
    "start_time": "2023-03-19T12:19:18.967Z"
   },
   {
    "duration": 365,
    "start_time": "2023-03-19T12:19:22.747Z"
   },
   {
    "duration": 137,
    "start_time": "2023-03-19T12:19:29.926Z"
   },
   {
    "duration": 196,
    "start_time": "2023-03-19T12:19:34.316Z"
   },
   {
    "duration": 207,
    "start_time": "2023-03-19T12:19:42.097Z"
   },
   {
    "duration": 218,
    "start_time": "2023-03-19T12:19:47.807Z"
   },
   {
    "duration": 270,
    "start_time": "2023-03-19T12:19:51.695Z"
   },
   {
    "duration": 165,
    "start_time": "2023-03-19T12:19:54.826Z"
   },
   {
    "duration": 178,
    "start_time": "2023-03-19T12:19:57.537Z"
   },
   {
    "duration": 219,
    "start_time": "2023-03-19T12:20:23.517Z"
   },
   {
    "duration": 220,
    "start_time": "2023-03-19T12:20:42.317Z"
   },
   {
    "duration": 604,
    "start_time": "2023-03-19T12:21:26.001Z"
   },
   {
    "duration": 3,
    "start_time": "2023-03-19T12:22:24.958Z"
   },
   {
    "duration": 3,
    "start_time": "2023-03-19T12:22:32.247Z"
   },
   {
    "duration": 353,
    "start_time": "2023-03-19T12:22:45.006Z"
   },
   {
    "duration": 230,
    "start_time": "2023-03-19T12:22:48.638Z"
   },
   {
    "duration": 232,
    "start_time": "2023-03-19T12:22:52.329Z"
   },
   {
    "duration": 232,
    "start_time": "2023-03-19T12:22:55.502Z"
   },
   {
    "duration": 214,
    "start_time": "2023-03-19T12:22:59.794Z"
   },
   {
    "duration": 231,
    "start_time": "2023-03-19T12:23:03.259Z"
   },
   {
    "duration": 345,
    "start_time": "2023-03-19T12:23:08.720Z"
   },
   {
    "duration": 272,
    "start_time": "2023-03-19T12:23:15.259Z"
   },
   {
    "duration": 300,
    "start_time": "2023-03-19T12:23:18.702Z"
   },
   {
    "duration": 231,
    "start_time": "2023-03-19T12:23:25.754Z"
   },
   {
    "duration": 236,
    "start_time": "2023-03-19T12:23:32.010Z"
   },
   {
    "duration": 598,
    "start_time": "2023-03-19T12:23:38.467Z"
   },
   {
    "duration": 12,
    "start_time": "2023-03-19T12:23:41.559Z"
   },
   {
    "duration": 232,
    "start_time": "2023-03-19T12:23:41.925Z"
   },
   {
    "duration": 249,
    "start_time": "2023-03-19T12:23:55.003Z"
   },
   {
    "duration": 14,
    "start_time": "2023-03-19T12:24:36.449Z"
   },
   {
    "duration": 221,
    "start_time": "2023-03-19T12:24:58.940Z"
   },
   {
    "duration": 3,
    "start_time": "2023-03-19T12:25:12.840Z"
   },
   {
    "duration": 6,
    "start_time": "2023-03-19T12:30:00.652Z"
   },
   {
    "duration": 7,
    "start_time": "2023-03-19T12:31:07.672Z"
   },
   {
    "duration": 2,
    "start_time": "2023-03-19T12:31:08.207Z"
   },
   {
    "duration": 6,
    "start_time": "2023-03-19T12:31:08.462Z"
   },
   {
    "duration": 4,
    "start_time": "2023-03-19T12:31:08.707Z"
   },
   {
    "duration": 4,
    "start_time": "2023-03-19T12:31:08.942Z"
   },
   {
    "duration": 6,
    "start_time": "2023-03-19T12:31:09.672Z"
   },
   {
    "duration": 4,
    "start_time": "2023-03-19T12:31:09.873Z"
   },
   {
    "duration": 5,
    "start_time": "2023-03-19T12:31:10.123Z"
   },
   {
    "duration": 7,
    "start_time": "2023-03-19T12:40:15.725Z"
   },
   {
    "duration": 3,
    "start_time": "2023-03-19T12:40:16.572Z"
   },
   {
    "duration": 12,
    "start_time": "2023-03-19T12:40:17.774Z"
   },
   {
    "duration": 2,
    "start_time": "2023-03-19T12:40:18.155Z"
   },
   {
    "duration": 5,
    "start_time": "2023-03-19T12:40:18.691Z"
   },
   {
    "duration": 6,
    "start_time": "2023-03-19T12:40:19.644Z"
   },
   {
    "duration": 3,
    "start_time": "2023-03-19T12:40:19.834Z"
   },
   {
    "duration": 4,
    "start_time": "2023-03-19T12:40:20.074Z"
   },
   {
    "duration": 379,
    "start_time": "2023-03-19T14:14:38.508Z"
   },
   {
    "duration": 418,
    "start_time": "2023-03-19T14:14:57.438Z"
   },
   {
    "duration": 538,
    "start_time": "2023-03-19T14:15:04.986Z"
   },
   {
    "duration": 136,
    "start_time": "2023-03-19T14:15:29.847Z"
   },
   {
    "duration": 430,
    "start_time": "2023-03-19T14:25:39.016Z"
   },
   {
    "duration": 413,
    "start_time": "2023-03-19T14:25:57.836Z"
   },
   {
    "duration": 423,
    "start_time": "2023-03-19T14:26:03.282Z"
   },
   {
    "duration": 278,
    "start_time": "2023-03-19T14:27:02.891Z"
   }
  ],
  "kernelspec": {
   "display_name": "Python 3 (ipykernel)",
   "language": "python",
   "name": "python3"
  },
  "language_info": {
   "codemirror_mode": {
    "name": "ipython",
    "version": 3
   },
   "file_extension": ".py",
   "mimetype": "text/x-python",
   "name": "python",
   "nbconvert_exporter": "python",
   "pygments_lexer": "ipython3",
   "version": "3.9.13"
  },
  "toc": {
   "base_numbering": 1,
   "nav_menu": {},
   "number_sections": true,
   "sideBar": true,
   "skip_h1_title": true,
   "title_cell": "Table of Contents",
   "title_sidebar": "Contents",
   "toc_cell": false,
   "toc_position": {},
   "toc_section_display": true,
   "toc_window_display": false
  }
 },
 "nbformat": 4,
 "nbformat_minor": 2
}
