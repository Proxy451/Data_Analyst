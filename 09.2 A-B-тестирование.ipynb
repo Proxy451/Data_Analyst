{
 "cells": [
  {
   "cell_type": "markdown",
   "id": "c4f6db5a",
   "metadata": {},
   "source": [
    "# A/B-тестирование"
   ]
  },
  {
   "cell_type": "markdown",
   "id": "f97c114d",
   "metadata": {},
   "source": [
    "**Цель исследования**   \n",
    "Провести оценку результатов A/B-теста\n",
    "\n",
    "**Техническое задание**\n",
    "- Название теста: `recommender_system_test`;\n",
    "- группы: А — контрольная, B — новая платёжная воронка;\n",
    "- дата запуска: 2020-12-07;\n",
    "- дата остановки набора новых пользователей: 2020-12-21;\n",
    "- дата остановки: 2021-01-04;\n",
    "- аудитория: 15% новых пользователей из региона EU;\n",
    "- назначение теста: тестирование изменений, связанных с внедрением улучшенной рекомендательной системы;\n",
    "- ожидаемое количество участников теста: 6000.\n",
    "- ожидаемый эффект: за 14 дней с момента регистрации пользователи покажут улучшение каждой метрики не менее, чем на 10%:\n",
    "    - конверсии в просмотр карточек товаров — событие `product_page`,\n",
    "    - просмотры корзины — `product_cart`,\n",
    "    - покупки — `purchase`.\n",
    "    \n",
    "**Ход исследования**   \n",
    "Иследование пройдет в шесть этапов:\n",
    "* Обзор данных\n",
    "* Предобработка данных\n",
    "* Оценка корректности проведения теста\n",
    "* Анализ данных\n",
    "* Оценка результатов A/B-тестирования, проверка статистических гипотез\n",
    "* Выводы и рекомендации"
   ]
  },
  {
   "cell_type": "markdown",
   "id": "cc0bf880",
   "metadata": {},
   "source": [
    "## Описание данных"
   ]
  },
  {
   "cell_type": "markdown",
   "id": "4d15909f",
   "metadata": {},
   "source": [
    "**Входные данные**    \n",
    "В нашем распоряжении датасет с действиями пользователей, техническое задание и несколько вспомогательных датасетов.\n",
    "\n",
    "`ab_project_marketing_events.csv` — календарь маркетинговых событий на 2020 год.\n",
    "\n",
    "Структура файла:\n",
    "\n",
    "- `name` — название маркетингового события;\n",
    "- `regions` — регионы, в которых будет проводиться рекламная кампания;\n",
    "- `start_dt` — дата начала кампании;\n",
    "- `finish_dt` — дата завершения кампании.\n",
    "\n",
    "`final_ab_new_users.csv` — пользователи, зарегистрировавшиеся с 7 по 21 декабря 2020 года.\n",
    "\n",
    "Структура файла:\n",
    "\n",
    "- `user_id` — идентификатор пользователя;\n",
    "- `first_date` — дата регистрации;\n",
    "- `region` — регион пользователя;\n",
    "- `device` — устройство, с которого происходила регистрация.\n",
    "\n",
    "`final_ab_events.csv` — действия новых пользователей в период с 7 декабря 2020 по 4 января 2021 года.\n",
    "\n",
    "Структура файла:\n",
    "\n",
    "- `user_id` — идентификатор пользователя;\n",
    "- `event_dt` — дата и время покупки;\n",
    "- `event_name` — тип события;\n",
    "- `details` — дополнительные данные о событии. Например, для покупок, `purchase,` в этом поле хранится стоимость покупки в долларах.\n",
    "\n",
    "`final_ab_participants.csv` — таблица участников тестов.\n",
    "\n",
    "Структура файла:\n",
    "\n",
    "- `user_id` — идентификатор пользователя;\n",
    "- `ab_test` — название теста;\n",
    "- `group` — группа пользователя.\n"
   ]
  },
  {
   "cell_type": "markdown",
   "id": "cf18c1b2",
   "metadata": {},
   "source": [
    "## Обзор данных"
   ]
  },
  {
   "cell_type": "code",
   "execution_count": 118,
   "id": "1ce028cc",
   "metadata": {},
   "outputs": [],
   "source": [
    "# импорт библиотек\n",
    "\n",
    "import pandas as pd\n",
    "import numpy as np\n",
    "import matplotlib.pyplot as plt\n",
    "import seaborn as sns\n",
    "import math as mth\n",
    "import datetime as dt\n",
    "import scipy.stats as stats\n",
    "import warnings\n",
    "from scipy import stats as st\n",
    "from plotly import graph_objects as go\n",
    "from IPython.display import set_matplotlib_formats\n",
    "from pandas.plotting import register_matplotlib_converters\n",
    "register_matplotlib_converters()"
   ]
  },
  {
   "cell_type": "code",
   "execution_count": 119,
   "id": "03c730d3",
   "metadata": {},
   "outputs": [],
   "source": [
    "# ограничение на количество столбцов\n",
    "pd.set_option('display.max_columns', 50)\n",
    "\n",
    "# ограничение на ширину столбцов\n",
    "pd.set_option('display.max_colwidth', 120)\n",
    "\n",
    "# игнорируем предупреждения\n",
    "pd.set_option('chained_assignment', 'warn')\n",
    "warnings.simplefilter(action='ignore', category=FutureWarning)\n",
    "\n",
    "# выставляем ограничение на показ знаков после запятой\n",
    "pd.options.display.float_format = '{:,.2f}'.format\n",
    "\n",
    "# устанавливаем стиль графиков\n",
    "sns.set(rc={'figure.dpi':200, 'savefig.dpi':300})   \n",
    "sns.set_context('notebook')"
   ]
  },
  {
   "cell_type": "code",
   "execution_count": 120,
   "id": "7838cf1c",
   "metadata": {},
   "outputs": [],
   "source": [
    "# чтение файлов с данными и сохранение в df\n",
    "\n",
    "try:\n",
    "    events, marketing_events, new_users, participants = (\n",
    "        pd.read_csv('/datasets/final_ab_events.csv'),\n",
    "        pd.read_csv('/datasets/ab_project_marketing_events.csv'),\n",
    "        pd.read_csv('/datasets/final_ab_new_users.csv'), \n",
    "        pd.read_csv('/datasets/final_ab_participants.csv')\n",
    "    )\n",
    "\n",
    "\n",
    "except:\n",
    "    events, marketing_events, new_users, participants = (\n",
    "        pd.read_csv('final_ab_events.csv'),\n",
    "        pd.read_csv('ab_project_marketing_events.csv'),\n",
    "        pd.read_csv('final_ab_new_users.csv'), \n",
    "        pd.read_csv('final_ab_participants.csv')\n",
    "    )"
   ]
  },
  {
   "cell_type": "code",
   "execution_count": 121,
   "id": "3d2ffe95",
   "metadata": {},
   "outputs": [],
   "source": [
    "def info(data):\n",
    "\n",
    "    display(data.head())\n",
    "    display(data.info())\n",
    "    display(data.describe())\n",
    "    display('duplicates',data.duplicated().sum())\n",
    "    display('missing',data.isna().sum())"
   ]
  },
  {
   "cell_type": "markdown",
   "id": "6931db4e",
   "metadata": {},
   "source": [
    "### events"
   ]
  },
  {
   "cell_type": "code",
   "execution_count": 122,
   "id": "78dfc36f",
   "metadata": {},
   "outputs": [
    {
     "data": {
      "text/html": [
       "<div>\n",
       "<style scoped>\n",
       "    .dataframe tbody tr th:only-of-type {\n",
       "        vertical-align: middle;\n",
       "    }\n",
       "\n",
       "    .dataframe tbody tr th {\n",
       "        vertical-align: top;\n",
       "    }\n",
       "\n",
       "    .dataframe thead th {\n",
       "        text-align: right;\n",
       "    }\n",
       "</style>\n",
       "<table border=\"1\" class=\"dataframe\">\n",
       "  <thead>\n",
       "    <tr style=\"text-align: right;\">\n",
       "      <th></th>\n",
       "      <th>user_id</th>\n",
       "      <th>event_dt</th>\n",
       "      <th>event_name</th>\n",
       "      <th>details</th>\n",
       "    </tr>\n",
       "  </thead>\n",
       "  <tbody>\n",
       "    <tr>\n",
       "      <th>0</th>\n",
       "      <td>E1BDDCE0DAFA2679</td>\n",
       "      <td>2020-12-07 20:22:03</td>\n",
       "      <td>purchase</td>\n",
       "      <td>99.99</td>\n",
       "    </tr>\n",
       "    <tr>\n",
       "      <th>1</th>\n",
       "      <td>7B6452F081F49504</td>\n",
       "      <td>2020-12-07 09:22:53</td>\n",
       "      <td>purchase</td>\n",
       "      <td>9.99</td>\n",
       "    </tr>\n",
       "    <tr>\n",
       "      <th>2</th>\n",
       "      <td>9CD9F34546DF254C</td>\n",
       "      <td>2020-12-07 12:59:29</td>\n",
       "      <td>purchase</td>\n",
       "      <td>4.99</td>\n",
       "    </tr>\n",
       "    <tr>\n",
       "      <th>3</th>\n",
       "      <td>96F27A054B191457</td>\n",
       "      <td>2020-12-07 04:02:40</td>\n",
       "      <td>purchase</td>\n",
       "      <td>4.99</td>\n",
       "    </tr>\n",
       "    <tr>\n",
       "      <th>4</th>\n",
       "      <td>1FD7660FDF94CA1F</td>\n",
       "      <td>2020-12-07 10:15:09</td>\n",
       "      <td>purchase</td>\n",
       "      <td>4.99</td>\n",
       "    </tr>\n",
       "  </tbody>\n",
       "</table>\n",
       "</div>"
      ],
      "text/plain": [
       "            user_id             event_dt event_name  details\n",
       "0  E1BDDCE0DAFA2679  2020-12-07 20:22:03   purchase    99.99\n",
       "1  7B6452F081F49504  2020-12-07 09:22:53   purchase     9.99\n",
       "2  9CD9F34546DF254C  2020-12-07 12:59:29   purchase     4.99\n",
       "3  96F27A054B191457  2020-12-07 04:02:40   purchase     4.99\n",
       "4  1FD7660FDF94CA1F  2020-12-07 10:15:09   purchase     4.99"
      ]
     },
     "metadata": {},
     "output_type": "display_data"
    },
    {
     "name": "stdout",
     "output_type": "stream",
     "text": [
      "<class 'pandas.core.frame.DataFrame'>\n",
      "RangeIndex: 440317 entries, 0 to 440316\n",
      "Data columns (total 4 columns):\n",
      " #   Column      Non-Null Count   Dtype  \n",
      "---  ------      --------------   -----  \n",
      " 0   user_id     440317 non-null  object \n",
      " 1   event_dt    440317 non-null  object \n",
      " 2   event_name  440317 non-null  object \n",
      " 3   details     62740 non-null   float64\n",
      "dtypes: float64(1), object(3)\n",
      "memory usage: 13.4+ MB\n"
     ]
    },
    {
     "data": {
      "text/plain": [
       "None"
      ]
     },
     "metadata": {},
     "output_type": "display_data"
    },
    {
     "data": {
      "text/html": [
       "<div>\n",
       "<style scoped>\n",
       "    .dataframe tbody tr th:only-of-type {\n",
       "        vertical-align: middle;\n",
       "    }\n",
       "\n",
       "    .dataframe tbody tr th {\n",
       "        vertical-align: top;\n",
       "    }\n",
       "\n",
       "    .dataframe thead th {\n",
       "        text-align: right;\n",
       "    }\n",
       "</style>\n",
       "<table border=\"1\" class=\"dataframe\">\n",
       "  <thead>\n",
       "    <tr style=\"text-align: right;\">\n",
       "      <th></th>\n",
       "      <th>details</th>\n",
       "    </tr>\n",
       "  </thead>\n",
       "  <tbody>\n",
       "    <tr>\n",
       "      <th>count</th>\n",
       "      <td>62,740.00</td>\n",
       "    </tr>\n",
       "    <tr>\n",
       "      <th>mean</th>\n",
       "      <td>23.88</td>\n",
       "    </tr>\n",
       "    <tr>\n",
       "      <th>std</th>\n",
       "      <td>72.18</td>\n",
       "    </tr>\n",
       "    <tr>\n",
       "      <th>min</th>\n",
       "      <td>4.99</td>\n",
       "    </tr>\n",
       "    <tr>\n",
       "      <th>25%</th>\n",
       "      <td>4.99</td>\n",
       "    </tr>\n",
       "    <tr>\n",
       "      <th>50%</th>\n",
       "      <td>4.99</td>\n",
       "    </tr>\n",
       "    <tr>\n",
       "      <th>75%</th>\n",
       "      <td>9.99</td>\n",
       "    </tr>\n",
       "    <tr>\n",
       "      <th>max</th>\n",
       "      <td>499.99</td>\n",
       "    </tr>\n",
       "  </tbody>\n",
       "</table>\n",
       "</div>"
      ],
      "text/plain": [
       "        details\n",
       "count 62,740.00\n",
       "mean      23.88\n",
       "std       72.18\n",
       "min        4.99\n",
       "25%        4.99\n",
       "50%        4.99\n",
       "75%        9.99\n",
       "max      499.99"
      ]
     },
     "metadata": {},
     "output_type": "display_data"
    },
    {
     "data": {
      "text/plain": [
       "'duplicates'"
      ]
     },
     "metadata": {},
     "output_type": "display_data"
    },
    {
     "data": {
      "text/plain": [
       "0"
      ]
     },
     "metadata": {},
     "output_type": "display_data"
    },
    {
     "data": {
      "text/plain": [
       "'missing'"
      ]
     },
     "metadata": {},
     "output_type": "display_data"
    },
    {
     "data": {
      "text/plain": [
       "user_id            0\n",
       "event_dt           0\n",
       "event_name         0\n",
       "details       377577\n",
       "dtype: int64"
      ]
     },
     "metadata": {},
     "output_type": "display_data"
    }
   ],
   "source": [
    "info(events)"
   ]
  },
  {
   "cell_type": "code",
   "execution_count": 123,
   "id": "560515eb",
   "metadata": {},
   "outputs": [
    {
     "data": {
      "text/plain": [
       "array(['purchase', 'product_cart', 'product_page', 'login'], dtype=object)"
      ]
     },
     "execution_count": 123,
     "metadata": {},
     "output_type": "execute_result"
    }
   ],
   "source": [
    "events['event_name'].unique()"
   ]
  },
  {
   "cell_type": "code",
   "execution_count": 124,
   "id": "c048c386",
   "metadata": {},
   "outputs": [
    {
     "data": {
      "text/plain": [
       "array([ 99.99,   9.99,   4.99, 499.99,    nan])"
      ]
     },
     "execution_count": 124,
     "metadata": {},
     "output_type": "execute_result"
    }
   ],
   "source": [
    "events['details'].unique()"
   ]
  },
  {
   "cell_type": "markdown",
   "id": "34f2293d",
   "metadata": {},
   "source": [
    "Файл содержит данные о 440317 событиях (авторизация, просмотр страниц товара, просмотр корзины, покупка). Есть пропуски в столбце `details`(377577), но это нормально, т.к. он заполняется суммой оплаты только при совершении покупки. Суммы покупок - фиксированные (4,99 - 9,99 - 99,99 - 499,99).   \n",
    "В этой таблице так же следует заменить тип данных столбца с данными о времени."
   ]
  },
  {
   "cell_type": "markdown",
   "id": "c7d93822",
   "metadata": {},
   "source": [
    "### marketing_events"
   ]
  },
  {
   "cell_type": "code",
   "execution_count": 125,
   "id": "b82559fb",
   "metadata": {
    "scrolled": false
   },
   "outputs": [
    {
     "data": {
      "text/html": [
       "<div>\n",
       "<style scoped>\n",
       "    .dataframe tbody tr th:only-of-type {\n",
       "        vertical-align: middle;\n",
       "    }\n",
       "\n",
       "    .dataframe tbody tr th {\n",
       "        vertical-align: top;\n",
       "    }\n",
       "\n",
       "    .dataframe thead th {\n",
       "        text-align: right;\n",
       "    }\n",
       "</style>\n",
       "<table border=\"1\" class=\"dataframe\">\n",
       "  <thead>\n",
       "    <tr style=\"text-align: right;\">\n",
       "      <th></th>\n",
       "      <th>name</th>\n",
       "      <th>regions</th>\n",
       "      <th>start_dt</th>\n",
       "      <th>finish_dt</th>\n",
       "    </tr>\n",
       "  </thead>\n",
       "  <tbody>\n",
       "    <tr>\n",
       "      <th>0</th>\n",
       "      <td>Christmas&amp;New Year Promo</td>\n",
       "      <td>EU, N.America</td>\n",
       "      <td>2020-12-25</td>\n",
       "      <td>2021-01-03</td>\n",
       "    </tr>\n",
       "    <tr>\n",
       "      <th>1</th>\n",
       "      <td>St. Valentine's Day Giveaway</td>\n",
       "      <td>EU, CIS, APAC, N.America</td>\n",
       "      <td>2020-02-14</td>\n",
       "      <td>2020-02-16</td>\n",
       "    </tr>\n",
       "    <tr>\n",
       "      <th>2</th>\n",
       "      <td>St. Patric's Day Promo</td>\n",
       "      <td>EU, N.America</td>\n",
       "      <td>2020-03-17</td>\n",
       "      <td>2020-03-19</td>\n",
       "    </tr>\n",
       "    <tr>\n",
       "      <th>3</th>\n",
       "      <td>Easter Promo</td>\n",
       "      <td>EU, CIS, APAC, N.America</td>\n",
       "      <td>2020-04-12</td>\n",
       "      <td>2020-04-19</td>\n",
       "    </tr>\n",
       "    <tr>\n",
       "      <th>4</th>\n",
       "      <td>4th of July Promo</td>\n",
       "      <td>N.America</td>\n",
       "      <td>2020-07-04</td>\n",
       "      <td>2020-07-11</td>\n",
       "    </tr>\n",
       "  </tbody>\n",
       "</table>\n",
       "</div>"
      ],
      "text/plain": [
       "                           name                   regions    start_dt  \\\n",
       "0      Christmas&New Year Promo             EU, N.America  2020-12-25   \n",
       "1  St. Valentine's Day Giveaway  EU, CIS, APAC, N.America  2020-02-14   \n",
       "2        St. Patric's Day Promo             EU, N.America  2020-03-17   \n",
       "3                  Easter Promo  EU, CIS, APAC, N.America  2020-04-12   \n",
       "4             4th of July Promo                 N.America  2020-07-04   \n",
       "\n",
       "    finish_dt  \n",
       "0  2021-01-03  \n",
       "1  2020-02-16  \n",
       "2  2020-03-19  \n",
       "3  2020-04-19  \n",
       "4  2020-07-11  "
      ]
     },
     "metadata": {},
     "output_type": "display_data"
    },
    {
     "name": "stdout",
     "output_type": "stream",
     "text": [
      "<class 'pandas.core.frame.DataFrame'>\n",
      "RangeIndex: 14 entries, 0 to 13\n",
      "Data columns (total 4 columns):\n",
      " #   Column     Non-Null Count  Dtype \n",
      "---  ------     --------------  ----- \n",
      " 0   name       14 non-null     object\n",
      " 1   regions    14 non-null     object\n",
      " 2   start_dt   14 non-null     object\n",
      " 3   finish_dt  14 non-null     object\n",
      "dtypes: object(4)\n",
      "memory usage: 576.0+ bytes\n"
     ]
    },
    {
     "data": {
      "text/plain": [
       "None"
      ]
     },
     "metadata": {},
     "output_type": "display_data"
    },
    {
     "data": {
      "text/html": [
       "<div>\n",
       "<style scoped>\n",
       "    .dataframe tbody tr th:only-of-type {\n",
       "        vertical-align: middle;\n",
       "    }\n",
       "\n",
       "    .dataframe tbody tr th {\n",
       "        vertical-align: top;\n",
       "    }\n",
       "\n",
       "    .dataframe thead th {\n",
       "        text-align: right;\n",
       "    }\n",
       "</style>\n",
       "<table border=\"1\" class=\"dataframe\">\n",
       "  <thead>\n",
       "    <tr style=\"text-align: right;\">\n",
       "      <th></th>\n",
       "      <th>name</th>\n",
       "      <th>regions</th>\n",
       "      <th>start_dt</th>\n",
       "      <th>finish_dt</th>\n",
       "    </tr>\n",
       "  </thead>\n",
       "  <tbody>\n",
       "    <tr>\n",
       "      <th>count</th>\n",
       "      <td>14</td>\n",
       "      <td>14</td>\n",
       "      <td>14</td>\n",
       "      <td>14</td>\n",
       "    </tr>\n",
       "    <tr>\n",
       "      <th>unique</th>\n",
       "      <td>14</td>\n",
       "      <td>6</td>\n",
       "      <td>14</td>\n",
       "      <td>14</td>\n",
       "    </tr>\n",
       "    <tr>\n",
       "      <th>top</th>\n",
       "      <td>International Women's Day Promo</td>\n",
       "      <td>APAC</td>\n",
       "      <td>2020-05-09</td>\n",
       "      <td>2020-02-07</td>\n",
       "    </tr>\n",
       "    <tr>\n",
       "      <th>freq</th>\n",
       "      <td>1</td>\n",
       "      <td>4</td>\n",
       "      <td>1</td>\n",
       "      <td>1</td>\n",
       "    </tr>\n",
       "  </tbody>\n",
       "</table>\n",
       "</div>"
      ],
      "text/plain": [
       "                                   name regions    start_dt   finish_dt\n",
       "count                                14      14          14          14\n",
       "unique                               14       6          14          14\n",
       "top     International Women's Day Promo    APAC  2020-05-09  2020-02-07\n",
       "freq                                  1       4           1           1"
      ]
     },
     "metadata": {},
     "output_type": "display_data"
    },
    {
     "data": {
      "text/plain": [
       "'duplicates'"
      ]
     },
     "metadata": {},
     "output_type": "display_data"
    },
    {
     "data": {
      "text/plain": [
       "0"
      ]
     },
     "metadata": {},
     "output_type": "display_data"
    },
    {
     "data": {
      "text/plain": [
       "'missing'"
      ]
     },
     "metadata": {},
     "output_type": "display_data"
    },
    {
     "data": {
      "text/plain": [
       "name         0\n",
       "regions      0\n",
       "start_dt     0\n",
       "finish_dt    0\n",
       "dtype: int64"
      ]
     },
     "metadata": {},
     "output_type": "display_data"
    }
   ],
   "source": [
    "info(marketing_events)"
   ]
  },
  {
   "cell_type": "markdown",
   "id": "b7eb2635",
   "metadata": {},
   "source": [
    "Согласно ТЗ:   \n",
    "дата запуска теста: 2020-12-07;   \n",
    "дата остановки набора новых пользователей: 2020-12-21;   \n",
    "дата остановки теста: 2021-01-04.   \n",
    "\n",
    "В период проведения теста проходила промоакция \"Christmas&New Year Promo\" (с 25 декабря по 3 января). Зто может повлиять на чистоту результатов тестирования.    \n",
    "Т.к. данная таблица - справочная, никаких предобработок данных в ней делать не будем."
   ]
  },
  {
   "cell_type": "markdown",
   "id": "27b1db25",
   "metadata": {},
   "source": [
    "### new_users"
   ]
  },
  {
   "cell_type": "code",
   "execution_count": 126,
   "id": "0610050b",
   "metadata": {},
   "outputs": [
    {
     "data": {
      "text/html": [
       "<div>\n",
       "<style scoped>\n",
       "    .dataframe tbody tr th:only-of-type {\n",
       "        vertical-align: middle;\n",
       "    }\n",
       "\n",
       "    .dataframe tbody tr th {\n",
       "        vertical-align: top;\n",
       "    }\n",
       "\n",
       "    .dataframe thead th {\n",
       "        text-align: right;\n",
       "    }\n",
       "</style>\n",
       "<table border=\"1\" class=\"dataframe\">\n",
       "  <thead>\n",
       "    <tr style=\"text-align: right;\">\n",
       "      <th></th>\n",
       "      <th>user_id</th>\n",
       "      <th>first_date</th>\n",
       "      <th>region</th>\n",
       "      <th>device</th>\n",
       "    </tr>\n",
       "  </thead>\n",
       "  <tbody>\n",
       "    <tr>\n",
       "      <th>0</th>\n",
       "      <td>D72A72121175D8BE</td>\n",
       "      <td>2020-12-07</td>\n",
       "      <td>EU</td>\n",
       "      <td>PC</td>\n",
       "    </tr>\n",
       "    <tr>\n",
       "      <th>1</th>\n",
       "      <td>F1C668619DFE6E65</td>\n",
       "      <td>2020-12-07</td>\n",
       "      <td>N.America</td>\n",
       "      <td>Android</td>\n",
       "    </tr>\n",
       "    <tr>\n",
       "      <th>2</th>\n",
       "      <td>2E1BF1D4C37EA01F</td>\n",
       "      <td>2020-12-07</td>\n",
       "      <td>EU</td>\n",
       "      <td>PC</td>\n",
       "    </tr>\n",
       "    <tr>\n",
       "      <th>3</th>\n",
       "      <td>50734A22C0C63768</td>\n",
       "      <td>2020-12-07</td>\n",
       "      <td>EU</td>\n",
       "      <td>iPhone</td>\n",
       "    </tr>\n",
       "    <tr>\n",
       "      <th>4</th>\n",
       "      <td>E1BDDCE0DAFA2679</td>\n",
       "      <td>2020-12-07</td>\n",
       "      <td>N.America</td>\n",
       "      <td>iPhone</td>\n",
       "    </tr>\n",
       "  </tbody>\n",
       "</table>\n",
       "</div>"
      ],
      "text/plain": [
       "            user_id  first_date     region   device\n",
       "0  D72A72121175D8BE  2020-12-07         EU       PC\n",
       "1  F1C668619DFE6E65  2020-12-07  N.America  Android\n",
       "2  2E1BF1D4C37EA01F  2020-12-07         EU       PC\n",
       "3  50734A22C0C63768  2020-12-07         EU   iPhone\n",
       "4  E1BDDCE0DAFA2679  2020-12-07  N.America   iPhone"
      ]
     },
     "metadata": {},
     "output_type": "display_data"
    },
    {
     "name": "stdout",
     "output_type": "stream",
     "text": [
      "<class 'pandas.core.frame.DataFrame'>\n",
      "RangeIndex: 61733 entries, 0 to 61732\n",
      "Data columns (total 4 columns):\n",
      " #   Column      Non-Null Count  Dtype \n",
      "---  ------      --------------  ----- \n",
      " 0   user_id     61733 non-null  object\n",
      " 1   first_date  61733 non-null  object\n",
      " 2   region      61733 non-null  object\n",
      " 3   device      61733 non-null  object\n",
      "dtypes: object(4)\n",
      "memory usage: 1.9+ MB\n"
     ]
    },
    {
     "data": {
      "text/plain": [
       "None"
      ]
     },
     "metadata": {},
     "output_type": "display_data"
    },
    {
     "data": {
      "text/html": [
       "<div>\n",
       "<style scoped>\n",
       "    .dataframe tbody tr th:only-of-type {\n",
       "        vertical-align: middle;\n",
       "    }\n",
       "\n",
       "    .dataframe tbody tr th {\n",
       "        vertical-align: top;\n",
       "    }\n",
       "\n",
       "    .dataframe thead th {\n",
       "        text-align: right;\n",
       "    }\n",
       "</style>\n",
       "<table border=\"1\" class=\"dataframe\">\n",
       "  <thead>\n",
       "    <tr style=\"text-align: right;\">\n",
       "      <th></th>\n",
       "      <th>user_id</th>\n",
       "      <th>first_date</th>\n",
       "      <th>region</th>\n",
       "      <th>device</th>\n",
       "    </tr>\n",
       "  </thead>\n",
       "  <tbody>\n",
       "    <tr>\n",
       "      <th>count</th>\n",
       "      <td>61733</td>\n",
       "      <td>61733</td>\n",
       "      <td>61733</td>\n",
       "      <td>61733</td>\n",
       "    </tr>\n",
       "    <tr>\n",
       "      <th>unique</th>\n",
       "      <td>61733</td>\n",
       "      <td>17</td>\n",
       "      <td>4</td>\n",
       "      <td>4</td>\n",
       "    </tr>\n",
       "    <tr>\n",
       "      <th>top</th>\n",
       "      <td>DD5621F01D0F86DF</td>\n",
       "      <td>2020-12-21</td>\n",
       "      <td>EU</td>\n",
       "      <td>Android</td>\n",
       "    </tr>\n",
       "    <tr>\n",
       "      <th>freq</th>\n",
       "      <td>1</td>\n",
       "      <td>6290</td>\n",
       "      <td>46270</td>\n",
       "      <td>27520</td>\n",
       "    </tr>\n",
       "  </tbody>\n",
       "</table>\n",
       "</div>"
      ],
      "text/plain": [
       "                 user_id  first_date region   device\n",
       "count              61733       61733  61733    61733\n",
       "unique             61733          17      4        4\n",
       "top     DD5621F01D0F86DF  2020-12-21     EU  Android\n",
       "freq                   1        6290  46270    27520"
      ]
     },
     "metadata": {},
     "output_type": "display_data"
    },
    {
     "data": {
      "text/plain": [
       "'duplicates'"
      ]
     },
     "metadata": {},
     "output_type": "display_data"
    },
    {
     "data": {
      "text/plain": [
       "0"
      ]
     },
     "metadata": {},
     "output_type": "display_data"
    },
    {
     "data": {
      "text/plain": [
       "'missing'"
      ]
     },
     "metadata": {},
     "output_type": "display_data"
    },
    {
     "data": {
      "text/plain": [
       "user_id       0\n",
       "first_date    0\n",
       "region        0\n",
       "device        0\n",
       "dtype: int64"
      ]
     },
     "metadata": {},
     "output_type": "display_data"
    }
   ],
   "source": [
    "info(new_users)"
   ]
  },
  {
   "cell_type": "code",
   "execution_count": 127,
   "id": "8f5bf167",
   "metadata": {},
   "outputs": [
    {
     "data": {
      "text/plain": [
       "array(['EU', 'N.America', 'APAC', 'CIS'], dtype=object)"
      ]
     },
     "execution_count": 127,
     "metadata": {},
     "output_type": "execute_result"
    }
   ],
   "source": [
    "new_users['region'].unique()"
   ]
  },
  {
   "cell_type": "code",
   "execution_count": 128,
   "id": "1829e6e8",
   "metadata": {},
   "outputs": [
    {
     "data": {
      "text/plain": [
       "array(['PC', 'Android', 'iPhone', 'Mac'], dtype=object)"
      ]
     },
     "execution_count": 128,
     "metadata": {},
     "output_type": "execute_result"
    }
   ],
   "source": [
    "new_users['device'].unique()"
   ]
  },
  {
   "cell_type": "markdown",
   "id": "52afab98",
   "metadata": {},
   "source": [
    "Данные о 61733 уникальных пользователей из 4 регионов, которые используют 4 вида устройств. Дубликатов и пропусков нет.   \n",
    "Отметим, что у столбца `first_date` необходимо заменить тип данных."
   ]
  },
  {
   "cell_type": "markdown",
   "id": "d9ade9a3",
   "metadata": {},
   "source": [
    "### participants"
   ]
  },
  {
   "cell_type": "code",
   "execution_count": 129,
   "id": "ecfd358c",
   "metadata": {},
   "outputs": [
    {
     "data": {
      "text/html": [
       "<div>\n",
       "<style scoped>\n",
       "    .dataframe tbody tr th:only-of-type {\n",
       "        vertical-align: middle;\n",
       "    }\n",
       "\n",
       "    .dataframe tbody tr th {\n",
       "        vertical-align: top;\n",
       "    }\n",
       "\n",
       "    .dataframe thead th {\n",
       "        text-align: right;\n",
       "    }\n",
       "</style>\n",
       "<table border=\"1\" class=\"dataframe\">\n",
       "  <thead>\n",
       "    <tr style=\"text-align: right;\">\n",
       "      <th></th>\n",
       "      <th>user_id</th>\n",
       "      <th>group</th>\n",
       "      <th>ab_test</th>\n",
       "    </tr>\n",
       "  </thead>\n",
       "  <tbody>\n",
       "    <tr>\n",
       "      <th>0</th>\n",
       "      <td>D1ABA3E2887B6A73</td>\n",
       "      <td>A</td>\n",
       "      <td>recommender_system_test</td>\n",
       "    </tr>\n",
       "    <tr>\n",
       "      <th>1</th>\n",
       "      <td>A7A3664BD6242119</td>\n",
       "      <td>A</td>\n",
       "      <td>recommender_system_test</td>\n",
       "    </tr>\n",
       "    <tr>\n",
       "      <th>2</th>\n",
       "      <td>DABC14FDDFADD29E</td>\n",
       "      <td>A</td>\n",
       "      <td>recommender_system_test</td>\n",
       "    </tr>\n",
       "    <tr>\n",
       "      <th>3</th>\n",
       "      <td>04988C5DF189632E</td>\n",
       "      <td>A</td>\n",
       "      <td>recommender_system_test</td>\n",
       "    </tr>\n",
       "    <tr>\n",
       "      <th>4</th>\n",
       "      <td>482F14783456D21B</td>\n",
       "      <td>B</td>\n",
       "      <td>recommender_system_test</td>\n",
       "    </tr>\n",
       "  </tbody>\n",
       "</table>\n",
       "</div>"
      ],
      "text/plain": [
       "            user_id group                  ab_test\n",
       "0  D1ABA3E2887B6A73     A  recommender_system_test\n",
       "1  A7A3664BD6242119     A  recommender_system_test\n",
       "2  DABC14FDDFADD29E     A  recommender_system_test\n",
       "3  04988C5DF189632E     A  recommender_system_test\n",
       "4  482F14783456D21B     B  recommender_system_test"
      ]
     },
     "metadata": {},
     "output_type": "display_data"
    },
    {
     "name": "stdout",
     "output_type": "stream",
     "text": [
      "<class 'pandas.core.frame.DataFrame'>\n",
      "RangeIndex: 18268 entries, 0 to 18267\n",
      "Data columns (total 3 columns):\n",
      " #   Column   Non-Null Count  Dtype \n",
      "---  ------   --------------  ----- \n",
      " 0   user_id  18268 non-null  object\n",
      " 1   group    18268 non-null  object\n",
      " 2   ab_test  18268 non-null  object\n",
      "dtypes: object(3)\n",
      "memory usage: 428.3+ KB\n"
     ]
    },
    {
     "data": {
      "text/plain": [
       "None"
      ]
     },
     "metadata": {},
     "output_type": "display_data"
    },
    {
     "data": {
      "text/html": [
       "<div>\n",
       "<style scoped>\n",
       "    .dataframe tbody tr th:only-of-type {\n",
       "        vertical-align: middle;\n",
       "    }\n",
       "\n",
       "    .dataframe tbody tr th {\n",
       "        vertical-align: top;\n",
       "    }\n",
       "\n",
       "    .dataframe thead th {\n",
       "        text-align: right;\n",
       "    }\n",
       "</style>\n",
       "<table border=\"1\" class=\"dataframe\">\n",
       "  <thead>\n",
       "    <tr style=\"text-align: right;\">\n",
       "      <th></th>\n",
       "      <th>user_id</th>\n",
       "      <th>group</th>\n",
       "      <th>ab_test</th>\n",
       "    </tr>\n",
       "  </thead>\n",
       "  <tbody>\n",
       "    <tr>\n",
       "      <th>count</th>\n",
       "      <td>18268</td>\n",
       "      <td>18268</td>\n",
       "      <td>18268</td>\n",
       "    </tr>\n",
       "    <tr>\n",
       "      <th>unique</th>\n",
       "      <td>16666</td>\n",
       "      <td>2</td>\n",
       "      <td>2</td>\n",
       "    </tr>\n",
       "    <tr>\n",
       "      <th>top</th>\n",
       "      <td>81AA83FBC31B6C0B</td>\n",
       "      <td>A</td>\n",
       "      <td>interface_eu_test</td>\n",
       "    </tr>\n",
       "    <tr>\n",
       "      <th>freq</th>\n",
       "      <td>2</td>\n",
       "      <td>9655</td>\n",
       "      <td>11567</td>\n",
       "    </tr>\n",
       "  </tbody>\n",
       "</table>\n",
       "</div>"
      ],
      "text/plain": [
       "                 user_id  group            ab_test\n",
       "count              18268  18268              18268\n",
       "unique             16666      2                  2\n",
       "top     81AA83FBC31B6C0B      A  interface_eu_test\n",
       "freq                   2   9655              11567"
      ]
     },
     "metadata": {},
     "output_type": "display_data"
    },
    {
     "data": {
      "text/plain": [
       "'duplicates'"
      ]
     },
     "metadata": {},
     "output_type": "display_data"
    },
    {
     "data": {
      "text/plain": [
       "0"
      ]
     },
     "metadata": {},
     "output_type": "display_data"
    },
    {
     "data": {
      "text/plain": [
       "'missing'"
      ]
     },
     "metadata": {},
     "output_type": "display_data"
    },
    {
     "data": {
      "text/plain": [
       "user_id    0\n",
       "group      0\n",
       "ab_test    0\n",
       "dtype: int64"
      ]
     },
     "metadata": {},
     "output_type": "display_data"
    }
   ],
   "source": [
    "info(participants)"
   ]
  },
  {
   "cell_type": "code",
   "execution_count": 130,
   "id": "e36712b3",
   "metadata": {},
   "outputs": [
    {
     "data": {
      "text/plain": [
       "array(['recommender_system_test', 'interface_eu_test'], dtype=object)"
      ]
     },
     "execution_count": 130,
     "metadata": {},
     "output_type": "execute_result"
    }
   ],
   "source": [
    "participants['ab_test'].unique()"
   ]
  },
  {
   "cell_type": "markdown",
   "id": "ce1c473d",
   "metadata": {},
   "source": [
    "Всего 18268 событий, 2 вида теста, дубликатов и пропусков нет."
   ]
  },
  {
   "cell_type": "markdown",
   "id": "16959e4b",
   "metadata": {},
   "source": [
    "## Предобработка данных"
   ]
  },
  {
   "cell_type": "code",
   "execution_count": 131,
   "id": "b6d16cdf",
   "metadata": {},
   "outputs": [],
   "source": [
    "# меняем тип поля на datetime\n",
    "\n",
    "new_users['first_date'] = pd.to_datetime(new_users['first_date'], format = '%Y-%m-%d')"
   ]
  },
  {
   "cell_type": "code",
   "execution_count": 132,
   "id": "05298840",
   "metadata": {},
   "outputs": [],
   "source": [
    "# меняем тип поля на datetime\n",
    "\n",
    "events['event_dt'] = pd.to_datetime(events['event_dt'], format = '%Y-%m-%d %H:%M:%S')"
   ]
  },
  {
   "cell_type": "markdown",
   "id": "88733a96",
   "metadata": {},
   "source": [
    "## Оценка корректности проведения теста"
   ]
  },
  {
   "cell_type": "markdown",
   "id": "8949fda2",
   "metadata": {},
   "source": [
    "### Аудитория теста"
   ]
  },
  {
   "cell_type": "code",
   "execution_count": 134,
   "id": "37578ef1",
   "metadata": {},
   "outputs": [
    {
     "name": "stdout",
     "output_type": "stream",
     "text": [
      "Всего пользователей в логе 61733.\n",
      "В среднем событий на пользователя 7.\n"
     ]
    }
   ],
   "source": [
    "print('Всего пользователей в логе %d.' % (new_users['user_id'].nunique()))\n",
    "print('В среднем событий на пользователя %d.' % (events.shape[0] / new_users['user_id'].nunique()))"
   ]
  },
  {
   "cell_type": "code",
   "execution_count": 135,
   "id": "dabdbe55",
   "metadata": {},
   "outputs": [
    {
     "data": {
      "text/html": [
       "<div>\n",
       "<style scoped>\n",
       "    .dataframe tbody tr th:only-of-type {\n",
       "        vertical-align: middle;\n",
       "    }\n",
       "\n",
       "    .dataframe tbody tr th {\n",
       "        vertical-align: top;\n",
       "    }\n",
       "\n",
       "    .dataframe thead th {\n",
       "        text-align: right;\n",
       "    }\n",
       "</style>\n",
       "<table border=\"1\" class=\"dataframe\">\n",
       "  <thead>\n",
       "    <tr style=\"text-align: right;\">\n",
       "      <th></th>\n",
       "      <th></th>\n",
       "      <th>user_id</th>\n",
       "    </tr>\n",
       "    <tr>\n",
       "      <th>ab_test</th>\n",
       "      <th>group</th>\n",
       "      <th></th>\n",
       "    </tr>\n",
       "  </thead>\n",
       "  <tbody>\n",
       "    <tr>\n",
       "      <th rowspan=\"2\" valign=\"top\">interface_eu_test</th>\n",
       "      <th>A</th>\n",
       "      <td>5831</td>\n",
       "    </tr>\n",
       "    <tr>\n",
       "      <th>B</th>\n",
       "      <td>5736</td>\n",
       "    </tr>\n",
       "    <tr>\n",
       "      <th rowspan=\"2\" valign=\"top\">recommender_system_test</th>\n",
       "      <th>A</th>\n",
       "      <td>3824</td>\n",
       "    </tr>\n",
       "    <tr>\n",
       "      <th>B</th>\n",
       "      <td>2877</td>\n",
       "    </tr>\n",
       "  </tbody>\n",
       "</table>\n",
       "</div>"
      ],
      "text/plain": [
       "                               user_id\n",
       "ab_test                 group         \n",
       "interface_eu_test       A         5831\n",
       "                        B         5736\n",
       "recommender_system_test A         3824\n",
       "                        B         2877"
      ]
     },
     "execution_count": 135,
     "metadata": {},
     "output_type": "execute_result"
    }
   ],
   "source": [
    "participants.groupby(['ab_test', 'group']).agg({'user_id': 'nunique'})"
   ]
  },
  {
   "cell_type": "markdown",
   "id": "ef5292be",
   "metadata": {},
   "source": [
    "Логи содержат данные о двух тестированиях: помимо нашего тестирования (внедрение улучшеной рекомендательной системы) проводилось крупное исследование по результатам изменения интерфейса.\n",
    "\n",
    "Посмотрим, сколько пользователей участвовало в обоих тестированиях."
   ]
  },
  {
   "cell_type": "code",
   "execution_count": 136,
   "id": "7069de0a",
   "metadata": {},
   "outputs": [
    {
     "data": {
      "text/plain": [
       "1602"
      ]
     },
     "execution_count": 136,
     "metadata": {},
     "output_type": "execute_result"
    }
   ],
   "source": [
    "both_tests = (participants.groupby('user_id')\n",
    "    .agg({'ab_test': 'nunique'})\n",
    "    .reset_index()\n",
    "    .query('ab_test > 1'))\n",
    "both_tests.shape[0]"
   ]
  },
  {
   "cell_type": "markdown",
   "id": "d01a7202",
   "metadata": {},
   "source": [
    "Количество пользователей, участвующих в обоих тестрованиях - 1602 человека"
   ]
  },
  {
   "cell_type": "code",
   "execution_count": 137,
   "id": "3365ebfd",
   "metadata": {},
   "outputs": [
    {
     "data": {
      "text/html": [
       "<div>\n",
       "<style scoped>\n",
       "    .dataframe tbody tr th:only-of-type {\n",
       "        vertical-align: middle;\n",
       "    }\n",
       "\n",
       "    .dataframe tbody tr th {\n",
       "        vertical-align: top;\n",
       "    }\n",
       "\n",
       "    .dataframe thead th {\n",
       "        text-align: right;\n",
       "    }\n",
       "</style>\n",
       "<table border=\"1\" class=\"dataframe\">\n",
       "  <thead>\n",
       "    <tr style=\"text-align: right;\">\n",
       "      <th></th>\n",
       "      <th>user_id</th>\n",
       "      <th>group</th>\n",
       "      <th>ab_test</th>\n",
       "    </tr>\n",
       "  </thead>\n",
       "  <tbody>\n",
       "    <tr>\n",
       "      <th>2</th>\n",
       "      <td>DABC14FDDFADD29E</td>\n",
       "      <td>A</td>\n",
       "      <td>recommender_system_test</td>\n",
       "    </tr>\n",
       "    <tr>\n",
       "      <th>3</th>\n",
       "      <td>04988C5DF189632E</td>\n",
       "      <td>A</td>\n",
       "      <td>recommender_system_test</td>\n",
       "    </tr>\n",
       "    <tr>\n",
       "      <th>10</th>\n",
       "      <td>B3A2485649E4A012</td>\n",
       "      <td>A</td>\n",
       "      <td>recommender_system_test</td>\n",
       "    </tr>\n",
       "    <tr>\n",
       "      <th>25</th>\n",
       "      <td>EAFB9027A27D510C</td>\n",
       "      <td>B</td>\n",
       "      <td>recommender_system_test</td>\n",
       "    </tr>\n",
       "    <tr>\n",
       "      <th>29</th>\n",
       "      <td>5D5E6EE92AF6E9E0</td>\n",
       "      <td>B</td>\n",
       "      <td>recommender_system_test</td>\n",
       "    </tr>\n",
       "    <tr>\n",
       "      <th>31</th>\n",
       "      <td>D6E62099519F986C</td>\n",
       "      <td>A</td>\n",
       "      <td>recommender_system_test</td>\n",
       "    </tr>\n",
       "  </tbody>\n",
       "</table>\n",
       "</div>"
      ],
      "text/plain": [
       "             user_id group                  ab_test\n",
       "2   DABC14FDDFADD29E     A  recommender_system_test\n",
       "3   04988C5DF189632E     A  recommender_system_test\n",
       "10  B3A2485649E4A012     A  recommender_system_test\n",
       "25  EAFB9027A27D510C     B  recommender_system_test\n",
       "29  5D5E6EE92AF6E9E0     B  recommender_system_test\n",
       "31  D6E62099519F986C     A  recommender_system_test"
      ]
     },
     "execution_count": 137,
     "metadata": {},
     "output_type": "execute_result"
    }
   ],
   "source": [
    "# выделяем пользователей, попавших в оба теста, в отдельный датафрейм\n",
    "participants_new = participants[participants['user_id'].isin(both_tests['user_id'].values)]\n",
    "\n",
    "participants_new.head(6)"
   ]
  },
  {
   "cell_type": "markdown",
   "id": "f8dd1e8b",
   "metadata": {},
   "source": [
    "Теперь поближе познакомимся с пользователями, которые участвовали в группе В параллельного теста (ведь именно они видели изменения). Как эти пользователи распределены между группами нашего теста? Если они распределены равномерно, то мы можем предположить, что конкурирующий тест оказывал одинаковое влияние на группы А и В, и таких пользователей можно оставить."
   ]
  },
  {
   "cell_type": "code",
   "execution_count": 138,
   "id": "e084212e",
   "metadata": {},
   "outputs": [
    {
     "data": {
      "text/plain": [
       "783"
      ]
     },
     "execution_count": 138,
     "metadata": {},
     "output_type": "execute_result"
    }
   ],
   "source": [
    "participants_B =  participants_new.query('ab_test == \"interface_eu_test\" & group ==\"B\"')\n",
    "participants_B.shape[0]"
   ]
  },
  {
   "cell_type": "markdown",
   "id": "4105247f",
   "metadata": {},
   "source": [
    "Количество пользователей группы В параллельного теста - 783 человека"
   ]
  },
  {
   "cell_type": "code",
   "execution_count": 139,
   "id": "0b1a771a",
   "metadata": {},
   "outputs": [
    {
     "data": {
      "text/html": [
       "<div>\n",
       "<style scoped>\n",
       "    .dataframe tbody tr th:only-of-type {\n",
       "        vertical-align: middle;\n",
       "    }\n",
       "\n",
       "    .dataframe tbody tr th {\n",
       "        vertical-align: top;\n",
       "    }\n",
       "\n",
       "    .dataframe thead th {\n",
       "        text-align: right;\n",
       "    }\n",
       "</style>\n",
       "<table border=\"1\" class=\"dataframe\">\n",
       "  <thead>\n",
       "    <tr style=\"text-align: right;\">\n",
       "      <th></th>\n",
       "      <th></th>\n",
       "      <th>user_id</th>\n",
       "    </tr>\n",
       "    <tr>\n",
       "      <th>ab_test</th>\n",
       "      <th>group</th>\n",
       "      <th></th>\n",
       "    </tr>\n",
       "  </thead>\n",
       "  <tbody>\n",
       "    <tr>\n",
       "      <th rowspan=\"2\" valign=\"top\">recommender_system_test</th>\n",
       "      <th>A</th>\n",
       "      <td>439</td>\n",
       "    </tr>\n",
       "    <tr>\n",
       "      <th>B</th>\n",
       "      <td>344</td>\n",
       "    </tr>\n",
       "  </tbody>\n",
       "</table>\n",
       "</div>"
      ],
      "text/plain": [
       "                               user_id\n",
       "ab_test                 group         \n",
       "recommender_system_test A          439\n",
       "                        B          344"
      ]
     },
     "execution_count": 139,
     "metadata": {},
     "output_type": "execute_result"
    }
   ],
   "source": [
    "# выделяеи пользователей, участвующих в обоих тестах, в отдельный датафрейм\n",
    "participants_new_B = participants[participants['user_id'].isin(participants_B['user_id'].values)]\n",
    "\n",
    "# оставляем среди них пользователей только нашего теста:\n",
    "participants_new_B = participants_new_B.query('ab_test == \"recommender_system_test\"')\n",
    "\n",
    "participants_new_B.groupby(['ab_test', 'group']).agg({'user_id': 'nunique'})"
   ]
  },
  {
   "cell_type": "markdown",
   "id": "6543f09c",
   "metadata": {},
   "source": [
    "Мы видим, как участники группы В конкурирующего теста (из тех, кто участвовал в обоих тестах) распределились по тестовым группам нашего эксперимента.\n",
    "\n",
    "<p>Проведем z-test и проверим гипотезу о равенстве пропорций пользователей из группы В теста-конкурента в группе А и группе В нашего теста:</p>\n",
    "\n",
    "$\\begin{equation*}\n",
    " \\begin{cases}\n",
    "   H_0 :\\text{доли уникальных посетителей одинаковы}\\\\\n",
    "   H_1 :\\text{доли уникальных посетителей отличаются}\n",
    " \\end{cases}\n",
    "\\end{equation*}$"
   ]
  },
  {
   "cell_type": "code",
   "execution_count": 140,
   "id": "3c300291",
   "metadata": {},
   "outputs": [
    {
     "name": "stdout",
     "output_type": "stream",
     "text": [
      "p-значение:  0.5475925169519402\n",
      "Не получилось отвергнуть нулевую гипотезу, нет оснований считать доли разными\n"
     ]
    }
   ],
   "source": [
    "alpha = 0.05  # критический уровень статистической значимости\n",
    "\n",
    "purchases = np.array([439, 344])\n",
    "leads = np.array([3824, 2877])\n",
    "\n",
    "# пропорция успехов в первой группе:\n",
    "p1 = purchases[0]/leads[0]\n",
    "\n",
    "# пропорция успехов во второй группе:\n",
    "p2 = purchases[1]/leads[1]\n",
    "\n",
    "# пропорция успехов в комбинированном датасете:\n",
    "p_combined = (purchases[0] + purchases[1]) / (leads[0] + leads[1])\n",
    "\n",
    "# разница пропорций в датасетах\n",
    "difference = p1 - p2 \n",
    "\n",
    "z_value = difference / mth.sqrt(p_combined * (1 - p_combined) * (1/leads[0] + 1/leads[1]))\n",
    "\n",
    "# задаем стандартное нормальное распределение (среднее 0, ст.отклонение 1)\n",
    "distr = st.norm(0, 1)\n",
    "\n",
    "p_value = (1 - distr.cdf(abs(z_value))) * 2\n",
    "\n",
    "print('p-значение: ', p_value)\n",
    "\n",
    "if p_value < alpha:\n",
    "    print('Отвергаем нулевую гипотезу: между долями есть значимая разница')\n",
    "else:\n",
    "    print(\n",
    "        'Не получилось отвергнуть нулевую гипотезу, нет оснований считать доли разными'\n",
    "    )\n"
   ]
  },
  {
   "cell_type": "markdown",
   "id": "9b1962b5",
   "metadata": {},
   "source": [
    "Заключаем, что пользователи, участвующие в двух тестах, распределены по нашим группам равномерно.\n",
    "\n",
    "Тем не менее, для исключения влияния пользователей группы В конкурирующего теста, удаляем их из участников нашего экспеимента."
   ]
  },
  {
   "cell_type": "code",
   "execution_count": 141,
   "id": "8bfbc9b2",
   "metadata": {},
   "outputs": [
    {
     "data": {
      "text/html": [
       "<div>\n",
       "<style scoped>\n",
       "    .dataframe tbody tr th:only-of-type {\n",
       "        vertical-align: middle;\n",
       "    }\n",
       "\n",
       "    .dataframe tbody tr th {\n",
       "        vertical-align: top;\n",
       "    }\n",
       "\n",
       "    .dataframe thead th {\n",
       "        text-align: right;\n",
       "    }\n",
       "</style>\n",
       "<table border=\"1\" class=\"dataframe\">\n",
       "  <thead>\n",
       "    <tr style=\"text-align: right;\">\n",
       "      <th></th>\n",
       "      <th>user_id</th>\n",
       "      <th>group</th>\n",
       "      <th>ab_test</th>\n",
       "    </tr>\n",
       "  </thead>\n",
       "  <tbody>\n",
       "    <tr>\n",
       "      <th>0</th>\n",
       "      <td>D1ABA3E2887B6A73</td>\n",
       "      <td>A</td>\n",
       "      <td>recommender_system_test</td>\n",
       "    </tr>\n",
       "    <tr>\n",
       "      <th>1</th>\n",
       "      <td>A7A3664BD6242119</td>\n",
       "      <td>A</td>\n",
       "      <td>recommender_system_test</td>\n",
       "    </tr>\n",
       "    <tr>\n",
       "      <th>2</th>\n",
       "      <td>DABC14FDDFADD29E</td>\n",
       "      <td>A</td>\n",
       "      <td>recommender_system_test</td>\n",
       "    </tr>\n",
       "    <tr>\n",
       "      <th>3</th>\n",
       "      <td>04988C5DF189632E</td>\n",
       "      <td>A</td>\n",
       "      <td>recommender_system_test</td>\n",
       "    </tr>\n",
       "    <tr>\n",
       "      <th>4</th>\n",
       "      <td>482F14783456D21B</td>\n",
       "      <td>B</td>\n",
       "      <td>recommender_system_test</td>\n",
       "    </tr>\n",
       "    <tr>\n",
       "      <th>...</th>\n",
       "      <td>...</td>\n",
       "      <td>...</td>\n",
       "      <td>...</td>\n",
       "    </tr>\n",
       "    <tr>\n",
       "      <th>6696</th>\n",
       "      <td>053FB26D6D49EDDC</td>\n",
       "      <td>A</td>\n",
       "      <td>recommender_system_test</td>\n",
       "    </tr>\n",
       "    <tr>\n",
       "      <th>6697</th>\n",
       "      <td>9D263B8EF15CF188</td>\n",
       "      <td>B</td>\n",
       "      <td>recommender_system_test</td>\n",
       "    </tr>\n",
       "    <tr>\n",
       "      <th>6698</th>\n",
       "      <td>F2FBBA33F37DEC46</td>\n",
       "      <td>A</td>\n",
       "      <td>recommender_system_test</td>\n",
       "    </tr>\n",
       "    <tr>\n",
       "      <th>6699</th>\n",
       "      <td>29C92313A98B1176</td>\n",
       "      <td>B</td>\n",
       "      <td>recommender_system_test</td>\n",
       "    </tr>\n",
       "    <tr>\n",
       "      <th>6700</th>\n",
       "      <td>6715343AFBA285AE</td>\n",
       "      <td>B</td>\n",
       "      <td>recommender_system_test</td>\n",
       "    </tr>\n",
       "  </tbody>\n",
       "</table>\n",
       "<p>5918 rows × 3 columns</p>\n",
       "</div>"
      ],
      "text/plain": [
       "               user_id group                  ab_test\n",
       "0     D1ABA3E2887B6A73     A  recommender_system_test\n",
       "1     A7A3664BD6242119     A  recommender_system_test\n",
       "2     DABC14FDDFADD29E     A  recommender_system_test\n",
       "3     04988C5DF189632E     A  recommender_system_test\n",
       "4     482F14783456D21B     B  recommender_system_test\n",
       "...                ...   ...                      ...\n",
       "6696  053FB26D6D49EDDC     A  recommender_system_test\n",
       "6697  9D263B8EF15CF188     B  recommender_system_test\n",
       "6698  F2FBBA33F37DEC46     A  recommender_system_test\n",
       "6699  29C92313A98B1176     B  recommender_system_test\n",
       "6700  6715343AFBA285AE     B  recommender_system_test\n",
       "\n",
       "[5918 rows x 3 columns]"
      ]
     },
     "execution_count": 141,
     "metadata": {},
     "output_type": "execute_result"
    }
   ],
   "source": [
    "participants = participants[~participants['user_id'].isin(participants_B['user_id'].values)].query('ab_test == \"recommender_system_test\"')\n",
    "participants"
   ]
  },
  {
   "cell_type": "markdown",
   "id": "bf9d8345",
   "metadata": {},
   "source": [
    "оставляем пользователей только нашего теста"
   ]
  },
  {
   "cell_type": "code",
   "execution_count": 142,
   "id": "d16067c6",
   "metadata": {},
   "outputs": [
    {
     "data": {
      "text/html": [
       "<div>\n",
       "<style scoped>\n",
       "    .dataframe tbody tr th:only-of-type {\n",
       "        vertical-align: middle;\n",
       "    }\n",
       "\n",
       "    .dataframe tbody tr th {\n",
       "        vertical-align: top;\n",
       "    }\n",
       "\n",
       "    .dataframe thead th {\n",
       "        text-align: right;\n",
       "    }\n",
       "</style>\n",
       "<table border=\"1\" class=\"dataframe\">\n",
       "  <thead>\n",
       "    <tr style=\"text-align: right;\">\n",
       "      <th></th>\n",
       "      <th></th>\n",
       "      <th>user_id</th>\n",
       "    </tr>\n",
       "    <tr>\n",
       "      <th>ab_test</th>\n",
       "      <th>group</th>\n",
       "      <th></th>\n",
       "    </tr>\n",
       "  </thead>\n",
       "  <tbody>\n",
       "    <tr>\n",
       "      <th rowspan=\"2\" valign=\"top\">recommender_system_test</th>\n",
       "      <th>A</th>\n",
       "      <td>3385</td>\n",
       "    </tr>\n",
       "    <tr>\n",
       "      <th>B</th>\n",
       "      <td>2533</td>\n",
       "    </tr>\n",
       "  </tbody>\n",
       "</table>\n",
       "</div>"
      ],
      "text/plain": [
       "                               user_id\n",
       "ab_test                 group         \n",
       "recommender_system_test A         3385\n",
       "                        B         2533"
      ]
     },
     "execution_count": 142,
     "metadata": {},
     "output_type": "execute_result"
    }
   ],
   "source": [
    "participants.groupby(['ab_test', 'group']).agg({'user_id': 'nunique'})"
   ]
  },
  {
   "cell_type": "markdown",
   "id": "25c8759c",
   "metadata": {},
   "source": [
    "В тесте участвует 5918 уникальных пользователей,количество участников распределено по группам неравномерно; \n",
    "проверим, что участники не попадают одновременно в группу А и В."
   ]
  },
  {
   "cell_type": "code",
   "execution_count": 143,
   "id": "83ecf912",
   "metadata": {},
   "outputs": [
    {
     "data": {
      "text/html": [
       "<div>\n",
       "<style scoped>\n",
       "    .dataframe tbody tr th:only-of-type {\n",
       "        vertical-align: middle;\n",
       "    }\n",
       "\n",
       "    .dataframe tbody tr th {\n",
       "        vertical-align: top;\n",
       "    }\n",
       "\n",
       "    .dataframe thead th {\n",
       "        text-align: right;\n",
       "    }\n",
       "</style>\n",
       "<table border=\"1\" class=\"dataframe\">\n",
       "  <thead>\n",
       "    <tr style=\"text-align: right;\">\n",
       "      <th></th>\n",
       "      <th>user_id</th>\n",
       "      <th>group</th>\n",
       "    </tr>\n",
       "  </thead>\n",
       "  <tbody>\n",
       "  </tbody>\n",
       "</table>\n",
       "</div>"
      ],
      "text/plain": [
       "Empty DataFrame\n",
       "Columns: [user_id, group]\n",
       "Index: []"
      ]
     },
     "execution_count": 143,
     "metadata": {},
     "output_type": "execute_result"
    }
   ],
   "source": [
    "participants.groupby('user_id').agg({'group':'nunique'}).reset_index().query('group > 1')"
   ]
  },
  {
   "cell_type": "markdown",
   "id": "43bd8b66",
   "metadata": {},
   "source": [
    "Таких участников нет. \n",
    "\n",
    "Так же, мы уберем все, что не соответствует заявленным в ТЗ датам: новые участники, зарегистрированные позже 21 декабря 2020 года и их действия, а так же все события, которые старше 2-х недель с момента регистрации участников."
   ]
  },
  {
   "cell_type": "code",
   "execution_count": 180,
   "id": "405ef3a1",
   "metadata": {},
   "outputs": [
    {
     "data": {
      "text/html": [
       "<div>\n",
       "<style scoped>\n",
       "    .dataframe tbody tr th:only-of-type {\n",
       "        vertical-align: middle;\n",
       "    }\n",
       "\n",
       "    .dataframe tbody tr th {\n",
       "        vertical-align: top;\n",
       "    }\n",
       "\n",
       "    .dataframe thead th {\n",
       "        text-align: right;\n",
       "    }\n",
       "</style>\n",
       "<table border=\"1\" class=\"dataframe\">\n",
       "  <thead>\n",
       "    <tr style=\"text-align: right;\">\n",
       "      <th></th>\n",
       "      <th>user_id</th>\n",
       "      <th>first_date</th>\n",
       "      <th>region</th>\n",
       "      <th>device</th>\n",
       "    </tr>\n",
       "  </thead>\n",
       "  <tbody>\n",
       "    <tr>\n",
       "      <th>23821</th>\n",
       "      <td>5815F7ECE74D949F</td>\n",
       "      <td>2020-12-22</td>\n",
       "      <td>CIS</td>\n",
       "      <td>PC</td>\n",
       "    </tr>\n",
       "    <tr>\n",
       "      <th>23822</th>\n",
       "      <td>32EAEA5E903E3BC1</td>\n",
       "      <td>2020-12-22</td>\n",
       "      <td>N.America</td>\n",
       "      <td>Android</td>\n",
       "    </tr>\n",
       "    <tr>\n",
       "      <th>23823</th>\n",
       "      <td>9DF7A3C46487EF0B</td>\n",
       "      <td>2020-12-22</td>\n",
       "      <td>EU</td>\n",
       "      <td>Android</td>\n",
       "    </tr>\n",
       "    <tr>\n",
       "      <th>23824</th>\n",
       "      <td>ADE98C6440423287</td>\n",
       "      <td>2020-12-22</td>\n",
       "      <td>EU</td>\n",
       "      <td>iPhone</td>\n",
       "    </tr>\n",
       "    <tr>\n",
       "      <th>23825</th>\n",
       "      <td>5A5833D3AEA75255</td>\n",
       "      <td>2020-12-22</td>\n",
       "      <td>N.America</td>\n",
       "      <td>PC</td>\n",
       "    </tr>\n",
       "    <tr>\n",
       "      <th>...</th>\n",
       "      <td>...</td>\n",
       "      <td>...</td>\n",
       "      <td>...</td>\n",
       "      <td>...</td>\n",
       "    </tr>\n",
       "    <tr>\n",
       "      <th>33290</th>\n",
       "      <td>165AFCBF42C043F8</td>\n",
       "      <td>2020-12-23</td>\n",
       "      <td>EU</td>\n",
       "      <td>PC</td>\n",
       "    </tr>\n",
       "    <tr>\n",
       "      <th>33291</th>\n",
       "      <td>54E7F36C0E976E24</td>\n",
       "      <td>2020-12-23</td>\n",
       "      <td>EU</td>\n",
       "      <td>Android</td>\n",
       "    </tr>\n",
       "    <tr>\n",
       "      <th>33292</th>\n",
       "      <td>7E43EB2E03A33E78</td>\n",
       "      <td>2020-12-23</td>\n",
       "      <td>EU</td>\n",
       "      <td>PC</td>\n",
       "    </tr>\n",
       "    <tr>\n",
       "      <th>33293</th>\n",
       "      <td>B8B679DEE9F2CA06</td>\n",
       "      <td>2020-12-23</td>\n",
       "      <td>EU</td>\n",
       "      <td>PC</td>\n",
       "    </tr>\n",
       "    <tr>\n",
       "      <th>33294</th>\n",
       "      <td>BE595EE3E9D59FB9</td>\n",
       "      <td>2020-12-23</td>\n",
       "      <td>EU</td>\n",
       "      <td>PC</td>\n",
       "    </tr>\n",
       "  </tbody>\n",
       "</table>\n",
       "<p>5263 rows × 4 columns</p>\n",
       "</div>"
      ],
      "text/plain": [
       "                user_id first_date     region   device\n",
       "23821  5815F7ECE74D949F 2020-12-22        CIS       PC\n",
       "23822  32EAEA5E903E3BC1 2020-12-22  N.America  Android\n",
       "23823  9DF7A3C46487EF0B 2020-12-22         EU  Android\n",
       "23824  ADE98C6440423287 2020-12-22         EU   iPhone\n",
       "23825  5A5833D3AEA75255 2020-12-22  N.America       PC\n",
       "...                 ...        ...        ...      ...\n",
       "33290  165AFCBF42C043F8 2020-12-23         EU       PC\n",
       "33291  54E7F36C0E976E24 2020-12-23         EU  Android\n",
       "33292  7E43EB2E03A33E78 2020-12-23         EU       PC\n",
       "33293  B8B679DEE9F2CA06 2020-12-23         EU       PC\n",
       "33294  BE595EE3E9D59FB9 2020-12-23         EU       PC\n",
       "\n",
       "[5263 rows x 4 columns]"
      ]
     },
     "metadata": {},
     "output_type": "display_data"
    },
    {
     "name": "stdout",
     "output_type": "stream",
     "text": [
      "Набор пользователей с 2020-12-07 00:00:00 по 2020-12-23 00:00:00\n"
     ]
    }
   ],
   "source": [
    "display(new_users.query('first_date > \"2020-12-21 23:59:59\"'))\n",
    "\n",
    "new_users_filtered = new_users.query('first_date <= \"2020-12-21 23:59:59\"')\n",
    "print('Набор пользователей с %s по % s'% (new_users['first_date'].min(), new_users['first_date'].max()))"
   ]
  },
  {
   "cell_type": "code",
   "execution_count": 145,
   "id": "a242b0fd",
   "metadata": {},
   "outputs": [
    {
     "data": {
      "text/html": [
       "<div>\n",
       "<style scoped>\n",
       "    .dataframe tbody tr th:only-of-type {\n",
       "        vertical-align: middle;\n",
       "    }\n",
       "\n",
       "    .dataframe tbody tr th {\n",
       "        vertical-align: top;\n",
       "    }\n",
       "\n",
       "    .dataframe thead th {\n",
       "        text-align: right;\n",
       "    }\n",
       "</style>\n",
       "<table border=\"1\" class=\"dataframe\">\n",
       "  <thead>\n",
       "    <tr style=\"text-align: right;\">\n",
       "      <th></th>\n",
       "      <th>user_id</th>\n",
       "    </tr>\n",
       "    <tr>\n",
       "      <th>region</th>\n",
       "      <th></th>\n",
       "    </tr>\n",
       "  </thead>\n",
       "  <tbody>\n",
       "    <tr>\n",
       "      <th>APAC</th>\n",
       "      <td>3153</td>\n",
       "    </tr>\n",
       "    <tr>\n",
       "      <th>CIS</th>\n",
       "      <td>3155</td>\n",
       "    </tr>\n",
       "    <tr>\n",
       "      <th>EU</th>\n",
       "      <td>46270</td>\n",
       "    </tr>\n",
       "    <tr>\n",
       "      <th>N.America</th>\n",
       "      <td>9155</td>\n",
       "    </tr>\n",
       "  </tbody>\n",
       "</table>\n",
       "</div>"
      ],
      "text/plain": [
       "           user_id\n",
       "region            \n",
       "APAC          3153\n",
       "CIS           3155\n",
       "EU           46270\n",
       "N.America     9155"
      ]
     },
     "execution_count": 145,
     "metadata": {},
     "output_type": "execute_result"
    }
   ],
   "source": [
    "new_users.groupby('region').agg({'user_id': 'nunique'})"
   ]
  },
  {
   "cell_type": "code",
   "execution_count": 146,
   "id": "b86e4747",
   "metadata": {},
   "outputs": [],
   "source": [
    "# добавим информацию в таблицу events_new:\n",
    "events_new = events.merge(participants, on = 'user_id')\n",
    "events_new = events_new.merge(new_users_filtered, on = 'user_id')"
   ]
  },
  {
   "cell_type": "code",
   "execution_count": 147,
   "id": "f50b47c8",
   "metadata": {},
   "outputs": [
    {
     "data": {
      "text/html": [
       "<div>\n",
       "<style scoped>\n",
       "    .dataframe tbody tr th:only-of-type {\n",
       "        vertical-align: middle;\n",
       "    }\n",
       "\n",
       "    .dataframe tbody tr th {\n",
       "        vertical-align: top;\n",
       "    }\n",
       "\n",
       "    .dataframe thead th {\n",
       "        text-align: right;\n",
       "    }\n",
       "</style>\n",
       "<table border=\"1\" class=\"dataframe\">\n",
       "  <thead>\n",
       "    <tr style=\"text-align: right;\">\n",
       "      <th></th>\n",
       "      <th>user_id</th>\n",
       "      <th>event_dt</th>\n",
       "      <th>event_name</th>\n",
       "      <th>details</th>\n",
       "      <th>group</th>\n",
       "      <th>ab_test</th>\n",
       "      <th>first_date</th>\n",
       "      <th>region</th>\n",
       "      <th>device</th>\n",
       "    </tr>\n",
       "  </thead>\n",
       "  <tbody>\n",
       "    <tr>\n",
       "      <th>0</th>\n",
       "      <td>831887FE7F2D6CBA</td>\n",
       "      <td>2020-12-07 06:50:29</td>\n",
       "      <td>purchase</td>\n",
       "      <td>4.99</td>\n",
       "      <td>A</td>\n",
       "      <td>recommender_system_test</td>\n",
       "      <td>2020-12-07</td>\n",
       "      <td>EU</td>\n",
       "      <td>Android</td>\n",
       "    </tr>\n",
       "    <tr>\n",
       "      <th>1</th>\n",
       "      <td>831887FE7F2D6CBA</td>\n",
       "      <td>2020-12-09 02:19:17</td>\n",
       "      <td>purchase</td>\n",
       "      <td>99.99</td>\n",
       "      <td>A</td>\n",
       "      <td>recommender_system_test</td>\n",
       "      <td>2020-12-07</td>\n",
       "      <td>EU</td>\n",
       "      <td>Android</td>\n",
       "    </tr>\n",
       "    <tr>\n",
       "      <th>2</th>\n",
       "      <td>831887FE7F2D6CBA</td>\n",
       "      <td>2020-12-07 06:50:30</td>\n",
       "      <td>product_cart</td>\n",
       "      <td>NaN</td>\n",
       "      <td>A</td>\n",
       "      <td>recommender_system_test</td>\n",
       "      <td>2020-12-07</td>\n",
       "      <td>EU</td>\n",
       "      <td>Android</td>\n",
       "    </tr>\n",
       "    <tr>\n",
       "      <th>3</th>\n",
       "      <td>831887FE7F2D6CBA</td>\n",
       "      <td>2020-12-08 10:52:27</td>\n",
       "      <td>product_cart</td>\n",
       "      <td>NaN</td>\n",
       "      <td>A</td>\n",
       "      <td>recommender_system_test</td>\n",
       "      <td>2020-12-07</td>\n",
       "      <td>EU</td>\n",
       "      <td>Android</td>\n",
       "    </tr>\n",
       "    <tr>\n",
       "      <th>4</th>\n",
       "      <td>831887FE7F2D6CBA</td>\n",
       "      <td>2020-12-09 02:19:17</td>\n",
       "      <td>product_cart</td>\n",
       "      <td>NaN</td>\n",
       "      <td>A</td>\n",
       "      <td>recommender_system_test</td>\n",
       "      <td>2020-12-07</td>\n",
       "      <td>EU</td>\n",
       "      <td>Android</td>\n",
       "    </tr>\n",
       "    <tr>\n",
       "      <th>...</th>\n",
       "      <td>...</td>\n",
       "      <td>...</td>\n",
       "      <td>...</td>\n",
       "      <td>...</td>\n",
       "      <td>...</td>\n",
       "      <td>...</td>\n",
       "      <td>...</td>\n",
       "      <td>...</td>\n",
       "      <td>...</td>\n",
       "    </tr>\n",
       "    <tr>\n",
       "      <th>21837</th>\n",
       "      <td>1E6B9298415AA97A</td>\n",
       "      <td>2020-12-22 03:22:34</td>\n",
       "      <td>login</td>\n",
       "      <td>NaN</td>\n",
       "      <td>B</td>\n",
       "      <td>recommender_system_test</td>\n",
       "      <td>2020-12-21</td>\n",
       "      <td>N.America</td>\n",
       "      <td>Android</td>\n",
       "    </tr>\n",
       "    <tr>\n",
       "      <th>21838</th>\n",
       "      <td>1E6B9298415AA97A</td>\n",
       "      <td>2020-12-23 11:34:53</td>\n",
       "      <td>login</td>\n",
       "      <td>NaN</td>\n",
       "      <td>B</td>\n",
       "      <td>recommender_system_test</td>\n",
       "      <td>2020-12-21</td>\n",
       "      <td>N.America</td>\n",
       "      <td>Android</td>\n",
       "    </tr>\n",
       "    <tr>\n",
       "      <th>21839</th>\n",
       "      <td>1E6B9298415AA97A</td>\n",
       "      <td>2020-12-24 18:45:58</td>\n",
       "      <td>login</td>\n",
       "      <td>NaN</td>\n",
       "      <td>B</td>\n",
       "      <td>recommender_system_test</td>\n",
       "      <td>2020-12-21</td>\n",
       "      <td>N.America</td>\n",
       "      <td>Android</td>\n",
       "    </tr>\n",
       "    <tr>\n",
       "      <th>21840</th>\n",
       "      <td>1E6B9298415AA97A</td>\n",
       "      <td>2020-12-25 16:40:01</td>\n",
       "      <td>login</td>\n",
       "      <td>NaN</td>\n",
       "      <td>B</td>\n",
       "      <td>recommender_system_test</td>\n",
       "      <td>2020-12-21</td>\n",
       "      <td>N.America</td>\n",
       "      <td>Android</td>\n",
       "    </tr>\n",
       "    <tr>\n",
       "      <th>21841</th>\n",
       "      <td>23DDD27AC3FEFA63</td>\n",
       "      <td>2020-12-21 02:51:45</td>\n",
       "      <td>login</td>\n",
       "      <td>NaN</td>\n",
       "      <td>A</td>\n",
       "      <td>recommender_system_test</td>\n",
       "      <td>2020-12-21</td>\n",
       "      <td>EU</td>\n",
       "      <td>PC</td>\n",
       "    </tr>\n",
       "  </tbody>\n",
       "</table>\n",
       "<p>21842 rows × 9 columns</p>\n",
       "</div>"
      ],
      "text/plain": [
       "                user_id            event_dt    event_name  details group  \\\n",
       "0      831887FE7F2D6CBA 2020-12-07 06:50:29      purchase     4.99     A   \n",
       "1      831887FE7F2D6CBA 2020-12-09 02:19:17      purchase    99.99     A   \n",
       "2      831887FE7F2D6CBA 2020-12-07 06:50:30  product_cart      NaN     A   \n",
       "3      831887FE7F2D6CBA 2020-12-08 10:52:27  product_cart      NaN     A   \n",
       "4      831887FE7F2D6CBA 2020-12-09 02:19:17  product_cart      NaN     A   \n",
       "...                 ...                 ...           ...      ...   ...   \n",
       "21837  1E6B9298415AA97A 2020-12-22 03:22:34         login      NaN     B   \n",
       "21838  1E6B9298415AA97A 2020-12-23 11:34:53         login      NaN     B   \n",
       "21839  1E6B9298415AA97A 2020-12-24 18:45:58         login      NaN     B   \n",
       "21840  1E6B9298415AA97A 2020-12-25 16:40:01         login      NaN     B   \n",
       "21841  23DDD27AC3FEFA63 2020-12-21 02:51:45         login      NaN     A   \n",
       "\n",
       "                       ab_test first_date     region   device  \n",
       "0      recommender_system_test 2020-12-07         EU  Android  \n",
       "1      recommender_system_test 2020-12-07         EU  Android  \n",
       "2      recommender_system_test 2020-12-07         EU  Android  \n",
       "3      recommender_system_test 2020-12-07         EU  Android  \n",
       "4      recommender_system_test 2020-12-07         EU  Android  \n",
       "...                        ...        ...        ...      ...  \n",
       "21837  recommender_system_test 2020-12-21  N.America  Android  \n",
       "21838  recommender_system_test 2020-12-21  N.America  Android  \n",
       "21839  recommender_system_test 2020-12-21  N.America  Android  \n",
       "21840  recommender_system_test 2020-12-21  N.America  Android  \n",
       "21841  recommender_system_test 2020-12-21         EU       PC  \n",
       "\n",
       "[21842 rows x 9 columns]"
      ]
     },
     "execution_count": 147,
     "metadata": {},
     "output_type": "execute_result"
    }
   ],
   "source": [
    "events_new"
   ]
  },
  {
   "cell_type": "code",
   "execution_count": 148,
   "id": "6efd8189",
   "metadata": {},
   "outputs": [
    {
     "name": "stdout",
     "output_type": "stream",
     "text": [
      "<class 'pandas.core.frame.DataFrame'>\n",
      "Int64Index: 21842 entries, 0 to 21841\n",
      "Data columns (total 9 columns):\n",
      " #   Column      Non-Null Count  Dtype         \n",
      "---  ------      --------------  -----         \n",
      " 0   user_id     21842 non-null  object        \n",
      " 1   event_dt    21842 non-null  datetime64[ns]\n",
      " 2   event_name  21842 non-null  object        \n",
      " 3   details     2939 non-null   float64       \n",
      " 4   group       21842 non-null  object        \n",
      " 5   ab_test     21842 non-null  object        \n",
      " 6   first_date  21842 non-null  datetime64[ns]\n",
      " 7   region      21842 non-null  object        \n",
      " 8   device      21842 non-null  object        \n",
      "dtypes: datetime64[ns](2), float64(1), object(6)\n",
      "memory usage: 1.7+ MB\n"
     ]
    }
   ],
   "source": [
    "events_new.info()"
   ]
  },
  {
   "cell_type": "code",
   "execution_count": 149,
   "id": "6c8035b4",
   "metadata": {},
   "outputs": [
    {
     "data": {
      "text/html": [
       "<div>\n",
       "<style scoped>\n",
       "    .dataframe tbody tr th:only-of-type {\n",
       "        vertical-align: middle;\n",
       "    }\n",
       "\n",
       "    .dataframe tbody tr th {\n",
       "        vertical-align: top;\n",
       "    }\n",
       "\n",
       "    .dataframe thead th {\n",
       "        text-align: right;\n",
       "    }\n",
       "</style>\n",
       "<table border=\"1\" class=\"dataframe\">\n",
       "  <thead>\n",
       "    <tr style=\"text-align: right;\">\n",
       "      <th></th>\n",
       "      <th>user_id</th>\n",
       "      <th>event_dt</th>\n",
       "      <th>event_name</th>\n",
       "      <th>details</th>\n",
       "      <th>group</th>\n",
       "      <th>ab_test</th>\n",
       "      <th>first_date</th>\n",
       "      <th>region</th>\n",
       "      <th>device</th>\n",
       "      <th>diff</th>\n",
       "    </tr>\n",
       "  </thead>\n",
       "  <tbody>\n",
       "    <tr>\n",
       "      <th>0</th>\n",
       "      <td>831887FE7F2D6CBA</td>\n",
       "      <td>2020-12-07 06:50:29</td>\n",
       "      <td>purchase</td>\n",
       "      <td>4.99</td>\n",
       "      <td>A</td>\n",
       "      <td>recommender_system_test</td>\n",
       "      <td>2020-12-07</td>\n",
       "      <td>EU</td>\n",
       "      <td>Android</td>\n",
       "      <td>0 days 06:50:29</td>\n",
       "    </tr>\n",
       "    <tr>\n",
       "      <th>1</th>\n",
       "      <td>831887FE7F2D6CBA</td>\n",
       "      <td>2020-12-09 02:19:17</td>\n",
       "      <td>purchase</td>\n",
       "      <td>99.99</td>\n",
       "      <td>A</td>\n",
       "      <td>recommender_system_test</td>\n",
       "      <td>2020-12-07</td>\n",
       "      <td>EU</td>\n",
       "      <td>Android</td>\n",
       "      <td>2 days 02:19:17</td>\n",
       "    </tr>\n",
       "    <tr>\n",
       "      <th>2</th>\n",
       "      <td>831887FE7F2D6CBA</td>\n",
       "      <td>2020-12-07 06:50:30</td>\n",
       "      <td>product_cart</td>\n",
       "      <td>NaN</td>\n",
       "      <td>A</td>\n",
       "      <td>recommender_system_test</td>\n",
       "      <td>2020-12-07</td>\n",
       "      <td>EU</td>\n",
       "      <td>Android</td>\n",
       "      <td>0 days 06:50:30</td>\n",
       "    </tr>\n",
       "    <tr>\n",
       "      <th>3</th>\n",
       "      <td>831887FE7F2D6CBA</td>\n",
       "      <td>2020-12-08 10:52:27</td>\n",
       "      <td>product_cart</td>\n",
       "      <td>NaN</td>\n",
       "      <td>A</td>\n",
       "      <td>recommender_system_test</td>\n",
       "      <td>2020-12-07</td>\n",
       "      <td>EU</td>\n",
       "      <td>Android</td>\n",
       "      <td>1 days 10:52:27</td>\n",
       "    </tr>\n",
       "    <tr>\n",
       "      <th>4</th>\n",
       "      <td>831887FE7F2D6CBA</td>\n",
       "      <td>2020-12-09 02:19:17</td>\n",
       "      <td>product_cart</td>\n",
       "      <td>NaN</td>\n",
       "      <td>A</td>\n",
       "      <td>recommender_system_test</td>\n",
       "      <td>2020-12-07</td>\n",
       "      <td>EU</td>\n",
       "      <td>Android</td>\n",
       "      <td>2 days 02:19:17</td>\n",
       "    </tr>\n",
       "    <tr>\n",
       "      <th>...</th>\n",
       "      <td>...</td>\n",
       "      <td>...</td>\n",
       "      <td>...</td>\n",
       "      <td>...</td>\n",
       "      <td>...</td>\n",
       "      <td>...</td>\n",
       "      <td>...</td>\n",
       "      <td>...</td>\n",
       "      <td>...</td>\n",
       "      <td>...</td>\n",
       "    </tr>\n",
       "    <tr>\n",
       "      <th>21837</th>\n",
       "      <td>1E6B9298415AA97A</td>\n",
       "      <td>2020-12-22 03:22:34</td>\n",
       "      <td>login</td>\n",
       "      <td>NaN</td>\n",
       "      <td>B</td>\n",
       "      <td>recommender_system_test</td>\n",
       "      <td>2020-12-21</td>\n",
       "      <td>N.America</td>\n",
       "      <td>Android</td>\n",
       "      <td>1 days 03:22:34</td>\n",
       "    </tr>\n",
       "    <tr>\n",
       "      <th>21838</th>\n",
       "      <td>1E6B9298415AA97A</td>\n",
       "      <td>2020-12-23 11:34:53</td>\n",
       "      <td>login</td>\n",
       "      <td>NaN</td>\n",
       "      <td>B</td>\n",
       "      <td>recommender_system_test</td>\n",
       "      <td>2020-12-21</td>\n",
       "      <td>N.America</td>\n",
       "      <td>Android</td>\n",
       "      <td>2 days 11:34:53</td>\n",
       "    </tr>\n",
       "    <tr>\n",
       "      <th>21839</th>\n",
       "      <td>1E6B9298415AA97A</td>\n",
       "      <td>2020-12-24 18:45:58</td>\n",
       "      <td>login</td>\n",
       "      <td>NaN</td>\n",
       "      <td>B</td>\n",
       "      <td>recommender_system_test</td>\n",
       "      <td>2020-12-21</td>\n",
       "      <td>N.America</td>\n",
       "      <td>Android</td>\n",
       "      <td>3 days 18:45:58</td>\n",
       "    </tr>\n",
       "    <tr>\n",
       "      <th>21840</th>\n",
       "      <td>1E6B9298415AA97A</td>\n",
       "      <td>2020-12-25 16:40:01</td>\n",
       "      <td>login</td>\n",
       "      <td>NaN</td>\n",
       "      <td>B</td>\n",
       "      <td>recommender_system_test</td>\n",
       "      <td>2020-12-21</td>\n",
       "      <td>N.America</td>\n",
       "      <td>Android</td>\n",
       "      <td>4 days 16:40:01</td>\n",
       "    </tr>\n",
       "    <tr>\n",
       "      <th>21841</th>\n",
       "      <td>23DDD27AC3FEFA63</td>\n",
       "      <td>2020-12-21 02:51:45</td>\n",
       "      <td>login</td>\n",
       "      <td>NaN</td>\n",
       "      <td>A</td>\n",
       "      <td>recommender_system_test</td>\n",
       "      <td>2020-12-21</td>\n",
       "      <td>EU</td>\n",
       "      <td>PC</td>\n",
       "      <td>0 days 02:51:45</td>\n",
       "    </tr>\n",
       "  </tbody>\n",
       "</table>\n",
       "<p>21085 rows × 10 columns</p>\n",
       "</div>"
      ],
      "text/plain": [
       "                user_id            event_dt    event_name  details group  \\\n",
       "0      831887FE7F2D6CBA 2020-12-07 06:50:29      purchase     4.99     A   \n",
       "1      831887FE7F2D6CBA 2020-12-09 02:19:17      purchase    99.99     A   \n",
       "2      831887FE7F2D6CBA 2020-12-07 06:50:30  product_cart      NaN     A   \n",
       "3      831887FE7F2D6CBA 2020-12-08 10:52:27  product_cart      NaN     A   \n",
       "4      831887FE7F2D6CBA 2020-12-09 02:19:17  product_cart      NaN     A   \n",
       "...                 ...                 ...           ...      ...   ...   \n",
       "21837  1E6B9298415AA97A 2020-12-22 03:22:34         login      NaN     B   \n",
       "21838  1E6B9298415AA97A 2020-12-23 11:34:53         login      NaN     B   \n",
       "21839  1E6B9298415AA97A 2020-12-24 18:45:58         login      NaN     B   \n",
       "21840  1E6B9298415AA97A 2020-12-25 16:40:01         login      NaN     B   \n",
       "21841  23DDD27AC3FEFA63 2020-12-21 02:51:45         login      NaN     A   \n",
       "\n",
       "                       ab_test first_date     region   device            diff  \n",
       "0      recommender_system_test 2020-12-07         EU  Android 0 days 06:50:29  \n",
       "1      recommender_system_test 2020-12-07         EU  Android 2 days 02:19:17  \n",
       "2      recommender_system_test 2020-12-07         EU  Android 0 days 06:50:30  \n",
       "3      recommender_system_test 2020-12-07         EU  Android 1 days 10:52:27  \n",
       "4      recommender_system_test 2020-12-07         EU  Android 2 days 02:19:17  \n",
       "...                        ...        ...        ...      ...             ...  \n",
       "21837  recommender_system_test 2020-12-21  N.America  Android 1 days 03:22:34  \n",
       "21838  recommender_system_test 2020-12-21  N.America  Android 2 days 11:34:53  \n",
       "21839  recommender_system_test 2020-12-21  N.America  Android 3 days 18:45:58  \n",
       "21840  recommender_system_test 2020-12-21  N.America  Android 4 days 16:40:01  \n",
       "21841  recommender_system_test 2020-12-21         EU       PC 0 days 02:51:45  \n",
       "\n",
       "[21085 rows x 10 columns]"
      ]
     },
     "execution_count": 149,
     "metadata": {},
     "output_type": "execute_result"
    }
   ],
   "source": [
    "# подсчитаем разницу в днях между регистрацией и событием\n",
    "events_new['diff'] = events_new['event_dt'] - events_new['first_date']\n",
    "\n",
    "# уберем все, что находится за границей 14 дней с момента регистрации\n",
    "events_new = events_new[events_new['diff'] <= \"14 days 00:00:00\"]\n",
    "events_new"
   ]
  },
  {
   "cell_type": "markdown",
   "id": "cfd7adec",
   "metadata": {},
   "source": [
    "Итак, проверяем, что у нас получилось в итоге:"
   ]
  },
  {
   "cell_type": "code",
   "execution_count": 150,
   "id": "64d8f7a0",
   "metadata": {},
   "outputs": [
    {
     "data": {
      "text/plain": [
       "56470"
      ]
     },
     "execution_count": 150,
     "metadata": {},
     "output_type": "execute_result"
    }
   ],
   "source": [
    "new_users_filtered['user_id'].nunique()"
   ]
  },
  {
   "cell_type": "markdown",
   "id": "dc5dc2ff",
   "metadata": {},
   "source": [
    "Количество участников теста - 56470"
   ]
  },
  {
   "cell_type": "code",
   "execution_count": 151,
   "id": "6ec80cf9",
   "metadata": {},
   "outputs": [
    {
     "data": {
      "text/html": [
       "<div>\n",
       "<style scoped>\n",
       "    .dataframe tbody tr th:only-of-type {\n",
       "        vertical-align: middle;\n",
       "    }\n",
       "\n",
       "    .dataframe tbody tr th {\n",
       "        vertical-align: top;\n",
       "    }\n",
       "\n",
       "    .dataframe thead th {\n",
       "        text-align: right;\n",
       "    }\n",
       "</style>\n",
       "<table border=\"1\" class=\"dataframe\">\n",
       "  <thead>\n",
       "    <tr style=\"text-align: right;\">\n",
       "      <th></th>\n",
       "      <th></th>\n",
       "      <th>user_id</th>\n",
       "    </tr>\n",
       "    <tr>\n",
       "      <th>ab_test</th>\n",
       "      <th>group</th>\n",
       "      <th></th>\n",
       "    </tr>\n",
       "  </thead>\n",
       "  <tbody>\n",
       "    <tr>\n",
       "      <th rowspan=\"2\" valign=\"top\">recommender_system_test</th>\n",
       "      <th>A</th>\n",
       "      <td>3385</td>\n",
       "    </tr>\n",
       "    <tr>\n",
       "      <th>B</th>\n",
       "      <td>2533</td>\n",
       "    </tr>\n",
       "  </tbody>\n",
       "</table>\n",
       "</div>"
      ],
      "text/plain": [
       "                               user_id\n",
       "ab_test                 group         \n",
       "recommender_system_test A         3385\n",
       "                        B         2533"
      ]
     },
     "execution_count": 151,
     "metadata": {},
     "output_type": "execute_result"
    }
   ],
   "source": [
    "participants.groupby(['ab_test', 'group']).agg({'user_id': 'nunique'})"
   ]
  },
  {
   "cell_type": "code",
   "execution_count": 152,
   "id": "0729b75f",
   "metadata": {},
   "outputs": [
    {
     "data": {
      "text/plain": [
       "3244"
      ]
     },
     "execution_count": 152,
     "metadata": {},
     "output_type": "execute_result"
    }
   ],
   "source": [
    "events_new['user_id'].nunique()"
   ]
  },
  {
   "cell_type": "markdown",
   "id": "a35e31dc",
   "metadata": {},
   "source": [
    "Количество уникальных пользователей, совершавших действия в системе - 3244 человек"
   ]
  },
  {
   "cell_type": "code",
   "execution_count": 153,
   "id": "d9ac0c96",
   "metadata": {},
   "outputs": [
    {
     "data": {
      "text/html": [
       "<div>\n",
       "<style scoped>\n",
       "    .dataframe tbody tr th:only-of-type {\n",
       "        vertical-align: middle;\n",
       "    }\n",
       "\n",
       "    .dataframe tbody tr th {\n",
       "        vertical-align: top;\n",
       "    }\n",
       "\n",
       "    .dataframe thead th {\n",
       "        text-align: right;\n",
       "    }\n",
       "</style>\n",
       "<table border=\"1\" class=\"dataframe\">\n",
       "  <thead>\n",
       "    <tr style=\"text-align: right;\">\n",
       "      <th></th>\n",
       "      <th>group</th>\n",
       "      <th>users</th>\n",
       "    </tr>\n",
       "  </thead>\n",
       "  <tbody>\n",
       "    <tr>\n",
       "      <th>0</th>\n",
       "      <td>A</td>\n",
       "      <td>2422</td>\n",
       "    </tr>\n",
       "    <tr>\n",
       "      <th>1</th>\n",
       "      <td>B</td>\n",
       "      <td>822</td>\n",
       "    </tr>\n",
       "  </tbody>\n",
       "</table>\n",
       "</div>"
      ],
      "text/plain": [
       "  group  users\n",
       "0     A   2422\n",
       "1     B    822"
      ]
     },
     "execution_count": 153,
     "metadata": {},
     "output_type": "execute_result"
    }
   ],
   "source": [
    "#разделение по группам\n",
    "events_new.groupby('group').agg(users = ('user_id', 'nunique')).reset_index()"
   ]
  },
  {
   "cell_type": "markdown",
   "id": "723fea29",
   "metadata": {},
   "source": [
    "Как видим, у нас есть 2674 пользователя из 5918 уникальных участников , которые не совершали действий в системе после регистрации (это более 45%)."
   ]
  },
  {
   "cell_type": "code",
   "execution_count": 154,
   "id": "99df8316",
   "metadata": {},
   "outputs": [
    {
     "data": {
      "image/png": "[encoded data removed]",
      "text/plain": [
       "<Figure size 3000x1000 with 1 Axes>"
      ]
     },
     "metadata": {},
     "output_type": "display_data"
    }
   ],
   "source": [
    "plt.figure(figsize=(15, 5))\n",
    "plt.title('Распределение участников теста по регионам', loc='left')\n",
    "sns.countplot(x = new_users_filtered['region'], \n",
    "    order = new_users_filtered['region'].value_counts().index, \n",
    "    palette='OrRd_r')\n",
    "\n",
    "plt.xlabel('')\n",
    "plt.ylabel('')\n",
    "plt.show()"
   ]
  },
  {
   "cell_type": "markdown",
   "id": "12c77844",
   "metadata": {},
   "source": [
    "Есть небольшая доля пользователей, не принадлежащих региону EU. Ничего делать с ними не будем, т.к. возможна работа через VPN или пользователи могли находится в роуминге (например, уехали в отпуск).\n",
    "\n"
   ]
  },
  {
   "cell_type": "markdown",
   "id": "95f8be50",
   "metadata": {},
   "source": [
    "Но, на всякий случай проведем анализ аудитории теста. Согласно ТЗ доля участников нашего теста из EU относительно всех новых пользователей из EU должна быть равна 15%."
   ]
  },
  {
   "cell_type": "code",
   "execution_count": 155,
   "id": "f5b17eb2",
   "metadata": {},
   "outputs": [
    {
     "name": "stdout",
     "output_type": "stream",
     "text": [
      "Доля пользователей из EU - участников теста: 13.98%\n"
     ]
    }
   ],
   "source": [
    "eu_users = new_users_filtered[new_users_filtered['region'] == 'EU']['user_id'].nunique()\n",
    "test_users = participants['user_id'].nunique()\n",
    "print('Доля пользователей из EU - участников теста: {:.2%}'.format(test_users / eu_users))"
   ]
  },
  {
   "cell_type": "markdown",
   "id": "ef550b23",
   "metadata": {},
   "source": [
    "### Время проведения теста"
   ]
  },
  {
   "cell_type": "code",
   "execution_count": 178,
   "id": "24a0111c",
   "metadata": {},
   "outputs": [
    {
     "name": "stdout",
     "output_type": "stream",
     "text": [
      "Данные о событиях с 2020-12-07 00:00:33 по 2020-12-30 23:36:33\n",
      "Набор пользователей с 2020-12-07 00:00:00 по 2020-12-21 00:00:00\n"
     ]
    }
   ],
   "source": [
    "print('Данные о событиях с %s по %s' % (events['event_dt'].min(), events['event_dt'].max()))\n",
    "print('Набор пользователей с %s по % s'% (new_users_filtered['first_date'].min(), new_users_filtered['first_date'].max()))"
   ]
  },
  {
   "cell_type": "markdown",
   "id": "a8fe2110",
   "metadata": {},
   "source": [
    "Как мы уже писали ранее: после набора пользователей, но до остановки теста, в период с 25.12.2020 по 03.01.2021гг. в EU проводилась акция \"Christmas&New Year Promo\", которая могла повлиять на исследуемые метрики.\n",
    "\n",
    "* дата остановки набора новых пользователей после фильтрации соответствует ТЗ, то есть 2020-12-21;\n",
    "* последнее событие теста по логам случилась в 2020-12-30 23:36:33, а по техническому заданию тест должен был продолжаться по 2021-01-04;"
   ]
  },
  {
   "cell_type": "markdown",
   "id": "e04ae50c",
   "metadata": {},
   "source": [
    "### Промежуточные выводы\n",
    "\n",
    "Тест был проведён **с нарушениями**:\n",
    "\n",
    "* После набора пользователей, но до остановки теста, в период с 25.12.2020 по 03.01.2021 в EU проводилась акция \"Christmas&New Year Promo\".\n",
    "* В выгрузке нет данных о событиях с 31.12.2020 по 04.01.2021 (время остановки теста). Не хватает информации за 5 дней.\n",
    "* Параллельно с нашим тестом шёл другой. После дополнительной проверки мы пришли к выводу, что это не повлияло на результаты нашего тестирования. Т.о. пользователи, которые параллельно участвовали в двух тестрованиях не искллючались из исследования.   \n",
    "* Количество участников в группах А и В сильно различается (3385 и 2533, соответственно).\n",
    "* Почти 45% пользователей теста не совершили ни одного действия в системе. Активных пользователей в группе А оказалось почти в 3 раза больше, чем в группе В (2422 против 822).\n",
    "* На графиках зафиксирован сезонный всплеск активности, связанный с Рождественскими и новогодними праздниками\n",
    "* После удаления пользователей -  участников группы B теста-конкурента, количество новых пользователей из EU снизилось до 13,98% (вместо заявленных 15%); так же вместо 6000 ожидаемых участников имеем только 5918.\n",
    "\n",
    "Всё вышеперечисленное серьезно искажает результаты тестирования."
   ]
  },
  {
   "cell_type": "markdown",
   "id": "c1b00742",
   "metadata": {},
   "source": [
    "## Анализ данных"
   ]
  },
  {
   "cell_type": "markdown",
   "id": "960fe1a7",
   "metadata": {},
   "source": [
    "### Проверка распределения количества событий на пользователя"
   ]
  },
  {
   "cell_type": "code",
   "execution_count": 158,
   "id": "83114249",
   "metadata": {},
   "outputs": [
    {
     "data": {
      "text/html": [
       "<div>\n",
       "<style scoped>\n",
       "    .dataframe tbody tr th:only-of-type {\n",
       "        vertical-align: middle;\n",
       "    }\n",
       "\n",
       "    .dataframe tbody tr th {\n",
       "        vertical-align: top;\n",
       "    }\n",
       "\n",
       "    .dataframe thead th {\n",
       "        text-align: right;\n",
       "    }\n",
       "</style>\n",
       "<table border=\"1\" class=\"dataframe\">\n",
       "  <thead>\n",
       "    <tr style=\"text-align: right;\">\n",
       "      <th></th>\n",
       "      <th>group</th>\n",
       "      <th>users</th>\n",
       "    </tr>\n",
       "  </thead>\n",
       "  <tbody>\n",
       "    <tr>\n",
       "      <th>0</th>\n",
       "      <td>A</td>\n",
       "      <td>2422</td>\n",
       "    </tr>\n",
       "    <tr>\n",
       "      <th>1</th>\n",
       "      <td>B</td>\n",
       "      <td>822</td>\n",
       "    </tr>\n",
       "  </tbody>\n",
       "</table>\n",
       "</div>"
      ],
      "text/plain": [
       "  group  users\n",
       "0     A   2422\n",
       "1     B    822"
      ]
     },
     "execution_count": 158,
     "metadata": {},
     "output_type": "execute_result"
    }
   ],
   "source": [
    "events_new.groupby('group').agg(users = ('user_id', 'nunique')).reset_index()"
   ]
  },
  {
   "cell_type": "code",
   "execution_count": 159,
   "id": "140ca6f6",
   "metadata": {},
   "outputs": [
    {
     "data": {
      "text/html": [
       "<div>\n",
       "<style scoped>\n",
       "    .dataframe tbody tr th:only-of-type {\n",
       "        vertical-align: middle;\n",
       "    }\n",
       "\n",
       "    .dataframe tbody tr th {\n",
       "        vertical-align: top;\n",
       "    }\n",
       "\n",
       "    .dataframe thead th {\n",
       "        text-align: right;\n",
       "    }\n",
       "</style>\n",
       "<table border=\"1\" class=\"dataframe\">\n",
       "  <thead>\n",
       "    <tr style=\"text-align: right;\">\n",
       "      <th></th>\n",
       "      <th>group</th>\n",
       "      <th>users</th>\n",
       "    </tr>\n",
       "  </thead>\n",
       "  <tbody>\n",
       "    <tr>\n",
       "      <th>0</th>\n",
       "      <td>A</td>\n",
       "      <td>16692</td>\n",
       "    </tr>\n",
       "    <tr>\n",
       "      <th>1</th>\n",
       "      <td>B</td>\n",
       "      <td>4393</td>\n",
       "    </tr>\n",
       "  </tbody>\n",
       "</table>\n",
       "</div>"
      ],
      "text/plain": [
       "  group  users\n",
       "0     A  16692\n",
       "1     B   4393"
      ]
     },
     "execution_count": 159,
     "metadata": {},
     "output_type": "execute_result"
    }
   ],
   "source": [
    "events_new.groupby('group').agg(users = ('user_id', 'count')).reset_index()"
   ]
  },
  {
   "cell_type": "code",
   "execution_count": 160,
   "id": "61db0f2a",
   "metadata": {},
   "outputs": [
    {
     "data": {
      "text/plain": [
       "count   3,244.00\n",
       "mean        6.50\n",
       "std         3.73\n",
       "min         1.00\n",
       "25%         4.00\n",
       "50%         6.00\n",
       "75%         9.00\n",
       "max        24.00\n",
       "Name: event_count, dtype: float64"
      ]
     },
     "metadata": {},
     "output_type": "display_data"
    },
    {
     "data": {
      "image/png": "[encoded data removed]",
      "text/plain": [
       "<Figure size 3000x1000 with 1 Axes>"
      ]
     },
     "metadata": {},
     "output_type": "display_data"
    }
   ],
   "source": [
    "# посмотрим, сколько событий в среднем приходится на пользователя:\n",
    "events_by_user = events_new.groupby('user_id').agg(event_count = ('event_name', 'count')).reset_index()\n",
    "\n",
    "display(events_by_user['event_count'].describe())  \n",
    "\n",
    "plt.figure(figsize=(15, 5))\n",
    "plt.title('Распределение количества событий на пользователя', loc='left')\n",
    "sns.distplot(events_by_user['event_count'], bins=50, color='orange')\n",
    "plt.xlabel('Количество событий')                  \n",
    "plt.ylabel('Количество пользователей')             \n",
    "plt.show()"
   ]
  },
  {
   "cell_type": "markdown",
   "id": "ec4baf69",
   "metadata": {},
   "source": [
    "Итак, в среднем, на пользователя приходится порядка 6 событий. При этом, минимальное количество - всего одно, а максимальное - 24 шт. "
   ]
  },
  {
   "cell_type": "markdown",
   "id": "f4b78811",
   "metadata": {},
   "source": [
    "### Проверка распределения числа событий по дням"
   ]
  },
  {
   "cell_type": "code",
   "execution_count": 161,
   "id": "59d1f902",
   "metadata": {},
   "outputs": [
    {
     "data": {
      "image/png": "[encoded data removed]",
      "text/plain": [
       "<Figure size 3000x1000 with 1 Axes>"
      ]
     },
     "metadata": {},
     "output_type": "display_data"
    },
    {
     "data": {
      "image/png": "[encoded data removed]",
      "text/plain": [
       "<Figure size 3000x1000 with 1 Axes>"
      ]
     },
     "metadata": {},
     "output_type": "display_data"
    }
   ],
   "source": [
    "# гистограммы по дате и времени:\n",
    "\n",
    "plt.title('Распределение числа событий по дате и времени', loc='left')\n",
    "events_new['event_dt'].hist(bins=100, xrot=15,  figsize=(15, 5), alpha=0.7, color='orange')\n",
    "plt.show()\n",
    "\n",
    "plt.title('Распределение логов по времени суток', loc='left')\n",
    "events_new['event_dt'].dt.hour.hist(bins=24, figsize=(15, 5), alpha=0.7, color='orange')\n",
    "plt.xticks(range(0, 23))\n",
    "plt.show()"
   ]
  },
  {
   "cell_type": "markdown",
   "id": "735a8038",
   "metadata": {},
   "source": [
    "Нибольший всплеск событий пришелся на период с 2020-12-14 по 2020-12-23. Т.е. мы еще имеем и сезонное влияние на тестовые данные - покупка подарков на Рождество. По времени суток особых различий нет."
   ]
  },
  {
   "cell_type": "markdown",
   "id": "a497bfc7",
   "metadata": {},
   "source": [
    "### Оценка конверсии в воронке в выборках на разных этапах"
   ]
  },
  {
   "cell_type": "markdown",
   "id": "175a0ea9",
   "metadata": {},
   "source": [
    "Посмотрим, какие события есть в логах, как часто они встречаются."
   ]
  },
  {
   "cell_type": "code",
   "execution_count": 162,
   "id": "240e579e",
   "metadata": {},
   "outputs": [
    {
     "data": {
      "text/html": [
       "<div>\n",
       "<style scoped>\n",
       "    .dataframe tbody tr th:only-of-type {\n",
       "        vertical-align: middle;\n",
       "    }\n",
       "\n",
       "    .dataframe tbody tr th {\n",
       "        vertical-align: top;\n",
       "    }\n",
       "\n",
       "    .dataframe thead th {\n",
       "        text-align: right;\n",
       "    }\n",
       "</style>\n",
       "<table border=\"1\" class=\"dataframe\">\n",
       "  <thead>\n",
       "    <tr style=\"text-align: right;\">\n",
       "      <th></th>\n",
       "      <th>event_name</th>\n",
       "      <th>total_events</th>\n",
       "    </tr>\n",
       "  </thead>\n",
       "  <tbody>\n",
       "    <tr>\n",
       "      <th>0</th>\n",
       "      <td>login</td>\n",
       "      <td>9545</td>\n",
       "    </tr>\n",
       "    <tr>\n",
       "      <th>2</th>\n",
       "      <td>product_page</td>\n",
       "      <td>5898</td>\n",
       "    </tr>\n",
       "    <tr>\n",
       "      <th>3</th>\n",
       "      <td>purchase</td>\n",
       "      <td>2848</td>\n",
       "    </tr>\n",
       "    <tr>\n",
       "      <th>1</th>\n",
       "      <td>product_cart</td>\n",
       "      <td>2794</td>\n",
       "    </tr>\n",
       "  </tbody>\n",
       "</table>\n",
       "</div>"
      ],
      "text/plain": [
       "     event_name  total_events\n",
       "0         login          9545\n",
       "2  product_page          5898\n",
       "3      purchase          2848\n",
       "1  product_cart          2794"
      ]
     },
     "execution_count": 162,
     "metadata": {},
     "output_type": "execute_result"
    }
   ],
   "source": [
    "events_all = (events_new.\n",
    "    groupby('event_name').\n",
    "    agg({'user_id': 'count'}).\n",
    "    reset_index().\n",
    "    rename(columns={'user_id' : 'total_events'}).\n",
    "    sort_values(by='total_events', ascending=False))\n",
    "events_all"
   ]
  },
  {
   "cell_type": "code",
   "execution_count": 163,
   "id": "a5494f4d",
   "metadata": {},
   "outputs": [
    {
     "data": {
      "image/png": "[encoded data removed]",
      "text/plain": [
       "<Figure size 3000x1000 with 1 Axes>"
      ]
     },
     "metadata": {},
     "output_type": "display_data"
    }
   ],
   "source": [
    "plt.figure(figsize=(15, 5))\n",
    "ax = sns.barplot(x='total_events', y='event_name', data=events_all, palette='Oranges_r', orient='h')\n",
    "ax.set_title('Частота событий в логах', loc='Left')\n",
    "ax.set_xlabel('Количество') \n",
    "ax.set_ylabel('') \n",
    "plt.show()"
   ]
  },
  {
   "cell_type": "markdown",
   "id": "af251185",
   "metadata": {},
   "source": [
    "* login (авторизовались) сделали 9545 раз;    \n",
    "* product_page (карточка товара) увидели 5898 раз;      \n",
    "* product_card (корзина) увидели 2794 раза;     \n",
    "* purchase (покупка) совершили 2848 раз.\n",
    "\n",
    "\n",
    "Отсортируем события по числу пользователей. Посчитаем долю пользователей, которые хоть раз совершали событие."
   ]
  },
  {
   "cell_type": "code",
   "execution_count": 164,
   "id": "db69c726",
   "metadata": {},
   "outputs": [
    {
     "data": {
      "text/html": [
       "<div>\n",
       "<style scoped>\n",
       "    .dataframe tbody tr th:only-of-type {\n",
       "        vertical-align: middle;\n",
       "    }\n",
       "\n",
       "    .dataframe tbody tr th {\n",
       "        vertical-align: top;\n",
       "    }\n",
       "\n",
       "    .dataframe thead th {\n",
       "        text-align: right;\n",
       "    }\n",
       "</style>\n",
       "<table border=\"1\" class=\"dataframe\">\n",
       "  <thead>\n",
       "    <tr style=\"text-align: right;\">\n",
       "      <th></th>\n",
       "      <th>event_name</th>\n",
       "      <th>total_users</th>\n",
       "      <th>percent</th>\n",
       "    </tr>\n",
       "  </thead>\n",
       "  <tbody>\n",
       "    <tr>\n",
       "      <th>0</th>\n",
       "      <td>login</td>\n",
       "      <td>3243</td>\n",
       "      <td>99.97</td>\n",
       "    </tr>\n",
       "    <tr>\n",
       "      <th>2</th>\n",
       "      <td>product_page</td>\n",
       "      <td>2030</td>\n",
       "      <td>62.58</td>\n",
       "    </tr>\n",
       "    <tr>\n",
       "      <th>3</th>\n",
       "      <td>purchase</td>\n",
       "      <td>999</td>\n",
       "      <td>30.80</td>\n",
       "    </tr>\n",
       "    <tr>\n",
       "      <th>1</th>\n",
       "      <td>product_cart</td>\n",
       "      <td>953</td>\n",
       "      <td>29.38</td>\n",
       "    </tr>\n",
       "  </tbody>\n",
       "</table>\n",
       "</div>"
      ],
      "text/plain": [
       "     event_name  total_users  percent\n",
       "0         login         3243    99.97\n",
       "2  product_page         2030    62.58\n",
       "3      purchase          999    30.80\n",
       "1  product_cart          953    29.38"
      ]
     },
     "execution_count": 164,
     "metadata": {},
     "output_type": "execute_result"
    }
   ],
   "source": [
    "funnel = (events_new.\n",
    "              groupby('event_name').\n",
    "              agg({'user_id': 'nunique'}).\n",
    "              reset_index().\n",
    "              rename(columns={'user_id' : 'total_users'}).\n",
    "              sort_values(by='total_users', ascending=False))\n",
    "funnel['percent'] = funnel['total_users'] / events_new['user_id'].nunique() * 100  \n",
    "funnel"
   ]
  },
  {
   "cell_type": "markdown",
   "id": "2628731a",
   "metadata": {},
   "source": [
    "Ожидаемая последовательность событий `Авторизация` -> `Просмотр товара` -> `Просмотр корзины` -> `Покупка`. "
   ]
  },
  {
   "cell_type": "markdown",
   "id": "0d87a38e",
   "metadata": {},
   "source": [
    "Чтобы графики отображались верно, добавим колонку с последовательность и отсортируем события по ней."
   ]
  },
  {
   "cell_type": "code",
   "execution_count": 165,
   "id": "ad4a54f2",
   "metadata": {},
   "outputs": [
    {
     "data": {
      "text/html": [
       "<div>\n",
       "<style scoped>\n",
       "    .dataframe tbody tr th:only-of-type {\n",
       "        vertical-align: middle;\n",
       "    }\n",
       "\n",
       "    .dataframe tbody tr th {\n",
       "        vertical-align: top;\n",
       "    }\n",
       "\n",
       "    .dataframe thead th {\n",
       "        text-align: right;\n",
       "    }\n",
       "</style>\n",
       "<table border=\"1\" class=\"dataframe\">\n",
       "  <thead>\n",
       "    <tr style=\"text-align: right;\">\n",
       "      <th></th>\n",
       "      <th>event_name</th>\n",
       "      <th>total_users</th>\n",
       "      <th>percent</th>\n",
       "      <th>n</th>\n",
       "    </tr>\n",
       "  </thead>\n",
       "  <tbody>\n",
       "    <tr>\n",
       "      <th>0</th>\n",
       "      <td>login</td>\n",
       "      <td>3243</td>\n",
       "      <td>99.97</td>\n",
       "      <td>1</td>\n",
       "    </tr>\n",
       "    <tr>\n",
       "      <th>2</th>\n",
       "      <td>product_page</td>\n",
       "      <td>2030</td>\n",
       "      <td>62.58</td>\n",
       "      <td>2</td>\n",
       "    </tr>\n",
       "    <tr>\n",
       "      <th>1</th>\n",
       "      <td>product_cart</td>\n",
       "      <td>953</td>\n",
       "      <td>29.38</td>\n",
       "      <td>3</td>\n",
       "    </tr>\n",
       "    <tr>\n",
       "      <th>3</th>\n",
       "      <td>purchase</td>\n",
       "      <td>999</td>\n",
       "      <td>30.80</td>\n",
       "      <td>4</td>\n",
       "    </tr>\n",
       "  </tbody>\n",
       "</table>\n",
       "</div>"
      ],
      "text/plain": [
       "     event_name  total_users  percent  n\n",
       "0         login         3243    99.97  1\n",
       "2  product_page         2030    62.58  2\n",
       "1  product_cart          953    29.38  3\n",
       "3      purchase          999    30.80  4"
      ]
     },
     "execution_count": 165,
     "metadata": {},
     "output_type": "execute_result"
    }
   ],
   "source": [
    "funnel['n'] = [1, 2, 4, 3]\n",
    "funnel = funnel.sort_values(by='n')\n",
    "funnel"
   ]
  },
  {
   "cell_type": "code",
   "execution_count": 166,
   "id": "f9a1afcf",
   "metadata": {},
   "outputs": [
    {
     "data": {
      "application/vnd.plotly.v1+json": {
       "config": {
        "plotlyServerURL": "https://plot.ly"
       },
       "data": [
        {
         "marker": {
          "color": [
           "deepskyblue",
           "lightsalmon",
           "tan",
           "teal"
          ]
         },
         "opacity": 0.65,
         "textinfo": "value+percent previous",
         "textposition": "inside",
         "type": "funnel",
         "x": [
          3243,
          2030,
          953,
          999
         ],
         "y": [
          "login",
          "product_page",
          "product_cart",
          "purchase"
         ]
        }
       ],
       "layout": {
        "template": {
         "data": {
          "bar": [
           {
            "error_x": {
             "color": "#2a3f5f"
            },
            "error_y": {
             "color": "#2a3f5f"
            },
            "marker": {
             "line": {
              "color": "#E5ECF6",
              "width": 0.5
             },
             "pattern": {
              "fillmode": "overlay",
              "size": 10,
              "solidity": 0.2
             }
            },
            "type": "bar"
           }
          ],
          "barpolar": [
           {
            "marker": {
             "line": {
              "color": "#E5ECF6",
              "width": 0.5
             },
             "pattern": {
              "fillmode": "overlay",
              "size": 10,
              "solidity": 0.2
             }
            },
            "type": "barpolar"
           }
          ],
          "carpet": [
           {
            "aaxis": {
             "endlinecolor": "#2a3f5f",
             "gridcolor": "white",
             "linecolor": "white",
             "minorgridcolor": "white",
             "startlinecolor": "#2a3f5f"
            },
            "baxis": {
             "endlinecolor": "#2a3f5f",
             "gridcolor": "white",
             "linecolor": "white",
             "minorgridcolor": "white",
             "startlinecolor": "#2a3f5f"
            },
            "type": "carpet"
           }
          ],
          "choropleth": [
           {
            "colorbar": {
             "outlinewidth": 0,
             "ticks": ""
            },
            "type": "choropleth"
           }
          ],
          "contour": [
           {
            "colorbar": {
             "outlinewidth": 0,
             "ticks": ""
            },
            "colorscale": [
             [
              0,
              "#0d0887"
             ],
             [
              0.1111111111111111,
              "#46039f"
             ],
             [
              0.2222222222222222,
              "#7201a8"
             ],
             [
              0.3333333333333333,
              "#9c179e"
             ],
             [
              0.4444444444444444,
              "#bd3786"
             ],
             [
              0.5555555555555556,
              "#d8576b"
             ],
             [
              0.6666666666666666,
              "#ed7953"
             ],
             [
              0.7777777777777778,
              "#fb9f3a"
             ],
             [
              0.8888888888888888,
              "#fdca26"
             ],
             [
              1,
              "#f0f921"
             ]
            ],
            "type": "contour"
           }
          ],
          "contourcarpet": [
           {
            "colorbar": {
             "outlinewidth": 0,
             "ticks": ""
            },
            "type": "contourcarpet"
           }
          ],
          "heatmap": [
           {
            "colorbar": {
             "outlinewidth": 0,
             "ticks": ""
            },
            "colorscale": [
             [
              0,
              "#0d0887"
             ],
             [
              0.1111111111111111,
              "#46039f"
             ],
             [
              0.2222222222222222,
              "#7201a8"
             ],
             [
              0.3333333333333333,
              "#9c179e"
             ],
             [
              0.4444444444444444,
              "#bd3786"
             ],
             [
              0.5555555555555556,
              "#d8576b"
             ],
             [
              0.6666666666666666,
              "#ed7953"
             ],
             [
              0.7777777777777778,
              "#fb9f3a"
             ],
             [
              0.8888888888888888,
              "#fdca26"
             ],
             [
              1,
              "#f0f921"
             ]
            ],
            "type": "heatmap"
           }
          ],
          "heatmapgl": [
           {
            "colorbar": {
             "outlinewidth": 0,
             "ticks": ""
            },
            "colorscale": [
             [
              0,
              "#0d0887"
             ],
             [
              0.1111111111111111,
              "#46039f"
             ],
             [
              0.2222222222222222,
              "#7201a8"
             ],
             [
              0.3333333333333333,
              "#9c179e"
             ],
             [
              0.4444444444444444,
              "#bd3786"
             ],
             [
              0.5555555555555556,
              "#d8576b"
             ],
             [
              0.6666666666666666,
              "#ed7953"
             ],
             [
              0.7777777777777778,
              "#fb9f3a"
             ],
             [
              0.8888888888888888,
              "#fdca26"
             ],
             [
              1,
              "#f0f921"
             ]
            ],
            "type": "heatmapgl"
           }
          ],
          "histogram": [
           {
            "marker": {
             "pattern": {
              "fillmode": "overlay",
              "size": 10,
              "solidity": 0.2
             }
            },
            "type": "histogram"
           }
          ],
          "histogram2d": [
           {
            "colorbar": {
             "outlinewidth": 0,
             "ticks": ""
            },
            "colorscale": [
             [
              0,
              "#0d0887"
             ],
             [
              0.1111111111111111,
              "#46039f"
             ],
             [
              0.2222222222222222,
              "#7201a8"
             ],
             [
              0.3333333333333333,
              "#9c179e"
             ],
             [
              0.4444444444444444,
              "#bd3786"
             ],
             [
              0.5555555555555556,
              "#d8576b"
             ],
             [
              0.6666666666666666,
              "#ed7953"
             ],
             [
              0.7777777777777778,
              "#fb9f3a"
             ],
             [
              0.8888888888888888,
              "#fdca26"
             ],
             [
              1,
              "#f0f921"
             ]
            ],
            "type": "histogram2d"
           }
          ],
          "histogram2dcontour": [
           {
            "colorbar": {
             "outlinewidth": 0,
             "ticks": ""
            },
            "colorscale": [
             [
              0,
              "#0d0887"
             ],
             [
              0.1111111111111111,
              "#46039f"
             ],
             [
              0.2222222222222222,
              "#7201a8"
             ],
             [
              0.3333333333333333,
              "#9c179e"
             ],
             [
              0.4444444444444444,
              "#bd3786"
             ],
             [
              0.5555555555555556,
              "#d8576b"
             ],
             [
              0.6666666666666666,
              "#ed7953"
             ],
             [
              0.7777777777777778,
              "#fb9f3a"
             ],
             [
              0.8888888888888888,
              "#fdca26"
             ],
             [
              1,
              "#f0f921"
             ]
            ],
            "type": "histogram2dcontour"
           }
          ],
          "mesh3d": [
           {
            "colorbar": {
             "outlinewidth": 0,
             "ticks": ""
            },
            "type": "mesh3d"
           }
          ],
          "parcoords": [
           {
            "line": {
             "colorbar": {
              "outlinewidth": 0,
              "ticks": ""
             }
            },
            "type": "parcoords"
           }
          ],
          "pie": [
           {
            "automargin": true,
            "type": "pie"
           }
          ],
          "scatter": [
           {
            "marker": {
             "colorbar": {
              "outlinewidth": 0,
              "ticks": ""
             }
            },
            "type": "scatter"
           }
          ],
          "scatter3d": [
           {
            "line": {
             "colorbar": {
              "outlinewidth": 0,
              "ticks": ""
             }
            },
            "marker": {
             "colorbar": {
              "outlinewidth": 0,
              "ticks": ""
             }
            },
            "type": "scatter3d"
           }
          ],
          "scattercarpet": [
           {
            "marker": {
             "colorbar": {
              "outlinewidth": 0,
              "ticks": ""
             }
            },
            "type": "scattercarpet"
           }
          ],
          "scattergeo": [
           {
            "marker": {
             "colorbar": {
              "outlinewidth": 0,
              "ticks": ""
             }
            },
            "type": "scattergeo"
           }
          ],
          "scattergl": [
           {
            "marker": {
             "colorbar": {
              "outlinewidth": 0,
              "ticks": ""
             }
            },
            "type": "scattergl"
           }
          ],
          "scattermapbox": [
           {
            "marker": {
             "colorbar": {
              "outlinewidth": 0,
              "ticks": ""
             }
            },
            "type": "scattermapbox"
           }
          ],
          "scatterpolar": [
           {
            "marker": {
             "colorbar": {
              "outlinewidth": 0,
              "ticks": ""
             }
            },
            "type": "scatterpolar"
           }
          ],
          "scatterpolargl": [
           {
            "marker": {
             "colorbar": {
              "outlinewidth": 0,
              "ticks": ""
             }
            },
            "type": "scatterpolargl"
           }
          ],
          "scatterternary": [
           {
            "marker": {
             "colorbar": {
              "outlinewidth": 0,
              "ticks": ""
             }
            },
            "type": "scatterternary"
           }
          ],
          "surface": [
           {
            "colorbar": {
             "outlinewidth": 0,
             "ticks": ""
            },
            "colorscale": [
             [
              0,
              "#0d0887"
             ],
             [
              0.1111111111111111,
              "#46039f"
             ],
             [
              0.2222222222222222,
              "#7201a8"
             ],
             [
              0.3333333333333333,
              "#9c179e"
             ],
             [
              0.4444444444444444,
              "#bd3786"
             ],
             [
              0.5555555555555556,
              "#d8576b"
             ],
             [
              0.6666666666666666,
              "#ed7953"
             ],
             [
              0.7777777777777778,
              "#fb9f3a"
             ],
             [
              0.8888888888888888,
              "#fdca26"
             ],
             [
              1,
              "#f0f921"
             ]
            ],
            "type": "surface"
           }
          ],
          "table": [
           {
            "cells": {
             "fill": {
              "color": "#EBF0F8"
             },
             "line": {
              "color": "white"
             }
            },
            "header": {
             "fill": {
              "color": "#C8D4E3"
             },
             "line": {
              "color": "white"
             }
            },
            "type": "table"
           }
          ]
         },
         "layout": {
          "annotationdefaults": {
           "arrowcolor": "#2a3f5f",
           "arrowhead": 0,
           "arrowwidth": 1
          },
          "autotypenumbers": "strict",
          "coloraxis": {
           "colorbar": {
            "outlinewidth": 0,
            "ticks": ""
           }
          },
          "colorscale": {
           "diverging": [
            [
             0,
             "#8e0152"
            ],
            [
             0.1,
             "#c51b7d"
            ],
            [
             0.2,
             "#de77ae"
            ],
            [
             0.3,
             "#f1b6da"
            ],
            [
             0.4,
             "#fde0ef"
            ],
            [
             0.5,
             "#f7f7f7"
            ],
            [
             0.6,
             "#e6f5d0"
            ],
            [
             0.7,
             "#b8e186"
            ],
            [
             0.8,
             "#7fbc41"
            ],
            [
             0.9,
             "#4d9221"
            ],
            [
             1,
             "#276419"
            ]
           ],
           "sequential": [
            [
             0,
             "#0d0887"
            ],
            [
             0.1111111111111111,
             "#46039f"
            ],
            [
             0.2222222222222222,
             "#7201a8"
            ],
            [
             0.3333333333333333,
             "#9c179e"
            ],
            [
             0.4444444444444444,
             "#bd3786"
            ],
            [
             0.5555555555555556,
             "#d8576b"
            ],
            [
             0.6666666666666666,
             "#ed7953"
            ],
            [
             0.7777777777777778,
             "#fb9f3a"
            ],
            [
             0.8888888888888888,
             "#fdca26"
            ],
            [
             1,
             "#f0f921"
            ]
           ],
           "sequentialminus": [
            [
             0,
             "#0d0887"
            ],
            [
             0.1111111111111111,
             "#46039f"
            ],
            [
             0.2222222222222222,
             "#7201a8"
            ],
            [
             0.3333333333333333,
             "#9c179e"
            ],
            [
             0.4444444444444444,
             "#bd3786"
            ],
            [
             0.5555555555555556,
             "#d8576b"
            ],
            [
             0.6666666666666666,
             "#ed7953"
            ],
            [
             0.7777777777777778,
             "#fb9f3a"
            ],
            [
             0.8888888888888888,
             "#fdca26"
            ],
            [
             1,
             "#f0f921"
            ]
           ]
          },
          "colorway": [
           "#636efa",
           "#EF553B",
           "#00cc96",
           "#ab63fa",
           "#FFA15A",
           "#19d3f3",
           "#FF6692",
           "#B6E880",
           "#FF97FF",
           "#FECB52"
          ],
          "font": {
           "color": "#2a3f5f"
          },
          "geo": {
           "bgcolor": "white",
           "lakecolor": "white",
           "landcolor": "#E5ECF6",
           "showlakes": true,
           "showland": true,
           "subunitcolor": "white"
          },
          "hoverlabel": {
           "align": "left"
          },
          "hovermode": "closest",
          "mapbox": {
           "style": "light"
          },
          "paper_bgcolor": "white",
          "plot_bgcolor": "#E5ECF6",
          "polar": {
           "angularaxis": {
            "gridcolor": "white",
            "linecolor": "white",
            "ticks": ""
           },
           "bgcolor": "#E5ECF6",
           "radialaxis": {
            "gridcolor": "white",
            "linecolor": "white",
            "ticks": ""
           }
          },
          "scene": {
           "xaxis": {
            "backgroundcolor": "#E5ECF6",
            "gridcolor": "white",
            "gridwidth": 2,
            "linecolor": "white",
            "showbackground": true,
            "ticks": "",
            "zerolinecolor": "white"
           },
           "yaxis": {
            "backgroundcolor": "#E5ECF6",
            "gridcolor": "white",
            "gridwidth": 2,
            "linecolor": "white",
            "showbackground": true,
            "ticks": "",
            "zerolinecolor": "white"
           },
           "zaxis": {
            "backgroundcolor": "#E5ECF6",
            "gridcolor": "white",
            "gridwidth": 2,
            "linecolor": "white",
            "showbackground": true,
            "ticks": "",
            "zerolinecolor": "white"
           }
          },
          "shapedefaults": {
           "line": {
            "color": "#2a3f5f"
           }
          },
          "ternary": {
           "aaxis": {
            "gridcolor": "white",
            "linecolor": "white",
            "ticks": ""
           },
           "baxis": {
            "gridcolor": "white",
            "linecolor": "white",
            "ticks": ""
           },
           "bgcolor": "#E5ECF6",
           "caxis": {
            "gridcolor": "white",
            "linecolor": "white",
            "ticks": ""
           }
          },
          "title": {
           "x": 0.05
          },
          "xaxis": {
           "automargin": true,
           "gridcolor": "white",
           "linecolor": "white",
           "ticks": "",
           "title": {
            "standoff": 15
           },
           "zerolinecolor": "white",
           "zerolinewidth": 2
          },
          "yaxis": {
           "automargin": true,
           "gridcolor": "white",
           "linecolor": "white",
           "ticks": "",
           "title": {
            "standoff": 15
           },
           "zerolinecolor": "white",
           "zerolinewidth": 2
          }
         }
        },
        "title": {
         "text": "Воронка событий"
        }
       }
      },
      "text/html": [
       "<div>                            <div id=\"da01a498-13b2-4a28-b0b9-ebc31d74d959\" class=\"plotly-graph-div\" style=\"height:525px; width:100%;\"></div>            <script type=\"text/javascript\">                require([\"plotly\"], function(Plotly) {                    window.PLOTLYENV=window.PLOTLYENV || {};                                    if (document.getElementById(\"da01a498-13b2-4a28-b0b9-ebc31d74d959\")) {                    Plotly.newPlot(                        \"da01a498-13b2-4a28-b0b9-ebc31d74d959\",                        [{\"marker\":{\"color\":[\"deepskyblue\",\"lightsalmon\",\"tan\",\"teal\"]},\"opacity\":0.65,\"textinfo\":\"value+percent previous\",\"textposition\":\"inside\",\"x\":[3243,2030,953,999],\"y\":[\"login\",\"product_page\",\"product_cart\",\"purchase\"],\"type\":\"funnel\"}],                        {\"template\":{\"data\":{\"bar\":[{\"error_x\":{\"color\":\"#2a3f5f\"},\"error_y\":{\"color\":\"#2a3f5f\"},\"marker\":{\"line\":{\"color\":\"#E5ECF6\",\"width\":0.5},\"pattern\":{\"fillmode\":\"overlay\",\"size\":10,\"solidity\":0.2}},\"type\":\"bar\"}],\"barpolar\":[{\"marker\":{\"line\":{\"color\":\"#E5ECF6\",\"width\":0.5},\"pattern\":{\"fillmode\":\"overlay\",\"size\":10,\"solidity\":0.2}},\"type\":\"barpolar\"}],\"carpet\":[{\"aaxis\":{\"endlinecolor\":\"#2a3f5f\",\"gridcolor\":\"white\",\"linecolor\":\"white\",\"minorgridcolor\":\"white\",\"startlinecolor\":\"#2a3f5f\"},\"baxis\":{\"endlinecolor\":\"#2a3f5f\",\"gridcolor\":\"white\",\"linecolor\":\"white\",\"minorgridcolor\":\"white\",\"startlinecolor\":\"#2a3f5f\"},\"type\":\"carpet\"}],\"choropleth\":[{\"colorbar\":{\"outlinewidth\":0,\"ticks\":\"\"},\"type\":\"choropleth\"}],\"contour\":[{\"colorbar\":{\"outlinewidth\":0,\"ticks\":\"\"},\"colorscale\":[[0.0,\"#0d0887\"],[0.1111111111111111,\"#46039f\"],[0.2222222222222222,\"#7201a8\"],[0.3333333333333333,\"#9c179e\"],[0.4444444444444444,\"#bd3786\"],[0.5555555555555556,\"#d8576b\"],[0.6666666666666666,\"#ed7953\"],[0.7777777777777778,\"#fb9f3a\"],[0.8888888888888888,\"#fdca26\"],[1.0,\"#f0f921\"]],\"type\":\"contour\"}],\"contourcarpet\":[{\"colorbar\":{\"outlinewidth\":0,\"ticks\":\"\"},\"type\":\"contourcarpet\"}],\"heatmap\":[{\"colorbar\":{\"outlinewidth\":0,\"ticks\":\"\"},\"colorscale\":[[0.0,\"#0d0887\"],[0.1111111111111111,\"#46039f\"],[0.2222222222222222,\"#7201a8\"],[0.3333333333333333,\"#9c179e\"],[0.4444444444444444,\"#bd3786\"],[0.5555555555555556,\"#d8576b\"],[0.6666666666666666,\"#ed7953\"],[0.7777777777777778,\"#fb9f3a\"],[0.8888888888888888,\"#fdca26\"],[1.0,\"#f0f921\"]],\"type\":\"heatmap\"}],\"heatmapgl\":[{\"colorbar\":{\"outlinewidth\":0,\"ticks\":\"\"},\"colorscale\":[[0.0,\"#0d0887\"],[0.1111111111111111,\"#46039f\"],[0.2222222222222222,\"#7201a8\"],[0.3333333333333333,\"#9c179e\"],[0.4444444444444444,\"#bd3786\"],[0.5555555555555556,\"#d8576b\"],[0.6666666666666666,\"#ed7953\"],[0.7777777777777778,\"#fb9f3a\"],[0.8888888888888888,\"#fdca26\"],[1.0,\"#f0f921\"]],\"type\":\"heatmapgl\"}],\"histogram\":[{\"marker\":{\"pattern\":{\"fillmode\":\"overlay\",\"size\":10,\"solidity\":0.2}},\"type\":\"histogram\"}],\"histogram2d\":[{\"colorbar\":{\"outlinewidth\":0,\"ticks\":\"\"},\"colorscale\":[[0.0,\"#0d0887\"],[0.1111111111111111,\"#46039f\"],[0.2222222222222222,\"#7201a8\"],[0.3333333333333333,\"#9c179e\"],[0.4444444444444444,\"#bd3786\"],[0.5555555555555556,\"#d8576b\"],[0.6666666666666666,\"#ed7953\"],[0.7777777777777778,\"#fb9f3a\"],[0.8888888888888888,\"#fdca26\"],[1.0,\"#f0f921\"]],\"type\":\"histogram2d\"}],\"histogram2dcontour\":[{\"colorbar\":{\"outlinewidth\":0,\"ticks\":\"\"},\"colorscale\":[[0.0,\"#0d0887\"],[0.1111111111111111,\"#46039f\"],[0.2222222222222222,\"#7201a8\"],[0.3333333333333333,\"#9c179e\"],[0.4444444444444444,\"#bd3786\"],[0.5555555555555556,\"#d8576b\"],[0.6666666666666666,\"#ed7953\"],[0.7777777777777778,\"#fb9f3a\"],[0.8888888888888888,\"#fdca26\"],[1.0,\"#f0f921\"]],\"type\":\"histogram2dcontour\"}],\"mesh3d\":[{\"colorbar\":{\"outlinewidth\":0,\"ticks\":\"\"},\"type\":\"mesh3d\"}],\"parcoords\":[{\"line\":{\"colorbar\":{\"outlinewidth\":0,\"ticks\":\"\"}},\"type\":\"parcoords\"}],\"pie\":[{\"automargin\":true,\"type\":\"pie\"}],\"scatter\":[{\"marker\":{\"colorbar\":{\"outlinewidth\":0,\"ticks\":\"\"}},\"type\":\"scatter\"}],\"scatter3d\":[{\"line\":{\"colorbar\":{\"outlinewidth\":0,\"ticks\":\"\"}},\"marker\":{\"colorbar\":{\"outlinewidth\":0,\"ticks\":\"\"}},\"type\":\"scatter3d\"}],\"scattercarpet\":[{\"marker\":{\"colorbar\":{\"outlinewidth\":0,\"ticks\":\"\"}},\"type\":\"scattercarpet\"}],\"scattergeo\":[{\"marker\":{\"colorbar\":{\"outlinewidth\":0,\"ticks\":\"\"}},\"type\":\"scattergeo\"}],\"scattergl\":[{\"marker\":{\"colorbar\":{\"outlinewidth\":0,\"ticks\":\"\"}},\"type\":\"scattergl\"}],\"scattermapbox\":[{\"marker\":{\"colorbar\":{\"outlinewidth\":0,\"ticks\":\"\"}},\"type\":\"scattermapbox\"}],\"scatterpolar\":[{\"marker\":{\"colorbar\":{\"outlinewidth\":0,\"ticks\":\"\"}},\"type\":\"scatterpolar\"}],\"scatterpolargl\":[{\"marker\":{\"colorbar\":{\"outlinewidth\":0,\"ticks\":\"\"}},\"type\":\"scatterpolargl\"}],\"scatterternary\":[{\"marker\":{\"colorbar\":{\"outlinewidth\":0,\"ticks\":\"\"}},\"type\":\"scatterternary\"}],\"surface\":[{\"colorbar\":{\"outlinewidth\":0,\"ticks\":\"\"},\"colorscale\":[[0.0,\"#0d0887\"],[0.1111111111111111,\"#46039f\"],[0.2222222222222222,\"#7201a8\"],[0.3333333333333333,\"#9c179e\"],[0.4444444444444444,\"#bd3786\"],[0.5555555555555556,\"#d8576b\"],[0.6666666666666666,\"#ed7953\"],[0.7777777777777778,\"#fb9f3a\"],[0.8888888888888888,\"#fdca26\"],[1.0,\"#f0f921\"]],\"type\":\"surface\"}],\"table\":[{\"cells\":{\"fill\":{\"color\":\"#EBF0F8\"},\"line\":{\"color\":\"white\"}},\"header\":{\"fill\":{\"color\":\"#C8D4E3\"},\"line\":{\"color\":\"white\"}},\"type\":\"table\"}]},\"layout\":{\"annotationdefaults\":{\"arrowcolor\":\"#2a3f5f\",\"arrowhead\":0,\"arrowwidth\":1},\"autotypenumbers\":\"strict\",\"coloraxis\":{\"colorbar\":{\"outlinewidth\":0,\"ticks\":\"\"}},\"colorscale\":{\"diverging\":[[0,\"#8e0152\"],[0.1,\"#c51b7d\"],[0.2,\"#de77ae\"],[0.3,\"#f1b6da\"],[0.4,\"#fde0ef\"],[0.5,\"#f7f7f7\"],[0.6,\"#e6f5d0\"],[0.7,\"#b8e186\"],[0.8,\"#7fbc41\"],[0.9,\"#4d9221\"],[1,\"#276419\"]],\"sequential\":[[0.0,\"#0d0887\"],[0.1111111111111111,\"#46039f\"],[0.2222222222222222,\"#7201a8\"],[0.3333333333333333,\"#9c179e\"],[0.4444444444444444,\"#bd3786\"],[0.5555555555555556,\"#d8576b\"],[0.6666666666666666,\"#ed7953\"],[0.7777777777777778,\"#fb9f3a\"],[0.8888888888888888,\"#fdca26\"],[1.0,\"#f0f921\"]],\"sequentialminus\":[[0.0,\"#0d0887\"],[0.1111111111111111,\"#46039f\"],[0.2222222222222222,\"#7201a8\"],[0.3333333333333333,\"#9c179e\"],[0.4444444444444444,\"#bd3786\"],[0.5555555555555556,\"#d8576b\"],[0.6666666666666666,\"#ed7953\"],[0.7777777777777778,\"#fb9f3a\"],[0.8888888888888888,\"#fdca26\"],[1.0,\"#f0f921\"]]},\"colorway\":[\"#636efa\",\"#EF553B\",\"#00cc96\",\"#ab63fa\",\"#FFA15A\",\"#19d3f3\",\"#FF6692\",\"#B6E880\",\"#FF97FF\",\"#FECB52\"],\"font\":{\"color\":\"#2a3f5f\"},\"geo\":{\"bgcolor\":\"white\",\"lakecolor\":\"white\",\"landcolor\":\"#E5ECF6\",\"showlakes\":true,\"showland\":true,\"subunitcolor\":\"white\"},\"hoverlabel\":{\"align\":\"left\"},\"hovermode\":\"closest\",\"mapbox\":{\"style\":\"light\"},\"paper_bgcolor\":\"white\",\"plot_bgcolor\":\"#E5ECF6\",\"polar\":{\"angularaxis\":{\"gridcolor\":\"white\",\"linecolor\":\"white\",\"ticks\":\"\"},\"bgcolor\":\"#E5ECF6\",\"radialaxis\":{\"gridcolor\":\"white\",\"linecolor\":\"white\",\"ticks\":\"\"}},\"scene\":{\"xaxis\":{\"backgroundcolor\":\"#E5ECF6\",\"gridcolor\":\"white\",\"gridwidth\":2,\"linecolor\":\"white\",\"showbackground\":true,\"ticks\":\"\",\"zerolinecolor\":\"white\"},\"yaxis\":{\"backgroundcolor\":\"#E5ECF6\",\"gridcolor\":\"white\",\"gridwidth\":2,\"linecolor\":\"white\",\"showbackground\":true,\"ticks\":\"\",\"zerolinecolor\":\"white\"},\"zaxis\":{\"backgroundcolor\":\"#E5ECF6\",\"gridcolor\":\"white\",\"gridwidth\":2,\"linecolor\":\"white\",\"showbackground\":true,\"ticks\":\"\",\"zerolinecolor\":\"white\"}},\"shapedefaults\":{\"line\":{\"color\":\"#2a3f5f\"}},\"ternary\":{\"aaxis\":{\"gridcolor\":\"white\",\"linecolor\":\"white\",\"ticks\":\"\"},\"baxis\":{\"gridcolor\":\"white\",\"linecolor\":\"white\",\"ticks\":\"\"},\"bgcolor\":\"#E5ECF6\",\"caxis\":{\"gridcolor\":\"white\",\"linecolor\":\"white\",\"ticks\":\"\"}},\"title\":{\"x\":0.05},\"xaxis\":{\"automargin\":true,\"gridcolor\":\"white\",\"linecolor\":\"white\",\"ticks\":\"\",\"title\":{\"standoff\":15},\"zerolinecolor\":\"white\",\"zerolinewidth\":2},\"yaxis\":{\"automargin\":true,\"gridcolor\":\"white\",\"linecolor\":\"white\",\"ticks\":\"\",\"title\":{\"standoff\":15},\"zerolinecolor\":\"white\",\"zerolinewidth\":2}}},\"title\":{\"text\":\"\\u0412\\u043e\\u0440\\u043e\\u043d\\u043a\\u0430 \\u0441\\u043e\\u0431\\u044b\\u0442\\u0438\\u0439\"}},                        {\"responsive\": true}                    ).then(function(){\n",
       "                            \n",
       "var gd = document.getElementById('da01a498-13b2-4a28-b0b9-ebc31d74d959');\n",
       "var x = new MutationObserver(function (mutations, observer) {{\n",
       "        var display = window.getComputedStyle(gd).display;\n",
       "        if (!display || display === 'none') {{\n",
       "            console.log([gd, 'removed!']);\n",
       "            Plotly.purge(gd);\n",
       "            observer.disconnect();\n",
       "        }}\n",
       "}});\n",
       "\n",
       "// Listen for the removal of the full notebook cells\n",
       "var notebookContainer = gd.closest('#notebook-container');\n",
       "if (notebookContainer) {{\n",
       "    x.observe(notebookContainer, {childList: true});\n",
       "}}\n",
       "\n",
       "// Listen for the clearing of the current output cell\n",
       "var outputEl = gd.closest('.output');\n",
       "if (outputEl) {{\n",
       "    x.observe(outputEl, {childList: true});\n",
       "}}\n",
       "\n",
       "                        })                };                });            </script>        </div>"
      ]
     },
     "metadata": {},
     "output_type": "display_data"
    }
   ],
   "source": [
    "fig = go.Figure(go.Funnel(\n",
    "    y = funnel['event_name'],\n",
    "    x = funnel['total_users'],\n",
    "    textposition = \"inside\",\n",
    "    textinfo = \"value+percent previous\",\n",
    "    opacity = 0.65,\n",
    "    marker = {\"color\": [\"deepskyblue\", \"lightsalmon\", \"tan\", \"teal\"]})\n",
    "    )\n",
    "\n",
    "fig.update_layout(title_text='Воронка событий')\n",
    "fig.show()"
   ]
  },
  {
   "cell_type": "code",
   "execution_count": 167,
   "id": "aefafcbb",
   "metadata": {},
   "outputs": [
    {
     "name": "stdout",
     "output_type": "stream",
     "text": [
      "Авторизовались: (100.0%)\n",
      "Просмотрели Карточку товара в % от предыдущего шага: (62.6%)\n",
      "Перешли в Корзину в % от предыдущего шага: (46.9%)\n",
      "Оплатили в % от предыдущего шага: (104.8%)\n"
     ]
    }
   ],
   "source": [
    "# считаем % по шагам (от предыдущего шага)  \n",
    "\n",
    "users = events_new.pivot_table(\n",
    "    index='user_id', \n",
    "    columns='event_name', \n",
    "    values='event_dt',\n",
    "    aggfunc='min')\n",
    "\n",
    "print('Авторизовались:', \n",
    "      '({:.1%})'.format(users['login'].count() / users['login'].count() ))\n",
    "print('Просмотрели Карточку товара в % от предыдущего шага:', \n",
    "      '({:.1%})'.format(users['product_page'].count() / users['login'].count()))\n",
    "print('Перешли в Корзину в % от предыдущего шага:', \n",
    "      '({:.1%})'.format(users['product_cart'].count() / users['product_page'].count()))\n",
    "print('Оплатили в % от предыдущего шага:',\n",
    "      '({:.1%})'.format(users['purchase'].count() / users['product_cart'].count()))"
   ]
  },
  {
   "cell_type": "markdown",
   "id": "1b29fde3",
   "metadata": {},
   "source": [
    "Мы видим, что наибольшее количество пользователей  теряется после первого шага (около 37%).    \n",
    "Только 30% от первоначального количества пользователей успешно оплачивают товары из корзины.    \n",
    "\n",
    "При этом, количество пользователей, оплативших покупки, больше, чем тех, кто перешел в Корзину. Видимо, имеется некий быстрый способ оплаты, например, с Карточки товара."
   ]
  },
  {
   "cell_type": "code",
   "execution_count": 168,
   "id": "2ce4d67e",
   "metadata": {},
   "outputs": [
    {
     "data": {
      "image/png": "[encoded data removed]",
      "text/plain": [
       "<Figure size 3000x1000 with 1 Axes>"
      ]
     },
     "metadata": {},
     "output_type": "display_data"
    }
   ],
   "source": [
    "#гистограмма событий по дате в разрезе тестовых групп:\n",
    "\n",
    "plt.title('Количество событий по дням в группах А и В', loc='Left')\n",
    "events_new[events_new['group'] == 'A']['event_dt'].hist(bins = 100,  figsize=(15, 5), color = 'orange', label = 'A', alpha=.5)\n",
    "events_new[events_new['group'] == 'B']['event_dt'].hist(bins = 100,  figsize=(15, 5), color = 'red', label = 'B', alpha=.4)\n",
    "plt.axvspan('2020-12-25', '2021-01-03', color='brown', alpha=.2, label = 'Christmas&New Year Promo')\n",
    "plt.xticks(rotation=15)\n",
    "plt.legend()\n",
    "plt.show()"
   ]
  },
  {
   "cell_type": "code",
   "execution_count": 169,
   "id": "5b1f57ea",
   "metadata": {},
   "outputs": [
    {
     "data": {
      "image/png": "[encoded data removed]",
      "text/plain": [
       "<Figure size 3000x1000 with 1 Axes>"
      ]
     },
     "metadata": {},
     "output_type": "display_data"
    }
   ],
   "source": [
    "# посмотрим, сколько событий в среднем приходится на пользователя каждой группы:\n",
    "events_user_a = events_new[events_new['group'] == 'A'].groupby('user_id').agg(event_count = ('event_name', 'count')).reset_index()\n",
    "events_user_b = events_new[events_new['group'] == 'B'].groupby('user_id').agg(event_count = ('event_name', 'count')).reset_index()\n",
    "\n",
    "plt.figure(figsize=(15, 5))\n",
    "plt.title('Распределение количества событий на пользователя каждой группы', loc='left')\n",
    "sns.distplot(events_user_a['event_count'], bins=50, label='A', color='orange')\n",
    "sns.distplot(events_user_b['event_count'], bins=50, label='B', color='red')\n",
    "plt.xlabel('Количество событий')                  \n",
    "plt.ylabel('Количество пользователей')     \n",
    "plt.legend()\n",
    "plt.show()"
   ]
  },
  {
   "cell_type": "code",
   "execution_count": 170,
   "id": "3b081801",
   "metadata": {},
   "outputs": [
    {
     "data": {
      "text/html": [
       "<div>\n",
       "<style scoped>\n",
       "    .dataframe tbody tr th:only-of-type {\n",
       "        vertical-align: middle;\n",
       "    }\n",
       "\n",
       "    .dataframe tbody tr th {\n",
       "        vertical-align: top;\n",
       "    }\n",
       "\n",
       "    .dataframe thead th {\n",
       "        text-align: right;\n",
       "    }\n",
       "</style>\n",
       "<table border=\"1\" class=\"dataframe\">\n",
       "  <thead>\n",
       "    <tr style=\"text-align: right;\">\n",
       "      <th></th>\n",
       "      <th>event_count</th>\n",
       "    </tr>\n",
       "  </thead>\n",
       "  <tbody>\n",
       "    <tr>\n",
       "      <th>count</th>\n",
       "      <td>822.00</td>\n",
       "    </tr>\n",
       "    <tr>\n",
       "      <th>mean</th>\n",
       "      <td>5.34</td>\n",
       "    </tr>\n",
       "    <tr>\n",
       "      <th>std</th>\n",
       "      <td>3.17</td>\n",
       "    </tr>\n",
       "    <tr>\n",
       "      <th>min</th>\n",
       "      <td>1.00</td>\n",
       "    </tr>\n",
       "    <tr>\n",
       "      <th>25%</th>\n",
       "      <td>3.00</td>\n",
       "    </tr>\n",
       "    <tr>\n",
       "      <th>50%</th>\n",
       "      <td>4.00</td>\n",
       "    </tr>\n",
       "    <tr>\n",
       "      <th>75%</th>\n",
       "      <td>6.00</td>\n",
       "    </tr>\n",
       "    <tr>\n",
       "      <th>max</th>\n",
       "      <td>24.00</td>\n",
       "    </tr>\n",
       "  </tbody>\n",
       "</table>\n",
       "</div>"
      ],
      "text/plain": [
       "       event_count\n",
       "count       822.00\n",
       "mean          5.34\n",
       "std           3.17\n",
       "min           1.00\n",
       "25%           3.00\n",
       "50%           4.00\n",
       "75%           6.00\n",
       "max          24.00"
      ]
     },
     "execution_count": 170,
     "metadata": {},
     "output_type": "execute_result"
    }
   ],
   "source": [
    "events_user_b.describe()"
   ]
  },
  {
   "cell_type": "markdown",
   "id": "ad8368c4",
   "metadata": {},
   "source": [
    "Количество событий на пользователя в группе В немного ниже, но не сильно."
   ]
  },
  {
   "cell_type": "code",
   "execution_count": 171,
   "id": "ec82611e",
   "metadata": {},
   "outputs": [
    {
     "data": {
      "text/html": [
       "<div>\n",
       "<style scoped>\n",
       "    .dataframe tbody tr th:only-of-type {\n",
       "        vertical-align: middle;\n",
       "    }\n",
       "\n",
       "    .dataframe tbody tr th {\n",
       "        vertical-align: top;\n",
       "    }\n",
       "\n",
       "    .dataframe thead th {\n",
       "        text-align: right;\n",
       "    }\n",
       "</style>\n",
       "<table border=\"1\" class=\"dataframe\">\n",
       "  <thead>\n",
       "    <tr style=\"text-align: right;\">\n",
       "      <th></th>\n",
       "      <th>event_name</th>\n",
       "      <th>group</th>\n",
       "      <th>total_users</th>\n",
       "    </tr>\n",
       "  </thead>\n",
       "  <tbody>\n",
       "    <tr>\n",
       "      <th>1</th>\n",
       "      <td>login</td>\n",
       "      <td>B</td>\n",
       "      <td>821</td>\n",
       "    </tr>\n",
       "    <tr>\n",
       "      <th>5</th>\n",
       "      <td>product_page</td>\n",
       "      <td>B</td>\n",
       "      <td>459</td>\n",
       "    </tr>\n",
       "    <tr>\n",
       "      <th>7</th>\n",
       "      <td>purchase</td>\n",
       "      <td>B</td>\n",
       "      <td>226</td>\n",
       "    </tr>\n",
       "    <tr>\n",
       "      <th>3</th>\n",
       "      <td>product_cart</td>\n",
       "      <td>B</td>\n",
       "      <td>225</td>\n",
       "    </tr>\n",
       "    <tr>\n",
       "      <th>0</th>\n",
       "      <td>login</td>\n",
       "      <td>A</td>\n",
       "      <td>2422</td>\n",
       "    </tr>\n",
       "    <tr>\n",
       "      <th>4</th>\n",
       "      <td>product_page</td>\n",
       "      <td>A</td>\n",
       "      <td>1571</td>\n",
       "    </tr>\n",
       "    <tr>\n",
       "      <th>6</th>\n",
       "      <td>purchase</td>\n",
       "      <td>A</td>\n",
       "      <td>773</td>\n",
       "    </tr>\n",
       "    <tr>\n",
       "      <th>2</th>\n",
       "      <td>product_cart</td>\n",
       "      <td>A</td>\n",
       "      <td>728</td>\n",
       "    </tr>\n",
       "  </tbody>\n",
       "</table>\n",
       "</div>"
      ],
      "text/plain": [
       "     event_name group  total_users\n",
       "1         login     B          821\n",
       "5  product_page     B          459\n",
       "7      purchase     B          226\n",
       "3  product_cart     B          225\n",
       "0         login     A         2422\n",
       "4  product_page     A         1571\n",
       "6      purchase     A          773\n",
       "2  product_cart     A          728"
      ]
     },
     "execution_count": 171,
     "metadata": {},
     "output_type": "execute_result"
    }
   ],
   "source": [
    "funnel_group = (events_new.\n",
    "          groupby(['event_name', 'group']).\n",
    "          agg({'user_id': 'nunique'}).\n",
    "          reset_index().\n",
    "          rename(columns={'user_id' : 'total_users'}).\n",
    "          sort_values(by=['group','total_users'], ascending=False))\n",
    "\n",
    "\n",
    "funnel_group"
   ]
  },
  {
   "cell_type": "markdown",
   "id": "462ef549",
   "metadata": {},
   "source": [
    "Чтобы графики отображались верно, здесь тоже добавим колонку с последовательность и отсортируем события по ней."
   ]
  },
  {
   "cell_type": "code",
   "execution_count": 172,
   "id": "0022f878",
   "metadata": {},
   "outputs": [
    {
     "data": {
      "text/html": [
       "<div>\n",
       "<style scoped>\n",
       "    .dataframe tbody tr th:only-of-type {\n",
       "        vertical-align: middle;\n",
       "    }\n",
       "\n",
       "    .dataframe tbody tr th {\n",
       "        vertical-align: top;\n",
       "    }\n",
       "\n",
       "    .dataframe thead th {\n",
       "        text-align: right;\n",
       "    }\n",
       "</style>\n",
       "<table border=\"1\" class=\"dataframe\">\n",
       "  <thead>\n",
       "    <tr style=\"text-align: right;\">\n",
       "      <th></th>\n",
       "      <th>event_name</th>\n",
       "      <th>group</th>\n",
       "      <th>total_users</th>\n",
       "      <th>n</th>\n",
       "    </tr>\n",
       "  </thead>\n",
       "  <tbody>\n",
       "    <tr>\n",
       "      <th>1</th>\n",
       "      <td>login</td>\n",
       "      <td>B</td>\n",
       "      <td>821</td>\n",
       "      <td>1</td>\n",
       "    </tr>\n",
       "    <tr>\n",
       "      <th>5</th>\n",
       "      <td>product_page</td>\n",
       "      <td>B</td>\n",
       "      <td>459</td>\n",
       "      <td>2</td>\n",
       "    </tr>\n",
       "    <tr>\n",
       "      <th>3</th>\n",
       "      <td>product_cart</td>\n",
       "      <td>B</td>\n",
       "      <td>225</td>\n",
       "      <td>3</td>\n",
       "    </tr>\n",
       "    <tr>\n",
       "      <th>7</th>\n",
       "      <td>purchase</td>\n",
       "      <td>B</td>\n",
       "      <td>226</td>\n",
       "      <td>4</td>\n",
       "    </tr>\n",
       "    <tr>\n",
       "      <th>0</th>\n",
       "      <td>login</td>\n",
       "      <td>A</td>\n",
       "      <td>2422</td>\n",
       "      <td>5</td>\n",
       "    </tr>\n",
       "    <tr>\n",
       "      <th>4</th>\n",
       "      <td>product_page</td>\n",
       "      <td>A</td>\n",
       "      <td>1571</td>\n",
       "      <td>6</td>\n",
       "    </tr>\n",
       "    <tr>\n",
       "      <th>2</th>\n",
       "      <td>product_cart</td>\n",
       "      <td>A</td>\n",
       "      <td>728</td>\n",
       "      <td>7</td>\n",
       "    </tr>\n",
       "    <tr>\n",
       "      <th>6</th>\n",
       "      <td>purchase</td>\n",
       "      <td>A</td>\n",
       "      <td>773</td>\n",
       "      <td>8</td>\n",
       "    </tr>\n",
       "  </tbody>\n",
       "</table>\n",
       "</div>"
      ],
      "text/plain": [
       "     event_name group  total_users  n\n",
       "1         login     B          821  1\n",
       "5  product_page     B          459  2\n",
       "3  product_cart     B          225  3\n",
       "7      purchase     B          226  4\n",
       "0         login     A         2422  5\n",
       "4  product_page     A         1571  6\n",
       "2  product_cart     A          728  7\n",
       "6      purchase     A          773  8"
      ]
     },
     "execution_count": 172,
     "metadata": {},
     "output_type": "execute_result"
    }
   ],
   "source": [
    "funnel_group['n'] = [1, 2, 4, 3, 5, 6, 8, 7]\n",
    "funnel_group = funnel_group.sort_values(by='n')\n",
    "funnel_group"
   ]
  },
  {
   "cell_type": "code",
   "execution_count": 173,
   "id": "531674fe",
   "metadata": {},
   "outputs": [
    {
     "data": {
      "application/vnd.plotly.v1+json": {
       "config": {
        "plotlyServerURL": "https://plot.ly"
       },
       "data": [
        {
         "marker": {
          "color": [
           "deepskyblue",
           "lightsalmon",
           "tan",
           "teal"
          ]
         },
         "name": "A",
         "opacity": 0.6,
         "textinfo": "value+percent previous",
         "textposition": "inside",
         "type": "funnel",
         "x": [
          2422,
          1571,
          728,
          773
         ],
         "y": [
          "login",
          "product_page",
          "product_cart",
          "purchase"
         ]
        },
        {
         "marker": {
          "color": [
           "orange",
           "yellow",
           "brown",
           "red"
          ]
         },
         "name": "B",
         "opacity": 0.6,
         "textinfo": "value+percent previous",
         "textposition": "inside",
         "type": "funnel",
         "x": [
          821,
          459,
          225,
          226
         ],
         "y": [
          "login",
          "product_page",
          "product_cart",
          "purchase"
         ]
        }
       ],
       "layout": {
        "template": {
         "data": {
          "bar": [
           {
            "error_x": {
             "color": "#2a3f5f"
            },
            "error_y": {
             "color": "#2a3f5f"
            },
            "marker": {
             "line": {
              "color": "#E5ECF6",
              "width": 0.5
             },
             "pattern": {
              "fillmode": "overlay",
              "size": 10,
              "solidity": 0.2
             }
            },
            "type": "bar"
           }
          ],
          "barpolar": [
           {
            "marker": {
             "line": {
              "color": "#E5ECF6",
              "width": 0.5
             },
             "pattern": {
              "fillmode": "overlay",
              "size": 10,
              "solidity": 0.2
             }
            },
            "type": "barpolar"
           }
          ],
          "carpet": [
           {
            "aaxis": {
             "endlinecolor": "#2a3f5f",
             "gridcolor": "white",
             "linecolor": "white",
             "minorgridcolor": "white",
             "startlinecolor": "#2a3f5f"
            },
            "baxis": {
             "endlinecolor": "#2a3f5f",
             "gridcolor": "white",
             "linecolor": "white",
             "minorgridcolor": "white",
             "startlinecolor": "#2a3f5f"
            },
            "type": "carpet"
           }
          ],
          "choropleth": [
           {
            "colorbar": {
             "outlinewidth": 0,
             "ticks": ""
            },
            "type": "choropleth"
           }
          ],
          "contour": [
           {
            "colorbar": {
             "outlinewidth": 0,
             "ticks": ""
            },
            "colorscale": [
             [
              0,
              "#0d0887"
             ],
             [
              0.1111111111111111,
              "#46039f"
             ],
             [
              0.2222222222222222,
              "#7201a8"
             ],
             [
              0.3333333333333333,
              "#9c179e"
             ],
             [
              0.4444444444444444,
              "#bd3786"
             ],
             [
              0.5555555555555556,
              "#d8576b"
             ],
             [
              0.6666666666666666,
              "#ed7953"
             ],
             [
              0.7777777777777778,
              "#fb9f3a"
             ],
             [
              0.8888888888888888,
              "#fdca26"
             ],
             [
              1,
              "#f0f921"
             ]
            ],
            "type": "contour"
           }
          ],
          "contourcarpet": [
           {
            "colorbar": {
             "outlinewidth": 0,
             "ticks": ""
            },
            "type": "contourcarpet"
           }
          ],
          "heatmap": [
           {
            "colorbar": {
             "outlinewidth": 0,
             "ticks": ""
            },
            "colorscale": [
             [
              0,
              "#0d0887"
             ],
             [
              0.1111111111111111,
              "#46039f"
             ],
             [
              0.2222222222222222,
              "#7201a8"
             ],
             [
              0.3333333333333333,
              "#9c179e"
             ],
             [
              0.4444444444444444,
              "#bd3786"
             ],
             [
              0.5555555555555556,
              "#d8576b"
             ],
             [
              0.6666666666666666,
              "#ed7953"
             ],
             [
              0.7777777777777778,
              "#fb9f3a"
             ],
             [
              0.8888888888888888,
              "#fdca26"
             ],
             [
              1,
              "#f0f921"
             ]
            ],
            "type": "heatmap"
           }
          ],
          "heatmapgl": [
           {
            "colorbar": {
             "outlinewidth": 0,
             "ticks": ""
            },
            "colorscale": [
             [
              0,
              "#0d0887"
             ],
             [
              0.1111111111111111,
              "#46039f"
             ],
             [
              0.2222222222222222,
              "#7201a8"
             ],
             [
              0.3333333333333333,
              "#9c179e"
             ],
             [
              0.4444444444444444,
              "#bd3786"
             ],
             [
              0.5555555555555556,
              "#d8576b"
             ],
             [
              0.6666666666666666,
              "#ed7953"
             ],
             [
              0.7777777777777778,
              "#fb9f3a"
             ],
             [
              0.8888888888888888,
              "#fdca26"
             ],
             [
              1,
              "#f0f921"
             ]
            ],
            "type": "heatmapgl"
           }
          ],
          "histogram": [
           {
            "marker": {
             "pattern": {
              "fillmode": "overlay",
              "size": 10,
              "solidity": 0.2
             }
            },
            "type": "histogram"
           }
          ],
          "histogram2d": [
           {
            "colorbar": {
             "outlinewidth": 0,
             "ticks": ""
            },
            "colorscale": [
             [
              0,
              "#0d0887"
             ],
             [
              0.1111111111111111,
              "#46039f"
             ],
             [
              0.2222222222222222,
              "#7201a8"
             ],
             [
              0.3333333333333333,
              "#9c179e"
             ],
             [
              0.4444444444444444,
              "#bd3786"
             ],
             [
              0.5555555555555556,
              "#d8576b"
             ],
             [
              0.6666666666666666,
              "#ed7953"
             ],
             [
              0.7777777777777778,
              "#fb9f3a"
             ],
             [
              0.8888888888888888,
              "#fdca26"
             ],
             [
              1,
              "#f0f921"
             ]
            ],
            "type": "histogram2d"
           }
          ],
          "histogram2dcontour": [
           {
            "colorbar": {
             "outlinewidth": 0,
             "ticks": ""
            },
            "colorscale": [
             [
              0,
              "#0d0887"
             ],
             [
              0.1111111111111111,
              "#46039f"
             ],
             [
              0.2222222222222222,
              "#7201a8"
             ],
             [
              0.3333333333333333,
              "#9c179e"
             ],
             [
              0.4444444444444444,
              "#bd3786"
             ],
             [
              0.5555555555555556,
              "#d8576b"
             ],
             [
              0.6666666666666666,
              "#ed7953"
             ],
             [
              0.7777777777777778,
              "#fb9f3a"
             ],
             [
              0.8888888888888888,
              "#fdca26"
             ],
             [
              1,
              "#f0f921"
             ]
            ],
            "type": "histogram2dcontour"
           }
          ],
          "mesh3d": [
           {
            "colorbar": {
             "outlinewidth": 0,
             "ticks": ""
            },
            "type": "mesh3d"
           }
          ],
          "parcoords": [
           {
            "line": {
             "colorbar": {
              "outlinewidth": 0,
              "ticks": ""
             }
            },
            "type": "parcoords"
           }
          ],
          "pie": [
           {
            "automargin": true,
            "type": "pie"
           }
          ],
          "scatter": [
           {
            "marker": {
             "colorbar": {
              "outlinewidth": 0,
              "ticks": ""
             }
            },
            "type": "scatter"
           }
          ],
          "scatter3d": [
           {
            "line": {
             "colorbar": {
              "outlinewidth": 0,
              "ticks": ""
             }
            },
            "marker": {
             "colorbar": {
              "outlinewidth": 0,
              "ticks": ""
             }
            },
            "type": "scatter3d"
           }
          ],
          "scattercarpet": [
           {
            "marker": {
             "colorbar": {
              "outlinewidth": 0,
              "ticks": ""
             }
            },
            "type": "scattercarpet"
           }
          ],
          "scattergeo": [
           {
            "marker": {
             "colorbar": {
              "outlinewidth": 0,
              "ticks": ""
             }
            },
            "type": "scattergeo"
           }
          ],
          "scattergl": [
           {
            "marker": {
             "colorbar": {
              "outlinewidth": 0,
              "ticks": ""
             }
            },
            "type": "scattergl"
           }
          ],
          "scattermapbox": [
           {
            "marker": {
             "colorbar": {
              "outlinewidth": 0,
              "ticks": ""
             }
            },
            "type": "scattermapbox"
           }
          ],
          "scatterpolar": [
           {
            "marker": {
             "colorbar": {
              "outlinewidth": 0,
              "ticks": ""
             }
            },
            "type": "scatterpolar"
           }
          ],
          "scatterpolargl": [
           {
            "marker": {
             "colorbar": {
              "outlinewidth": 0,
              "ticks": ""
             }
            },
            "type": "scatterpolargl"
           }
          ],
          "scatterternary": [
           {
            "marker": {
             "colorbar": {
              "outlinewidth": 0,
              "ticks": ""
             }
            },
            "type": "scatterternary"
           }
          ],
          "surface": [
           {
            "colorbar": {
             "outlinewidth": 0,
             "ticks": ""
            },
            "colorscale": [
             [
              0,
              "#0d0887"
             ],
             [
              0.1111111111111111,
              "#46039f"
             ],
             [
              0.2222222222222222,
              "#7201a8"
             ],
             [
              0.3333333333333333,
              "#9c179e"
             ],
             [
              0.4444444444444444,
              "#bd3786"
             ],
             [
              0.5555555555555556,
              "#d8576b"
             ],
             [
              0.6666666666666666,
              "#ed7953"
             ],
             [
              0.7777777777777778,
              "#fb9f3a"
             ],
             [
              0.8888888888888888,
              "#fdca26"
             ],
             [
              1,
              "#f0f921"
             ]
            ],
            "type": "surface"
           }
          ],
          "table": [
           {
            "cells": {
             "fill": {
              "color": "#EBF0F8"
             },
             "line": {
              "color": "white"
             }
            },
            "header": {
             "fill": {
              "color": "#C8D4E3"
             },
             "line": {
              "color": "white"
             }
            },
            "type": "table"
           }
          ]
         },
         "layout": {
          "annotationdefaults": {
           "arrowcolor": "#2a3f5f",
           "arrowhead": 0,
           "arrowwidth": 1
          },
          "autotypenumbers": "strict",
          "coloraxis": {
           "colorbar": {
            "outlinewidth": 0,
            "ticks": ""
           }
          },
          "colorscale": {
           "diverging": [
            [
             0,
             "#8e0152"
            ],
            [
             0.1,
             "#c51b7d"
            ],
            [
             0.2,
             "#de77ae"
            ],
            [
             0.3,
             "#f1b6da"
            ],
            [
             0.4,
             "#fde0ef"
            ],
            [
             0.5,
             "#f7f7f7"
            ],
            [
             0.6,
             "#e6f5d0"
            ],
            [
             0.7,
             "#b8e186"
            ],
            [
             0.8,
             "#7fbc41"
            ],
            [
             0.9,
             "#4d9221"
            ],
            [
             1,
             "#276419"
            ]
           ],
           "sequential": [
            [
             0,
             "#0d0887"
            ],
            [
             0.1111111111111111,
             "#46039f"
            ],
            [
             0.2222222222222222,
             "#7201a8"
            ],
            [
             0.3333333333333333,
             "#9c179e"
            ],
            [
             0.4444444444444444,
             "#bd3786"
            ],
            [
             0.5555555555555556,
             "#d8576b"
            ],
            [
             0.6666666666666666,
             "#ed7953"
            ],
            [
             0.7777777777777778,
             "#fb9f3a"
            ],
            [
             0.8888888888888888,
             "#fdca26"
            ],
            [
             1,
             "#f0f921"
            ]
           ],
           "sequentialminus": [
            [
             0,
             "#0d0887"
            ],
            [
             0.1111111111111111,
             "#46039f"
            ],
            [
             0.2222222222222222,
             "#7201a8"
            ],
            [
             0.3333333333333333,
             "#9c179e"
            ],
            [
             0.4444444444444444,
             "#bd3786"
            ],
            [
             0.5555555555555556,
             "#d8576b"
            ],
            [
             0.6666666666666666,
             "#ed7953"
            ],
            [
             0.7777777777777778,
             "#fb9f3a"
            ],
            [
             0.8888888888888888,
             "#fdca26"
            ],
            [
             1,
             "#f0f921"
            ]
           ]
          },
          "colorway": [
           "#636efa",
           "#EF553B",
           "#00cc96",
           "#ab63fa",
           "#FFA15A",
           "#19d3f3",
           "#FF6692",
           "#B6E880",
           "#FF97FF",
           "#FECB52"
          ],
          "font": {
           "color": "#2a3f5f"
          },
          "geo": {
           "bgcolor": "white",
           "lakecolor": "white",
           "landcolor": "#E5ECF6",
           "showlakes": true,
           "showland": true,
           "subunitcolor": "white"
          },
          "hoverlabel": {
           "align": "left"
          },
          "hovermode": "closest",
          "mapbox": {
           "style": "light"
          },
          "paper_bgcolor": "white",
          "plot_bgcolor": "#E5ECF6",
          "polar": {
           "angularaxis": {
            "gridcolor": "white",
            "linecolor": "white",
            "ticks": ""
           },
           "bgcolor": "#E5ECF6",
           "radialaxis": {
            "gridcolor": "white",
            "linecolor": "white",
            "ticks": ""
           }
          },
          "scene": {
           "xaxis": {
            "backgroundcolor": "#E5ECF6",
            "gridcolor": "white",
            "gridwidth": 2,
            "linecolor": "white",
            "showbackground": true,
            "ticks": "",
            "zerolinecolor": "white"
           },
           "yaxis": {
            "backgroundcolor": "#E5ECF6",
            "gridcolor": "white",
            "gridwidth": 2,
            "linecolor": "white",
            "showbackground": true,
            "ticks": "",
            "zerolinecolor": "white"
           },
           "zaxis": {
            "backgroundcolor": "#E5ECF6",
            "gridcolor": "white",
            "gridwidth": 2,
            "linecolor": "white",
            "showbackground": true,
            "ticks": "",
            "zerolinecolor": "white"
           }
          },
          "shapedefaults": {
           "line": {
            "color": "#2a3f5f"
           }
          },
          "ternary": {
           "aaxis": {
            "gridcolor": "white",
            "linecolor": "white",
            "ticks": ""
           },
           "baxis": {
            "gridcolor": "white",
            "linecolor": "white",
            "ticks": ""
           },
           "bgcolor": "#E5ECF6",
           "caxis": {
            "gridcolor": "white",
            "linecolor": "white",
            "ticks": ""
           }
          },
          "title": {
           "x": 0.05
          },
          "xaxis": {
           "automargin": true,
           "gridcolor": "white",
           "linecolor": "white",
           "ticks": "",
           "title": {
            "standoff": 15
           },
           "zerolinecolor": "white",
           "zerolinewidth": 2
          },
          "yaxis": {
           "automargin": true,
           "gridcolor": "white",
           "linecolor": "white",
           "ticks": "",
           "title": {
            "standoff": 15
           },
           "zerolinecolor": "white",
           "zerolinewidth": 2
          }
         }
        },
        "title": {
         "text": "Воронка событий в разрезе тестовых групп"
        }
       }
      },
      "text/html": [
       "<div>                            <div id=\"2aeb343b-bbff-43fd-a33a-fec27f7029c9\" class=\"plotly-graph-div\" style=\"height:525px; width:100%;\"></div>            <script type=\"text/javascript\">                require([\"plotly\"], function(Plotly) {                    window.PLOTLYENV=window.PLOTLYENV || {};                                    if (document.getElementById(\"2aeb343b-bbff-43fd-a33a-fec27f7029c9\")) {                    Plotly.newPlot(                        \"2aeb343b-bbff-43fd-a33a-fec27f7029c9\",                        [{\"marker\":{\"color\":[\"deepskyblue\",\"lightsalmon\",\"tan\",\"teal\"]},\"name\":\"A\",\"opacity\":0.6,\"textinfo\":\"value+percent previous\",\"textposition\":\"inside\",\"x\":[2422,1571,728,773],\"y\":[\"login\",\"product_page\",\"product_cart\",\"purchase\"],\"type\":\"funnel\"},{\"marker\":{\"color\":[\"orange\",\"yellow\",\"brown\",\"red\"]},\"name\":\"B\",\"opacity\":0.6,\"textinfo\":\"value+percent previous\",\"textposition\":\"inside\",\"x\":[821,459,225,226],\"y\":[\"login\",\"product_page\",\"product_cart\",\"purchase\"],\"type\":\"funnel\"}],                        {\"template\":{\"data\":{\"bar\":[{\"error_x\":{\"color\":\"#2a3f5f\"},\"error_y\":{\"color\":\"#2a3f5f\"},\"marker\":{\"line\":{\"color\":\"#E5ECF6\",\"width\":0.5},\"pattern\":{\"fillmode\":\"overlay\",\"size\":10,\"solidity\":0.2}},\"type\":\"bar\"}],\"barpolar\":[{\"marker\":{\"line\":{\"color\":\"#E5ECF6\",\"width\":0.5},\"pattern\":{\"fillmode\":\"overlay\",\"size\":10,\"solidity\":0.2}},\"type\":\"barpolar\"}],\"carpet\":[{\"aaxis\":{\"endlinecolor\":\"#2a3f5f\",\"gridcolor\":\"white\",\"linecolor\":\"white\",\"minorgridcolor\":\"white\",\"startlinecolor\":\"#2a3f5f\"},\"baxis\":{\"endlinecolor\":\"#2a3f5f\",\"gridcolor\":\"white\",\"linecolor\":\"white\",\"minorgridcolor\":\"white\",\"startlinecolor\":\"#2a3f5f\"},\"type\":\"carpet\"}],\"choropleth\":[{\"colorbar\":{\"outlinewidth\":0,\"ticks\":\"\"},\"type\":\"choropleth\"}],\"contour\":[{\"colorbar\":{\"outlinewidth\":0,\"ticks\":\"\"},\"colorscale\":[[0.0,\"#0d0887\"],[0.1111111111111111,\"#46039f\"],[0.2222222222222222,\"#7201a8\"],[0.3333333333333333,\"#9c179e\"],[0.4444444444444444,\"#bd3786\"],[0.5555555555555556,\"#d8576b\"],[0.6666666666666666,\"#ed7953\"],[0.7777777777777778,\"#fb9f3a\"],[0.8888888888888888,\"#fdca26\"],[1.0,\"#f0f921\"]],\"type\":\"contour\"}],\"contourcarpet\":[{\"colorbar\":{\"outlinewidth\":0,\"ticks\":\"\"},\"type\":\"contourcarpet\"}],\"heatmap\":[{\"colorbar\":{\"outlinewidth\":0,\"ticks\":\"\"},\"colorscale\":[[0.0,\"#0d0887\"],[0.1111111111111111,\"#46039f\"],[0.2222222222222222,\"#7201a8\"],[0.3333333333333333,\"#9c179e\"],[0.4444444444444444,\"#bd3786\"],[0.5555555555555556,\"#d8576b\"],[0.6666666666666666,\"#ed7953\"],[0.7777777777777778,\"#fb9f3a\"],[0.8888888888888888,\"#fdca26\"],[1.0,\"#f0f921\"]],\"type\":\"heatmap\"}],\"heatmapgl\":[{\"colorbar\":{\"outlinewidth\":0,\"ticks\":\"\"},\"colorscale\":[[0.0,\"#0d0887\"],[0.1111111111111111,\"#46039f\"],[0.2222222222222222,\"#7201a8\"],[0.3333333333333333,\"#9c179e\"],[0.4444444444444444,\"#bd3786\"],[0.5555555555555556,\"#d8576b\"],[0.6666666666666666,\"#ed7953\"],[0.7777777777777778,\"#fb9f3a\"],[0.8888888888888888,\"#fdca26\"],[1.0,\"#f0f921\"]],\"type\":\"heatmapgl\"}],\"histogram\":[{\"marker\":{\"pattern\":{\"fillmode\":\"overlay\",\"size\":10,\"solidity\":0.2}},\"type\":\"histogram\"}],\"histogram2d\":[{\"colorbar\":{\"outlinewidth\":0,\"ticks\":\"\"},\"colorscale\":[[0.0,\"#0d0887\"],[0.1111111111111111,\"#46039f\"],[0.2222222222222222,\"#7201a8\"],[0.3333333333333333,\"#9c179e\"],[0.4444444444444444,\"#bd3786\"],[0.5555555555555556,\"#d8576b\"],[0.6666666666666666,\"#ed7953\"],[0.7777777777777778,\"#fb9f3a\"],[0.8888888888888888,\"#fdca26\"],[1.0,\"#f0f921\"]],\"type\":\"histogram2d\"}],\"histogram2dcontour\":[{\"colorbar\":{\"outlinewidth\":0,\"ticks\":\"\"},\"colorscale\":[[0.0,\"#0d0887\"],[0.1111111111111111,\"#46039f\"],[0.2222222222222222,\"#7201a8\"],[0.3333333333333333,\"#9c179e\"],[0.4444444444444444,\"#bd3786\"],[0.5555555555555556,\"#d8576b\"],[0.6666666666666666,\"#ed7953\"],[0.7777777777777778,\"#fb9f3a\"],[0.8888888888888888,\"#fdca26\"],[1.0,\"#f0f921\"]],\"type\":\"histogram2dcontour\"}],\"mesh3d\":[{\"colorbar\":{\"outlinewidth\":0,\"ticks\":\"\"},\"type\":\"mesh3d\"}],\"parcoords\":[{\"line\":{\"colorbar\":{\"outlinewidth\":0,\"ticks\":\"\"}},\"type\":\"parcoords\"}],\"pie\":[{\"automargin\":true,\"type\":\"pie\"}],\"scatter\":[{\"marker\":{\"colorbar\":{\"outlinewidth\":0,\"ticks\":\"\"}},\"type\":\"scatter\"}],\"scatter3d\":[{\"line\":{\"colorbar\":{\"outlinewidth\":0,\"ticks\":\"\"}},\"marker\":{\"colorbar\":{\"outlinewidth\":0,\"ticks\":\"\"}},\"type\":\"scatter3d\"}],\"scattercarpet\":[{\"marker\":{\"colorbar\":{\"outlinewidth\":0,\"ticks\":\"\"}},\"type\":\"scattercarpet\"}],\"scattergeo\":[{\"marker\":{\"colorbar\":{\"outlinewidth\":0,\"ticks\":\"\"}},\"type\":\"scattergeo\"}],\"scattergl\":[{\"marker\":{\"colorbar\":{\"outlinewidth\":0,\"ticks\":\"\"}},\"type\":\"scattergl\"}],\"scattermapbox\":[{\"marker\":{\"colorbar\":{\"outlinewidth\":0,\"ticks\":\"\"}},\"type\":\"scattermapbox\"}],\"scatterpolar\":[{\"marker\":{\"colorbar\":{\"outlinewidth\":0,\"ticks\":\"\"}},\"type\":\"scatterpolar\"}],\"scatterpolargl\":[{\"marker\":{\"colorbar\":{\"outlinewidth\":0,\"ticks\":\"\"}},\"type\":\"scatterpolargl\"}],\"scatterternary\":[{\"marker\":{\"colorbar\":{\"outlinewidth\":0,\"ticks\":\"\"}},\"type\":\"scatterternary\"}],\"surface\":[{\"colorbar\":{\"outlinewidth\":0,\"ticks\":\"\"},\"colorscale\":[[0.0,\"#0d0887\"],[0.1111111111111111,\"#46039f\"],[0.2222222222222222,\"#7201a8\"],[0.3333333333333333,\"#9c179e\"],[0.4444444444444444,\"#bd3786\"],[0.5555555555555556,\"#d8576b\"],[0.6666666666666666,\"#ed7953\"],[0.7777777777777778,\"#fb9f3a\"],[0.8888888888888888,\"#fdca26\"],[1.0,\"#f0f921\"]],\"type\":\"surface\"}],\"table\":[{\"cells\":{\"fill\":{\"color\":\"#EBF0F8\"},\"line\":{\"color\":\"white\"}},\"header\":{\"fill\":{\"color\":\"#C8D4E3\"},\"line\":{\"color\":\"white\"}},\"type\":\"table\"}]},\"layout\":{\"annotationdefaults\":{\"arrowcolor\":\"#2a3f5f\",\"arrowhead\":0,\"arrowwidth\":1},\"autotypenumbers\":\"strict\",\"coloraxis\":{\"colorbar\":{\"outlinewidth\":0,\"ticks\":\"\"}},\"colorscale\":{\"diverging\":[[0,\"#8e0152\"],[0.1,\"#c51b7d\"],[0.2,\"#de77ae\"],[0.3,\"#f1b6da\"],[0.4,\"#fde0ef\"],[0.5,\"#f7f7f7\"],[0.6,\"#e6f5d0\"],[0.7,\"#b8e186\"],[0.8,\"#7fbc41\"],[0.9,\"#4d9221\"],[1,\"#276419\"]],\"sequential\":[[0.0,\"#0d0887\"],[0.1111111111111111,\"#46039f\"],[0.2222222222222222,\"#7201a8\"],[0.3333333333333333,\"#9c179e\"],[0.4444444444444444,\"#bd3786\"],[0.5555555555555556,\"#d8576b\"],[0.6666666666666666,\"#ed7953\"],[0.7777777777777778,\"#fb9f3a\"],[0.8888888888888888,\"#fdca26\"],[1.0,\"#f0f921\"]],\"sequentialminus\":[[0.0,\"#0d0887\"],[0.1111111111111111,\"#46039f\"],[0.2222222222222222,\"#7201a8\"],[0.3333333333333333,\"#9c179e\"],[0.4444444444444444,\"#bd3786\"],[0.5555555555555556,\"#d8576b\"],[0.6666666666666666,\"#ed7953\"],[0.7777777777777778,\"#fb9f3a\"],[0.8888888888888888,\"#fdca26\"],[1.0,\"#f0f921\"]]},\"colorway\":[\"#636efa\",\"#EF553B\",\"#00cc96\",\"#ab63fa\",\"#FFA15A\",\"#19d3f3\",\"#FF6692\",\"#B6E880\",\"#FF97FF\",\"#FECB52\"],\"font\":{\"color\":\"#2a3f5f\"},\"geo\":{\"bgcolor\":\"white\",\"lakecolor\":\"white\",\"landcolor\":\"#E5ECF6\",\"showlakes\":true,\"showland\":true,\"subunitcolor\":\"white\"},\"hoverlabel\":{\"align\":\"left\"},\"hovermode\":\"closest\",\"mapbox\":{\"style\":\"light\"},\"paper_bgcolor\":\"white\",\"plot_bgcolor\":\"#E5ECF6\",\"polar\":{\"angularaxis\":{\"gridcolor\":\"white\",\"linecolor\":\"white\",\"ticks\":\"\"},\"bgcolor\":\"#E5ECF6\",\"radialaxis\":{\"gridcolor\":\"white\",\"linecolor\":\"white\",\"ticks\":\"\"}},\"scene\":{\"xaxis\":{\"backgroundcolor\":\"#E5ECF6\",\"gridcolor\":\"white\",\"gridwidth\":2,\"linecolor\":\"white\",\"showbackground\":true,\"ticks\":\"\",\"zerolinecolor\":\"white\"},\"yaxis\":{\"backgroundcolor\":\"#E5ECF6\",\"gridcolor\":\"white\",\"gridwidth\":2,\"linecolor\":\"white\",\"showbackground\":true,\"ticks\":\"\",\"zerolinecolor\":\"white\"},\"zaxis\":{\"backgroundcolor\":\"#E5ECF6\",\"gridcolor\":\"white\",\"gridwidth\":2,\"linecolor\":\"white\",\"showbackground\":true,\"ticks\":\"\",\"zerolinecolor\":\"white\"}},\"shapedefaults\":{\"line\":{\"color\":\"#2a3f5f\"}},\"ternary\":{\"aaxis\":{\"gridcolor\":\"white\",\"linecolor\":\"white\",\"ticks\":\"\"},\"baxis\":{\"gridcolor\":\"white\",\"linecolor\":\"white\",\"ticks\":\"\"},\"bgcolor\":\"#E5ECF6\",\"caxis\":{\"gridcolor\":\"white\",\"linecolor\":\"white\",\"ticks\":\"\"}},\"title\":{\"x\":0.05},\"xaxis\":{\"automargin\":true,\"gridcolor\":\"white\",\"linecolor\":\"white\",\"ticks\":\"\",\"title\":{\"standoff\":15},\"zerolinecolor\":\"white\",\"zerolinewidth\":2},\"yaxis\":{\"automargin\":true,\"gridcolor\":\"white\",\"linecolor\":\"white\",\"ticks\":\"\",\"title\":{\"standoff\":15},\"zerolinecolor\":\"white\",\"zerolinewidth\":2}}},\"title\":{\"text\":\"\\u0412\\u043e\\u0440\\u043e\\u043d\\u043a\\u0430 \\u0441\\u043e\\u0431\\u044b\\u0442\\u0438\\u0439 \\u0432 \\u0440\\u0430\\u0437\\u0440\\u0435\\u0437\\u0435 \\u0442\\u0435\\u0441\\u0442\\u043e\\u0432\\u044b\\u0445 \\u0433\\u0440\\u0443\\u043f\\u043f\"}},                        {\"responsive\": true}                    ).then(function(){\n",
       "                            \n",
       "var gd = document.getElementById('2aeb343b-bbff-43fd-a33a-fec27f7029c9');\n",
       "var x = new MutationObserver(function (mutations, observer) {{\n",
       "        var display = window.getComputedStyle(gd).display;\n",
       "        if (!display || display === 'none') {{\n",
       "            console.log([gd, 'removed!']);\n",
       "            Plotly.purge(gd);\n",
       "            observer.disconnect();\n",
       "        }}\n",
       "}});\n",
       "\n",
       "// Listen for the removal of the full notebook cells\n",
       "var notebookContainer = gd.closest('#notebook-container');\n",
       "if (notebookContainer) {{\n",
       "    x.observe(notebookContainer, {childList: true});\n",
       "}}\n",
       "\n",
       "// Listen for the clearing of the current output cell\n",
       "var outputEl = gd.closest('.output');\n",
       "if (outputEl) {{\n",
       "    x.observe(outputEl, {childList: true});\n",
       "}}\n",
       "\n",
       "                        })                };                });            </script>        </div>"
      ]
     },
     "metadata": {},
     "output_type": "display_data"
    }
   ],
   "source": [
    "fig = go.Figure()\n",
    "\n",
    "fig.add_trace(go.Funnel(name = 'A',\n",
    "   y = funnel_group.query('group == \"A\"')['event_name'],\n",
    "   x = funnel_group.query('group == \"A\"')['total_users'],\n",
    "   opacity = 0.6,\n",
    "   textposition = 'inside',\n",
    "   textinfo = 'value + percent previous',\n",
    "   marker = {\"color\": [\"deepskyblue\", \"lightsalmon\", \"tan\", \"teal\"]}))\n",
    "                       \n",
    "\n",
    "fig.add_trace(go.Funnel(name = 'B',\n",
    "    y = funnel_group.query('group == \"B\"')['event_name'],\n",
    "    x = funnel_group.query('group == \"B\"')['total_users'],\n",
    "    opacity = 0.6,\n",
    "    textposition = 'inside',\n",
    "    textinfo = 'value + percent previous',\n",
    "    marker = {\"color\": [\"orange\", \"yellow\", \"brown\", \"red\"]}))\n",
    "                        \n",
    "fig.update_layout(title_text='Воронка событий в разрезе тестовых групп')\n",
    "fig.show()"
   ]
  },
  {
   "cell_type": "markdown",
   "id": "7f945d2f",
   "metadata": {},
   "source": [
    "В разрезе групп мы так же видим, что наибольшее количество пользователей  теряется после первого шага (около 35% у группы А и 44% у группы В). Относительная разница конверсии в группе В к таковой в группе А = 56/65 - 1 = 13% ( в меньшую сторону).\n",
    "30% от первоначального количества пользователей группы А успешно оплачивают товары из корзины. У пользователей группы В это значение меньше: 28%.   \n",
    "\n",
    "По-прежнему используется обходной путь: оплата может проходить минуя шаг Корзина, т.е. не прослеживается ожидаемая последовательность событий Авторизация -> Просмотр товара -> Просмотр корзины -> Покупка."
   ]
  },
  {
   "cell_type": "markdown",
   "id": "803ef5fa",
   "metadata": {},
   "source": [
    "## Оценка результатов A/B-тестирования, проверка статистических гипотез"
   ]
  },
  {
   "cell_type": "markdown",
   "id": "0908c733",
   "metadata": {},
   "source": [
    "Определим, есть ли статистически значимая разница между долями прошедших по воронке пользователей в группах А и В.\n",
    "\n",
    "Перед проверкой гипотезы о равенстве долей очистим данные от выбросов - исключим пользователей с большим числом событий. Посчитаем 95-й, 98-й и 99-й перцентили  и выберим границу для определения аномалий."
   ]
  },
  {
   "cell_type": "code",
   "execution_count": 174,
   "id": "66b00bef",
   "metadata": {},
   "outputs": [
    {
     "name": "stdout",
     "output_type": "stream",
     "text": [
      "[14. 16. 18.]\n"
     ]
    }
   ],
   "source": [
    "print(np.percentile(events_new.groupby('user_id').agg(events=('event_name', 'count')), [95, 98, 99])) "
   ]
  },
  {
   "cell_type": "markdown",
   "id": "44e91b8c",
   "metadata": {},
   "source": [
    "Исключаем пользователей с числом событий более 16."
   ]
  },
  {
   "cell_type": "code",
   "execution_count": 175,
   "id": "24f45bf9",
   "metadata": {},
   "outputs": [
    {
     "name": "stdout",
     "output_type": "stream",
     "text": [
      "Пользователей с повышенным количеством действий -  47 человек\n",
      "Пользователей до удаления выбросов - 3244 человек\n",
      "Пользователей после удаления выбросов - 3197\n"
     ]
    }
   ],
   "source": [
    "events_count = events_new.groupby('user_id').agg(events=('event_name', 'count')).reset_index()\n",
    "spenders = events_count.query('events > 16')\n",
    "\n",
    "print('Пользователей с повышенным количеством действий -  %s человек' % len(spenders))\n",
    "print('Пользователей до удаления выбросов - %s человек'% len(events_new['user_id'].unique()))\n",
    "events_new = events_new[~events_new['user_id'].isin(spenders['user_id'])]\n",
    "print('Пользователей после удаления выбросов - %s' % len(events_new['user_id'].unique()))\n"
   ]
  },
  {
   "cell_type": "markdown",
   "id": "21c04cee",
   "metadata": {},
   "source": [
    "Cогласно предложенному процессу, нам нужно будет сопоставить доли уникальных пользователей, т.е. проверить три гипотезы о равенстве долей в группах А и В при конверсии в:\n",
    "*    просмотре карточек товаров (product_page)\n",
    "*    просмотре корзины (product_cart)\n",
    "*    покупке (purchase)\n",
    "    \n",
    "    \n",
    "Всего у нас 3 вида событий, следовательно для всех тестов мы вводим поправку Бонферрони `bonferroni_alpha = alpha / 3`, чтобы застраховать себя от ложного результата."
   ]
  },
  {
   "cell_type": "markdown",
   "id": "76c4b308",
   "metadata": {},
   "source": [
    "<p>Введем основную и альтернативные гипотезы для всех попарных сравнений:</p>\n",
    "\n",
    "$\\begin{equation*}\n",
    " \\begin{cases}\n",
    "   H_0 :\\text{доли уникальных посетителей, побывавших на этапе воронки, одинаковы}\\\\\n",
    "   H_1 :\\text{доли уникальных посетителей, побывавших на этапе воронки, отличаются}\n",
    " \\end{cases}\n",
    "\\end{equation*}$"
   ]
  },
  {
   "cell_type": "code",
   "execution_count": 176,
   "id": "f9794de3",
   "metadata": {},
   "outputs": [],
   "source": [
    "def z_test(df1, df2, event, alpha, n):\n",
    "    '''    \n",
    "Функция принимает на вход два датафрейма с логами и по заданному событию попарно проверяет \n",
    "есть ли статистически значимая разница между долями пользователей, совершивших его в группе 1 и группе 2.\n",
    "\n",
    "Входные параметры:\n",
    "    - df1, df2 - датафреймы с логами\n",
    "    - event - событие\n",
    "    - alpha - критический уровень статистической значимости\n",
    "    - n - поправка Боннферони для критического уровня статистической значимости\n",
    "    '''    \n",
    "    \n",
    "    # критический уровень статистической значимости c поправкой Бонферрони\n",
    "    bonferroni_alpha = alpha / n\n",
    " \n",
    "    # число пользователей в группе 1 и группе 2:\n",
    "    n_users = np.array([df1['user_id'].nunique(), \n",
    "                        df2['user_id'].nunique()])\n",
    "\n",
    "    # число пользователей, совершивших событие в группе 1 и группе 2\n",
    "    success = np.array([df1[df1['event_name'] == event]['user_id'].nunique(), \n",
    "                        df2[df2['event_name'] == event]['user_id'].nunique()])\n",
    "\n",
    "    # пропорции успехов в группах:\n",
    "    p1 = success[0]/n_users[0]\n",
    "    p2 = success[1]/n_users[1]\n",
    "    \n",
    "    # пропорция успехов в комбинированном датасете:\n",
    "    p_combined = (success[0] + success[1]) / (n_users[0] + n_users[1])\n",
    "    \n",
    "    # разница пропорций в датасетах\n",
    "    difference = p1 - p2 \n",
    "    \n",
    "    # считаем статистику в ст.отклонениях стандартного нормального распределения\n",
    "    z_value = difference /  np.sqrt(p_combined * (1 - p_combined) * (1/n_users[0] + 1/n_users[1]))\n",
    "    \n",
    "    # задаем стандартное нормальное распределение (среднее 0, ст.отклонение 1)\n",
    "    distr = st.norm(0, 1)  \n",
    "\n",
    "    p_value = (1 - distr.cdf(abs(z_value))) * 2   #тест двусторонний, удваиваем результат\n",
    "    \n",
    "    print('Событие:', event)\n",
    "    print('p-значение: ', p_value)\n",
    "\n",
    "    if p_value < bonferroni_alpha:\n",
    "        print('Отвергаем нулевую гипотезу: между долями есть разница')\n",
    "    else:\n",
    "        print(\n",
    "        'Не получилось отвергнуть нулевую гипотезу, нет оснований считать доли разными')"
   ]
  },
  {
   "cell_type": "code",
   "execution_count": 177,
   "id": "8c087d51",
   "metadata": {},
   "outputs": [
    {
     "name": "stdout",
     "output_type": "stream",
     "text": [
      "Событие: product_page\n",
      "p-значение:  1.043046471571607e-05\n",
      "Отвергаем нулевую гипотезу: между долями есть разница\n",
      "\n",
      "Событие: product_cart\n",
      "p-значение:  0.24057574359840972\n",
      "Не получилось отвергнуть нулевую гипотезу, нет оснований считать доли разными\n",
      "\n",
      "Событие: purchase\n",
      "p-значение:  0.0314256198772922\n",
      "Не получилось отвергнуть нулевую гипотезу, нет оснований считать доли разными\n",
      "\n"
     ]
    }
   ],
   "source": [
    "for event in ['product_page', 'product_cart', 'purchase']:\n",
    "    z_test(events_new[events_new['group'] == 'A'], events_new[events_new['group'] == 'B'], event,.05, 3)\n",
    "    print()"
   ]
  },
  {
   "cell_type": "markdown",
   "id": "ff1dc4ca",
   "metadata": {},
   "source": [
    "## Вывод и рекомндации"
   ]
  },
  {
   "cell_type": "markdown",
   "id": "db780d0b",
   "metadata": {},
   "source": [
    "Тест был проведён с нарушениями:\n",
    "\n",
    "*    После набора пользователей, но до остановки теста, в период с 25.12.2020 по 03.01.2021 в EU проводилась акция \"Christmas&New Year Promo\".\n",
    "*    В выгрузке нет данных о событиях с 31.12.2020 по 04.01.2021 (время остановки теста). Не хватает информации за 5 дней.\n",
    "*    Параллельно с нашим тестом шёл другой. После дополнительной проверки мы пришли к выводу, что это не повлияло на результаты нашего тестирования, а пользователи, которые параллельно участвовали в двух экпериментах, не исключались из исследования. \n",
    "*    Количество участников в группах А и В сильно различается (3385 и 2533, соответственно).\n",
    "*    Почти половина пользователей теста не совершили ни одного действия в системе. Активных пользователей в группе А оказалось почти в 3 раза больше, чем в группе В (2422 против 822)\n",
    "*    Так же, проведение эксперимента совпало с сезонным спросом - покупкой подарков на Рождество и Новый год.\n",
    "\n",
    "Все вышеперечисленные факторы могут исказить результаты тестирования. Для чистоты эксперимента необходимо доработать механизм формирования тестовых групп и запустить тест заново, предварительно сверившись с календарём маркетинговых акций.\n",
    "\n",
    "\n",
    "В ходе исследовательского анализа имеющихся данных установлены следующие особенности: в системе не прослеживается ожидаемая последовательность событий Авторизация -> Просмотр товара -> Просмотр корзины -> Покупка.\n",
    "\n",
    "Результаты проверки гипотезы о равенстве долей уникальных пользователей свидетельствуют:\n",
    "\n",
    "* доли уникальных посетителей, побывавших на этапе воронки Просмотр товара, отличаются.  Количество потерянных с предыдущего шага (Авторизация) пользователей - 35% у группы А и 44% у группы В. Группа В  проигрывает. \n",
    "* отсутствует существенная  разница  в долях уникальных пользователей между группами А и В при конверсии в Просмотр корзины и в Покупку.\n",
    "\n",
    "Таким образом, по имеющимся данным, новая рекомендательная система целевые метрики **не улучшила**."
   ]
  }
 ],
 "metadata": {
  "ExecuteTimeLog": [
   {
    "duration": 1250,
    "start_time": "2023-08-20T21:12:25.947Z"
   },
   {
    "duration": 5,
    "start_time": "2023-08-20T21:12:27.199Z"
   },
   {
    "duration": 1058,
    "start_time": "2023-08-20T21:12:27.207Z"
   },
   {
    "duration": 4,
    "start_time": "2023-08-20T21:12:28.266Z"
   },
   {
    "duration": 480,
    "start_time": "2023-08-20T21:12:28.273Z"
   },
   {
    "duration": 39,
    "start_time": "2023-08-20T21:12:28.755Z"
   },
   {
    "duration": 6,
    "start_time": "2023-08-20T21:12:28.795Z"
   },
   {
    "duration": 57,
    "start_time": "2023-08-20T21:12:28.802Z"
   },
   {
    "duration": 145,
    "start_time": "2023-08-20T21:12:28.861Z"
   },
   {
    "duration": 6,
    "start_time": "2023-08-20T21:12:29.008Z"
   },
   {
    "duration": 23,
    "start_time": "2023-08-20T21:12:29.015Z"
   },
   {
    "duration": 71,
    "start_time": "2023-08-20T21:12:29.040Z"
   },
   {
    "duration": 5,
    "start_time": "2023-08-20T21:12:29.112Z"
   },
   {
    "duration": 15,
    "start_time": "2023-08-20T21:12:29.121Z"
   },
   {
    "duration": 118,
    "start_time": "2023-08-20T21:12:29.139Z"
   },
   {
    "duration": 13,
    "start_time": "2023-08-20T21:12:29.258Z"
   },
   {
    "duration": 33,
    "start_time": "2023-08-20T21:12:29.273Z"
   },
   {
    "duration": 41,
    "start_time": "2023-08-20T21:12:29.308Z"
   },
   {
    "duration": 36,
    "start_time": "2023-08-20T21:12:29.352Z"
   },
   {
    "duration": 10,
    "start_time": "2023-08-20T21:12:29.390Z"
   },
   {
    "duration": 9,
    "start_time": "2023-08-20T21:12:29.401Z"
   },
   {
    "duration": 28,
    "start_time": "2023-08-20T21:12:29.411Z"
   },
   {
    "duration": 17,
    "start_time": "2023-08-20T21:12:29.455Z"
   },
   {
    "duration": 32,
    "start_time": "2023-08-20T21:12:29.474Z"
   },
   {
    "duration": 17,
    "start_time": "2023-08-20T21:12:29.507Z"
   },
   {
    "duration": 22,
    "start_time": "2023-08-20T21:12:29.526Z"
   },
   {
    "duration": 15,
    "start_time": "2023-08-20T21:12:29.550Z"
   },
   {
    "duration": 23,
    "start_time": "2023-08-20T21:12:29.567Z"
   },
   {
    "duration": 137,
    "start_time": "2023-08-20T21:12:29.591Z"
   },
   {
    "duration": 41,
    "start_time": "2023-08-20T21:12:29.730Z"
   },
   {
    "duration": 15,
    "start_time": "2023-08-20T21:12:29.773Z"
   },
   {
    "duration": 22,
    "start_time": "2023-08-20T21:12:29.789Z"
   },
   {
    "duration": 39,
    "start_time": "2023-08-20T21:12:29.812Z"
   },
   {
    "duration": 17,
    "start_time": "2023-08-20T21:12:29.853Z"
   },
   {
    "duration": 8,
    "start_time": "2023-08-20T21:12:29.872Z"
   },
   {
    "duration": 16,
    "start_time": "2023-08-20T21:12:29.881Z"
   },
   {
    "duration": 437,
    "start_time": "2023-08-20T21:12:29.899Z"
   },
   {
    "duration": 34,
    "start_time": "2023-08-20T21:12:30.337Z"
   },
   {
    "duration": 23,
    "start_time": "2023-08-20T21:12:30.372Z"
   },
   {
    "duration": 50,
    "start_time": "2023-08-20T21:12:30.396Z"
   },
   {
    "duration": 480,
    "start_time": "2023-08-20T21:12:30.450Z"
   },
   {
    "duration": 1243,
    "start_time": "2023-08-20T21:12:30.932Z"
   },
   {
    "duration": 14,
    "start_time": "2023-08-20T21:12:32.177Z"
   },
   {
    "duration": 404,
    "start_time": "2023-08-20T21:12:32.192Z"
   },
   {
    "duration": 22,
    "start_time": "2023-08-20T21:12:32.598Z"
   },
   {
    "duration": 10,
    "start_time": "2023-08-20T21:12:32.622Z"
   },
   {
    "duration": 384,
    "start_time": "2023-08-20T21:12:32.633Z"
   },
   {
    "duration": 37,
    "start_time": "2023-08-20T21:12:33.019Z"
   },
   {
    "duration": 959,
    "start_time": "2023-08-20T21:12:33.058Z"
   },
   {
    "duration": 110,
    "start_time": "2023-08-20T21:12:34.019Z"
   },
   {
    "duration": 0,
    "start_time": "2023-08-20T21:12:34.130Z"
   },
   {
    "duration": 0,
    "start_time": "2023-08-20T21:12:34.131Z"
   },
   {
    "duration": 0,
    "start_time": "2023-08-20T21:12:34.132Z"
   },
   {
    "duration": 0,
    "start_time": "2023-08-20T21:12:34.133Z"
   },
   {
    "duration": 1,
    "start_time": "2023-08-20T21:12:34.134Z"
   },
   {
    "duration": 0,
    "start_time": "2023-08-20T21:12:34.149Z"
   },
   {
    "duration": 0,
    "start_time": "2023-08-20T21:12:34.150Z"
   },
   {
    "duration": 0,
    "start_time": "2023-08-20T21:12:34.151Z"
   },
   {
    "duration": 577,
    "start_time": "2023-08-20T21:13:45.267Z"
   },
   {
    "duration": 19,
    "start_time": "2023-08-20T21:14:08.980Z"
   },
   {
    "duration": 18,
    "start_time": "2023-08-20T21:14:11.807Z"
   },
   {
    "duration": 29,
    "start_time": "2023-08-20T21:14:11.827Z"
   },
   {
    "duration": 24,
    "start_time": "2023-08-20T21:14:11.858Z"
   },
   {
    "duration": 21,
    "start_time": "2023-08-20T21:14:11.883Z"
   },
   {
    "duration": 23,
    "start_time": "2023-08-20T21:14:11.906Z"
   },
   {
    "duration": 6,
    "start_time": "2023-08-20T21:14:11.931Z"
   },
   {
    "duration": 54,
    "start_time": "2023-08-20T21:14:11.938Z"
   },
   {
    "duration": 1401,
    "start_time": "2023-08-21T17:34:50.765Z"
   },
   {
    "duration": 5,
    "start_time": "2023-08-21T17:34:52.169Z"
   },
   {
    "duration": 1064,
    "start_time": "2023-08-21T17:34:52.175Z"
   },
   {
    "duration": 4,
    "start_time": "2023-08-21T17:34:53.240Z"
   },
   {
    "duration": 473,
    "start_time": "2023-08-21T17:34:53.246Z"
   },
   {
    "duration": 28,
    "start_time": "2023-08-21T17:34:53.721Z"
   },
   {
    "duration": 21,
    "start_time": "2023-08-21T17:34:53.750Z"
   },
   {
    "duration": 51,
    "start_time": "2023-08-21T17:34:53.772Z"
   },
   {
    "duration": 161,
    "start_time": "2023-08-21T17:34:53.825Z"
   },
   {
    "duration": 7,
    "start_time": "2023-08-21T17:34:53.987Z"
   },
   {
    "duration": 9,
    "start_time": "2023-08-21T17:34:54.010Z"
   },
   {
    "duration": 56,
    "start_time": "2023-08-21T17:34:54.021Z"
   },
   {
    "duration": 33,
    "start_time": "2023-08-21T17:34:54.078Z"
   },
   {
    "duration": 13,
    "start_time": "2023-08-21T17:34:54.115Z"
   },
   {
    "duration": 117,
    "start_time": "2023-08-21T17:34:54.129Z"
   },
   {
    "duration": 8,
    "start_time": "2023-08-21T17:34:54.248Z"
   },
   {
    "duration": 59,
    "start_time": "2023-08-21T17:34:54.257Z"
   },
   {
    "duration": 16,
    "start_time": "2023-08-21T17:34:54.318Z"
   },
   {
    "duration": 35,
    "start_time": "2023-08-21T17:34:54.336Z"
   },
   {
    "duration": 10,
    "start_time": "2023-08-21T17:34:54.372Z"
   },
   {
    "duration": 27,
    "start_time": "2023-08-21T17:34:54.384Z"
   },
   {
    "duration": 23,
    "start_time": "2023-08-21T17:34:54.413Z"
   },
   {
    "duration": 7,
    "start_time": "2023-08-21T17:34:54.437Z"
   },
   {
    "duration": 38,
    "start_time": "2023-08-21T17:34:54.446Z"
   },
   {
    "duration": 11,
    "start_time": "2023-08-21T17:34:54.486Z"
   },
   {
    "duration": 20,
    "start_time": "2023-08-21T17:34:54.498Z"
   },
   {
    "duration": 10,
    "start_time": "2023-08-21T17:34:54.519Z"
   },
   {
    "duration": 37,
    "start_time": "2023-08-21T17:34:54.530Z"
   },
   {
    "duration": 167,
    "start_time": "2023-08-21T17:34:54.569Z"
   },
   {
    "duration": 20,
    "start_time": "2023-08-21T17:34:54.738Z"
   },
   {
    "duration": 21,
    "start_time": "2023-08-21T17:34:54.760Z"
   },
   {
    "duration": 47,
    "start_time": "2023-08-21T17:34:54.783Z"
   },
   {
    "duration": 20,
    "start_time": "2023-08-21T17:34:54.831Z"
   },
   {
    "duration": 21,
    "start_time": "2023-08-21T17:34:54.853Z"
   },
   {
    "duration": 20,
    "start_time": "2023-08-21T17:34:54.875Z"
   },
   {
    "duration": 35,
    "start_time": "2023-08-21T17:34:54.896Z"
   },
   {
    "duration": 450,
    "start_time": "2023-08-21T17:34:54.933Z"
   },
   {
    "duration": 20,
    "start_time": "2023-08-21T17:34:55.385Z"
   },
   {
    "duration": 17,
    "start_time": "2023-08-21T17:34:55.407Z"
   },
   {
    "duration": 20,
    "start_time": "2023-08-21T17:34:55.425Z"
   },
   {
    "duration": 482,
    "start_time": "2023-08-21T17:34:55.448Z"
   },
   {
    "duration": 1100,
    "start_time": "2023-08-21T17:34:55.932Z"
   },
   {
    "duration": 13,
    "start_time": "2023-08-21T17:34:57.034Z"
   },
   {
    "duration": 365,
    "start_time": "2023-08-21T17:34:57.049Z"
   },
   {
    "duration": 21,
    "start_time": "2023-08-21T17:34:57.416Z"
   },
   {
    "duration": 8,
    "start_time": "2023-08-21T17:34:57.439Z"
   },
   {
    "duration": 232,
    "start_time": "2023-08-21T17:34:57.449Z"
   },
   {
    "duration": 38,
    "start_time": "2023-08-21T17:34:57.683Z"
   },
   {
    "duration": 1044,
    "start_time": "2023-08-21T17:34:57.723Z"
   },
   {
    "duration": 128,
    "start_time": "2023-08-21T17:34:58.768Z"
   },
   {
    "duration": 0,
    "start_time": "2023-08-21T17:34:58.898Z"
   },
   {
    "duration": 0,
    "start_time": "2023-08-21T17:34:58.899Z"
   },
   {
    "duration": 0,
    "start_time": "2023-08-21T17:34:58.900Z"
   },
   {
    "duration": 0,
    "start_time": "2023-08-21T17:34:58.909Z"
   },
   {
    "duration": 0,
    "start_time": "2023-08-21T17:34:58.910Z"
   },
   {
    "duration": 0,
    "start_time": "2023-08-21T17:34:58.911Z"
   },
   {
    "duration": 0,
    "start_time": "2023-08-21T17:34:58.912Z"
   },
   {
    "duration": 0,
    "start_time": "2023-08-21T17:34:58.913Z"
   },
   {
    "duration": 3,
    "start_time": "2023-08-21T17:37:05.260Z"
   },
   {
    "duration": 4,
    "start_time": "2023-08-21T17:37:09.722Z"
   },
   {
    "duration": 8,
    "start_time": "2023-08-21T17:37:09.728Z"
   },
   {
    "duration": 531,
    "start_time": "2023-08-21T17:37:09.738Z"
   },
   {
    "duration": 3,
    "start_time": "2023-08-21T17:37:10.272Z"
   },
   {
    "duration": 402,
    "start_time": "2023-08-21T17:37:10.277Z"
   },
   {
    "duration": 32,
    "start_time": "2023-08-21T17:37:10.681Z"
   },
   {
    "duration": 6,
    "start_time": "2023-08-21T17:37:10.715Z"
   },
   {
    "duration": 38,
    "start_time": "2023-08-21T17:37:10.722Z"
   },
   {
    "duration": 158,
    "start_time": "2023-08-21T17:37:10.762Z"
   },
   {
    "duration": 6,
    "start_time": "2023-08-21T17:37:10.922Z"
   },
   {
    "duration": 29,
    "start_time": "2023-08-21T17:37:10.930Z"
   },
   {
    "duration": 64,
    "start_time": "2023-08-21T17:37:10.961Z"
   },
   {
    "duration": 4,
    "start_time": "2023-08-21T17:37:11.027Z"
   },
   {
    "duration": 15,
    "start_time": "2023-08-21T17:37:11.033Z"
   },
   {
    "duration": 106,
    "start_time": "2023-08-21T17:37:11.050Z"
   },
   {
    "duration": 8,
    "start_time": "2023-08-21T17:37:11.158Z"
   },
   {
    "duration": 51,
    "start_time": "2023-08-21T17:37:11.167Z"
   },
   {
    "duration": 14,
    "start_time": "2023-08-21T17:37:11.220Z"
   },
   {
    "duration": 26,
    "start_time": "2023-08-21T17:37:11.236Z"
   },
   {
    "duration": 9,
    "start_time": "2023-08-21T17:37:11.263Z"
   },
   {
    "duration": 35,
    "start_time": "2023-08-21T17:37:11.274Z"
   },
   {
    "duration": 22,
    "start_time": "2023-08-21T17:37:11.311Z"
   },
   {
    "duration": 8,
    "start_time": "2023-08-21T17:37:11.334Z"
   },
   {
    "duration": 31,
    "start_time": "2023-08-21T17:37:11.343Z"
   },
   {
    "duration": 11,
    "start_time": "2023-08-21T17:37:11.376Z"
   },
   {
    "duration": 22,
    "start_time": "2023-08-21T17:37:11.389Z"
   },
   {
    "duration": 8,
    "start_time": "2023-08-21T17:37:11.412Z"
   },
   {
    "duration": 27,
    "start_time": "2023-08-21T17:37:11.424Z"
   },
   {
    "duration": 135,
    "start_time": "2023-08-21T17:37:11.452Z"
   },
   {
    "duration": 35,
    "start_time": "2023-08-21T17:37:11.589Z"
   },
   {
    "duration": 27,
    "start_time": "2023-08-21T17:37:11.626Z"
   },
   {
    "duration": 60,
    "start_time": "2023-08-21T17:37:11.655Z"
   },
   {
    "duration": 20,
    "start_time": "2023-08-21T17:37:11.717Z"
   },
   {
    "duration": 12,
    "start_time": "2023-08-21T17:37:11.739Z"
   },
   {
    "duration": 10,
    "start_time": "2023-08-21T17:37:11.752Z"
   },
   {
    "duration": 18,
    "start_time": "2023-08-21T17:37:11.763Z"
   },
   {
    "duration": 345,
    "start_time": "2023-08-21T17:37:11.810Z"
   },
   {
    "duration": 20,
    "start_time": "2023-08-21T17:37:12.157Z"
   },
   {
    "duration": 38,
    "start_time": "2023-08-21T17:37:12.178Z"
   },
   {
    "duration": 17,
    "start_time": "2023-08-21T17:37:12.219Z"
   },
   {
    "duration": 584,
    "start_time": "2023-08-21T17:37:12.238Z"
   },
   {
    "duration": 1044,
    "start_time": "2023-08-21T17:37:12.824Z"
   },
   {
    "duration": 14,
    "start_time": "2023-08-21T17:37:13.870Z"
   },
   {
    "duration": 395,
    "start_time": "2023-08-21T17:37:13.885Z"
   },
   {
    "duration": 29,
    "start_time": "2023-08-21T17:37:14.282Z"
   },
   {
    "duration": 9,
    "start_time": "2023-08-21T17:37:14.313Z"
   },
   {
    "duration": 13,
    "start_time": "2023-08-21T17:37:14.324Z"
   },
   {
    "duration": 28,
    "start_time": "2023-08-21T17:37:14.339Z"
   },
   {
    "duration": 1129,
    "start_time": "2023-08-21T17:37:14.368Z"
   },
   {
    "duration": 11,
    "start_time": "2023-08-21T17:37:15.499Z"
   },
   {
    "duration": 578,
    "start_time": "2023-08-21T17:37:15.511Z"
   },
   {
    "duration": 28,
    "start_time": "2023-08-21T17:37:16.091Z"
   },
   {
    "duration": 8,
    "start_time": "2023-08-21T17:37:16.121Z"
   },
   {
    "duration": 18,
    "start_time": "2023-08-21T17:37:16.131Z"
   },
   {
    "duration": 15,
    "start_time": "2023-08-21T17:37:16.150Z"
   },
   {
    "duration": 55,
    "start_time": "2023-08-21T17:37:16.166Z"
   },
   {
    "duration": 6,
    "start_time": "2023-08-21T17:37:16.223Z"
   },
   {
    "duration": 46,
    "start_time": "2023-08-21T17:37:16.231Z"
   },
   {
    "duration": 11,
    "start_time": "2023-08-21T17:47:57.805Z"
   },
   {
    "duration": 11,
    "start_time": "2023-08-21T17:48:28.453Z"
   },
   {
    "duration": 55,
    "start_time": "2023-08-21T17:49:33.961Z"
   },
   {
    "duration": 9,
    "start_time": "2023-08-21T17:58:23.833Z"
   },
   {
    "duration": 13,
    "start_time": "2023-08-21T17:58:49.621Z"
   },
   {
    "duration": 7,
    "start_time": "2023-08-21T17:59:34.660Z"
   },
   {
    "duration": 5,
    "start_time": "2023-08-21T17:59:40.672Z"
   },
   {
    "duration": 58,
    "start_time": "2023-08-21T18:00:57.261Z"
   },
   {
    "duration": 4,
    "start_time": "2023-08-21T18:05:50.261Z"
   },
   {
    "duration": 11,
    "start_time": "2023-08-21T18:05:50.267Z"
   },
   {
    "duration": 579,
    "start_time": "2023-08-21T18:05:50.279Z"
   },
   {
    "duration": 4,
    "start_time": "2023-08-21T18:05:50.859Z"
   },
   {
    "duration": 407,
    "start_time": "2023-08-21T18:05:50.865Z"
   },
   {
    "duration": 39,
    "start_time": "2023-08-21T18:05:51.274Z"
   },
   {
    "duration": 7,
    "start_time": "2023-08-21T18:05:51.315Z"
   },
   {
    "duration": 34,
    "start_time": "2023-08-21T18:05:51.323Z"
   },
   {
    "duration": 180,
    "start_time": "2023-08-21T18:05:51.358Z"
   },
   {
    "duration": 6,
    "start_time": "2023-08-21T18:05:51.540Z"
   },
   {
    "duration": 8,
    "start_time": "2023-08-21T18:05:51.548Z"
   },
   {
    "duration": 85,
    "start_time": "2023-08-21T18:05:51.558Z"
   },
   {
    "duration": 5,
    "start_time": "2023-08-21T18:05:51.644Z"
   },
   {
    "duration": 15,
    "start_time": "2023-08-21T18:05:51.652Z"
   },
   {
    "duration": 120,
    "start_time": "2023-08-21T18:05:51.669Z"
   },
   {
    "duration": 20,
    "start_time": "2023-08-21T18:05:51.791Z"
   },
   {
    "duration": 35,
    "start_time": "2023-08-21T18:05:51.813Z"
   },
   {
    "duration": 16,
    "start_time": "2023-08-21T18:05:51.850Z"
   },
   {
    "duration": 52,
    "start_time": "2023-08-21T18:05:51.867Z"
   },
   {
    "duration": 11,
    "start_time": "2023-08-21T18:05:51.920Z"
   },
   {
    "duration": 12,
    "start_time": "2023-08-21T18:05:51.933Z"
   },
   {
    "duration": 46,
    "start_time": "2023-08-21T18:05:51.946Z"
   },
   {
    "duration": 10,
    "start_time": "2023-08-21T18:05:51.993Z"
   },
   {
    "duration": 27,
    "start_time": "2023-08-21T18:05:52.005Z"
   },
   {
    "duration": 19,
    "start_time": "2023-08-21T18:05:52.034Z"
   },
   {
    "duration": 17,
    "start_time": "2023-08-21T18:05:52.054Z"
   },
   {
    "duration": 11,
    "start_time": "2023-08-21T18:05:52.073Z"
   },
   {
    "duration": 43,
    "start_time": "2023-08-21T18:05:52.086Z"
   },
   {
    "duration": 135,
    "start_time": "2023-08-21T18:05:52.131Z"
   },
   {
    "duration": 21,
    "start_time": "2023-08-21T18:05:52.268Z"
   },
   {
    "duration": 34,
    "start_time": "2023-08-21T18:05:52.291Z"
   },
   {
    "duration": 37,
    "start_time": "2023-08-21T18:05:52.327Z"
   },
   {
    "duration": 19,
    "start_time": "2023-08-21T18:05:52.365Z"
   },
   {
    "duration": 28,
    "start_time": "2023-08-21T18:05:52.386Z"
   },
   {
    "duration": 9,
    "start_time": "2023-08-21T18:05:52.416Z"
   },
   {
    "duration": 25,
    "start_time": "2023-08-21T18:05:52.426Z"
   },
   {
    "duration": 451,
    "start_time": "2023-08-21T18:05:52.453Z"
   },
   {
    "duration": 21,
    "start_time": "2023-08-21T18:05:52.908Z"
   },
   {
    "duration": 7,
    "start_time": "2023-08-21T18:05:52.931Z"
   },
   {
    "duration": 6,
    "start_time": "2023-08-21T18:05:52.940Z"
   },
   {
    "duration": 18,
    "start_time": "2023-08-21T18:05:52.950Z"
   },
   {
    "duration": 53,
    "start_time": "2023-08-21T18:05:52.970Z"
   },
   {
    "duration": 522,
    "start_time": "2023-08-21T18:05:53.025Z"
   },
   {
    "duration": 1082,
    "start_time": "2023-08-21T18:05:53.548Z"
   },
   {
    "duration": 16,
    "start_time": "2023-08-21T18:05:54.632Z"
   },
   {
    "duration": 413,
    "start_time": "2023-08-21T18:05:54.650Z"
   },
   {
    "duration": 22,
    "start_time": "2023-08-21T18:05:55.065Z"
   },
   {
    "duration": 26,
    "start_time": "2023-08-21T18:05:55.088Z"
   },
   {
    "duration": 12,
    "start_time": "2023-08-21T18:05:55.115Z"
   },
   {
    "duration": 29,
    "start_time": "2023-08-21T18:05:55.128Z"
   },
   {
    "duration": 1125,
    "start_time": "2023-08-21T18:05:55.158Z"
   },
   {
    "duration": 674,
    "start_time": "2023-08-21T18:05:56.284Z"
   },
   {
    "duration": 13,
    "start_time": "2023-08-21T18:05:56.960Z"
   },
   {
    "duration": 38,
    "start_time": "2023-08-21T18:05:56.975Z"
   },
   {
    "duration": 11,
    "start_time": "2023-08-21T18:05:57.015Z"
   },
   {
    "duration": 22,
    "start_time": "2023-08-21T18:05:57.028Z"
   },
   {
    "duration": 20,
    "start_time": "2023-08-21T18:05:57.052Z"
   },
   {
    "duration": 62,
    "start_time": "2023-08-21T18:05:57.074Z"
   },
   {
    "duration": 7,
    "start_time": "2023-08-21T18:05:57.138Z"
   },
   {
    "duration": 71,
    "start_time": "2023-08-21T18:05:57.147Z"
   },
   {
    "duration": 8,
    "start_time": "2023-08-21T18:06:32.260Z"
   },
   {
    "duration": 14,
    "start_time": "2023-08-21T18:44:22.218Z"
   },
   {
    "duration": 24,
    "start_time": "2023-08-21T18:44:39.618Z"
   }
  ],
  "kernelspec": {
   "display_name": "Python 3 (ipykernel)",
   "language": "python",
   "name": "python3"
  },
  "language_info": {
   "codemirror_mode": {
    "name": "ipython",
    "version": 3
   },
   "file_extension": ".py",
   "mimetype": "text/x-python",
   "name": "python",
   "nbconvert_exporter": "python",
   "pygments_lexer": "ipython3",
   "version": "3.9.13"
  },
  "toc": {
   "base_numbering": 1,
   "nav_menu": {},
   "number_sections": true,
   "sideBar": true,
   "skip_h1_title": true,
   "title_cell": "Table of Contents",
   "title_sidebar": "Contents",
   "toc_cell": false,
   "toc_position": {},
   "toc_section_display": true,
   "toc_window_display": false
  }
 },
 "nbformat": 4,
 "nbformat_minor": 5
}
